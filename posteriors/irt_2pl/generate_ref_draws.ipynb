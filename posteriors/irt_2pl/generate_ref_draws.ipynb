{
 "cells": [
  {
   "cell_type": "markdown",
   "metadata": {},
   "source": [
    "# Imports and Defaults"
   ]
  },
  {
   "cell_type": "code",
   "execution_count": 1,
   "metadata": {},
   "outputs": [],
   "source": [
    "import json\n",
    "import os\n",
    "import zipfile\n",
    "\n",
    "import bridgestan as bs\n",
    "from cmdstanpy import CmdStanModel\n",
    "import numpy as np"
   ]
  },
  {
   "cell_type": "code",
   "execution_count": 2,
   "metadata": {},
   "outputs": [],
   "source": [
    "seed = 1234\n",
    "rng = np.random.default_rng(seed)\n",
    "\n",
    "num_chains = 100\n",
    "num_samples = 1000000\n",
    "\n",
    "model_name = \"irt_2pl\"\n",
    "model_path = model_name + \".stan\"\n",
    "data_path = model_name + \".data.json\""
   ]
  },
  {
   "cell_type": "markdown",
   "metadata": {},
   "source": [
    "# Generate Ref Draws"
   ]
  },
  {
   "cell_type": "code",
   "execution_count": 3,
   "metadata": {},
   "outputs": [
    {
     "name": "stderr",
     "output_type": "stream",
     "text": [
      "10:43:03 - cmdstanpy - INFO - CmdStan start processing\n"
     ]
    },
    {
     "data": {
      "application/vnd.jupyter.widget-view+json": {
       "model_id": "e72707c82bac433c9dbd7118880b1736",
       "version_major": 2,
       "version_minor": 0
      },
      "text/plain": [
       "chain 1 |          | 00:00 Status"
      ]
     },
     "metadata": {},
     "output_type": "display_data"
    },
    {
     "data": {
      "application/vnd.jupyter.widget-view+json": {
       "model_id": "1079d1daa3df48da87709902d36d33da",
       "version_major": 2,
       "version_minor": 0
      },
      "text/plain": [
       "chain 2 |          | 00:00 Status"
      ]
     },
     "metadata": {},
     "output_type": "display_data"
    },
    {
     "data": {
      "application/vnd.jupyter.widget-view+json": {
       "model_id": "6df32f153acf47b5b53d0fc5aa2e5aac",
       "version_major": 2,
       "version_minor": 0
      },
      "text/plain": [
       "chain 3 |          | 00:00 Status"
      ]
     },
     "metadata": {},
     "output_type": "display_data"
    },
    {
     "data": {
      "application/vnd.jupyter.widget-view+json": {
       "model_id": "f0142ab44d2241b89a7635bfa3c8919b",
       "version_major": 2,
       "version_minor": 0
      },
      "text/plain": [
       "chain 4 |          | 00:00 Status"
      ]
     },
     "metadata": {},
     "output_type": "display_data"
    },
    {
     "data": {
      "application/vnd.jupyter.widget-view+json": {
       "model_id": "8d273600f7824b79adaa1b736f7609dd",
       "version_major": 2,
       "version_minor": 0
      },
      "text/plain": [
       "chain 5 |          | 00:00 Status"
      ]
     },
     "metadata": {},
     "output_type": "display_data"
    },
    {
     "data": {
      "application/vnd.jupyter.widget-view+json": {
       "model_id": "22dcef1fea2c4d308859332170718f82",
       "version_major": 2,
       "version_minor": 0
      },
      "text/plain": [
       "chain 6 |          | 00:00 Status"
      ]
     },
     "metadata": {},
     "output_type": "display_data"
    },
    {
     "data": {
      "application/vnd.jupyter.widget-view+json": {
       "model_id": "5149fd27821e416ea7741b7cb275588a",
       "version_major": 2,
       "version_minor": 0
      },
      "text/plain": [
       "chain 7 |          | 00:00 Status"
      ]
     },
     "metadata": {},
     "output_type": "display_data"
    },
    {
     "data": {
      "application/vnd.jupyter.widget-view+json": {
       "model_id": "b86a4cfbf4f44e2eaf7600d078b8d11a",
       "version_major": 2,
       "version_minor": 0
      },
      "text/plain": [
       "chain 8 |          | 00:00 Status"
      ]
     },
     "metadata": {},
     "output_type": "display_data"
    },
    {
     "data": {
      "application/vnd.jupyter.widget-view+json": {
       "model_id": "97665c7d3ffb4748802b904d06b36c16",
       "version_major": 2,
       "version_minor": 0
      },
      "text/plain": [
       "chain 9 |          | 00:00 Status"
      ]
     },
     "metadata": {},
     "output_type": "display_data"
    },
    {
     "data": {
      "application/vnd.jupyter.widget-view+json": {
       "model_id": "a01eb2e5f6fe4625a986cd14e1c80bf8",
       "version_major": 2,
       "version_minor": 0
      },
      "text/plain": [
       "chain 10 |          | 00:00 Status"
      ]
     },
     "metadata": {},
     "output_type": "display_data"
    },
    {
     "data": {
      "application/vnd.jupyter.widget-view+json": {
       "model_id": "ee345d4f66f940c19e4d880a4fa07959",
       "version_major": 2,
       "version_minor": 0
      },
      "text/plain": [
       "chain 11 |          | 00:00 Status"
      ]
     },
     "metadata": {},
     "output_type": "display_data"
    },
    {
     "data": {
      "application/vnd.jupyter.widget-view+json": {
       "model_id": "7020197d9549442fbd87cd9bbbf5a5dd",
       "version_major": 2,
       "version_minor": 0
      },
      "text/plain": [
       "chain 12 |          | 00:00 Status"
      ]
     },
     "metadata": {},
     "output_type": "display_data"
    },
    {
     "data": {
      "application/vnd.jupyter.widget-view+json": {
       "model_id": "1ad63fc3174341c0b0b9f49326fce505",
       "version_major": 2,
       "version_minor": 0
      },
      "text/plain": [
       "chain 13 |          | 00:00 Status"
      ]
     },
     "metadata": {},
     "output_type": "display_data"
    },
    {
     "data": {
      "application/vnd.jupyter.widget-view+json": {
       "model_id": "f828718fed4744a9829f67f3d96194fa",
       "version_major": 2,
       "version_minor": 0
      },
      "text/plain": [
       "chain 14 |          | 00:00 Status"
      ]
     },
     "metadata": {},
     "output_type": "display_data"
    },
    {
     "data": {
      "application/vnd.jupyter.widget-view+json": {
       "model_id": "844580b833e24164a77a4df77c4e896d",
       "version_major": 2,
       "version_minor": 0
      },
      "text/plain": [
       "chain 15 |          | 00:00 Status"
      ]
     },
     "metadata": {},
     "output_type": "display_data"
    },
    {
     "data": {
      "application/vnd.jupyter.widget-view+json": {
       "model_id": "fc60bba0bdb44217b42a564d3b9db909",
       "version_major": 2,
       "version_minor": 0
      },
      "text/plain": [
       "chain 16 |          | 00:00 Status"
      ]
     },
     "metadata": {},
     "output_type": "display_data"
    },
    {
     "data": {
      "application/vnd.jupyter.widget-view+json": {
       "model_id": "08446cd0b6a1427a8d57071d9d249e32",
       "version_major": 2,
       "version_minor": 0
      },
      "text/plain": [
       "chain 17 |          | 00:00 Status"
      ]
     },
     "metadata": {},
     "output_type": "display_data"
    },
    {
     "data": {
      "application/vnd.jupyter.widget-view+json": {
       "model_id": "4a06bb480aa54188bc39eeeb76433dc9",
       "version_major": 2,
       "version_minor": 0
      },
      "text/plain": [
       "chain 18 |          | 00:00 Status"
      ]
     },
     "metadata": {},
     "output_type": "display_data"
    },
    {
     "data": {
      "application/vnd.jupyter.widget-view+json": {
       "model_id": "2b651f9c84774e01ba94543fe3e3caba",
       "version_major": 2,
       "version_minor": 0
      },
      "text/plain": [
       "chain 19 |          | 00:00 Status"
      ]
     },
     "metadata": {},
     "output_type": "display_data"
    },
    {
     "data": {
      "application/vnd.jupyter.widget-view+json": {
       "model_id": "ba926699ced24ce4a94f5a912b74102c",
       "version_major": 2,
       "version_minor": 0
      },
      "text/plain": [
       "chain 20 |          | 00:00 Status"
      ]
     },
     "metadata": {},
     "output_type": "display_data"
    },
    {
     "data": {
      "application/vnd.jupyter.widget-view+json": {
       "model_id": "a4f90b6009e44381a3b340b8bfe9dbdf",
       "version_major": 2,
       "version_minor": 0
      },
      "text/plain": [
       "chain 21 |          | 00:00 Status"
      ]
     },
     "metadata": {},
     "output_type": "display_data"
    },
    {
     "data": {
      "application/vnd.jupyter.widget-view+json": {
       "model_id": "d5d03dc3b064431da78c6ef43e31e879",
       "version_major": 2,
       "version_minor": 0
      },
      "text/plain": [
       "chain 22 |          | 00:00 Status"
      ]
     },
     "metadata": {},
     "output_type": "display_data"
    },
    {
     "data": {
      "application/vnd.jupyter.widget-view+json": {
       "model_id": "9a28297ce1da4ee4b2acb52c5abbd847",
       "version_major": 2,
       "version_minor": 0
      },
      "text/plain": [
       "chain 23 |          | 00:00 Status"
      ]
     },
     "metadata": {},
     "output_type": "display_data"
    },
    {
     "data": {
      "application/vnd.jupyter.widget-view+json": {
       "model_id": "0045f7fb28ea41aea41ae9c1c31278f2",
       "version_major": 2,
       "version_minor": 0
      },
      "text/plain": [
       "chain 24 |          | 00:00 Status"
      ]
     },
     "metadata": {},
     "output_type": "display_data"
    },
    {
     "data": {
      "application/vnd.jupyter.widget-view+json": {
       "model_id": "66a3e016afc14a3d93de2eab22a3d00e",
       "version_major": 2,
       "version_minor": 0
      },
      "text/plain": [
       "chain 25 |          | 00:00 Status"
      ]
     },
     "metadata": {},
     "output_type": "display_data"
    },
    {
     "data": {
      "application/vnd.jupyter.widget-view+json": {
       "model_id": "33a60521ceba4196816ec60f8c7cbd0a",
       "version_major": 2,
       "version_minor": 0
      },
      "text/plain": [
       "chain 26 |          | 00:00 Status"
      ]
     },
     "metadata": {},
     "output_type": "display_data"
    },
    {
     "data": {
      "application/vnd.jupyter.widget-view+json": {
       "model_id": "e1104aa5d227474989d2fbf668ea663a",
       "version_major": 2,
       "version_minor": 0
      },
      "text/plain": [
       "chain 27 |          | 00:00 Status"
      ]
     },
     "metadata": {},
     "output_type": "display_data"
    },
    {
     "data": {
      "application/vnd.jupyter.widget-view+json": {
       "model_id": "eac947f7328f49c69f7c52e412c18130",
       "version_major": 2,
       "version_minor": 0
      },
      "text/plain": [
       "chain 28 |          | 00:00 Status"
      ]
     },
     "metadata": {},
     "output_type": "display_data"
    },
    {
     "data": {
      "application/vnd.jupyter.widget-view+json": {
       "model_id": "b59c122bc0a14af891f2d6190c54b288",
       "version_major": 2,
       "version_minor": 0
      },
      "text/plain": [
       "chain 29 |          | 00:00 Status"
      ]
     },
     "metadata": {},
     "output_type": "display_data"
    },
    {
     "data": {
      "application/vnd.jupyter.widget-view+json": {
       "model_id": "0d8326909e964825b37647894986cc6c",
       "version_major": 2,
       "version_minor": 0
      },
      "text/plain": [
       "chain 30 |          | 00:00 Status"
      ]
     },
     "metadata": {},
     "output_type": "display_data"
    },
    {
     "data": {
      "application/vnd.jupyter.widget-view+json": {
       "model_id": "5473aecea2ff4c01abd794a9e9664dee",
       "version_major": 2,
       "version_minor": 0
      },
      "text/plain": [
       "chain 31 |          | 00:00 Status"
      ]
     },
     "metadata": {},
     "output_type": "display_data"
    },
    {
     "data": {
      "application/vnd.jupyter.widget-view+json": {
       "model_id": "adde1c0ea65946caa3f552ef5d18e247",
       "version_major": 2,
       "version_minor": 0
      },
      "text/plain": [
       "chain 32 |          | 00:00 Status"
      ]
     },
     "metadata": {},
     "output_type": "display_data"
    },
    {
     "data": {
      "application/vnd.jupyter.widget-view+json": {
       "model_id": "687948136a8c4d89bf48d9ab8777b872",
       "version_major": 2,
       "version_minor": 0
      },
      "text/plain": [
       "chain 33 |          | 00:00 Status"
      ]
     },
     "metadata": {},
     "output_type": "display_data"
    },
    {
     "data": {
      "application/vnd.jupyter.widget-view+json": {
       "model_id": "034a52dd00144be29256f5f77bf84380",
       "version_major": 2,
       "version_minor": 0
      },
      "text/plain": [
       "chain 34 |          | 00:00 Status"
      ]
     },
     "metadata": {},
     "output_type": "display_data"
    },
    {
     "data": {
      "application/vnd.jupyter.widget-view+json": {
       "model_id": "7e0d54a97cd24636b32f983e98fe9e70",
       "version_major": 2,
       "version_minor": 0
      },
      "text/plain": [
       "chain 35 |          | 00:00 Status"
      ]
     },
     "metadata": {},
     "output_type": "display_data"
    },
    {
     "data": {
      "application/vnd.jupyter.widget-view+json": {
       "model_id": "a3b59907d87b430b81621ce9b40a12ff",
       "version_major": 2,
       "version_minor": 0
      },
      "text/plain": [
       "chain 36 |          | 00:00 Status"
      ]
     },
     "metadata": {},
     "output_type": "display_data"
    },
    {
     "data": {
      "application/vnd.jupyter.widget-view+json": {
       "model_id": "6cee40ba76c04071938c903d30903a9d",
       "version_major": 2,
       "version_minor": 0
      },
      "text/plain": [
       "chain 37 |          | 00:00 Status"
      ]
     },
     "metadata": {},
     "output_type": "display_data"
    },
    {
     "data": {
      "application/vnd.jupyter.widget-view+json": {
       "model_id": "cceaf6e79db74214950688bdeffa568a",
       "version_major": 2,
       "version_minor": 0
      },
      "text/plain": [
       "chain 38 |          | 00:00 Status"
      ]
     },
     "metadata": {},
     "output_type": "display_data"
    },
    {
     "data": {
      "application/vnd.jupyter.widget-view+json": {
       "model_id": "41d053ea9c7b4d44b31987dfad35e364",
       "version_major": 2,
       "version_minor": 0
      },
      "text/plain": [
       "chain 39 |          | 00:00 Status"
      ]
     },
     "metadata": {},
     "output_type": "display_data"
    },
    {
     "data": {
      "application/vnd.jupyter.widget-view+json": {
       "model_id": "83b8bb81808b4f84bea85331c612f8c7",
       "version_major": 2,
       "version_minor": 0
      },
      "text/plain": [
       "chain 40 |          | 00:00 Status"
      ]
     },
     "metadata": {},
     "output_type": "display_data"
    },
    {
     "data": {
      "application/vnd.jupyter.widget-view+json": {
       "model_id": "88b2c55542a94e4f92d1749f2c418063",
       "version_major": 2,
       "version_minor": 0
      },
      "text/plain": [
       "chain 41 |          | 00:00 Status"
      ]
     },
     "metadata": {},
     "output_type": "display_data"
    },
    {
     "data": {
      "application/vnd.jupyter.widget-view+json": {
       "model_id": "784a49b4e031427db666e2c245315103",
       "version_major": 2,
       "version_minor": 0
      },
      "text/plain": [
       "chain 42 |          | 00:00 Status"
      ]
     },
     "metadata": {},
     "output_type": "display_data"
    },
    {
     "data": {
      "application/vnd.jupyter.widget-view+json": {
       "model_id": "e024ce8184b44f42abb82e135c58cb20",
       "version_major": 2,
       "version_minor": 0
      },
      "text/plain": [
       "chain 43 |          | 00:00 Status"
      ]
     },
     "metadata": {},
     "output_type": "display_data"
    },
    {
     "data": {
      "application/vnd.jupyter.widget-view+json": {
       "model_id": "b5d5ee5320df408a94a603e9d26fb8ba",
       "version_major": 2,
       "version_minor": 0
      },
      "text/plain": [
       "chain 44 |          | 00:00 Status"
      ]
     },
     "metadata": {},
     "output_type": "display_data"
    },
    {
     "data": {
      "application/vnd.jupyter.widget-view+json": {
       "model_id": "ea2f7deefdc040c3b60231c3efca51e9",
       "version_major": 2,
       "version_minor": 0
      },
      "text/plain": [
       "chain 45 |          | 00:00 Status"
      ]
     },
     "metadata": {},
     "output_type": "display_data"
    },
    {
     "data": {
      "application/vnd.jupyter.widget-view+json": {
       "model_id": "86ae9fd943eb4524909f188046745e2b",
       "version_major": 2,
       "version_minor": 0
      },
      "text/plain": [
       "chain 46 |          | 00:00 Status"
      ]
     },
     "metadata": {},
     "output_type": "display_data"
    },
    {
     "data": {
      "application/vnd.jupyter.widget-view+json": {
       "model_id": "990c2c943f9045d99638a2dfaefd4734",
       "version_major": 2,
       "version_minor": 0
      },
      "text/plain": [
       "chain 47 |          | 00:00 Status"
      ]
     },
     "metadata": {},
     "output_type": "display_data"
    },
    {
     "data": {
      "application/vnd.jupyter.widget-view+json": {
       "model_id": "24b4da0c06af4ad68cea08c236a6c1bd",
       "version_major": 2,
       "version_minor": 0
      },
      "text/plain": [
       "chain 48 |          | 00:00 Status"
      ]
     },
     "metadata": {},
     "output_type": "display_data"
    },
    {
     "data": {
      "application/vnd.jupyter.widget-view+json": {
       "model_id": "e7b832d13bb1430caa8f608f99bad6c9",
       "version_major": 2,
       "version_minor": 0
      },
      "text/plain": [
       "chain 49 |          | 00:00 Status"
      ]
     },
     "metadata": {},
     "output_type": "display_data"
    },
    {
     "data": {
      "application/vnd.jupyter.widget-view+json": {
       "model_id": "59ff2ed205654deb9a4de9c8f317e529",
       "version_major": 2,
       "version_minor": 0
      },
      "text/plain": [
       "chain 50 |          | 00:00 Status"
      ]
     },
     "metadata": {},
     "output_type": "display_data"
    },
    {
     "data": {
      "application/vnd.jupyter.widget-view+json": {
       "model_id": "e4af463d09054353b08a383f4e4a04eb",
       "version_major": 2,
       "version_minor": 0
      },
      "text/plain": [
       "chain 51 |          | 00:00 Status"
      ]
     },
     "metadata": {},
     "output_type": "display_data"
    },
    {
     "data": {
      "application/vnd.jupyter.widget-view+json": {
       "model_id": "168d628c01ea41ef8b9c388796b37599",
       "version_major": 2,
       "version_minor": 0
      },
      "text/plain": [
       "chain 52 |          | 00:00 Status"
      ]
     },
     "metadata": {},
     "output_type": "display_data"
    },
    {
     "data": {
      "application/vnd.jupyter.widget-view+json": {
       "model_id": "534aeee20eb74ae9970a222ac476a4e0",
       "version_major": 2,
       "version_minor": 0
      },
      "text/plain": [
       "chain 53 |          | 00:00 Status"
      ]
     },
     "metadata": {},
     "output_type": "display_data"
    },
    {
     "data": {
      "application/vnd.jupyter.widget-view+json": {
       "model_id": "1bc10381a5d94a45b86c0d6a37a6ea76",
       "version_major": 2,
       "version_minor": 0
      },
      "text/plain": [
       "chain 54 |          | 00:00 Status"
      ]
     },
     "metadata": {},
     "output_type": "display_data"
    },
    {
     "data": {
      "application/vnd.jupyter.widget-view+json": {
       "model_id": "99ecc285ad3e4677a2ede17a03e09372",
       "version_major": 2,
       "version_minor": 0
      },
      "text/plain": [
       "chain 55 |          | 00:00 Status"
      ]
     },
     "metadata": {},
     "output_type": "display_data"
    },
    {
     "data": {
      "application/vnd.jupyter.widget-view+json": {
       "model_id": "6b0b9c4d6a694432b537f2fff2b3e8d8",
       "version_major": 2,
       "version_minor": 0
      },
      "text/plain": [
       "chain 56 |          | 00:00 Status"
      ]
     },
     "metadata": {},
     "output_type": "display_data"
    },
    {
     "data": {
      "application/vnd.jupyter.widget-view+json": {
       "model_id": "9579df38057547f58f11f265490e58b9",
       "version_major": 2,
       "version_minor": 0
      },
      "text/plain": [
       "chain 57 |          | 00:00 Status"
      ]
     },
     "metadata": {},
     "output_type": "display_data"
    },
    {
     "data": {
      "application/vnd.jupyter.widget-view+json": {
       "model_id": "a55ba5e5c7e94bf0b5f6c4568ec29689",
       "version_major": 2,
       "version_minor": 0
      },
      "text/plain": [
       "chain 58 |          | 00:00 Status"
      ]
     },
     "metadata": {},
     "output_type": "display_data"
    },
    {
     "data": {
      "application/vnd.jupyter.widget-view+json": {
       "model_id": "d663ca2b2a6b4f40974eacd6295deaf5",
       "version_major": 2,
       "version_minor": 0
      },
      "text/plain": [
       "chain 59 |          | 00:00 Status"
      ]
     },
     "metadata": {},
     "output_type": "display_data"
    },
    {
     "data": {
      "application/vnd.jupyter.widget-view+json": {
       "model_id": "5e0ace3da47b4d35b78fe698ca4ce50f",
       "version_major": 2,
       "version_minor": 0
      },
      "text/plain": [
       "chain 60 |          | 00:00 Status"
      ]
     },
     "metadata": {},
     "output_type": "display_data"
    },
    {
     "data": {
      "application/vnd.jupyter.widget-view+json": {
       "model_id": "0e455917e2c248bc9720733926fb9a4e",
       "version_major": 2,
       "version_minor": 0
      },
      "text/plain": [
       "chain 61 |          | 00:00 Status"
      ]
     },
     "metadata": {},
     "output_type": "display_data"
    },
    {
     "data": {
      "application/vnd.jupyter.widget-view+json": {
       "model_id": "9e04fd41d4214860a9f75684a949ac43",
       "version_major": 2,
       "version_minor": 0
      },
      "text/plain": [
       "chain 62 |          | 00:00 Status"
      ]
     },
     "metadata": {},
     "output_type": "display_data"
    },
    {
     "data": {
      "application/vnd.jupyter.widget-view+json": {
       "model_id": "a5a4c5c64756480386e9bb4dc3c2131a",
       "version_major": 2,
       "version_minor": 0
      },
      "text/plain": [
       "chain 63 |          | 00:00 Status"
      ]
     },
     "metadata": {},
     "output_type": "display_data"
    },
    {
     "data": {
      "application/vnd.jupyter.widget-view+json": {
       "model_id": "104db31956af49eabced77295461fac7",
       "version_major": 2,
       "version_minor": 0
      },
      "text/plain": [
       "chain 64 |          | 00:00 Status"
      ]
     },
     "metadata": {},
     "output_type": "display_data"
    },
    {
     "data": {
      "application/vnd.jupyter.widget-view+json": {
       "model_id": "88451535bbb84d06a3026cf729bd61ef",
       "version_major": 2,
       "version_minor": 0
      },
      "text/plain": [
       "chain 65 |          | 00:00 Status"
      ]
     },
     "metadata": {},
     "output_type": "display_data"
    },
    {
     "data": {
      "application/vnd.jupyter.widget-view+json": {
       "model_id": "501ef435df8945d891ab107a57fd839b",
       "version_major": 2,
       "version_minor": 0
      },
      "text/plain": [
       "chain 66 |          | 00:00 Status"
      ]
     },
     "metadata": {},
     "output_type": "display_data"
    },
    {
     "data": {
      "application/vnd.jupyter.widget-view+json": {
       "model_id": "6082a87412e94c8d9ef0dae11bf25923",
       "version_major": 2,
       "version_minor": 0
      },
      "text/plain": [
       "chain 67 |          | 00:00 Status"
      ]
     },
     "metadata": {},
     "output_type": "display_data"
    },
    {
     "data": {
      "application/vnd.jupyter.widget-view+json": {
       "model_id": "4be6566d499c47a5973dd719a00c5ed4",
       "version_major": 2,
       "version_minor": 0
      },
      "text/plain": [
       "chain 68 |          | 00:00 Status"
      ]
     },
     "metadata": {},
     "output_type": "display_data"
    },
    {
     "data": {
      "application/vnd.jupyter.widget-view+json": {
       "model_id": "918839ccc17b4323898ae81d063d4110",
       "version_major": 2,
       "version_minor": 0
      },
      "text/plain": [
       "chain 69 |          | 00:00 Status"
      ]
     },
     "metadata": {},
     "output_type": "display_data"
    },
    {
     "data": {
      "application/vnd.jupyter.widget-view+json": {
       "model_id": "4657d739db4d4601b1a8b6ace99d5589",
       "version_major": 2,
       "version_minor": 0
      },
      "text/plain": [
       "chain 70 |          | 00:00 Status"
      ]
     },
     "metadata": {},
     "output_type": "display_data"
    },
    {
     "data": {
      "application/vnd.jupyter.widget-view+json": {
       "model_id": "76f6e930a26e4bdfa6840d8e6e75c629",
       "version_major": 2,
       "version_minor": 0
      },
      "text/plain": [
       "chain 71 |          | 00:00 Status"
      ]
     },
     "metadata": {},
     "output_type": "display_data"
    },
    {
     "data": {
      "application/vnd.jupyter.widget-view+json": {
       "model_id": "5dbd03e1e38b4ae8905ab4c1c2d4b479",
       "version_major": 2,
       "version_minor": 0
      },
      "text/plain": [
       "chain 72 |          | 00:00 Status"
      ]
     },
     "metadata": {},
     "output_type": "display_data"
    },
    {
     "data": {
      "application/vnd.jupyter.widget-view+json": {
       "model_id": "1b81a50f9318415b8d5832a2ea4853a9",
       "version_major": 2,
       "version_minor": 0
      },
      "text/plain": [
       "chain 73 |          | 00:00 Status"
      ]
     },
     "metadata": {},
     "output_type": "display_data"
    },
    {
     "data": {
      "application/vnd.jupyter.widget-view+json": {
       "model_id": "f3b844761536402b942f096983341800",
       "version_major": 2,
       "version_minor": 0
      },
      "text/plain": [
       "chain 74 |          | 00:00 Status"
      ]
     },
     "metadata": {},
     "output_type": "display_data"
    },
    {
     "data": {
      "application/vnd.jupyter.widget-view+json": {
       "model_id": "52a87e192793454c980147919d321d1a",
       "version_major": 2,
       "version_minor": 0
      },
      "text/plain": [
       "chain 75 |          | 00:00 Status"
      ]
     },
     "metadata": {},
     "output_type": "display_data"
    },
    {
     "data": {
      "application/vnd.jupyter.widget-view+json": {
       "model_id": "939fd1a950af45b18b68834b77f8f0b5",
       "version_major": 2,
       "version_minor": 0
      },
      "text/plain": [
       "chain 76 |          | 00:00 Status"
      ]
     },
     "metadata": {},
     "output_type": "display_data"
    },
    {
     "data": {
      "application/vnd.jupyter.widget-view+json": {
       "model_id": "b8c5c76a949644778a438969d9db333e",
       "version_major": 2,
       "version_minor": 0
      },
      "text/plain": [
       "chain 77 |          | 00:00 Status"
      ]
     },
     "metadata": {},
     "output_type": "display_data"
    },
    {
     "data": {
      "application/vnd.jupyter.widget-view+json": {
       "model_id": "a7ee89f853d84144a4fdb04e41bfe4ef",
       "version_major": 2,
       "version_minor": 0
      },
      "text/plain": [
       "chain 78 |          | 00:00 Status"
      ]
     },
     "metadata": {},
     "output_type": "display_data"
    },
    {
     "data": {
      "application/vnd.jupyter.widget-view+json": {
       "model_id": "c6371769555145d09037516ab69be0a4",
       "version_major": 2,
       "version_minor": 0
      },
      "text/plain": [
       "chain 79 |          | 00:00 Status"
      ]
     },
     "metadata": {},
     "output_type": "display_data"
    },
    {
     "data": {
      "application/vnd.jupyter.widget-view+json": {
       "model_id": "c9560d33bd2a4228bceb3cb36568566d",
       "version_major": 2,
       "version_minor": 0
      },
      "text/plain": [
       "chain 80 |          | 00:00 Status"
      ]
     },
     "metadata": {},
     "output_type": "display_data"
    },
    {
     "data": {
      "application/vnd.jupyter.widget-view+json": {
       "model_id": "d8af6fc4b48f47ada6ca53ba7fc1f9f9",
       "version_major": 2,
       "version_minor": 0
      },
      "text/plain": [
       "chain 81 |          | 00:00 Status"
      ]
     },
     "metadata": {},
     "output_type": "display_data"
    },
    {
     "data": {
      "application/vnd.jupyter.widget-view+json": {
       "model_id": "8ffb12f105f440919faab8f319ddef76",
       "version_major": 2,
       "version_minor": 0
      },
      "text/plain": [
       "chain 82 |          | 00:00 Status"
      ]
     },
     "metadata": {},
     "output_type": "display_data"
    },
    {
     "data": {
      "application/vnd.jupyter.widget-view+json": {
       "model_id": "6ce294397d5a48ba9bf0b534fd61185e",
       "version_major": 2,
       "version_minor": 0
      },
      "text/plain": [
       "chain 83 |          | 00:00 Status"
      ]
     },
     "metadata": {},
     "output_type": "display_data"
    },
    {
     "data": {
      "application/vnd.jupyter.widget-view+json": {
       "model_id": "c82396fb5f4e4f218ec01c6d2d48e533",
       "version_major": 2,
       "version_minor": 0
      },
      "text/plain": [
       "chain 84 |          | 00:00 Status"
      ]
     },
     "metadata": {},
     "output_type": "display_data"
    },
    {
     "data": {
      "application/vnd.jupyter.widget-view+json": {
       "model_id": "88d9a60b3a5644f9bcdd6f37edd67c78",
       "version_major": 2,
       "version_minor": 0
      },
      "text/plain": [
       "chain 85 |          | 00:00 Status"
      ]
     },
     "metadata": {},
     "output_type": "display_data"
    },
    {
     "data": {
      "application/vnd.jupyter.widget-view+json": {
       "model_id": "2215de4ac3b14a20ad87f777a76079ba",
       "version_major": 2,
       "version_minor": 0
      },
      "text/plain": [
       "chain 86 |          | 00:00 Status"
      ]
     },
     "metadata": {},
     "output_type": "display_data"
    },
    {
     "data": {
      "application/vnd.jupyter.widget-view+json": {
       "model_id": "cfa58ef31afa438fa719b90380200fe8",
       "version_major": 2,
       "version_minor": 0
      },
      "text/plain": [
       "chain 87 |          | 00:00 Status"
      ]
     },
     "metadata": {},
     "output_type": "display_data"
    },
    {
     "data": {
      "application/vnd.jupyter.widget-view+json": {
       "model_id": "2518960ac2494c8f8696125986e9747d",
       "version_major": 2,
       "version_minor": 0
      },
      "text/plain": [
       "chain 88 |          | 00:00 Status"
      ]
     },
     "metadata": {},
     "output_type": "display_data"
    },
    {
     "data": {
      "application/vnd.jupyter.widget-view+json": {
       "model_id": "0c0c2b1ee2db452e8a527b29d524884e",
       "version_major": 2,
       "version_minor": 0
      },
      "text/plain": [
       "chain 89 |          | 00:00 Status"
      ]
     },
     "metadata": {},
     "output_type": "display_data"
    },
    {
     "data": {
      "application/vnd.jupyter.widget-view+json": {
       "model_id": "a11899264b2b4743b011e2a9e3043615",
       "version_major": 2,
       "version_minor": 0
      },
      "text/plain": [
       "chain 90 |          | 00:00 Status"
      ]
     },
     "metadata": {},
     "output_type": "display_data"
    },
    {
     "data": {
      "application/vnd.jupyter.widget-view+json": {
       "model_id": "7615ef1b785c4342a45153e6df1aaa48",
       "version_major": 2,
       "version_minor": 0
      },
      "text/plain": [
       "chain 91 |          | 00:00 Status"
      ]
     },
     "metadata": {},
     "output_type": "display_data"
    },
    {
     "data": {
      "application/vnd.jupyter.widget-view+json": {
       "model_id": "3abad8363f0f413abf6b1e870f33e840",
       "version_major": 2,
       "version_minor": 0
      },
      "text/plain": [
       "chain 92 |          | 00:00 Status"
      ]
     },
     "metadata": {},
     "output_type": "display_data"
    },
    {
     "data": {
      "application/vnd.jupyter.widget-view+json": {
       "model_id": "a6986270eaec430eb8cc25682c3860d2",
       "version_major": 2,
       "version_minor": 0
      },
      "text/plain": [
       "chain 93 |          | 00:00 Status"
      ]
     },
     "metadata": {},
     "output_type": "display_data"
    },
    {
     "data": {
      "application/vnd.jupyter.widget-view+json": {
       "model_id": "c72a9149440e4b098531501d33f5141a",
       "version_major": 2,
       "version_minor": 0
      },
      "text/plain": [
       "chain 94 |          | 00:00 Status"
      ]
     },
     "metadata": {},
     "output_type": "display_data"
    },
    {
     "data": {
      "application/vnd.jupyter.widget-view+json": {
       "model_id": "7815f0fbe940438c824b8440a952dd96",
       "version_major": 2,
       "version_minor": 0
      },
      "text/plain": [
       "chain 95 |          | 00:00 Status"
      ]
     },
     "metadata": {},
     "output_type": "display_data"
    },
    {
     "data": {
      "application/vnd.jupyter.widget-view+json": {
       "model_id": "ab8ec5733cd44d6a9f99113d2ca78e04",
       "version_major": 2,
       "version_minor": 0
      },
      "text/plain": [
       "chain 96 |          | 00:00 Status"
      ]
     },
     "metadata": {},
     "output_type": "display_data"
    },
    {
     "data": {
      "application/vnd.jupyter.widget-view+json": {
       "model_id": "2809d73af4f649be9da95d2fcb7e6a1d",
       "version_major": 2,
       "version_minor": 0
      },
      "text/plain": [
       "chain 97 |          | 00:00 Status"
      ]
     },
     "metadata": {},
     "output_type": "display_data"
    },
    {
     "data": {
      "application/vnd.jupyter.widget-view+json": {
       "model_id": "81d3f557e11a4be5a06f3b913556fbb2",
       "version_major": 2,
       "version_minor": 0
      },
      "text/plain": [
       "chain 98 |          | 00:00 Status"
      ]
     },
     "metadata": {},
     "output_type": "display_data"
    },
    {
     "data": {
      "application/vnd.jupyter.widget-view+json": {
       "model_id": "e9d6eea28ae346acb41fc2515aeb745a",
       "version_major": 2,
       "version_minor": 0
      },
      "text/plain": [
       "chain 99 |          | 00:00 Status"
      ]
     },
     "metadata": {},
     "output_type": "display_data"
    },
    {
     "data": {
      "application/vnd.jupyter.widget-view+json": {
       "model_id": "099aca5e59c14f43850ed881d5edd277",
       "version_major": 2,
       "version_minor": 0
      },
      "text/plain": [
       "chain 100 |          | 00:00 Status"
      ]
     },
     "metadata": {},
     "output_type": "display_data"
    },
    {
     "name": "stdout",
     "output_type": "stream",
     "text": [
      "                                                                                                                                                                                                                                                                                                                                                                                                                                                                                                                                                                                                                                                                                                                                                                                                                                                                                                                                                                                                                                                                                                                                                                                                                                                                                                                                                                                                                                                                                                                                                                                                                                                                                                                                                                                                                                                                                                                                                                                                                                                                                                                                                                                                                                                                                                                                                                                                                                                                                                                                                                                                                                                                                                                                                                                                                                                                                                                                                                                                                                                                                                                                                                                                                                                                                                                                                                                                                                                                                                                                                                                                                                                                                                                                                                                                                                                                                                                                                                                                                                                                                                                                                                                                                                                                                                                                                                                                                                                                                                                                                                                                                                                                                                                                                                                                                                                                                                                                                                                                                                                                                                                                                                                                                                                                                                                                                                                                                                                                                                                                                                                                                                                                                                                                                                                                                                                                                                                                                                                                                                                                                                                                                                                                                                                                                                                                                                                                                                                                                                                                                                                                                                                                                                                                                                                                                                                                                                                                                                                                                                                                                                                                                                                                                                                                                                                                                                                                                                                                                                                                                                                                                                                                                                                                                                                                                                                                                                                                                                                                                                                                                                                                                                                                                                                                                                                                "
     ]
    },
    {
     "name": "stderr",
     "output_type": "stream",
     "text": [
      "13:48:10 - cmdstanpy - INFO - CmdStan done processing.\n"
     ]
    },
    {
     "name": "stdout",
     "output_type": "stream",
     "text": [
      "\n"
     ]
    },
    {
     "name": "stderr",
     "output_type": "stream",
     "text": [
      "13:48:10 - cmdstanpy - WARNING - Non-fatal error during sampling:\n",
      "Exception: normal_lpdf: Scale parameter is 0, but must be positive! (in 'irt_2pl.stan', line 19, column 2 to column 33)\n",
      "Exception: lognormal_lpdf: Scale parameter is 0, but must be positive finite! (in 'irt_2pl.stan', line 22, column 2 to column 28)\n",
      "Exception: lognormal_lpdf: Scale parameter is inf, but must be positive finite! (in 'irt_2pl.stan', line 22, column 2 to column 28)\n",
      "Exception: lognormal_lpdf: Scale parameter is 0, but must be positive finite! (in 'irt_2pl.stan', line 22, column 2 to column 28)\n",
      "Exception: normal_lpdf: Scale parameter is 0, but must be positive! (in 'irt_2pl.stan', line 19, column 2 to column 33)\n",
      "Exception: normal_lpdf: Scale parameter is 0, but must be positive! (in 'irt_2pl.stan', line 19, column 2 to column 33)\n",
      "Exception: lognormal_lpdf: Scale parameter is inf, but must be positive finite! (in 'irt_2pl.stan', line 22, column 2 to column 28)\n",
      "Exception: normal_lpdf: Scale parameter is 0, but must be positive! (in 'irt_2pl.stan', line 19, column 2 to column 33)\n",
      "Exception: normal_lpdf: Scale parameter is 0, but must be positive! (in 'irt_2pl.stan', line 26, column 2 to column 28)\n",
      "Exception: lognormal_lpdf: Scale parameter is 0, but must be positive finite! (in 'irt_2pl.stan', line 22, column 2 to column 28)\n",
      "Exception: normal_lpdf: Scale parameter is 0, but must be positive! (in 'irt_2pl.stan', line 19, column 2 to column 33)\n",
      "Exception: lognormal_lpdf: Scale parameter is inf, but must be positive finite! (in 'irt_2pl.stan', line 22, column 2 to column 28)\n",
      "Exception: normal_lpdf: Scale parameter is 0, but must be positive! (in 'irt_2pl.stan', line 19, column 2 to column 33)\n",
      "Exception: normal_lpdf: Scale parameter is 0, but must be positive! (in 'irt_2pl.stan', line 19, column 2 to column 33)\n",
      "Exception: lognormal_lpdf: Scale parameter is inf, but must be positive finite! (in 'irt_2pl.stan', line 22, column 2 to column 28)\n",
      "Exception: normal_lpdf: Scale parameter is 0, but must be positive! (in 'irt_2pl.stan', line 19, column 2 to column 33)\n",
      "Exception: lognormal_lpdf: Scale parameter is 0, but must be positive finite! (in 'irt_2pl.stan', line 22, column 2 to column 28)\n",
      "Exception: normal_lpdf: Scale parameter is 0, but must be positive! (in 'irt_2pl.stan', line 19, column 2 to column 33)\n",
      "Exception: lognormal_lpdf: Scale parameter is 0, but must be positive finite! (in 'irt_2pl.stan', line 22, column 2 to column 28)\n",
      "Exception: lognormal_lpdf: Scale parameter is inf, but must be positive finite! (in 'irt_2pl.stan', line 22, column 2 to column 28)\n",
      "Exception: normal_lpdf: Scale parameter is 0, but must be positive! (in 'irt_2pl.stan', line 26, column 2 to column 28)\n",
      "Exception: lognormal_lpdf: Scale parameter is inf, but must be positive finite! (in 'irt_2pl.stan', line 22, column 2 to column 28)\n",
      "Exception: lognormal_lpdf: Scale parameter is inf, but must be positive finite! (in 'irt_2pl.stan', line 22, column 2 to column 28)\n",
      "Exception: lognormal_lpdf: Scale parameter is 0, but must be positive finite! (in 'irt_2pl.stan', line 22, column 2 to column 28)\n",
      "Exception: normal_lpdf: Scale parameter is 0, but must be positive! (in 'irt_2pl.stan', line 19, column 2 to column 33)\n",
      "Exception: normal_lpdf: Scale parameter is 0, but must be positive! (in 'irt_2pl.stan', line 19, column 2 to column 33)\n",
      "Exception: normal_lpdf: Scale parameter is 0, but must be positive! (in 'irt_2pl.stan', line 26, column 2 to column 28)\n",
      "Exception: normal_lpdf: Scale parameter is 0, but must be positive! (in 'irt_2pl.stan', line 19, column 2 to column 33)\n",
      "Exception: normal_lpdf: Scale parameter is 0, but must be positive! (in 'irt_2pl.stan', line 19, column 2 to column 33)\n",
      "Exception: normal_lpdf: Scale parameter is 0, but must be positive! (in 'irt_2pl.stan', line 19, column 2 to column 33)\n",
      "Exception: normal_lpdf: Scale parameter is 0, but must be positive! (in 'irt_2pl.stan', line 19, column 2 to column 33)\n",
      "Exception: lognormal_lpdf: Scale parameter is inf, but must be positive finite! (in 'irt_2pl.stan', line 22, column 2 to column 28)\n",
      "Exception: normal_lpdf: Scale parameter is 0, but must be positive! (in 'irt_2pl.stan', line 19, column 2 to column 33)\n",
      "Exception: lognormal_lpdf: Scale parameter is 0, but must be positive finite! (in 'irt_2pl.stan', line 22, column 2 to column 28)\n",
      "Exception: lognormal_lpdf: Scale parameter is inf, but must be positive finite! (in 'irt_2pl.stan', line 22, column 2 to column 28)\n",
      "Exception: lognormal_lpdf: Scale parameter is 0, but must be positive finite! (in 'irt_2pl.stan', line 22, column 2 to column 28)\n",
      "Exception: normal_lpdf: Scale parameter is 0, but must be positive! (in 'irt_2pl.stan', line 19, column 2 to column 33)\n",
      "Exception: normal_lpdf: Scale parameter is 0, but must be positive! (in 'irt_2pl.stan', line 19, column 2 to column 33)\n",
      "Exception: lognormal_lpdf: Scale parameter is inf, but must be positive finite! (in 'irt_2pl.stan', line 22, column 2 to column 28)\n",
      "Exception: lognormal_lpdf: Scale parameter is inf, but must be positive finite! (in 'irt_2pl.stan', line 22, column 2 to column 28)\n",
      "Exception: normal_lpdf: Scale parameter is 0, but must be positive! (in 'irt_2pl.stan', line 19, column 2 to column 33)\n",
      "Exception: normal_lpdf: Scale parameter is 0, but must be positive! (in 'irt_2pl.stan', line 19, column 2 to column 33)\n",
      "Exception: normal_lpdf: Scale parameter is 0, but must be positive! (in 'irt_2pl.stan', line 19, column 2 to column 33)\n",
      "Exception: normal_lpdf: Scale parameter is 0, but must be positive! (in 'irt_2pl.stan', line 19, column 2 to column 33)\n",
      "Exception: normal_lpdf: Scale parameter is 0, but must be positive! (in 'irt_2pl.stan', line 19, column 2 to column 33)\n",
      "Exception: lognormal_lpdf: Scale parameter is 0, but must be positive finite! (in 'irt_2pl.stan', line 22, column 2 to column 28)\n",
      "Exception: lognormal_lpdf: Scale parameter is inf, but must be positive finite! (in 'irt_2pl.stan', line 22, column 2 to column 28)\n",
      "Exception: lognormal_lpdf: Scale parameter is 0, but must be positive finite! (in 'irt_2pl.stan', line 22, column 2 to column 28)\n",
      "Exception: normal_lpdf: Scale parameter is 0, but must be positive! (in 'irt_2pl.stan', line 19, column 2 to column 33)\n",
      "Exception: normal_lpdf: Scale parameter is 0, but must be positive! (in 'irt_2pl.stan', line 26, column 2 to column 28)\n",
      "Exception: normal_lpdf: Scale parameter is 0, but must be positive! (in 'irt_2pl.stan', line 19, column 2 to column 33)\n",
      "Exception: normal_lpdf: Scale parameter is 0, but must be positive! (in 'irt_2pl.stan', line 19, column 2 to column 33)\n",
      "Exception: normal_lpdf: Scale parameter is 0, but must be positive! (in 'irt_2pl.stan', line 19, column 2 to column 33)\n",
      "Exception: lognormal_lpdf: Scale parameter is 0, but must be positive finite! (in 'irt_2pl.stan', line 22, column 2 to column 28)\n",
      "Exception: normal_lpdf: Scale parameter is 0, but must be positive! (in 'irt_2pl.stan', line 19, column 2 to column 33)\n",
      "Exception: normal_lpdf: Scale parameter is 0, but must be positive! (in 'irt_2pl.stan', line 26, column 2 to column 28)\n",
      "Exception: normal_lpdf: Scale parameter is 0, but must be positive! (in 'irt_2pl.stan', line 19, column 2 to column 33)\n",
      "Exception: normal_lpdf: Scale parameter is 0, but must be positive! (in 'irt_2pl.stan', line 19, column 2 to column 33)\n",
      "Exception: normal_lpdf: Scale parameter is 0, but must be positive! (in 'irt_2pl.stan', line 19, column 2 to column 33)\n",
      "Exception: normal_lpdf: Scale parameter is 0, but must be positive! (in 'irt_2pl.stan', line 19, column 2 to column 33)\n",
      "Exception: normal_lpdf: Scale parameter is 0, but must be positive! (in 'irt_2pl.stan', line 19, column 2 to column 33)\n",
      "Exception: normal_lpdf: Scale parameter is 0, but must be positive! (in 'irt_2pl.stan', line 19, column 2 to column 33)\n",
      "Exception: normal_lpdf: Scale parameter is 0, but must be positive! (in 'irt_2pl.stan', line 19, column 2 to column 33)\n",
      "Exception: lognormal_lpdf: Scale parameter is 0, but must be positive finite! (in 'irt_2pl.stan', line 22, column 2 to column 28)\n",
      "Exception: lognormal_lpdf: Scale parameter is 0, but must be positive finite! (in 'irt_2pl.stan', line 22, column 2 to column 28)\n",
      "Exception: lognormal_lpdf: Scale parameter is inf, but must be positive finite! (in 'irt_2pl.stan', line 22, column 2 to column 28)\n",
      "Exception: lognormal_lpdf: Scale parameter is inf, but must be positive finite! (in 'irt_2pl.stan', line 22, column 2 to column 28)\n",
      "Exception: normal_lpdf: Scale parameter is 0, but must be positive! (in 'irt_2pl.stan', line 19, column 2 to column 33)\n",
      "Exception: normal_lpdf: Scale parameter is 0, but must be positive! (in 'irt_2pl.stan', line 19, column 2 to column 33)\n",
      "Exception: normal_lpdf: Scale parameter is 0, but must be positive! (in 'irt_2pl.stan', line 19, column 2 to column 33)\n",
      "Exception: lognormal_lpdf: Scale parameter is 0, but must be positive finite! (in 'irt_2pl.stan', line 22, column 2 to column 28)\n",
      "Exception: lognormal_lpdf: Scale parameter is inf, but must be positive finite! (in 'irt_2pl.stan', line 22, column 2 to column 28)\n",
      "Exception: normal_lpdf: Scale parameter is 0, but must be positive! (in 'irt_2pl.stan', line 19, column 2 to column 33)\n",
      "Exception: lognormal_lpdf: Scale parameter is 0, but must be positive finite! (in 'irt_2pl.stan', line 22, column 2 to column 28)\n",
      "Exception: lognormal_lpdf: Scale parameter is inf, but must be positive finite! (in 'irt_2pl.stan', line 22, column 2 to column 28)\n",
      "Exception: lognormal_lpdf: Scale parameter is inf, but must be positive finite! (in 'irt_2pl.stan', line 22, column 2 to column 28)\n",
      "Exception: normal_lpdf: Scale parameter is 0, but must be positive! (in 'irt_2pl.stan', line 19, column 2 to column 33)\n",
      "Exception: normal_lpdf: Scale parameter is 0, but must be positive! (in 'irt_2pl.stan', line 19, column 2 to column 33)\n",
      "Exception: normal_lpdf: Scale parameter is 0, but must be positive! (in 'irt_2pl.stan', line 19, column 2 to column 33)\n",
      "Exception: normal_lpdf: Scale parameter is 0, but must be positive! (in 'irt_2pl.stan', line 19, column 2 to column 33)\n",
      "Exception: lognormal_lpdf: Scale parameter is 0, but must be positive finite! (in 'irt_2pl.stan', line 22, column 2 to column 28)\n",
      "Exception: normal_lpdf: Scale parameter is 0, but must be positive! (in 'irt_2pl.stan', line 19, column 2 to column 33)\n",
      "Exception: normal_lpdf: Scale parameter is 0, but must be positive! (in 'irt_2pl.stan', line 19, column 2 to column 33)\n",
      "Exception: lognormal_lpdf: Scale parameter is 0, but must be positive finite! (in 'irt_2pl.stan', line 22, column 2 to column 28)\n",
      "Exception: normal_lpdf: Scale parameter is 0, but must be positive! (in 'irt_2pl.stan', line 19, column 2 to column 33)\n",
      "Consider re-running with show_console=True if the above output is unclear!\n",
      "13:49:24 - cmdstanpy - WARNING - Some chains may have failed to converge.\n",
      "\tChain 1 had 2 divergent transitions (0.0%)\n",
      "\tChain 2 had 2 divergent transitions (0.0%)\n",
      "\tChain 2 had 1 iterations at max treedepth (0.0%)\n",
      "\tChain 3 had 1 divergent transitions (0.0%)\n",
      "\tChain 4 had 1 divergent transitions (0.0%)\n",
      "\tChain 7 had 1 divergent transitions (0.0%)\n",
      "\tChain 8 had 1 divergent transitions (0.0%)\n",
      "\tChain 9 had 7 divergent transitions (0.0%)\n",
      "\tChain 10 had 5 divergent transitions (0.0%)\n",
      "\tChain 11 had 1 divergent transitions (0.0%)\n",
      "\tChain 12 had 3 divergent transitions (0.0%)\n",
      "\tChain 13 had 4 divergent transitions (0.0%)\n",
      "\tChain 14 had 2 divergent transitions (0.0%)\n",
      "\tChain 16 had 1 divergent transitions (0.0%)\n",
      "\tChain 17 had 1 divergent transitions (0.0%)\n",
      "\tChain 18 had 2 divergent transitions (0.0%)\n",
      "\tChain 19 had 1 divergent transitions (0.0%)\n",
      "\tChain 20 had 3 divergent transitions (0.0%)\n",
      "\tChain 23 had 2 divergent transitions (0.0%)\n",
      "\tChain 24 had 1 divergent transitions (0.0%)\n",
      "\tChain 25 had 2 divergent transitions (0.0%)\n",
      "\tChain 26 had 3 divergent transitions (0.0%)\n",
      "\tChain 27 had 2 divergent transitions (0.0%)\n",
      "\tChain 29 had 1 divergent transitions (0.0%)\n",
      "\tChain 31 had 3 divergent transitions (0.0%)\n",
      "\tChain 32 had 2 divergent transitions (0.0%)\n",
      "\tChain 33 had 1 divergent transitions (0.0%)\n",
      "\tChain 34 had 5 divergent transitions (0.0%)\n",
      "\tChain 35 had 1 divergent transitions (0.0%)\n",
      "\tChain 36 had 3 divergent transitions (0.0%)\n",
      "\tChain 37 had 1 divergent transitions (0.0%)\n",
      "\tChain 39 had 2 divergent transitions (0.0%)\n",
      "\tChain 40 had 2 divergent transitions (0.0%)\n",
      "\tChain 42 had 1 divergent transitions (0.0%)\n",
      "\tChain 43 had 5 divergent transitions (0.0%)\n",
      "\tChain 45 had 3 divergent transitions (0.0%)\n",
      "\tChain 46 had 10 divergent transitions (0.0%)\n",
      "\tChain 47 had 1 divergent transitions (0.0%)\n",
      "\tChain 49 had 2 divergent transitions (0.0%)\n",
      "\tChain 50 had 1 divergent transitions (0.0%)\n",
      "\tChain 51 had 1 divergent transitions (0.0%)\n",
      "\tChain 52 had 1 divergent transitions (0.0%)\n",
      "\tChain 54 had 4 divergent transitions (0.0%)\n",
      "\tChain 56 had 3 divergent transitions (0.0%)\n",
      "\tChain 57 had 1 divergent transitions (0.0%)\n",
      "\tChain 58 had 3 divergent transitions (0.0%)\n",
      "\tChain 59 had 8 divergent transitions (0.0%)\n",
      "\tChain 63 had 1 divergent transitions (0.0%)\n",
      "\tChain 65 had 2 divergent transitions (0.0%)\n",
      "\tChain 66 had 3 divergent transitions (0.0%)\n",
      "\tChain 67 had 1 divergent transitions (0.0%)\n",
      "\tChain 68 had 24 divergent transitions (0.0%)\n",
      "\tChain 70 had 1 divergent transitions (0.0%)\n",
      "\tChain 71 had 2 divergent transitions (0.0%)\n",
      "\tChain 72 had 2 divergent transitions (0.0%)\n",
      "\tChain 74 had 3 divergent transitions (0.0%)\n",
      "\tChain 75 had 1 divergent transitions (0.0%)\n",
      "\tChain 79 had 1 divergent transitions (0.0%)\n",
      "\tChain 80 had 2 divergent transitions (0.0%)\n",
      "\tChain 81 had 8 divergent transitions (0.0%)\n",
      "\tChain 82 had 3 divergent transitions (0.0%)\n",
      "\tChain 84 had 1 divergent transitions (0.0%)\n",
      "\tChain 86 had 2 divergent transitions (0.0%)\n",
      "\tChain 87 had 1 divergent transitions (0.0%)\n",
      "\tChain 88 had 1 divergent transitions (0.0%)\n",
      "\tChain 89 had 1 divergent transitions (0.0%)\n",
      "\tChain 91 had 1 divergent transitions (0.0%)\n",
      "\tChain 92 had 1 divergent transitions (0.0%)\n",
      "\tChain 93 had 3 divergent transitions (0.0%)\n",
      "\tChain 95 had 2 divergent transitions (0.0%)\n",
      "\tChain 96 had 2 divergent transitions (0.0%)\n",
      "\tChain 97 had 17 divergent transitions (0.0%)\n",
      "\tChain 98 had 3 divergent transitions (0.0%)\n",
      "\tChain 99 had 2 divergent transitions (0.0%)\n",
      "\tChain 100 had 3 divergent transitions (0.0%)\n",
      "\tUse the \"diagnose()\" method on the CmdStanMCMC object to see further information.\n"
     ]
    }
   ],
   "source": [
    "model = CmdStanModel(stan_file=model_path)\n",
    "nuts_output = model.sample(\n",
    "    data=data_path,\n",
    "    iter_sampling=num_samples,\n",
    "    chains=num_chains,\n",
    "    seed=seed,\n",
    "    thin=25,\n",
    "    adapt_delta=0.95,\n",
    ")\n",
    "\n",
    "ref_draws_np = nuts_output.draws()[:, :, 7:] # [draws, chains, params]\n",
    "# convert dimension order to [chains, draws, params]\n",
    "ref_draws_np = np.transpose(ref_draws_np, (1, 0, 2))"
   ]
  },
  {
   "cell_type": "code",
   "execution_count": 6,
   "metadata": {},
   "outputs": [
    {
     "ename": "",
     "evalue": "",
     "output_type": "error",
     "traceback": [
      "\u001b[1;31mThe Kernel crashed while executing code in the current cell or a previous cell. \n",
      "\u001b[1;31mPlease review the code in the cell(s) to identify a possible cause of the failure. \n",
      "\u001b[1;31mClick <a href='https://aka.ms/vscodeJupyterKernelCrash'>here</a> for more info. \n",
      "\u001b[1;31mView Jupyter <a href='command:jupyter.viewOutput'>log</a> for further details."
     ]
    }
   ],
   "source": [
    "summary = nuts_output.summary()"
   ]
  },
  {
   "cell_type": "code",
   "execution_count": null,
   "metadata": {},
   "outputs": [
    {
     "data": {
      "text/html": [
       "<div>\n",
       "<style scoped>\n",
       "    .dataframe tbody tr th:only-of-type {\n",
       "        vertical-align: middle;\n",
       "    }\n",
       "\n",
       "    .dataframe tbody tr th {\n",
       "        vertical-align: top;\n",
       "    }\n",
       "\n",
       "    .dataframe thead th {\n",
       "        text-align: right;\n",
       "    }\n",
       "</style>\n",
       "<table border=\"1\" class=\"dataframe\">\n",
       "  <thead>\n",
       "    <tr style=\"text-align: right;\">\n",
       "      <th></th>\n",
       "      <th>Mean</th>\n",
       "      <th>MCSE</th>\n",
       "      <th>StdDev</th>\n",
       "      <th>5%</th>\n",
       "      <th>50%</th>\n",
       "      <th>95%</th>\n",
       "      <th>N_Eff</th>\n",
       "      <th>N_Eff/s</th>\n",
       "      <th>R_hat</th>\n",
       "    </tr>\n",
       "  </thead>\n",
       "  <tbody>\n",
       "    <tr>\n",
       "      <th>lp__</th>\n",
       "      <td>-911.617000</td>\n",
       "      <td>0.077320</td>\n",
       "      <td>17.989700</td>\n",
       "      <td>-942.481000</td>\n",
       "      <td>-910.546000</td>\n",
       "      <td>-884.148000</td>\n",
       "      <td>54133.6</td>\n",
       "      <td>13.4424</td>\n",
       "      <td>1.000860</td>\n",
       "    </tr>\n",
       "    <tr>\n",
       "      <th>sigma_theta</th>\n",
       "      <td>1.014410</td>\n",
       "      <td>0.000713</td>\n",
       "      <td>0.174561</td>\n",
       "      <td>0.760532</td>\n",
       "      <td>0.998813</td>\n",
       "      <td>1.321770</td>\n",
       "      <td>59907.2</td>\n",
       "      <td>14.8761</td>\n",
       "      <td>1.000710</td>\n",
       "    </tr>\n",
       "    <tr>\n",
       "      <th>theta[1]</th>\n",
       "      <td>-0.643137</td>\n",
       "      <td>0.001625</td>\n",
       "      <td>0.508679</td>\n",
       "      <td>-1.491050</td>\n",
       "      <td>-0.636408</td>\n",
       "      <td>0.181040</td>\n",
       "      <td>98025.1</td>\n",
       "      <td>24.3415</td>\n",
       "      <td>1.000120</td>\n",
       "    </tr>\n",
       "    <tr>\n",
       "      <th>theta[2]</th>\n",
       "      <td>0.224670</td>\n",
       "      <td>0.001731</td>\n",
       "      <td>0.550245</td>\n",
       "      <td>-0.654551</td>\n",
       "      <td>0.210877</td>\n",
       "      <td>1.148240</td>\n",
       "      <td>101102.0</td>\n",
       "      <td>25.1054</td>\n",
       "      <td>0.999907</td>\n",
       "    </tr>\n",
       "    <tr>\n",
       "      <th>theta[3]</th>\n",
       "      <td>1.044430</td>\n",
       "      <td>0.002005</td>\n",
       "      <td>0.619113</td>\n",
       "      <td>0.091212</td>\n",
       "      <td>1.010090</td>\n",
       "      <td>2.114580</td>\n",
       "      <td>95305.8</td>\n",
       "      <td>23.6662</td>\n",
       "      <td>0.999902</td>\n",
       "    </tr>\n",
       "    <tr>\n",
       "      <th>...</th>\n",
       "      <td>...</td>\n",
       "      <td>...</td>\n",
       "      <td>...</td>\n",
       "      <td>...</td>\n",
       "      <td>...</td>\n",
       "      <td>...</td>\n",
       "      <td>...</td>\n",
       "      <td>...</td>\n",
       "      <td>...</td>\n",
       "    </tr>\n",
       "    <tr>\n",
       "      <th>b[16]</th>\n",
       "      <td>-0.570622</td>\n",
       "      <td>0.000985</td>\n",
       "      <td>0.300804</td>\n",
       "      <td>-1.093930</td>\n",
       "      <td>-0.539864</td>\n",
       "      <td>-0.144665</td>\n",
       "      <td>93312.9</td>\n",
       "      <td>23.1713</td>\n",
       "      <td>1.000120</td>\n",
       "    </tr>\n",
       "    <tr>\n",
       "      <th>b[17]</th>\n",
       "      <td>-0.932560</td>\n",
       "      <td>0.001585</td>\n",
       "      <td>0.469099</td>\n",
       "      <td>-1.769270</td>\n",
       "      <td>-0.857126</td>\n",
       "      <td>-0.343796</td>\n",
       "      <td>87613.2</td>\n",
       "      <td>21.7560</td>\n",
       "      <td>0.999958</td>\n",
       "    </tr>\n",
       "    <tr>\n",
       "      <th>b[18]</th>\n",
       "      <td>-1.508480</td>\n",
       "      <td>0.001431</td>\n",
       "      <td>0.417741</td>\n",
       "      <td>-2.259110</td>\n",
       "      <td>-1.453950</td>\n",
       "      <td>-0.934387</td>\n",
       "      <td>85264.5</td>\n",
       "      <td>21.1728</td>\n",
       "      <td>1.000250</td>\n",
       "    </tr>\n",
       "    <tr>\n",
       "      <th>b[19]</th>\n",
       "      <td>-1.234360</td>\n",
       "      <td>0.001926</td>\n",
       "      <td>0.572526</td>\n",
       "      <td>-2.279380</td>\n",
       "      <td>-1.130570</td>\n",
       "      <td>-0.535738</td>\n",
       "      <td>88326.2</td>\n",
       "      <td>21.9330</td>\n",
       "      <td>1.000120</td>\n",
       "    </tr>\n",
       "    <tr>\n",
       "      <th>b[20]</th>\n",
       "      <td>1.501540</td>\n",
       "      <td>0.002399</td>\n",
       "      <td>0.701260</td>\n",
       "      <td>0.640305</td>\n",
       "      <td>1.371960</td>\n",
       "      <td>2.786930</td>\n",
       "      <td>85435.1</td>\n",
       "      <td>21.2151</td>\n",
       "      <td>1.000280</td>\n",
       "    </tr>\n",
       "  </tbody>\n",
       "</table>\n",
       "<p>145 rows × 9 columns</p>\n",
       "</div>"
      ],
      "text/plain": [
       "                   Mean      MCSE     StdDev          5%         50%  \\\n",
       "lp__        -911.617000  0.077320  17.989700 -942.481000 -910.546000   \n",
       "sigma_theta    1.014410  0.000713   0.174561    0.760532    0.998813   \n",
       "theta[1]      -0.643137  0.001625   0.508679   -1.491050   -0.636408   \n",
       "theta[2]       0.224670  0.001731   0.550245   -0.654551    0.210877   \n",
       "theta[3]       1.044430  0.002005   0.619113    0.091212    1.010090   \n",
       "...                 ...       ...        ...         ...         ...   \n",
       "b[16]         -0.570622  0.000985   0.300804   -1.093930   -0.539864   \n",
       "b[17]         -0.932560  0.001585   0.469099   -1.769270   -0.857126   \n",
       "b[18]         -1.508480  0.001431   0.417741   -2.259110   -1.453950   \n",
       "b[19]         -1.234360  0.001926   0.572526   -2.279380   -1.130570   \n",
       "b[20]          1.501540  0.002399   0.701260    0.640305    1.371960   \n",
       "\n",
       "                    95%     N_Eff  N_Eff/s     R_hat  \n",
       "lp__        -884.148000   54133.6  13.4424  1.000860  \n",
       "sigma_theta    1.321770   59907.2  14.8761  1.000710  \n",
       "theta[1]       0.181040   98025.1  24.3415  1.000120  \n",
       "theta[2]       1.148240  101102.0  25.1054  0.999907  \n",
       "theta[3]       2.114580   95305.8  23.6662  0.999902  \n",
       "...                 ...       ...      ...       ...  \n",
       "b[16]         -0.144665   93312.9  23.1713  1.000120  \n",
       "b[17]         -0.343796   87613.2  21.7560  0.999958  \n",
       "b[18]         -0.934387   85264.5  21.1728  1.000250  \n",
       "b[19]         -0.535738   88326.2  21.9330  1.000120  \n",
       "b[20]          2.786930   85435.1  21.2151  1.000280  \n",
       "\n",
       "[145 rows x 9 columns]"
      ]
     },
     "execution_count": 6,
     "metadata": {},
     "output_type": "execute_result"
    }
   ],
   "source": [
    "summary"
   ]
  },
  {
   "cell_type": "code",
   "execution_count": null,
   "metadata": {},
   "outputs": [
    {
     "data": {
      "text/plain": [
       "count       145.000000\n",
       "mean      93277.920776\n",
       "std        6977.944210\n",
       "min       54133.600000\n",
       "25%       89238.500000\n",
       "50%       95265.900000\n",
       "75%       98660.900000\n",
       "max      101102.000000\n",
       "Name: N_Eff, dtype: float64"
      ]
     },
     "execution_count": 6,
     "metadata": {},
     "output_type": "execute_result"
    }
   ],
   "source": [
    "summary[\"N_Eff\"].describe()"
   ]
  },
  {
   "cell_type": "markdown",
   "metadata": {},
   "source": [
    "# Save and Format Reference Draws"
   ]
  },
  {
   "cell_type": "code",
   "execution_count": 4,
   "metadata": {},
   "outputs": [],
   "source": [
    "param_names = list()\n",
    "for k, v in nuts_output.stan_variables().items():\n",
    "    shape = v.shape[1] if len(v.shape) == 2 else 1\n",
    "    param_names += [f\"{k}[{i}]\" for i in range(shape)]"
   ]
  },
  {
   "cell_type": "code",
   "execution_count": 5,
   "metadata": {},
   "outputs": [],
   "source": [
    "# convert from numpy 3d array to json format\n",
    "ref_draws = []\n",
    "for chain in ref_draws_np:  # each chain is [n_samples, params_dim]\n",
    "    chain_dict = {}\n",
    "    for name, params in zip(param_names, chain.T):\n",
    "        chain_dict[name] = params.tolist()\n",
    "    ref_draws.append(chain_dict)\n",
    "\n",
    "# save to file\n",
    "with zipfile.ZipFile(f\"{model_name}.ref_draws.json.zip\", mode=\"w\", compression=zipfile.ZIP_DEFLATED, compresslevel=9) as zip_file: \n",
    "    dumped_JSON: str = json.dumps(ref_draws, ensure_ascii=False, indent=4)\n",
    "    zip_file.writestr(f\"{model_name}.ref_draws.json\", data=dumped_JSON)"
   ]
  }
 ],
 "metadata": {
  "kernelspec": {
   "display_name": "drghmc",
   "language": "python",
   "name": "python3"
  },
  "language_info": {
   "codemirror_mode": {
    "name": "ipython",
    "version": 3
   },
   "file_extension": ".py",
   "mimetype": "text/x-python",
   "name": "python",
   "nbconvert_exporter": "python",
   "pygments_lexer": "ipython3",
   "version": "3.1.-1"
  }
 },
 "nbformat": 4,
 "nbformat_minor": 2
}
