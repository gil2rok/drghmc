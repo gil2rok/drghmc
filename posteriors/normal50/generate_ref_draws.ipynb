{
 "cells": [
  {
   "cell_type": "markdown",
   "metadata": {},
   "source": [
    "# Imports and Defaults"
   ]
  },
  {
   "cell_type": "code",
   "execution_count": 1,
   "metadata": {},
   "outputs": [],
   "source": [
    "import json\n",
    "import os\n",
    "import zipfile\n",
    "\n",
    "import bridgestan as bs\n",
    "from cmdstanpy import CmdStanModel\n",
    "import numpy as np"
   ]
  },
  {
   "cell_type": "code",
   "execution_count": 2,
   "metadata": {},
   "outputs": [],
   "source": [
    "seed = 1234\n",
    "rng = np.random.default_rng(seed)\n",
    "\n",
    "num_chains = 100\n",
    "num_samples = 1000000\n",
    "\n",
    "model_name = \"normal50\"\n",
    "model_path = model_name + \".stan\"\n",
    "data_path = model_name + \".data.json\""
   ]
  },
  {
   "cell_type": "markdown",
   "metadata": {},
   "source": [
    "# Generate Ref Draws"
   ]
  },
  {
   "cell_type": "code",
   "execution_count": 3,
   "metadata": {},
   "outputs": [
    {
     "name": "stderr",
     "output_type": "stream",
     "text": [
      "10:57:34 - cmdstanpy - INFO - CmdStan start processing\n"
     ]
    },
    {
     "data": {
      "application/vnd.jupyter.widget-view+json": {
       "model_id": "49af6fe14e3447388608574d7a0f2b5e",
       "version_major": 2,
       "version_minor": 0
      },
      "text/plain": [
       "chain 1 |          | 00:00 Status"
      ]
     },
     "metadata": {},
     "output_type": "display_data"
    },
    {
     "data": {
      "application/vnd.jupyter.widget-view+json": {
       "model_id": "71ca25703dd54a6eaf7df38795f4554c",
       "version_major": 2,
       "version_minor": 0
      },
      "text/plain": [
       "chain 2 |          | 00:00 Status"
      ]
     },
     "metadata": {},
     "output_type": "display_data"
    },
    {
     "data": {
      "application/vnd.jupyter.widget-view+json": {
       "model_id": "ba295ca7f3e6407f944eabf105bc506b",
       "version_major": 2,
       "version_minor": 0
      },
      "text/plain": [
       "chain 3 |          | 00:00 Status"
      ]
     },
     "metadata": {},
     "output_type": "display_data"
    },
    {
     "data": {
      "application/vnd.jupyter.widget-view+json": {
       "model_id": "b8deac8c9d7f4219a367083776c2ca3a",
       "version_major": 2,
       "version_minor": 0
      },
      "text/plain": [
       "chain 4 |          | 00:00 Status"
      ]
     },
     "metadata": {},
     "output_type": "display_data"
    },
    {
     "data": {
      "application/vnd.jupyter.widget-view+json": {
       "model_id": "aa94dab8019c465b9c3b13fbbb337bb4",
       "version_major": 2,
       "version_minor": 0
      },
      "text/plain": [
       "chain 5 |          | 00:00 Status"
      ]
     },
     "metadata": {},
     "output_type": "display_data"
    },
    {
     "data": {
      "application/vnd.jupyter.widget-view+json": {
       "model_id": "486ae335784c4019abc00353a6e5a97f",
       "version_major": 2,
       "version_minor": 0
      },
      "text/plain": [
       "chain 6 |          | 00:00 Status"
      ]
     },
     "metadata": {},
     "output_type": "display_data"
    },
    {
     "data": {
      "application/vnd.jupyter.widget-view+json": {
       "model_id": "24f63e36f2484b9daac683b0fadd5004",
       "version_major": 2,
       "version_minor": 0
      },
      "text/plain": [
       "chain 7 |          | 00:00 Status"
      ]
     },
     "metadata": {},
     "output_type": "display_data"
    },
    {
     "data": {
      "application/vnd.jupyter.widget-view+json": {
       "model_id": "e86d83c247464db38c3e27d55cd5779e",
       "version_major": 2,
       "version_minor": 0
      },
      "text/plain": [
       "chain 8 |          | 00:00 Status"
      ]
     },
     "metadata": {},
     "output_type": "display_data"
    },
    {
     "data": {
      "application/vnd.jupyter.widget-view+json": {
       "model_id": "91a45ce56a44422fb98fa2aebc61d4c5",
       "version_major": 2,
       "version_minor": 0
      },
      "text/plain": [
       "chain 9 |          | 00:00 Status"
      ]
     },
     "metadata": {},
     "output_type": "display_data"
    },
    {
     "data": {
      "application/vnd.jupyter.widget-view+json": {
       "model_id": "cff791e935354bdfb230dd192269e302",
       "version_major": 2,
       "version_minor": 0
      },
      "text/plain": [
       "chain 10 |          | 00:00 Status"
      ]
     },
     "metadata": {},
     "output_type": "display_data"
    },
    {
     "data": {
      "application/vnd.jupyter.widget-view+json": {
       "model_id": "4fddb5f53668471d9f4f36f1236e1286",
       "version_major": 2,
       "version_minor": 0
      },
      "text/plain": [
       "chain 11 |          | 00:00 Status"
      ]
     },
     "metadata": {},
     "output_type": "display_data"
    },
    {
     "data": {
      "application/vnd.jupyter.widget-view+json": {
       "model_id": "9c436208edd84d82a5cbf59bb3fc5b7c",
       "version_major": 2,
       "version_minor": 0
      },
      "text/plain": [
       "chain 12 |          | 00:00 Status"
      ]
     },
     "metadata": {},
     "output_type": "display_data"
    },
    {
     "data": {
      "application/vnd.jupyter.widget-view+json": {
       "model_id": "16b04f301a484418a12a4326cf11b579",
       "version_major": 2,
       "version_minor": 0
      },
      "text/plain": [
       "chain 13 |          | 00:00 Status"
      ]
     },
     "metadata": {},
     "output_type": "display_data"
    },
    {
     "data": {
      "application/vnd.jupyter.widget-view+json": {
       "model_id": "8f1a5cb5fefd43748edee62fdb6feb60",
       "version_major": 2,
       "version_minor": 0
      },
      "text/plain": [
       "chain 14 |          | 00:00 Status"
      ]
     },
     "metadata": {},
     "output_type": "display_data"
    },
    {
     "data": {
      "application/vnd.jupyter.widget-view+json": {
       "model_id": "41d0ef4dffe74e1baf441ee0e5d367e0",
       "version_major": 2,
       "version_minor": 0
      },
      "text/plain": [
       "chain 15 |          | 00:00 Status"
      ]
     },
     "metadata": {},
     "output_type": "display_data"
    },
    {
     "data": {
      "application/vnd.jupyter.widget-view+json": {
       "model_id": "fe523e0991c14e54bd2f558c8b4cd8a9",
       "version_major": 2,
       "version_minor": 0
      },
      "text/plain": [
       "chain 16 |          | 00:00 Status"
      ]
     },
     "metadata": {},
     "output_type": "display_data"
    },
    {
     "data": {
      "application/vnd.jupyter.widget-view+json": {
       "model_id": "48ab0bdd8c2948d2836b86f890fdc2f4",
       "version_major": 2,
       "version_minor": 0
      },
      "text/plain": [
       "chain 17 |          | 00:00 Status"
      ]
     },
     "metadata": {},
     "output_type": "display_data"
    },
    {
     "data": {
      "application/vnd.jupyter.widget-view+json": {
       "model_id": "da5102c7b4e5442f9c48a25e3a46b57f",
       "version_major": 2,
       "version_minor": 0
      },
      "text/plain": [
       "chain 18 |          | 00:00 Status"
      ]
     },
     "metadata": {},
     "output_type": "display_data"
    },
    {
     "data": {
      "application/vnd.jupyter.widget-view+json": {
       "model_id": "164383ab6ebe4526bb75dd2027d1a953",
       "version_major": 2,
       "version_minor": 0
      },
      "text/plain": [
       "chain 19 |          | 00:00 Status"
      ]
     },
     "metadata": {},
     "output_type": "display_data"
    },
    {
     "data": {
      "application/vnd.jupyter.widget-view+json": {
       "model_id": "8092241b34c540e3a966e02d95f141e2",
       "version_major": 2,
       "version_minor": 0
      },
      "text/plain": [
       "chain 20 |          | 00:00 Status"
      ]
     },
     "metadata": {},
     "output_type": "display_data"
    },
    {
     "data": {
      "application/vnd.jupyter.widget-view+json": {
       "model_id": "ce52083a038241f0a2ca3434135e1fd8",
       "version_major": 2,
       "version_minor": 0
      },
      "text/plain": [
       "chain 21 |          | 00:00 Status"
      ]
     },
     "metadata": {},
     "output_type": "display_data"
    },
    {
     "data": {
      "application/vnd.jupyter.widget-view+json": {
       "model_id": "d1c68ee4888546ba8b323e9568887471",
       "version_major": 2,
       "version_minor": 0
      },
      "text/plain": [
       "chain 22 |          | 00:00 Status"
      ]
     },
     "metadata": {},
     "output_type": "display_data"
    },
    {
     "data": {
      "application/vnd.jupyter.widget-view+json": {
       "model_id": "2cb000318b434380879665d5e7234625",
       "version_major": 2,
       "version_minor": 0
      },
      "text/plain": [
       "chain 23 |          | 00:00 Status"
      ]
     },
     "metadata": {},
     "output_type": "display_data"
    },
    {
     "data": {
      "application/vnd.jupyter.widget-view+json": {
       "model_id": "a792c4b635e049d6aa2d0c20dfce165b",
       "version_major": 2,
       "version_minor": 0
      },
      "text/plain": [
       "chain 24 |          | 00:00 Status"
      ]
     },
     "metadata": {},
     "output_type": "display_data"
    },
    {
     "data": {
      "application/vnd.jupyter.widget-view+json": {
       "model_id": "fa859345226c48e39af687679b25dc8b",
       "version_major": 2,
       "version_minor": 0
      },
      "text/plain": [
       "chain 25 |          | 00:00 Status"
      ]
     },
     "metadata": {},
     "output_type": "display_data"
    },
    {
     "data": {
      "application/vnd.jupyter.widget-view+json": {
       "model_id": "ab83148c734a491f9f6ca5be6927a043",
       "version_major": 2,
       "version_minor": 0
      },
      "text/plain": [
       "chain 26 |          | 00:00 Status"
      ]
     },
     "metadata": {},
     "output_type": "display_data"
    },
    {
     "data": {
      "application/vnd.jupyter.widget-view+json": {
       "model_id": "9c2ed002fa634fc8acba58db2e87c229",
       "version_major": 2,
       "version_minor": 0
      },
      "text/plain": [
       "chain 27 |          | 00:00 Status"
      ]
     },
     "metadata": {},
     "output_type": "display_data"
    },
    {
     "data": {
      "application/vnd.jupyter.widget-view+json": {
       "model_id": "9e1861036ee74cd0babbfea1f5881af1",
       "version_major": 2,
       "version_minor": 0
      },
      "text/plain": [
       "chain 28 |          | 00:00 Status"
      ]
     },
     "metadata": {},
     "output_type": "display_data"
    },
    {
     "data": {
      "application/vnd.jupyter.widget-view+json": {
       "model_id": "e99860be4bcb4194a043d7caf1884955",
       "version_major": 2,
       "version_minor": 0
      },
      "text/plain": [
       "chain 29 |          | 00:00 Status"
      ]
     },
     "metadata": {},
     "output_type": "display_data"
    },
    {
     "data": {
      "application/vnd.jupyter.widget-view+json": {
       "model_id": "caf3f6d6c02b4199b590c822f40a90f2",
       "version_major": 2,
       "version_minor": 0
      },
      "text/plain": [
       "chain 30 |          | 00:00 Status"
      ]
     },
     "metadata": {},
     "output_type": "display_data"
    },
    {
     "data": {
      "application/vnd.jupyter.widget-view+json": {
       "model_id": "3d3c5569f79e4523b031dfc9d33c0c5f",
       "version_major": 2,
       "version_minor": 0
      },
      "text/plain": [
       "chain 31 |          | 00:00 Status"
      ]
     },
     "metadata": {},
     "output_type": "display_data"
    },
    {
     "data": {
      "application/vnd.jupyter.widget-view+json": {
       "model_id": "3e5d2476e4e34ccbb7ff39415aee1b99",
       "version_major": 2,
       "version_minor": 0
      },
      "text/plain": [
       "chain 32 |          | 00:00 Status"
      ]
     },
     "metadata": {},
     "output_type": "display_data"
    },
    {
     "data": {
      "application/vnd.jupyter.widget-view+json": {
       "model_id": "016d8e5dbea74c9796bbe36ed15ef6a3",
       "version_major": 2,
       "version_minor": 0
      },
      "text/plain": [
       "chain 33 |          | 00:00 Status"
      ]
     },
     "metadata": {},
     "output_type": "display_data"
    },
    {
     "data": {
      "application/vnd.jupyter.widget-view+json": {
       "model_id": "c70c1a0f033e4f2c94b5e1c870f6217f",
       "version_major": 2,
       "version_minor": 0
      },
      "text/plain": [
       "chain 34 |          | 00:00 Status"
      ]
     },
     "metadata": {},
     "output_type": "display_data"
    },
    {
     "data": {
      "application/vnd.jupyter.widget-view+json": {
       "model_id": "900b5fe65e0a4f88a110da088e51b8ec",
       "version_major": 2,
       "version_minor": 0
      },
      "text/plain": [
       "chain 35 |          | 00:00 Status"
      ]
     },
     "metadata": {},
     "output_type": "display_data"
    },
    {
     "data": {
      "application/vnd.jupyter.widget-view+json": {
       "model_id": "098cf42c70d04cfabe255852fb37637b",
       "version_major": 2,
       "version_minor": 0
      },
      "text/plain": [
       "chain 36 |          | 00:00 Status"
      ]
     },
     "metadata": {},
     "output_type": "display_data"
    },
    {
     "data": {
      "application/vnd.jupyter.widget-view+json": {
       "model_id": "36708343cfd8427c96b01e77004e6681",
       "version_major": 2,
       "version_minor": 0
      },
      "text/plain": [
       "chain 37 |          | 00:00 Status"
      ]
     },
     "metadata": {},
     "output_type": "display_data"
    },
    {
     "data": {
      "application/vnd.jupyter.widget-view+json": {
       "model_id": "a67ee517a476467d9e2fcf5753a0e3a0",
       "version_major": 2,
       "version_minor": 0
      },
      "text/plain": [
       "chain 38 |          | 00:00 Status"
      ]
     },
     "metadata": {},
     "output_type": "display_data"
    },
    {
     "data": {
      "application/vnd.jupyter.widget-view+json": {
       "model_id": "49710589ce604717890d0ff3168b7916",
       "version_major": 2,
       "version_minor": 0
      },
      "text/plain": [
       "chain 39 |          | 00:00 Status"
      ]
     },
     "metadata": {},
     "output_type": "display_data"
    },
    {
     "data": {
      "application/vnd.jupyter.widget-view+json": {
       "model_id": "87814ee450264ccfb6b7570fab7f20e6",
       "version_major": 2,
       "version_minor": 0
      },
      "text/plain": [
       "chain 40 |          | 00:00 Status"
      ]
     },
     "metadata": {},
     "output_type": "display_data"
    },
    {
     "data": {
      "application/vnd.jupyter.widget-view+json": {
       "model_id": "ed78293abc4f4b2f861db6a9a79a2743",
       "version_major": 2,
       "version_minor": 0
      },
      "text/plain": [
       "chain 41 |          | 00:00 Status"
      ]
     },
     "metadata": {},
     "output_type": "display_data"
    },
    {
     "data": {
      "application/vnd.jupyter.widget-view+json": {
       "model_id": "50a6ba9d02ca400681a251de268e16f6",
       "version_major": 2,
       "version_minor": 0
      },
      "text/plain": [
       "chain 42 |          | 00:00 Status"
      ]
     },
     "metadata": {},
     "output_type": "display_data"
    },
    {
     "data": {
      "application/vnd.jupyter.widget-view+json": {
       "model_id": "8896c8b1446646b48ea0fb7818a70627",
       "version_major": 2,
       "version_minor": 0
      },
      "text/plain": [
       "chain 43 |          | 00:00 Status"
      ]
     },
     "metadata": {},
     "output_type": "display_data"
    },
    {
     "data": {
      "application/vnd.jupyter.widget-view+json": {
       "model_id": "3b4e151292614b9e83bd141f93cc26ee",
       "version_major": 2,
       "version_minor": 0
      },
      "text/plain": [
       "chain 44 |          | 00:00 Status"
      ]
     },
     "metadata": {},
     "output_type": "display_data"
    },
    {
     "data": {
      "application/vnd.jupyter.widget-view+json": {
       "model_id": "f312dede1c88450cad1412716f9b2f5a",
       "version_major": 2,
       "version_minor": 0
      },
      "text/plain": [
       "chain 45 |          | 00:00 Status"
      ]
     },
     "metadata": {},
     "output_type": "display_data"
    },
    {
     "data": {
      "application/vnd.jupyter.widget-view+json": {
       "model_id": "7d42e8e87f634175b6984287e99c8f77",
       "version_major": 2,
       "version_minor": 0
      },
      "text/plain": [
       "chain 46 |          | 00:00 Status"
      ]
     },
     "metadata": {},
     "output_type": "display_data"
    },
    {
     "data": {
      "application/vnd.jupyter.widget-view+json": {
       "model_id": "28b3ab7d2f244c4ca49faa608450a662",
       "version_major": 2,
       "version_minor": 0
      },
      "text/plain": [
       "chain 47 |          | 00:00 Status"
      ]
     },
     "metadata": {},
     "output_type": "display_data"
    },
    {
     "data": {
      "application/vnd.jupyter.widget-view+json": {
       "model_id": "c9d892cb5c294454bb43737bb6968ec3",
       "version_major": 2,
       "version_minor": 0
      },
      "text/plain": [
       "chain 48 |          | 00:00 Status"
      ]
     },
     "metadata": {},
     "output_type": "display_data"
    },
    {
     "data": {
      "application/vnd.jupyter.widget-view+json": {
       "model_id": "45df6397ae794a45bf053dafb26077b4",
       "version_major": 2,
       "version_minor": 0
      },
      "text/plain": [
       "chain 49 |          | 00:00 Status"
      ]
     },
     "metadata": {},
     "output_type": "display_data"
    },
    {
     "data": {
      "application/vnd.jupyter.widget-view+json": {
       "model_id": "7c6a66969f594c088193093361e7caaa",
       "version_major": 2,
       "version_minor": 0
      },
      "text/plain": [
       "chain 50 |          | 00:00 Status"
      ]
     },
     "metadata": {},
     "output_type": "display_data"
    },
    {
     "data": {
      "application/vnd.jupyter.widget-view+json": {
       "model_id": "e807c312b7cd474b9423dd77b88a7f91",
       "version_major": 2,
       "version_minor": 0
      },
      "text/plain": [
       "chain 51 |          | 00:00 Status"
      ]
     },
     "metadata": {},
     "output_type": "display_data"
    },
    {
     "data": {
      "application/vnd.jupyter.widget-view+json": {
       "model_id": "75679d2e214c489bb9e852db23502f2a",
       "version_major": 2,
       "version_minor": 0
      },
      "text/plain": [
       "chain 52 |          | 00:00 Status"
      ]
     },
     "metadata": {},
     "output_type": "display_data"
    },
    {
     "data": {
      "application/vnd.jupyter.widget-view+json": {
       "model_id": "90b8173da3d747c2af43f64d6a3fc6e7",
       "version_major": 2,
       "version_minor": 0
      },
      "text/plain": [
       "chain 53 |          | 00:00 Status"
      ]
     },
     "metadata": {},
     "output_type": "display_data"
    },
    {
     "data": {
      "application/vnd.jupyter.widget-view+json": {
       "model_id": "df695ffb91d543c4816dbbd777fa279b",
       "version_major": 2,
       "version_minor": 0
      },
      "text/plain": [
       "chain 54 |          | 00:00 Status"
      ]
     },
     "metadata": {},
     "output_type": "display_data"
    },
    {
     "data": {
      "application/vnd.jupyter.widget-view+json": {
       "model_id": "5a03a1c7577840f49af737db1ad078b8",
       "version_major": 2,
       "version_minor": 0
      },
      "text/plain": [
       "chain 55 |          | 00:00 Status"
      ]
     },
     "metadata": {},
     "output_type": "display_data"
    },
    {
     "data": {
      "application/vnd.jupyter.widget-view+json": {
       "model_id": "b18069b0d4c341f6bf2afad6290261e2",
       "version_major": 2,
       "version_minor": 0
      },
      "text/plain": [
       "chain 56 |          | 00:00 Status"
      ]
     },
     "metadata": {},
     "output_type": "display_data"
    },
    {
     "data": {
      "application/vnd.jupyter.widget-view+json": {
       "model_id": "8537bb361f2343fc81ca51a0cee1bdc7",
       "version_major": 2,
       "version_minor": 0
      },
      "text/plain": [
       "chain 57 |          | 00:00 Status"
      ]
     },
     "metadata": {},
     "output_type": "display_data"
    },
    {
     "data": {
      "application/vnd.jupyter.widget-view+json": {
       "model_id": "da7d45419b424004838fde13aeec8291",
       "version_major": 2,
       "version_minor": 0
      },
      "text/plain": [
       "chain 58 |          | 00:00 Status"
      ]
     },
     "metadata": {},
     "output_type": "display_data"
    },
    {
     "data": {
      "application/vnd.jupyter.widget-view+json": {
       "model_id": "b7b475fa572d4a15834bc632c2490172",
       "version_major": 2,
       "version_minor": 0
      },
      "text/plain": [
       "chain 59 |          | 00:00 Status"
      ]
     },
     "metadata": {},
     "output_type": "display_data"
    },
    {
     "data": {
      "application/vnd.jupyter.widget-view+json": {
       "model_id": "e8612f3b993149cd8dfc7ac977159327",
       "version_major": 2,
       "version_minor": 0
      },
      "text/plain": [
       "chain 60 |          | 00:00 Status"
      ]
     },
     "metadata": {},
     "output_type": "display_data"
    },
    {
     "data": {
      "application/vnd.jupyter.widget-view+json": {
       "model_id": "f69193fb1f7142129330afc144cec068",
       "version_major": 2,
       "version_minor": 0
      },
      "text/plain": [
       "chain 61 |          | 00:00 Status"
      ]
     },
     "metadata": {},
     "output_type": "display_data"
    },
    {
     "data": {
      "application/vnd.jupyter.widget-view+json": {
       "model_id": "5e7a660a11ec4547bb852f87ceb8eccd",
       "version_major": 2,
       "version_minor": 0
      },
      "text/plain": [
       "chain 62 |          | 00:00 Status"
      ]
     },
     "metadata": {},
     "output_type": "display_data"
    },
    {
     "data": {
      "application/vnd.jupyter.widget-view+json": {
       "model_id": "3ff8fd8500e844c4b8b7377547c7bef2",
       "version_major": 2,
       "version_minor": 0
      },
      "text/plain": [
       "chain 63 |          | 00:00 Status"
      ]
     },
     "metadata": {},
     "output_type": "display_data"
    },
    {
     "data": {
      "application/vnd.jupyter.widget-view+json": {
       "model_id": "c51a79a0f04b4091bc3ed91a567c1a6f",
       "version_major": 2,
       "version_minor": 0
      },
      "text/plain": [
       "chain 64 |          | 00:00 Status"
      ]
     },
     "metadata": {},
     "output_type": "display_data"
    },
    {
     "data": {
      "application/vnd.jupyter.widget-view+json": {
       "model_id": "82a7f69a231a41008cce97666d22ebe7",
       "version_major": 2,
       "version_minor": 0
      },
      "text/plain": [
       "chain 65 |          | 00:00 Status"
      ]
     },
     "metadata": {},
     "output_type": "display_data"
    },
    {
     "data": {
      "application/vnd.jupyter.widget-view+json": {
       "model_id": "827e662adb88497c8e142c7d2bb01875",
       "version_major": 2,
       "version_minor": 0
      },
      "text/plain": [
       "chain 66 |          | 00:00 Status"
      ]
     },
     "metadata": {},
     "output_type": "display_data"
    },
    {
     "data": {
      "application/vnd.jupyter.widget-view+json": {
       "model_id": "a1c0e134618147669b51f308b3ccfec6",
       "version_major": 2,
       "version_minor": 0
      },
      "text/plain": [
       "chain 67 |          | 00:00 Status"
      ]
     },
     "metadata": {},
     "output_type": "display_data"
    },
    {
     "data": {
      "application/vnd.jupyter.widget-view+json": {
       "model_id": "1ba92ee9f1d244479b059e879ffaa557",
       "version_major": 2,
       "version_minor": 0
      },
      "text/plain": [
       "chain 68 |          | 00:00 Status"
      ]
     },
     "metadata": {},
     "output_type": "display_data"
    },
    {
     "data": {
      "application/vnd.jupyter.widget-view+json": {
       "model_id": "60448ff450394b6c8ddb8e46147f8299",
       "version_major": 2,
       "version_minor": 0
      },
      "text/plain": [
       "chain 69 |          | 00:00 Status"
      ]
     },
     "metadata": {},
     "output_type": "display_data"
    },
    {
     "data": {
      "application/vnd.jupyter.widget-view+json": {
       "model_id": "24e4b9439b5545fca46a7ecf54d38038",
       "version_major": 2,
       "version_minor": 0
      },
      "text/plain": [
       "chain 70 |          | 00:00 Status"
      ]
     },
     "metadata": {},
     "output_type": "display_data"
    },
    {
     "data": {
      "application/vnd.jupyter.widget-view+json": {
       "model_id": "d5f7a0077d694932b31f86016c745961",
       "version_major": 2,
       "version_minor": 0
      },
      "text/plain": [
       "chain 71 |          | 00:00 Status"
      ]
     },
     "metadata": {},
     "output_type": "display_data"
    },
    {
     "data": {
      "application/vnd.jupyter.widget-view+json": {
       "model_id": "59d2b0c707844065a27c2ddf08792ec7",
       "version_major": 2,
       "version_minor": 0
      },
      "text/plain": [
       "chain 72 |          | 00:00 Status"
      ]
     },
     "metadata": {},
     "output_type": "display_data"
    },
    {
     "data": {
      "application/vnd.jupyter.widget-view+json": {
       "model_id": "740c52dfdf604b508d457902b2c0fb09",
       "version_major": 2,
       "version_minor": 0
      },
      "text/plain": [
       "chain 73 |          | 00:00 Status"
      ]
     },
     "metadata": {},
     "output_type": "display_data"
    },
    {
     "data": {
      "application/vnd.jupyter.widget-view+json": {
       "model_id": "f1b6832d067a4449815498875ba46796",
       "version_major": 2,
       "version_minor": 0
      },
      "text/plain": [
       "chain 74 |          | 00:00 Status"
      ]
     },
     "metadata": {},
     "output_type": "display_data"
    },
    {
     "data": {
      "application/vnd.jupyter.widget-view+json": {
       "model_id": "0ab0e46a0a65479ebc25bded6902d726",
       "version_major": 2,
       "version_minor": 0
      },
      "text/plain": [
       "chain 75 |          | 00:00 Status"
      ]
     },
     "metadata": {},
     "output_type": "display_data"
    },
    {
     "data": {
      "application/vnd.jupyter.widget-view+json": {
       "model_id": "c32aecbec2c94d2bb6e0a0eb00f75f46",
       "version_major": 2,
       "version_minor": 0
      },
      "text/plain": [
       "chain 76 |          | 00:00 Status"
      ]
     },
     "metadata": {},
     "output_type": "display_data"
    },
    {
     "data": {
      "application/vnd.jupyter.widget-view+json": {
       "model_id": "2c415cbbbf8543dcba5cdf595fbf7d08",
       "version_major": 2,
       "version_minor": 0
      },
      "text/plain": [
       "chain 77 |          | 00:00 Status"
      ]
     },
     "metadata": {},
     "output_type": "display_data"
    },
    {
     "data": {
      "application/vnd.jupyter.widget-view+json": {
       "model_id": "8579f78201cf4280af8f609c5a121981",
       "version_major": 2,
       "version_minor": 0
      },
      "text/plain": [
       "chain 78 |          | 00:00 Status"
      ]
     },
     "metadata": {},
     "output_type": "display_data"
    },
    {
     "data": {
      "application/vnd.jupyter.widget-view+json": {
       "model_id": "f991b62c69f64e08ba969c1e5ba6e396",
       "version_major": 2,
       "version_minor": 0
      },
      "text/plain": [
       "chain 79 |          | 00:00 Status"
      ]
     },
     "metadata": {},
     "output_type": "display_data"
    },
    {
     "data": {
      "application/vnd.jupyter.widget-view+json": {
       "model_id": "4629c54084174905bf21ae8769eac260",
       "version_major": 2,
       "version_minor": 0
      },
      "text/plain": [
       "chain 80 |          | 00:00 Status"
      ]
     },
     "metadata": {},
     "output_type": "display_data"
    },
    {
     "data": {
      "application/vnd.jupyter.widget-view+json": {
       "model_id": "9984238788dd4e45b8e52933069d5e75",
       "version_major": 2,
       "version_minor": 0
      },
      "text/plain": [
       "chain 81 |          | 00:00 Status"
      ]
     },
     "metadata": {},
     "output_type": "display_data"
    },
    {
     "data": {
      "application/vnd.jupyter.widget-view+json": {
       "model_id": "699b1956d0084f8a9c6e3f3c928e2df5",
       "version_major": 2,
       "version_minor": 0
      },
      "text/plain": [
       "chain 82 |          | 00:00 Status"
      ]
     },
     "metadata": {},
     "output_type": "display_data"
    },
    {
     "data": {
      "application/vnd.jupyter.widget-view+json": {
       "model_id": "80ddef479a6542c0a39c3df05c652dfe",
       "version_major": 2,
       "version_minor": 0
      },
      "text/plain": [
       "chain 83 |          | 00:00 Status"
      ]
     },
     "metadata": {},
     "output_type": "display_data"
    },
    {
     "data": {
      "application/vnd.jupyter.widget-view+json": {
       "model_id": "d4361b6f7484427e8ec648c0978fcbc3",
       "version_major": 2,
       "version_minor": 0
      },
      "text/plain": [
       "chain 84 |          | 00:00 Status"
      ]
     },
     "metadata": {},
     "output_type": "display_data"
    },
    {
     "data": {
      "application/vnd.jupyter.widget-view+json": {
       "model_id": "6d4be27094804146821acb46b205a2e4",
       "version_major": 2,
       "version_minor": 0
      },
      "text/plain": [
       "chain 85 |          | 00:00 Status"
      ]
     },
     "metadata": {},
     "output_type": "display_data"
    },
    {
     "data": {
      "application/vnd.jupyter.widget-view+json": {
       "model_id": "848c74e3f69b48788d36ed50e1283a3f",
       "version_major": 2,
       "version_minor": 0
      },
      "text/plain": [
       "chain 86 |          | 00:00 Status"
      ]
     },
     "metadata": {},
     "output_type": "display_data"
    },
    {
     "data": {
      "application/vnd.jupyter.widget-view+json": {
       "model_id": "7689522b164c424b93b47f98a4b9f396",
       "version_major": 2,
       "version_minor": 0
      },
      "text/plain": [
       "chain 87 |          | 00:00 Status"
      ]
     },
     "metadata": {},
     "output_type": "display_data"
    },
    {
     "data": {
      "application/vnd.jupyter.widget-view+json": {
       "model_id": "78830e080816450d9b5bc9803bbf7be9",
       "version_major": 2,
       "version_minor": 0
      },
      "text/plain": [
       "chain 88 |          | 00:00 Status"
      ]
     },
     "metadata": {},
     "output_type": "display_data"
    },
    {
     "data": {
      "application/vnd.jupyter.widget-view+json": {
       "model_id": "f51db71864a64a918d88fde803f54841",
       "version_major": 2,
       "version_minor": 0
      },
      "text/plain": [
       "chain 89 |          | 00:00 Status"
      ]
     },
     "metadata": {},
     "output_type": "display_data"
    },
    {
     "data": {
      "application/vnd.jupyter.widget-view+json": {
       "model_id": "62043e8a3eec41639ac88fe00947821a",
       "version_major": 2,
       "version_minor": 0
      },
      "text/plain": [
       "chain 90 |          | 00:00 Status"
      ]
     },
     "metadata": {},
     "output_type": "display_data"
    },
    {
     "data": {
      "application/vnd.jupyter.widget-view+json": {
       "model_id": "6e1f5732067d4d54ae5a80fc05601e29",
       "version_major": 2,
       "version_minor": 0
      },
      "text/plain": [
       "chain 91 |          | 00:00 Status"
      ]
     },
     "metadata": {},
     "output_type": "display_data"
    },
    {
     "data": {
      "application/vnd.jupyter.widget-view+json": {
       "model_id": "c09b6c6d3f864ac8a6cab688ba51b8ac",
       "version_major": 2,
       "version_minor": 0
      },
      "text/plain": [
       "chain 92 |          | 00:00 Status"
      ]
     },
     "metadata": {},
     "output_type": "display_data"
    },
    {
     "data": {
      "application/vnd.jupyter.widget-view+json": {
       "model_id": "1fdf8a0d20a74569a672fe28695e126b",
       "version_major": 2,
       "version_minor": 0
      },
      "text/plain": [
       "chain 93 |          | 00:00 Status"
      ]
     },
     "metadata": {},
     "output_type": "display_data"
    },
    {
     "data": {
      "application/vnd.jupyter.widget-view+json": {
       "model_id": "5b1ecee06d8d4954a5fc0c185199eb0f",
       "version_major": 2,
       "version_minor": 0
      },
      "text/plain": [
       "chain 94 |          | 00:00 Status"
      ]
     },
     "metadata": {},
     "output_type": "display_data"
    },
    {
     "data": {
      "application/vnd.jupyter.widget-view+json": {
       "model_id": "26c7865941bd40d58d68681ab55043c3",
       "version_major": 2,
       "version_minor": 0
      },
      "text/plain": [
       "chain 95 |          | 00:00 Status"
      ]
     },
     "metadata": {},
     "output_type": "display_data"
    },
    {
     "data": {
      "application/vnd.jupyter.widget-view+json": {
       "model_id": "984a61f5a59142429f03b95ed041c5c6",
       "version_major": 2,
       "version_minor": 0
      },
      "text/plain": [
       "chain 96 |          | 00:00 Status"
      ]
     },
     "metadata": {},
     "output_type": "display_data"
    },
    {
     "data": {
      "application/vnd.jupyter.widget-view+json": {
       "model_id": "b905a84da214486d8e5186f52ce38ec6",
       "version_major": 2,
       "version_minor": 0
      },
      "text/plain": [
       "chain 97 |          | 00:00 Status"
      ]
     },
     "metadata": {},
     "output_type": "display_data"
    },
    {
     "data": {
      "application/vnd.jupyter.widget-view+json": {
       "model_id": "d7d27653c73a46cea3bdea3f2153363d",
       "version_major": 2,
       "version_minor": 0
      },
      "text/plain": [
       "chain 98 |          | 00:00 Status"
      ]
     },
     "metadata": {},
     "output_type": "display_data"
    },
    {
     "data": {
      "application/vnd.jupyter.widget-view+json": {
       "model_id": "b501995a34974d529672090984a5c629",
       "version_major": 2,
       "version_minor": 0
      },
      "text/plain": [
       "chain 99 |          | 00:00 Status"
      ]
     },
     "metadata": {},
     "output_type": "display_data"
    },
    {
     "data": {
      "application/vnd.jupyter.widget-view+json": {
       "model_id": "0cc6c213c1d74f2c8eeee3157730ede1",
       "version_major": 2,
       "version_minor": 0
      },
      "text/plain": [
       "chain 100 |          | 00:00 Status"
      ]
     },
     "metadata": {},
     "output_type": "display_data"
    },
    {
     "name": "stdout",
     "output_type": "stream",
     "text": [
      "                                                                                                                                                                                                                                                                                                                                                                                                                                                                                                                                                                                                                                                                                                                                                                                                                                                                                                                                                                                                                                                                                                                                                                                                                                                                                                                                                                                                                                                                                                                                                                                                                                                                                                                                                                                                                                                                                                                                                                                                                                                                                                                                                                                                                                                                                                                                                                                                                                                                                                                                                                                                                                                                                                                                                                                                                                                                                                                                                                                                                                                                                                                                                                                                                                                                                                                                                                                                                                                                                                                                                                                                                                                                                                                                                                                                                                                                                                                                                                                                                                                                                                                                                                                                                                                                                                                                                                                                                                                                                                                                                                                                                                                                                                                                                                                                                                                                                                                                                                                                                                                                                                                                                                                                                                                                                                                                                                                                                                                                                                                                                                                                                                                                                                                                                                                                                                                                                                                                                                                                                                                                                                                                                                                                                                                                                                                                                                                                                                                                                                                                                                                                                                                                                                                                                                                                                                                                                                                                                                                                                                                                                                                                                                                                                                                                                                                                                                                                                                                                                                                                                                                                                                                                                                                                                                                                                                                                                                                                                                                                                                                                                                                                                                                                                                                                                                                                "
     ]
    },
    {
     "name": "stderr",
     "output_type": "stream",
     "text": [
      "11:19:35 - cmdstanpy - INFO - CmdStan done processing.\n"
     ]
    },
    {
     "name": "stdout",
     "output_type": "stream",
     "text": [
      "\n"
     ]
    }
   ],
   "source": [
    "model = CmdStanModel(stan_file=model_path)\n",
    "nuts_output = model.sample(\n",
    "    data=data_path,\n",
    "    iter_sampling=num_samples,\n",
    "    chains=num_chains,\n",
    "    seed=seed,\n",
    "    thin=100,\n",
    "    adapt_delta=0.95,\n",
    ")\n",
    "\n",
    "ref_draws_np = nuts_output.draws()[:, :, 7:] # [draws, chains, params]\n",
    "# convert dimension order to [chains, draws, params]\n",
    "ref_draws_np = np.transpose(ref_draws_np, (1, 0, 2))"
   ]
  },
  {
   "cell_type": "code",
   "execution_count": 4,
   "metadata": {},
   "outputs": [],
   "source": [
    "summary = nuts_output.summary()"
   ]
  },
  {
   "cell_type": "code",
   "execution_count": 5,
   "metadata": {},
   "outputs": [
    {
     "data": {
      "text/html": [
       "<div>\n",
       "<style scoped>\n",
       "    .dataframe tbody tr th:only-of-type {\n",
       "        vertical-align: middle;\n",
       "    }\n",
       "\n",
       "    .dataframe tbody tr th {\n",
       "        vertical-align: top;\n",
       "    }\n",
       "\n",
       "    .dataframe thead th {\n",
       "        text-align: right;\n",
       "    }\n",
       "</style>\n",
       "<table border=\"1\" class=\"dataframe\">\n",
       "  <thead>\n",
       "    <tr style=\"text-align: right;\">\n",
       "      <th></th>\n",
       "      <th>Mean</th>\n",
       "      <th>MCSE</th>\n",
       "      <th>StdDev</th>\n",
       "      <th>5%</th>\n",
       "      <th>50%</th>\n",
       "      <th>95%</th>\n",
       "      <th>N_Eff</th>\n",
       "      <th>N_Eff/s</th>\n",
       "      <th>R_hat</th>\n",
       "    </tr>\n",
       "  </thead>\n",
       "  <tbody>\n",
       "    <tr>\n",
       "      <th>lp__</th>\n",
       "      <td>-24.999200</td>\n",
       "      <td>0.005008</td>\n",
       "      <td>5.005590</td>\n",
       "      <td>-33.78010</td>\n",
       "      <td>-24.658300</td>\n",
       "      <td>-17.38880</td>\n",
       "      <td>998978.0</td>\n",
       "      <td>9.19206</td>\n",
       "      <td>1.000000</td>\n",
       "    </tr>\n",
       "    <tr>\n",
       "      <th>y[1]</th>\n",
       "      <td>-0.000612</td>\n",
       "      <td>0.001002</td>\n",
       "      <td>0.999262</td>\n",
       "      <td>-1.64445</td>\n",
       "      <td>0.000251</td>\n",
       "      <td>1.64087</td>\n",
       "      <td>994907.0</td>\n",
       "      <td>9.15460</td>\n",
       "      <td>0.999995</td>\n",
       "    </tr>\n",
       "    <tr>\n",
       "      <th>y[2]</th>\n",
       "      <td>-0.001077</td>\n",
       "      <td>0.001001</td>\n",
       "      <td>0.999159</td>\n",
       "      <td>-1.64673</td>\n",
       "      <td>0.000313</td>\n",
       "      <td>1.64093</td>\n",
       "      <td>997257.0</td>\n",
       "      <td>9.17622</td>\n",
       "      <td>0.999987</td>\n",
       "    </tr>\n",
       "    <tr>\n",
       "      <th>y[3]</th>\n",
       "      <td>-0.000911</td>\n",
       "      <td>0.001000</td>\n",
       "      <td>0.999058</td>\n",
       "      <td>-1.64591</td>\n",
       "      <td>-0.000004</td>\n",
       "      <td>1.64066</td>\n",
       "      <td>997563.0</td>\n",
       "      <td>9.17903</td>\n",
       "      <td>0.999992</td>\n",
       "    </tr>\n",
       "    <tr>\n",
       "      <th>y[4]</th>\n",
       "      <td>-0.000157</td>\n",
       "      <td>0.001001</td>\n",
       "      <td>0.999483</td>\n",
       "      <td>-1.64601</td>\n",
       "      <td>0.000152</td>\n",
       "      <td>1.64286</td>\n",
       "      <td>996059.0</td>\n",
       "      <td>9.16520</td>\n",
       "      <td>0.999995</td>\n",
       "    </tr>\n",
       "    <tr>\n",
       "      <th>y[5]</th>\n",
       "      <td>-0.000628</td>\n",
       "      <td>0.001001</td>\n",
       "      <td>0.999328</td>\n",
       "      <td>-1.64475</td>\n",
       "      <td>0.001449</td>\n",
       "      <td>1.64084</td>\n",
       "      <td>996973.0</td>\n",
       "      <td>9.17360</td>\n",
       "      <td>0.999987</td>\n",
       "    </tr>\n",
       "    <tr>\n",
       "      <th>y[6]</th>\n",
       "      <td>-0.000403</td>\n",
       "      <td>0.001001</td>\n",
       "      <td>0.999205</td>\n",
       "      <td>-1.64615</td>\n",
       "      <td>0.001382</td>\n",
       "      <td>1.64117</td>\n",
       "      <td>996860.0</td>\n",
       "      <td>9.17256</td>\n",
       "      <td>0.999983</td>\n",
       "    </tr>\n",
       "    <tr>\n",
       "      <th>y[7]</th>\n",
       "      <td>-0.000173</td>\n",
       "      <td>0.001001</td>\n",
       "      <td>0.999474</td>\n",
       "      <td>-1.64615</td>\n",
       "      <td>0.000963</td>\n",
       "      <td>1.64164</td>\n",
       "      <td>997894.0</td>\n",
       "      <td>9.18208</td>\n",
       "      <td>0.999990</td>\n",
       "    </tr>\n",
       "    <tr>\n",
       "      <th>y[8]</th>\n",
       "      <td>-0.000085</td>\n",
       "      <td>0.001000</td>\n",
       "      <td>0.999422</td>\n",
       "      <td>-1.64513</td>\n",
       "      <td>0.001248</td>\n",
       "      <td>1.63973</td>\n",
       "      <td>997937.0</td>\n",
       "      <td>9.18248</td>\n",
       "      <td>0.999977</td>\n",
       "    </tr>\n",
       "    <tr>\n",
       "      <th>y[9]</th>\n",
       "      <td>-0.000531</td>\n",
       "      <td>0.001001</td>\n",
       "      <td>0.999612</td>\n",
       "      <td>-1.64679</td>\n",
       "      <td>0.000837</td>\n",
       "      <td>1.64136</td>\n",
       "      <td>997173.0</td>\n",
       "      <td>9.17544</td>\n",
       "      <td>0.999985</td>\n",
       "    </tr>\n",
       "    <tr>\n",
       "      <th>y[10]</th>\n",
       "      <td>0.000213</td>\n",
       "      <td>0.001001</td>\n",
       "      <td>0.999837</td>\n",
       "      <td>-1.64463</td>\n",
       "      <td>0.000935</td>\n",
       "      <td>1.64204</td>\n",
       "      <td>998168.0</td>\n",
       "      <td>9.18460</td>\n",
       "      <td>0.999983</td>\n",
       "    </tr>\n",
       "    <tr>\n",
       "      <th>y[11]</th>\n",
       "      <td>0.000221</td>\n",
       "      <td>0.001002</td>\n",
       "      <td>1.000090</td>\n",
       "      <td>-1.64750</td>\n",
       "      <td>0.001054</td>\n",
       "      <td>1.64395</td>\n",
       "      <td>995623.0</td>\n",
       "      <td>9.16119</td>\n",
       "      <td>0.999980</td>\n",
       "    </tr>\n",
       "    <tr>\n",
       "      <th>y[12]</th>\n",
       "      <td>0.000425</td>\n",
       "      <td>0.001002</td>\n",
       "      <td>1.000410</td>\n",
       "      <td>-1.64547</td>\n",
       "      <td>0.000050</td>\n",
       "      <td>1.64396</td>\n",
       "      <td>996843.0</td>\n",
       "      <td>9.17241</td>\n",
       "      <td>0.999987</td>\n",
       "    </tr>\n",
       "    <tr>\n",
       "      <th>y[13]</th>\n",
       "      <td>-0.000033</td>\n",
       "      <td>0.001001</td>\n",
       "      <td>1.000570</td>\n",
       "      <td>-1.64644</td>\n",
       "      <td>-0.000009</td>\n",
       "      <td>1.64415</td>\n",
       "      <td>998503.0</td>\n",
       "      <td>9.18769</td>\n",
       "      <td>0.999993</td>\n",
       "    </tr>\n",
       "    <tr>\n",
       "      <th>y[14]</th>\n",
       "      <td>-0.000161</td>\n",
       "      <td>0.001001</td>\n",
       "      <td>1.000570</td>\n",
       "      <td>-1.64332</td>\n",
       "      <td>-0.000812</td>\n",
       "      <td>1.64596</td>\n",
       "      <td>999095.0</td>\n",
       "      <td>9.19313</td>\n",
       "      <td>0.999985</td>\n",
       "    </tr>\n",
       "    <tr>\n",
       "      <th>y[15]</th>\n",
       "      <td>0.000281</td>\n",
       "      <td>0.001001</td>\n",
       "      <td>1.000760</td>\n",
       "      <td>-1.64540</td>\n",
       "      <td>-0.000771</td>\n",
       "      <td>1.64715</td>\n",
       "      <td>999224.0</td>\n",
       "      <td>9.19432</td>\n",
       "      <td>0.999983</td>\n",
       "    </tr>\n",
       "    <tr>\n",
       "      <th>y[16]</th>\n",
       "      <td>0.000347</td>\n",
       "      <td>0.001002</td>\n",
       "      <td>1.000940</td>\n",
       "      <td>-1.64440</td>\n",
       "      <td>-0.000343</td>\n",
       "      <td>1.64877</td>\n",
       "      <td>998561.0</td>\n",
       "      <td>9.18822</td>\n",
       "      <td>0.999985</td>\n",
       "    </tr>\n",
       "    <tr>\n",
       "      <th>y[17]</th>\n",
       "      <td>0.000159</td>\n",
       "      <td>0.001002</td>\n",
       "      <td>1.001060</td>\n",
       "      <td>-1.64683</td>\n",
       "      <td>0.000031</td>\n",
       "      <td>1.64818</td>\n",
       "      <td>997622.0</td>\n",
       "      <td>9.17958</td>\n",
       "      <td>0.999988</td>\n",
       "    </tr>\n",
       "    <tr>\n",
       "      <th>y[18]</th>\n",
       "      <td>-0.000506</td>\n",
       "      <td>0.001001</td>\n",
       "      <td>1.000650</td>\n",
       "      <td>-1.64512</td>\n",
       "      <td>-0.001487</td>\n",
       "      <td>1.64702</td>\n",
       "      <td>999333.0</td>\n",
       "      <td>9.19532</td>\n",
       "      <td>0.999984</td>\n",
       "    </tr>\n",
       "    <tr>\n",
       "      <th>y[19]</th>\n",
       "      <td>0.000976</td>\n",
       "      <td>0.001001</td>\n",
       "      <td>1.000310</td>\n",
       "      <td>-1.64282</td>\n",
       "      <td>0.000208</td>\n",
       "      <td>1.64800</td>\n",
       "      <td>998973.0</td>\n",
       "      <td>9.19201</td>\n",
       "      <td>0.999988</td>\n",
       "    </tr>\n",
       "    <tr>\n",
       "      <th>y[20]</th>\n",
       "      <td>0.000867</td>\n",
       "      <td>0.001000</td>\n",
       "      <td>0.999789</td>\n",
       "      <td>-1.64301</td>\n",
       "      <td>0.000612</td>\n",
       "      <td>1.64646</td>\n",
       "      <td>999541.0</td>\n",
       "      <td>9.19724</td>\n",
       "      <td>0.999992</td>\n",
       "    </tr>\n",
       "    <tr>\n",
       "      <th>y[21]</th>\n",
       "      <td>0.001188</td>\n",
       "      <td>0.000999</td>\n",
       "      <td>0.999323</td>\n",
       "      <td>-1.64283</td>\n",
       "      <td>0.000229</td>\n",
       "      <td>1.64537</td>\n",
       "      <td>1000904.0</td>\n",
       "      <td>9.20978</td>\n",
       "      <td>0.999999</td>\n",
       "    </tr>\n",
       "    <tr>\n",
       "      <th>y[22]</th>\n",
       "      <td>0.001637</td>\n",
       "      <td>0.001001</td>\n",
       "      <td>1.000130</td>\n",
       "      <td>-1.64119</td>\n",
       "      <td>0.001424</td>\n",
       "      <td>1.64674</td>\n",
       "      <td>999242.0</td>\n",
       "      <td>9.19448</td>\n",
       "      <td>0.999995</td>\n",
       "    </tr>\n",
       "    <tr>\n",
       "      <th>y[23]</th>\n",
       "      <td>0.001236</td>\n",
       "      <td>0.001001</td>\n",
       "      <td>1.000210</td>\n",
       "      <td>-1.64323</td>\n",
       "      <td>0.000545</td>\n",
       "      <td>1.64718</td>\n",
       "      <td>999028.0</td>\n",
       "      <td>9.19251</td>\n",
       "      <td>0.999988</td>\n",
       "    </tr>\n",
       "    <tr>\n",
       "      <th>y[24]</th>\n",
       "      <td>0.000976</td>\n",
       "      <td>0.001001</td>\n",
       "      <td>1.000370</td>\n",
       "      <td>-1.64162</td>\n",
       "      <td>-0.000051</td>\n",
       "      <td>1.64544</td>\n",
       "      <td>999311.0</td>\n",
       "      <td>9.19512</td>\n",
       "      <td>0.999988</td>\n",
       "    </tr>\n",
       "    <tr>\n",
       "      <th>y[25]</th>\n",
       "      <td>0.000858</td>\n",
       "      <td>0.001000</td>\n",
       "      <td>1.000110</td>\n",
       "      <td>-1.64332</td>\n",
       "      <td>0.001573</td>\n",
       "      <td>1.64454</td>\n",
       "      <td>999493.0</td>\n",
       "      <td>9.19679</td>\n",
       "      <td>0.999999</td>\n",
       "    </tr>\n",
       "    <tr>\n",
       "      <th>y[26]</th>\n",
       "      <td>0.001766</td>\n",
       "      <td>0.000999</td>\n",
       "      <td>0.999108</td>\n",
       "      <td>-1.64038</td>\n",
       "      <td>0.001845</td>\n",
       "      <td>1.64384</td>\n",
       "      <td>1000025.0</td>\n",
       "      <td>9.20169</td>\n",
       "      <td>1.000010</td>\n",
       "    </tr>\n",
       "    <tr>\n",
       "      <th>y[27]</th>\n",
       "      <td>0.002158</td>\n",
       "      <td>0.000998</td>\n",
       "      <td>0.999108</td>\n",
       "      <td>-1.64090</td>\n",
       "      <td>0.001453</td>\n",
       "      <td>1.64528</td>\n",
       "      <td>1001498.0</td>\n",
       "      <td>9.21524</td>\n",
       "      <td>1.000000</td>\n",
       "    </tr>\n",
       "    <tr>\n",
       "      <th>y[28]</th>\n",
       "      <td>0.003133</td>\n",
       "      <td>0.000999</td>\n",
       "      <td>0.999577</td>\n",
       "      <td>-1.64014</td>\n",
       "      <td>0.002510</td>\n",
       "      <td>1.64738</td>\n",
       "      <td>1000696.0</td>\n",
       "      <td>9.20786</td>\n",
       "      <td>1.000010</td>\n",
       "    </tr>\n",
       "    <tr>\n",
       "      <th>y[29]</th>\n",
       "      <td>0.002045</td>\n",
       "      <td>0.000999</td>\n",
       "      <td>0.999451</td>\n",
       "      <td>-1.64109</td>\n",
       "      <td>0.001528</td>\n",
       "      <td>1.64787</td>\n",
       "      <td>1000541.0</td>\n",
       "      <td>9.20644</td>\n",
       "      <td>0.999998</td>\n",
       "    </tr>\n",
       "    <tr>\n",
       "      <th>y[30]</th>\n",
       "      <td>0.002348</td>\n",
       "      <td>0.000998</td>\n",
       "      <td>0.999045</td>\n",
       "      <td>-1.64185</td>\n",
       "      <td>0.003034</td>\n",
       "      <td>1.64650</td>\n",
       "      <td>1002464.0</td>\n",
       "      <td>9.22414</td>\n",
       "      <td>1.000010</td>\n",
       "    </tr>\n",
       "    <tr>\n",
       "      <th>y[31]</th>\n",
       "      <td>0.002669</td>\n",
       "      <td>0.000998</td>\n",
       "      <td>0.999144</td>\n",
       "      <td>-1.64250</td>\n",
       "      <td>0.002647</td>\n",
       "      <td>1.64675</td>\n",
       "      <td>1002914.0</td>\n",
       "      <td>9.22827</td>\n",
       "      <td>1.000010</td>\n",
       "    </tr>\n",
       "    <tr>\n",
       "      <th>y[32]</th>\n",
       "      <td>0.002366</td>\n",
       "      <td>0.000998</td>\n",
       "      <td>1.000170</td>\n",
       "      <td>-1.64300</td>\n",
       "      <td>0.003175</td>\n",
       "      <td>1.64756</td>\n",
       "      <td>1004269.0</td>\n",
       "      <td>9.24074</td>\n",
       "      <td>1.000020</td>\n",
       "    </tr>\n",
       "    <tr>\n",
       "      <th>y[33]</th>\n",
       "      <td>0.001781</td>\n",
       "      <td>0.000998</td>\n",
       "      <td>0.999690</td>\n",
       "      <td>-1.64499</td>\n",
       "      <td>0.002000</td>\n",
       "      <td>1.64794</td>\n",
       "      <td>1003020.0</td>\n",
       "      <td>9.22924</td>\n",
       "      <td>1.000010</td>\n",
       "    </tr>\n",
       "    <tr>\n",
       "      <th>y[34]</th>\n",
       "      <td>0.001439</td>\n",
       "      <td>0.000999</td>\n",
       "      <td>0.999937</td>\n",
       "      <td>-1.64346</td>\n",
       "      <td>0.002968</td>\n",
       "      <td>1.64563</td>\n",
       "      <td>1002524.0</td>\n",
       "      <td>9.22468</td>\n",
       "      <td>1.000020</td>\n",
       "    </tr>\n",
       "    <tr>\n",
       "      <th>y[35]</th>\n",
       "      <td>0.000948</td>\n",
       "      <td>0.000999</td>\n",
       "      <td>0.999776</td>\n",
       "      <td>-1.64538</td>\n",
       "      <td>0.001036</td>\n",
       "      <td>1.64556</td>\n",
       "      <td>1002107.0</td>\n",
       "      <td>9.22084</td>\n",
       "      <td>1.000010</td>\n",
       "    </tr>\n",
       "    <tr>\n",
       "      <th>y[36]</th>\n",
       "      <td>0.000407</td>\n",
       "      <td>0.000999</td>\n",
       "      <td>1.000280</td>\n",
       "      <td>-1.64559</td>\n",
       "      <td>-0.000188</td>\n",
       "      <td>1.64514</td>\n",
       "      <td>1002804.0</td>\n",
       "      <td>9.22725</td>\n",
       "      <td>1.000010</td>\n",
       "    </tr>\n",
       "    <tr>\n",
       "      <th>y[37]</th>\n",
       "      <td>0.000514</td>\n",
       "      <td>0.000999</td>\n",
       "      <td>1.000330</td>\n",
       "      <td>-1.64542</td>\n",
       "      <td>0.000739</td>\n",
       "      <td>1.64770</td>\n",
       "      <td>1003212.0</td>\n",
       "      <td>9.23101</td>\n",
       "      <td>1.000010</td>\n",
       "    </tr>\n",
       "    <tr>\n",
       "      <th>y[38]</th>\n",
       "      <td>0.000825</td>\n",
       "      <td>0.000999</td>\n",
       "      <td>1.000130</td>\n",
       "      <td>-1.64432</td>\n",
       "      <td>0.000212</td>\n",
       "      <td>1.64375</td>\n",
       "      <td>1001800.0</td>\n",
       "      <td>9.21802</td>\n",
       "      <td>1.000010</td>\n",
       "    </tr>\n",
       "    <tr>\n",
       "      <th>y[39]</th>\n",
       "      <td>0.000458</td>\n",
       "      <td>0.000999</td>\n",
       "      <td>1.000190</td>\n",
       "      <td>-1.64532</td>\n",
       "      <td>-0.000458</td>\n",
       "      <td>1.64362</td>\n",
       "      <td>1002217.0</td>\n",
       "      <td>9.22186</td>\n",
       "      <td>1.000010</td>\n",
       "    </tr>\n",
       "    <tr>\n",
       "      <th>y[40]</th>\n",
       "      <td>0.000260</td>\n",
       "      <td>0.001001</td>\n",
       "      <td>1.000720</td>\n",
       "      <td>-1.64574</td>\n",
       "      <td>-0.001364</td>\n",
       "      <td>1.64607</td>\n",
       "      <td>998958.0</td>\n",
       "      <td>9.19187</td>\n",
       "      <td>1.000010</td>\n",
       "    </tr>\n",
       "    <tr>\n",
       "      <th>y[41]</th>\n",
       "      <td>0.000386</td>\n",
       "      <td>0.001001</td>\n",
       "      <td>1.001610</td>\n",
       "      <td>-1.64713</td>\n",
       "      <td>-0.000572</td>\n",
       "      <td>1.64932</td>\n",
       "      <td>1002028.0</td>\n",
       "      <td>9.22012</td>\n",
       "      <td>1.000000</td>\n",
       "    </tr>\n",
       "    <tr>\n",
       "      <th>y[42]</th>\n",
       "      <td>0.000550</td>\n",
       "      <td>0.001000</td>\n",
       "      <td>1.000920</td>\n",
       "      <td>-1.64648</td>\n",
       "      <td>-0.000147</td>\n",
       "      <td>1.64966</td>\n",
       "      <td>1001635.0</td>\n",
       "      <td>9.21651</td>\n",
       "      <td>1.000010</td>\n",
       "    </tr>\n",
       "    <tr>\n",
       "      <th>y[43]</th>\n",
       "      <td>0.000527</td>\n",
       "      <td>0.001000</td>\n",
       "      <td>1.001010</td>\n",
       "      <td>-1.64355</td>\n",
       "      <td>-0.000667</td>\n",
       "      <td>1.64601</td>\n",
       "      <td>1001813.0</td>\n",
       "      <td>9.21814</td>\n",
       "      <td>1.000020</td>\n",
       "    </tr>\n",
       "    <tr>\n",
       "      <th>y[44]</th>\n",
       "      <td>0.000970</td>\n",
       "      <td>0.000999</td>\n",
       "      <td>1.000640</td>\n",
       "      <td>-1.64495</td>\n",
       "      <td>0.000129</td>\n",
       "      <td>1.64842</td>\n",
       "      <td>1002972.0</td>\n",
       "      <td>9.22881</td>\n",
       "      <td>1.000000</td>\n",
       "    </tr>\n",
       "    <tr>\n",
       "      <th>y[45]</th>\n",
       "      <td>0.000947</td>\n",
       "      <td>0.000999</td>\n",
       "      <td>0.999942</td>\n",
       "      <td>-1.64595</td>\n",
       "      <td>0.001729</td>\n",
       "      <td>1.64518</td>\n",
       "      <td>1002495.0</td>\n",
       "      <td>9.22441</td>\n",
       "      <td>1.000020</td>\n",
       "    </tr>\n",
       "    <tr>\n",
       "      <th>y[46]</th>\n",
       "      <td>0.000955</td>\n",
       "      <td>0.000999</td>\n",
       "      <td>0.999958</td>\n",
       "      <td>-1.64519</td>\n",
       "      <td>0.001335</td>\n",
       "      <td>1.64482</td>\n",
       "      <td>1001787.0</td>\n",
       "      <td>9.21790</td>\n",
       "      <td>1.000000</td>\n",
       "    </tr>\n",
       "    <tr>\n",
       "      <th>y[47]</th>\n",
       "      <td>0.000865</td>\n",
       "      <td>0.000998</td>\n",
       "      <td>0.999730</td>\n",
       "      <td>-1.64301</td>\n",
       "      <td>0.000099</td>\n",
       "      <td>1.64401</td>\n",
       "      <td>1002997.0</td>\n",
       "      <td>9.22903</td>\n",
       "      <td>1.000020</td>\n",
       "    </tr>\n",
       "    <tr>\n",
       "      <th>y[48]</th>\n",
       "      <td>0.000628</td>\n",
       "      <td>0.000998</td>\n",
       "      <td>0.999292</td>\n",
       "      <td>-1.64241</td>\n",
       "      <td>0.000548</td>\n",
       "      <td>1.64546</td>\n",
       "      <td>1002739.0</td>\n",
       "      <td>9.22666</td>\n",
       "      <td>1.000020</td>\n",
       "    </tr>\n",
       "    <tr>\n",
       "      <th>y[49]</th>\n",
       "      <td>0.000594</td>\n",
       "      <td>0.001000</td>\n",
       "      <td>0.999172</td>\n",
       "      <td>-1.64379</td>\n",
       "      <td>0.000931</td>\n",
       "      <td>1.64687</td>\n",
       "      <td>998995.0</td>\n",
       "      <td>9.19221</td>\n",
       "      <td>1.000020</td>\n",
       "    </tr>\n",
       "    <tr>\n",
       "      <th>y[50]</th>\n",
       "      <td>0.000309</td>\n",
       "      <td>0.001001</td>\n",
       "      <td>0.998914</td>\n",
       "      <td>-1.64522</td>\n",
       "      <td>0.000251</td>\n",
       "      <td>1.64247</td>\n",
       "      <td>995234.0</td>\n",
       "      <td>9.15761</td>\n",
       "      <td>1.000020</td>\n",
       "    </tr>\n",
       "  </tbody>\n",
       "</table>\n",
       "</div>"
      ],
      "text/plain": [
       "            Mean      MCSE    StdDev        5%        50%       95%  \\\n",
       "lp__  -24.999200  0.005008  5.005590 -33.78010 -24.658300 -17.38880   \n",
       "y[1]   -0.000612  0.001002  0.999262  -1.64445   0.000251   1.64087   \n",
       "y[2]   -0.001077  0.001001  0.999159  -1.64673   0.000313   1.64093   \n",
       "y[3]   -0.000911  0.001000  0.999058  -1.64591  -0.000004   1.64066   \n",
       "y[4]   -0.000157  0.001001  0.999483  -1.64601   0.000152   1.64286   \n",
       "y[5]   -0.000628  0.001001  0.999328  -1.64475   0.001449   1.64084   \n",
       "y[6]   -0.000403  0.001001  0.999205  -1.64615   0.001382   1.64117   \n",
       "y[7]   -0.000173  0.001001  0.999474  -1.64615   0.000963   1.64164   \n",
       "y[8]   -0.000085  0.001000  0.999422  -1.64513   0.001248   1.63973   \n",
       "y[9]   -0.000531  0.001001  0.999612  -1.64679   0.000837   1.64136   \n",
       "y[10]   0.000213  0.001001  0.999837  -1.64463   0.000935   1.64204   \n",
       "y[11]   0.000221  0.001002  1.000090  -1.64750   0.001054   1.64395   \n",
       "y[12]   0.000425  0.001002  1.000410  -1.64547   0.000050   1.64396   \n",
       "y[13]  -0.000033  0.001001  1.000570  -1.64644  -0.000009   1.64415   \n",
       "y[14]  -0.000161  0.001001  1.000570  -1.64332  -0.000812   1.64596   \n",
       "y[15]   0.000281  0.001001  1.000760  -1.64540  -0.000771   1.64715   \n",
       "y[16]   0.000347  0.001002  1.000940  -1.64440  -0.000343   1.64877   \n",
       "y[17]   0.000159  0.001002  1.001060  -1.64683   0.000031   1.64818   \n",
       "y[18]  -0.000506  0.001001  1.000650  -1.64512  -0.001487   1.64702   \n",
       "y[19]   0.000976  0.001001  1.000310  -1.64282   0.000208   1.64800   \n",
       "y[20]   0.000867  0.001000  0.999789  -1.64301   0.000612   1.64646   \n",
       "y[21]   0.001188  0.000999  0.999323  -1.64283   0.000229   1.64537   \n",
       "y[22]   0.001637  0.001001  1.000130  -1.64119   0.001424   1.64674   \n",
       "y[23]   0.001236  0.001001  1.000210  -1.64323   0.000545   1.64718   \n",
       "y[24]   0.000976  0.001001  1.000370  -1.64162  -0.000051   1.64544   \n",
       "y[25]   0.000858  0.001000  1.000110  -1.64332   0.001573   1.64454   \n",
       "y[26]   0.001766  0.000999  0.999108  -1.64038   0.001845   1.64384   \n",
       "y[27]   0.002158  0.000998  0.999108  -1.64090   0.001453   1.64528   \n",
       "y[28]   0.003133  0.000999  0.999577  -1.64014   0.002510   1.64738   \n",
       "y[29]   0.002045  0.000999  0.999451  -1.64109   0.001528   1.64787   \n",
       "y[30]   0.002348  0.000998  0.999045  -1.64185   0.003034   1.64650   \n",
       "y[31]   0.002669  0.000998  0.999144  -1.64250   0.002647   1.64675   \n",
       "y[32]   0.002366  0.000998  1.000170  -1.64300   0.003175   1.64756   \n",
       "y[33]   0.001781  0.000998  0.999690  -1.64499   0.002000   1.64794   \n",
       "y[34]   0.001439  0.000999  0.999937  -1.64346   0.002968   1.64563   \n",
       "y[35]   0.000948  0.000999  0.999776  -1.64538   0.001036   1.64556   \n",
       "y[36]   0.000407  0.000999  1.000280  -1.64559  -0.000188   1.64514   \n",
       "y[37]   0.000514  0.000999  1.000330  -1.64542   0.000739   1.64770   \n",
       "y[38]   0.000825  0.000999  1.000130  -1.64432   0.000212   1.64375   \n",
       "y[39]   0.000458  0.000999  1.000190  -1.64532  -0.000458   1.64362   \n",
       "y[40]   0.000260  0.001001  1.000720  -1.64574  -0.001364   1.64607   \n",
       "y[41]   0.000386  0.001001  1.001610  -1.64713  -0.000572   1.64932   \n",
       "y[42]   0.000550  0.001000  1.000920  -1.64648  -0.000147   1.64966   \n",
       "y[43]   0.000527  0.001000  1.001010  -1.64355  -0.000667   1.64601   \n",
       "y[44]   0.000970  0.000999  1.000640  -1.64495   0.000129   1.64842   \n",
       "y[45]   0.000947  0.000999  0.999942  -1.64595   0.001729   1.64518   \n",
       "y[46]   0.000955  0.000999  0.999958  -1.64519   0.001335   1.64482   \n",
       "y[47]   0.000865  0.000998  0.999730  -1.64301   0.000099   1.64401   \n",
       "y[48]   0.000628  0.000998  0.999292  -1.64241   0.000548   1.64546   \n",
       "y[49]   0.000594  0.001000  0.999172  -1.64379   0.000931   1.64687   \n",
       "y[50]   0.000309  0.001001  0.998914  -1.64522   0.000251   1.64247   \n",
       "\n",
       "           N_Eff  N_Eff/s     R_hat  \n",
       "lp__    998978.0  9.19206  1.000000  \n",
       "y[1]    994907.0  9.15460  0.999995  \n",
       "y[2]    997257.0  9.17622  0.999987  \n",
       "y[3]    997563.0  9.17903  0.999992  \n",
       "y[4]    996059.0  9.16520  0.999995  \n",
       "y[5]    996973.0  9.17360  0.999987  \n",
       "y[6]    996860.0  9.17256  0.999983  \n",
       "y[7]    997894.0  9.18208  0.999990  \n",
       "y[8]    997937.0  9.18248  0.999977  \n",
       "y[9]    997173.0  9.17544  0.999985  \n",
       "y[10]   998168.0  9.18460  0.999983  \n",
       "y[11]   995623.0  9.16119  0.999980  \n",
       "y[12]   996843.0  9.17241  0.999987  \n",
       "y[13]   998503.0  9.18769  0.999993  \n",
       "y[14]   999095.0  9.19313  0.999985  \n",
       "y[15]   999224.0  9.19432  0.999983  \n",
       "y[16]   998561.0  9.18822  0.999985  \n",
       "y[17]   997622.0  9.17958  0.999988  \n",
       "y[18]   999333.0  9.19532  0.999984  \n",
       "y[19]   998973.0  9.19201  0.999988  \n",
       "y[20]   999541.0  9.19724  0.999992  \n",
       "y[21]  1000904.0  9.20978  0.999999  \n",
       "y[22]   999242.0  9.19448  0.999995  \n",
       "y[23]   999028.0  9.19251  0.999988  \n",
       "y[24]   999311.0  9.19512  0.999988  \n",
       "y[25]   999493.0  9.19679  0.999999  \n",
       "y[26]  1000025.0  9.20169  1.000010  \n",
       "y[27]  1001498.0  9.21524  1.000000  \n",
       "y[28]  1000696.0  9.20786  1.000010  \n",
       "y[29]  1000541.0  9.20644  0.999998  \n",
       "y[30]  1002464.0  9.22414  1.000010  \n",
       "y[31]  1002914.0  9.22827  1.000010  \n",
       "y[32]  1004269.0  9.24074  1.000020  \n",
       "y[33]  1003020.0  9.22924  1.000010  \n",
       "y[34]  1002524.0  9.22468  1.000020  \n",
       "y[35]  1002107.0  9.22084  1.000010  \n",
       "y[36]  1002804.0  9.22725  1.000010  \n",
       "y[37]  1003212.0  9.23101  1.000010  \n",
       "y[38]  1001800.0  9.21802  1.000010  \n",
       "y[39]  1002217.0  9.22186  1.000010  \n",
       "y[40]   998958.0  9.19187  1.000010  \n",
       "y[41]  1002028.0  9.22012  1.000000  \n",
       "y[42]  1001635.0  9.21651  1.000010  \n",
       "y[43]  1001813.0  9.21814  1.000020  \n",
       "y[44]  1002972.0  9.22881  1.000000  \n",
       "y[45]  1002495.0  9.22441  1.000020  \n",
       "y[46]  1001787.0  9.21790  1.000000  \n",
       "y[47]  1002997.0  9.22903  1.000020  \n",
       "y[48]  1002739.0  9.22666  1.000020  \n",
       "y[49]   998995.0  9.19221  1.000020  \n",
       "y[50]   995234.0  9.15761  1.000020  "
      ]
     },
     "execution_count": 5,
     "metadata": {},
     "output_type": "execute_result"
    }
   ],
   "source": [
    "summary"
   ]
  },
  {
   "cell_type": "code",
   "execution_count": 6,
   "metadata": {},
   "outputs": [
    {
     "data": {
      "text/plain": [
       "count    5.100000e+01\n",
       "mean     9.998590e+05\n",
       "std      2.412505e+03\n",
       "min      9.949070e+05\n",
       "25%      9.980525e+05\n",
       "50%      9.993330e+05\n",
       "75%      1.002068e+06\n",
       "max      1.004269e+06\n",
       "Name: N_Eff, dtype: float64"
      ]
     },
     "execution_count": 6,
     "metadata": {},
     "output_type": "execute_result"
    }
   ],
   "source": [
    "summary[\"N_Eff\"].describe()"
   ]
  },
  {
   "cell_type": "markdown",
   "metadata": {},
   "source": [
    "# Save and Format Reference Draws"
   ]
  },
  {
   "cell_type": "code",
   "execution_count": 7,
   "metadata": {},
   "outputs": [],
   "source": [
    "param_names = list()\n",
    "for k, v in nuts_output.stan_variables().items():\n",
    "    shape = v.shape[1] if len(v.shape) == 2 else 1\n",
    "    param_names += [f\"{k}[{i}]\" for i in range(shape)]"
   ]
  },
  {
   "cell_type": "code",
   "execution_count": 8,
   "metadata": {},
   "outputs": [],
   "source": [
    "ref_draws = []\n",
    "for chain in ref_draws_np:  # each chain is [n_samples, params_dim]\n",
    "    chain_dict = {}\n",
    "    for name, params in zip(param_names, chain.T):\n",
    "        chain_dict[name] = params.tolist()\n",
    "    ref_draws.append(chain_dict)\n",
    "\n",
    "# save to file\n",
    "with zipfile.ZipFile(f\"{model_name}.ref_draws.json.zip\", mode=\"w\", compression=zipfile.ZIP_DEFLATED, compresslevel=9) as zip_file: \n",
    "    dumped_JSON: str = json.dumps(ref_draws, ensure_ascii=False, indent=4)\n",
    "    zip_file.writestr(f\"{model_name}.ref_draws.json\", data=dumped_JSON)"
   ]
  }
 ],
 "metadata": {
  "kernelspec": {
   "display_name": "drghmc",
   "language": "python",
   "name": "python3"
  },
  "language_info": {
   "codemirror_mode": {
    "name": "ipython",
    "version": 3
   },
   "file_extension": ".py",
   "mimetype": "text/x-python",
   "name": "python",
   "nbconvert_exporter": "python",
   "pygments_lexer": "ipython3",
   "version": "3.11.4"
  }
 },
 "nbformat": 4,
 "nbformat_minor": 2
}
