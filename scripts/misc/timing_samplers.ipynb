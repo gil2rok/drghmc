{
 "cells": [
  {
   "cell_type": "markdown",
   "metadata": {},
   "source": [
    "# Imports and Defaults"
   ]
  },
  {
   "cell_type": "code",
   "execution_count": 69,
   "metadata": {},
   "outputs": [
    {
     "name": "stdout",
     "output_type": "stream",
     "text": [
      "The autoreload extension is already loaded. To reload it, use:\n",
      "  %reload_ext autoreload\n",
      "The snakeviz extension is already loaded. To reload it, use:\n",
      "  %reload_ext snakeviz\n"
     ]
    }
   ],
   "source": [
    "%load_ext autoreload\n",
    "%autoreload 2\n",
    "%load_ext snakeviz"
   ]
  },
  {
   "cell_type": "code",
   "execution_count": 70,
   "metadata": {},
   "outputs": [],
   "source": [
    "import os\n",
    "import sys\n",
    "import timeit\n",
    "\n",
    "import numpy as np\n",
    "import seaborn as sns\n",
    "\n",
    "project_root = os.path.abspath(os.path.join(os.getcwd(), '../..'))\n",
    "sys.path.insert(0, project_root)\n",
    "\n",
    "from src.samplers.drghmc import DrGhmcDiag\n",
    "from src.utils.models import BayesKitModel\n",
    "from src.utils.posteriors import get_model_path, get_data_path, get_init"
   ]
  },
  {
   "cell_type": "code",
   "execution_count": 71,
   "metadata": {},
   "outputs": [],
   "source": [
    "seed = 12345\n",
    "sns.set_theme(style=\"whitegrid\")\n",
    "\n",
    "posterior_dir = \"../../posteriors\"\n",
    "posterior_name = \"irt_2pl\""
   ]
  },
  {
   "cell_type": "markdown",
   "metadata": {},
   "source": [
    "# Setup"
   ]
  },
  {
   "cell_type": "code",
   "execution_count": 72,
   "metadata": {},
   "outputs": [
    {
     "name": "stderr",
     "output_type": "stream",
     "text": [
      "/mnt/home/gturok/mambaforge/envs/drghmc/lib/python3.11/site-packages/bridgestan/model.py:137: UserWarning: Loading a shared object /mnt/home/gturok/drghmc/posteriors/irt_2pl/irt_2pl_model.so that has already been loaded.\n",
      "If the file has changed since the last time it was loaded, this load may not update the library!\n",
      "  warnings.warn(\n"
     ]
    }
   ],
   "source": [
    "model_path = get_model_path(posterior_name, posterior_dir)\n",
    "data_path = get_data_path(posterior_name, posterior_dir)\n",
    "model = BayesKitModel(model_path=model_path, data_path=data_path)\n",
    "init = get_init(posterior_name, posterior_dir, 0)\n",
    "metric = np.ones(init.shape)"
   ]
  },
  {
   "cell_type": "code",
   "execution_count": 73,
   "metadata": {},
   "outputs": [],
   "source": [
    "drghmc_sampler = DrGhmcDiag(\n",
    "    model=model,\n",
    "    max_proposals=1,\n",
    "    leapfrog_step_sizes=[0.2],\n",
    "    leapfrog_step_counts=[1],\n",
    "    damping=0.08,\n",
    "    metric_diag=metric,\n",
    "    init=init,\n",
    "    seed=seed,\n",
    "    prob_retry=False,\n",
    ")"
   ]
  },
  {
   "cell_type": "code",
   "execution_count": 74,
   "metadata": {},
   "outputs": [],
   "source": [
    "step_counts = 10\n",
    "drhmc_sampler = DrGhmcDiag(\n",
    "    model=model,\n",
    "    max_proposals=1,\n",
    "    leapfrog_step_sizes=[0.2],\n",
    "    leapfrog_step_counts=[step_counts],\n",
    "    damping=1.0,\n",
    "    metric_diag=metric,\n",
    "    init=init,\n",
    "    seed=seed,\n",
    "    prob_retry=False,\n",
    ")"
   ]
  },
  {
   "cell_type": "markdown",
   "metadata": {},
   "source": [
    "# Timing Experiments"
   ]
  },
  {
   "cell_type": "code",
   "execution_count": 75,
   "metadata": {},
   "outputs": [],
   "source": [
    "def time_sampling(fn, number=1, repeat=1000):\n",
    "    \"\"\"Collect and analyze timing statistics for DRGHMC sampling.\"\"\"\n",
    "    times = timeit.repeat(fn, number=number, repeat=repeat)\n",
    "    return {\n",
    "        'mean': np.round(np.mean(times), 5),\n",
    "        'std': np.round(np.std(times), 5),\n",
    "        'min': np.round(np.min(times), 5),\n",
    "        'max': np.round(np.max(times), 5),\n",
    "    }"
   ]
  },
  {
   "cell_type": "code",
   "execution_count": 76,
   "metadata": {},
   "outputs": [
    {
     "data": {
      "text/plain": [
       "{'mean': 0.0019, 'std': 6e-05, 'min': 0.00183, 'max': 0.0031}"
      ]
     },
     "execution_count": 76,
     "metadata": {},
     "output_type": "execute_result"
    }
   ],
   "source": [
    "time_sampling(drghmc_sampler.sample, number=step_counts)"
   ]
  },
  {
   "cell_type": "code",
   "execution_count": 77,
   "metadata": {},
   "outputs": [
    {
     "data": {
      "text/plain": [
       "{'mean': 0.00131, 'std': 0.00016, 'min': 0.00112, 'max': 0.002}"
      ]
     },
     "execution_count": 77,
     "metadata": {},
     "output_type": "execute_result"
    }
   ],
   "source": [
    "time_sampling(drhmc_sampler.sample)"
   ]
  },
  {
   "cell_type": "markdown",
   "metadata": {},
   "source": [
    "# Profiling Experiments"
   ]
  },
  {
   "cell_type": "code",
   "execution_count": 45,
   "metadata": {},
   "outputs": [
    {
     "name": "stdout",
     "output_type": "stream",
     "text": [
      " \n",
      "*** Profile stats marshalled to file '/tmp/tmpnw3g9mng'.\n",
      "Opening SnakeViz in a new tab...\n",
      "Port 8080 in use, trying another.\n",
      "Port 8081 in use, trying another.\n",
      "snakeviz web server started on 127.0.0.1:8082; enter Ctrl-C to exit\n",
      "http://127.0.0.1:8082/snakeviz/%2Ftmp%2Ftmpnw3g9mng\n"
     ]
    }
   ],
   "source": [
    "%snakeviz -t drghmc_sampler.sample()"
   ]
  },
  {
   "cell_type": "code",
   "execution_count": 46,
   "metadata": {},
   "outputs": [
    {
     "name": "stdout",
     "output_type": "stream",
     "text": [
      " \n",
      "*** Profile stats marshalled to file '/tmp/tmpw9g_k9jp'.\n",
      "Opening SnakeViz in a new tab...\n",
      "Port 8080 in use, trying another.\n",
      "Port 8081 in use, trying another.\n",
      "snakeviz web server started on 127.0.0.1:8082; enter Ctrl-C to exit\n",
      "http://127.0.0.1:8082/snakeviz/%2Ftmp%2Ftmpw9g_k9jp\n"
     ]
    }
   ],
   "source": [
    "%snakeviz -t drhmc_sampler.sample()"
   ]
  }
 ],
 "metadata": {
  "kernelspec": {
   "display_name": "drghmc",
   "language": "python",
   "name": "python3"
  },
  "language_info": {
   "codemirror_mode": {
    "name": "ipython",
    "version": 3
   },
   "file_extension": ".py",
   "mimetype": "text/x-python",
   "name": "python",
   "nbconvert_exporter": "python",
   "pygments_lexer": "ipython3",
   "version": "3.11.8"
  }
 },
 "nbformat": 4,
 "nbformat_minor": 2
}
