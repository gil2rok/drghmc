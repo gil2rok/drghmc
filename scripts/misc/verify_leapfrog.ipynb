{
 "cells": [
  {
   "cell_type": "code",
   "execution_count": 1,
   "metadata": {},
   "outputs": [],
   "source": [
    "import numpy as np"
   ]
  },
  {
   "cell_type": "code",
   "execution_count": 2,
   "metadata": {},
   "outputs": [],
   "source": [
    "theta = np.array([1.7, 2, 7, 8])\n",
    "rho = np.array([3.2, 14, 9, 2])\n",
    "stepsize = 0.2\n",
    "\n",
    "# metric = np.array([1, 1, 1, 1])\n",
    "# metric = np.diag(metric)\n",
    "metric = np.array([0.3, 2, 0.5, 0.1])\n",
    "# metric = np.diag(metric)"
   ]
  },
  {
   "cell_type": "code",
   "execution_count": 3,
   "metadata": {},
   "outputs": [],
   "source": [
    "def pi(theta):\n",
    "    return np.exp(-0.5 * np.dot(theta, theta))\n",
    "\n",
    "def grad(theta):\n",
    "    return -theta\n"
   ]
  },
  {
   "cell_type": "code",
   "execution_count": 4,
   "metadata": {},
   "outputs": [
    {
     "data": {
      "text/plain": [
       "array([-0.51, -4.  , -3.5 , -0.8 ])"
      ]
     },
     "execution_count": 4,
     "metadata": {},
     "output_type": "execute_result"
    }
   ],
   "source": [
    "metric * grad(theta)"
   ]
  },
  {
   "cell_type": "code",
   "execution_count": 5,
   "metadata": {},
   "outputs": [],
   "source": [
    "def bayeskit(theta, rho, grad, stepsize, metric):\n",
    "    theta, rho = theta.copy(), rho.copy()\n",
    "    \n",
    "    rho -= 0.5 * stepsize * grad(theta)\n",
    "    theta += stepsize * metric * rho\n",
    "    print(\"Update: \", stepsize * metric * rho)\n",
    "    rho -= 0.5 * stepsize * grad(theta)\n",
    "    return theta, rho"
   ]
  },
  {
   "cell_type": "code",
   "execution_count": 6,
   "metadata": {},
   "outputs": [],
   "source": [
    "def stan(theta, rho, grad, stepsize, metric):\n",
    "    theta, rho = theta.copy(), rho.copy()\n",
    "    \n",
    "    rho -= 0.5 * stepsize * metric * grad(theta)\n",
    "    print(\"Update: \", 0.5 * stepsize * metric * grad(theta))\n",
    "    theta += stepsize * rho\n",
    "    rho -= 0.5 * stepsize * metric @ grad(theta)\n",
    "    return theta, rho"
   ]
  },
  {
   "cell_type": "code",
   "execution_count": 106,
   "metadata": {},
   "outputs": [
    {
     "name": "stdout",
     "output_type": "stream",
     "text": [
      "Update:  [0.2022 5.68   0.97   0.056 ]\n",
      "Update:  [-0.051 -0.4   -0.35  -0.08 ]\n",
      "Original: [1.7 2.  7.  8. ] [ 3.2 14.   9.   2. ]\n",
      "BayesKit: [1.9022 7.68   7.97   8.056 ] [ 3.56022 14.968   10.497    3.6056 ]\n",
      "Stan: [2.3502 4.88   8.87   8.416 ] [ 4.825166 15.974166 10.924166  3.654166]\n"
     ]
    }
   ],
   "source": [
    "theta_bk, rho_bk = bayeskit(theta, rho, grad, stepsize, metric)\n",
    "theta_stan, rho_stan = stan(theta, rho, grad, stepsize, metric)\n",
    "\n",
    "print(\"Original:\", theta, rho)\n",
    "print(\"BayesKit:\", theta_bk, rho_bk)\n",
    "print(\"Stan:\", theta_stan, rho_stan)"
   ]
  },
  {
   "cell_type": "code",
   "execution_count": 107,
   "metadata": {},
   "outputs": [
    {
     "ename": "ValueError",
     "evalue": "non-broadcastable output operand with shape (4,) doesn't match the broadcast shape (4,4)",
     "output_type": "error",
     "traceback": [
      "\u001b[0;31m---------------------------------------------------------------------------\u001b[0m",
      "\u001b[0;31mValueError\u001b[0m                                Traceback (most recent call last)",
      "Cell \u001b[0;32mIn[107], line 1\u001b[0m\n\u001b[0;32m----> 1\u001b[0m theta_bk, rho_bk \u001b[38;5;241m=\u001b[39m \u001b[43mbayeskit\u001b[49m\u001b[43m(\u001b[49m\u001b[43mtheta\u001b[49m\u001b[43m,\u001b[49m\u001b[43m \u001b[49m\u001b[43mrho\u001b[49m\u001b[43m,\u001b[49m\u001b[43m \u001b[49m\u001b[43mgrad\u001b[49m\u001b[43m,\u001b[49m\u001b[43m \u001b[49m\u001b[43mstepsize\u001b[49m\u001b[43m,\u001b[49m\u001b[43m \u001b[49m\u001b[43mnp\u001b[49m\u001b[38;5;241;43m.\u001b[39;49m\u001b[43mdiag\u001b[49m\u001b[43m(\u001b[49m\u001b[43mmetric\u001b[49m\u001b[43m)\u001b[49m\u001b[43m)\u001b[49m\n\u001b[1;32m      2\u001b[0m theta_stan, rho_stan \u001b[38;5;241m=\u001b[39m stan(theta, rho, grad, stepsize, np\u001b[38;5;241m.\u001b[39mdiag(metric))\n\u001b[1;32m      4\u001b[0m \u001b[38;5;28mprint\u001b[39m(\u001b[38;5;124m\"\u001b[39m\u001b[38;5;124mOriginal:\u001b[39m\u001b[38;5;124m\"\u001b[39m, theta, rho)\n",
      "Cell \u001b[0;32mIn[104], line 5\u001b[0m, in \u001b[0;36mbayeskit\u001b[0;34m(theta, rho, grad, stepsize, metric)\u001b[0m\n\u001b[1;32m      2\u001b[0m theta, rho \u001b[38;5;241m=\u001b[39m theta\u001b[38;5;241m.\u001b[39mcopy(), rho\u001b[38;5;241m.\u001b[39mcopy()\n\u001b[1;32m      4\u001b[0m rho \u001b[38;5;241m-\u001b[39m\u001b[38;5;241m=\u001b[39m \u001b[38;5;241m0.5\u001b[39m \u001b[38;5;241m*\u001b[39m stepsize \u001b[38;5;241m*\u001b[39m grad(theta)\n\u001b[0;32m----> 5\u001b[0m \u001b[43mtheta\u001b[49m\u001b[43m \u001b[49m\u001b[38;5;241;43m+\u001b[39;49m\u001b[38;5;241;43m=\u001b[39;49m\u001b[43m \u001b[49m\u001b[43mstepsize\u001b[49m\u001b[43m \u001b[49m\u001b[38;5;241;43m*\u001b[39;49m\u001b[43m \u001b[49m\u001b[43mmetric\u001b[49m\u001b[43m \u001b[49m\u001b[38;5;241;43m*\u001b[39;49m\u001b[43m \u001b[49m\u001b[43mrho\u001b[49m\n\u001b[1;32m      6\u001b[0m \u001b[38;5;28mprint\u001b[39m(\u001b[38;5;124m\"\u001b[39m\u001b[38;5;124mUpdate: \u001b[39m\u001b[38;5;124m\"\u001b[39m, stepsize \u001b[38;5;241m*\u001b[39m metric \u001b[38;5;241m*\u001b[39m rho)\n\u001b[1;32m      7\u001b[0m rho \u001b[38;5;241m-\u001b[39m\u001b[38;5;241m=\u001b[39m \u001b[38;5;241m0.5\u001b[39m \u001b[38;5;241m*\u001b[39m stepsize \u001b[38;5;241m*\u001b[39m grad(theta)\n",
      "\u001b[0;31mValueError\u001b[0m: non-broadcastable output operand with shape (4,) doesn't match the broadcast shape (4,4)"
     ]
    }
   ],
   "source": [
    "theta_bk, rho_bk = bayeskit(theta, rho, grad, stepsize, np.diag(metric))\n",
    "theta_stan, rho_stan = stan(theta, rho, grad, stepsize, np.diag(metric))\n",
    "\n",
    "print(\"Original:\", theta, rho)\n",
    "print(\"BayesKit:\", theta_bk, rho_bk)\n",
    "print(\"Stan:\", theta_stan, rho_stan)"
   ]
  },
  {
   "cell_type": "markdown",
   "metadata": {},
   "source": [
    "# Sampling Dimensionality"
   ]
  },
  {
   "cell_type": "code",
   "execution_count": 5,
   "metadata": {},
   "outputs": [
    {
     "name": "stdout",
     "output_type": "stream",
     "text": [
      "mean: [ 3.06933217 13.42832827  8.63249674  1.91833261]\n",
      "std: [0.15491933 0.4        0.2        0.08944272]\n",
      "[ 2.82086685 13.45396823  8.780675    1.93198328]\n"
     ]
    }
   ],
   "source": [
    "seed = 1234\n",
    "rng = np.random.default_rng(seed)\n",
    "damping = 0.08\n",
    "dim=4\n",
    "\n",
    "rho_refresh = rng.normal(\n",
    "    loc=rho * np.sqrt(1 - damping),\n",
    "    scale=np.sqrt(damping * metric),\n",
    "    size=dim\n",
    ")\n",
    "\n",
    "print(f\"mean: {rho * np.sqrt(1 - damping)}\")\n",
    "print(f\"std: {np.sqrt(damping * metric)}\")\n",
    "print(rho_refresh)"
   ]
  },
  {
   "cell_type": "code",
   "execution_count": 8,
   "metadata": {},
   "outputs": [
    {
     "name": "stdout",
     "output_type": "stream",
     "text": [
      "mean: [ 3.06933217 13.42832827  8.63249674  1.91833261]\n",
      "std: [[0.15491933 0.         0.         0.        ]\n",
      " [0.         0.4        0.         0.        ]\n",
      " [0.         0.         0.2        0.        ]\n",
      " [0.         0.         0.         0.08944272]]\n",
      "[ 3.18411056 12.78679354  8.64531672  1.93198328]\n"
     ]
    }
   ],
   "source": [
    "seed = 1234\n",
    "rng = np.random.default_rng(seed)\n",
    "damping = 0.08\n",
    "dim=4\n",
    "\n",
    "rho_refresh = rng.multivariate_normal(\n",
    "    mean=rho * np.sqrt(1 - damping),\n",
    "    cov=damping * np.diag(metric),\n",
    ")\n",
    "\n",
    "print(f\"mean: {rho * np.sqrt(1 - damping)}\")\n",
    "print(f\"std: {np.sqrt(damping * np.diag(metric))}\")\n",
    "print(rho_refresh)"
   ]
  }
 ],
 "metadata": {
  "kernelspec": {
   "display_name": "drghmc",
   "language": "python",
   "name": "python3"
  },
  "language_info": {
   "codemirror_mode": {
    "name": "ipython",
    "version": 3
   },
   "file_extension": ".py",
   "mimetype": "text/x-python",
   "name": "python",
   "nbconvert_exporter": "python",
   "pygments_lexer": "ipython3",
   "version": "3.11.4"
  }
 },
 "nbformat": 4,
 "nbformat_minor": 2
}
