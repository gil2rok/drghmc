{
 "cells": [
  {
   "cell_type": "code",
   "execution_count": 1,
   "metadata": {},
   "outputs": [],
   "source": [
    "import os\n",
    "\n",
    "import numpy as np\n",
    "import pandas as pd\n",
    "import seaborn as sns\n",
    "import matplotlib.pyplot as plt"
   ]
  },
  {
   "cell_type": "code",
   "execution_count": 15,
   "metadata": {},
   "outputs": [],
   "source": [
    "# defaults\n",
    "sns.set_style(\"white\")"
   ]
  },
  {
   "cell_type": "markdown",
   "metadata": {},
   "source": [
    "# Load Dataframes"
   ]
  },
  {
   "cell_type": "code",
   "execution_count": 16,
   "metadata": {},
   "outputs": [
    {
     "data": {
      "text/html": [
       "<div>\n",
       "<style scoped>\n",
       "    .dataframe tbody tr th:only-of-type {\n",
       "        vertical-align: middle;\n",
       "    }\n",
       "\n",
       "    .dataframe tbody tr th {\n",
       "        vertical-align: top;\n",
       "    }\n",
       "\n",
       "    .dataframe thead th {\n",
       "        text-align: right;\n",
       "    }\n",
       "</style>\n",
       "<table border=\"1\" class=\"dataframe\">\n",
       "  <thead>\n",
       "    <tr style=\"text-align: right;\">\n",
       "      <th></th>\n",
       "      <th>Unnamed: 0</th>\n",
       "      <th>chain__</th>\n",
       "      <th>iter__</th>\n",
       "      <th>draw__</th>\n",
       "      <th>lp__</th>\n",
       "      <th>accept_stat__</th>\n",
       "      <th>stepsize__</th>\n",
       "      <th>treedepth__</th>\n",
       "      <th>n_leapfrog__</th>\n",
       "      <th>divergent__</th>\n",
       "      <th>...</th>\n",
       "      <th>v</th>\n",
       "      <th>theta[1]</th>\n",
       "      <th>theta[2]</th>\n",
       "      <th>theta[3]</th>\n",
       "      <th>theta[4]</th>\n",
       "      <th>theta[5]</th>\n",
       "      <th>theta[6]</th>\n",
       "      <th>theta[7]</th>\n",
       "      <th>theta[8]</th>\n",
       "      <th>theta[9]</th>\n",
       "    </tr>\n",
       "  </thead>\n",
       "  <tbody>\n",
       "    <tr>\n",
       "      <th>0</th>\n",
       "      <td>0</td>\n",
       "      <td>1.0</td>\n",
       "      <td>1.0</td>\n",
       "      <td>1.0</td>\n",
       "      <td>-8.28076</td>\n",
       "      <td>0.983358</td>\n",
       "      <td>0.083499</td>\n",
       "      <td>4.0</td>\n",
       "      <td>15.0</td>\n",
       "      <td>0.0</td>\n",
       "      <td>...</td>\n",
       "      <td>0.461389</td>\n",
       "      <td>2.832170</td>\n",
       "      <td>-0.340032</td>\n",
       "      <td>0.238798</td>\n",
       "      <td>-1.234550</td>\n",
       "      <td>2.229970</td>\n",
       "      <td>1.976060</td>\n",
       "      <td>0.513333</td>\n",
       "      <td>-0.773843</td>\n",
       "      <td>-0.434371</td>\n",
       "    </tr>\n",
       "    <tr>\n",
       "      <th>1</th>\n",
       "      <td>1</td>\n",
       "      <td>1.0</td>\n",
       "      <td>2.0</td>\n",
       "      <td>2.0</td>\n",
       "      <td>-4.88258</td>\n",
       "      <td>0.992028</td>\n",
       "      <td>0.083499</td>\n",
       "      <td>4.0</td>\n",
       "      <td>15.0</td>\n",
       "      <td>0.0</td>\n",
       "      <td>...</td>\n",
       "      <td>-0.301880</td>\n",
       "      <td>-1.685230</td>\n",
       "      <td>0.943087</td>\n",
       "      <td>-0.030949</td>\n",
       "      <td>0.647072</td>\n",
       "      <td>1.600220</td>\n",
       "      <td>-1.255590</td>\n",
       "      <td>0.298988</td>\n",
       "      <td>-0.006546</td>\n",
       "      <td>0.919991</td>\n",
       "    </tr>\n",
       "    <tr>\n",
       "      <th>2</th>\n",
       "      <td>2</td>\n",
       "      <td>1.0</td>\n",
       "      <td>3.0</td>\n",
       "      <td>3.0</td>\n",
       "      <td>-2.42492</td>\n",
       "      <td>0.999361</td>\n",
       "      <td>0.083499</td>\n",
       "      <td>4.0</td>\n",
       "      <td>15.0</td>\n",
       "      <td>0.0</td>\n",
       "      <td>...</td>\n",
       "      <td>-0.553555</td>\n",
       "      <td>1.489640</td>\n",
       "      <td>-0.265398</td>\n",
       "      <td>-0.875390</td>\n",
       "      <td>-0.282335</td>\n",
       "      <td>-0.576169</td>\n",
       "      <td>1.022380</td>\n",
       "      <td>-0.316585</td>\n",
       "      <td>-0.445215</td>\n",
       "      <td>-0.906434</td>\n",
       "    </tr>\n",
       "    <tr>\n",
       "      <th>3</th>\n",
       "      <td>3</td>\n",
       "      <td>1.0</td>\n",
       "      <td>4.0</td>\n",
       "      <td>4.0</td>\n",
       "      <td>-1.15381</td>\n",
       "      <td>0.996529</td>\n",
       "      <td>0.083499</td>\n",
       "      <td>3.0</td>\n",
       "      <td>7.0</td>\n",
       "      <td>0.0</td>\n",
       "      <td>...</td>\n",
       "      <td>-0.628943</td>\n",
       "      <td>-0.723548</td>\n",
       "      <td>-0.660786</td>\n",
       "      <td>-0.308825</td>\n",
       "      <td>-1.358200</td>\n",
       "      <td>-0.790985</td>\n",
       "      <td>-0.694308</td>\n",
       "      <td>-0.169865</td>\n",
       "      <td>0.322882</td>\n",
       "      <td>0.289360</td>\n",
       "    </tr>\n",
       "    <tr>\n",
       "      <th>4</th>\n",
       "      <td>4</td>\n",
       "      <td>1.0</td>\n",
       "      <td>5.0</td>\n",
       "      <td>5.0</td>\n",
       "      <td>-7.80142</td>\n",
       "      <td>0.910698</td>\n",
       "      <td>0.083499</td>\n",
       "      <td>3.0</td>\n",
       "      <td>15.0</td>\n",
       "      <td>0.0</td>\n",
       "      <td>...</td>\n",
       "      <td>0.855529</td>\n",
       "      <td>1.418380</td>\n",
       "      <td>-1.991150</td>\n",
       "      <td>1.501530</td>\n",
       "      <td>0.810409</td>\n",
       "      <td>1.712130</td>\n",
       "      <td>0.766532</td>\n",
       "      <td>1.459070</td>\n",
       "      <td>-1.557710</td>\n",
       "      <td>1.199770</td>\n",
       "    </tr>\n",
       "  </tbody>\n",
       "</table>\n",
       "<p>5 rows × 21 columns</p>\n",
       "</div>"
      ],
      "text/plain": [
       "   Unnamed: 0  chain__  iter__  draw__     lp__  accept_stat__  stepsize__  \\\n",
       "0           0      1.0     1.0     1.0 -8.28076       0.983358    0.083499   \n",
       "1           1      1.0     2.0     2.0 -4.88258       0.992028    0.083499   \n",
       "2           2      1.0     3.0     3.0 -2.42492       0.999361    0.083499   \n",
       "3           3      1.0     4.0     4.0 -1.15381       0.996529    0.083499   \n",
       "4           4      1.0     5.0     5.0 -7.80142       0.910698    0.083499   \n",
       "\n",
       "   treedepth__  n_leapfrog__  divergent__  ...         v  theta[1]  theta[2]  \\\n",
       "0          4.0          15.0          0.0  ...  0.461389  2.832170 -0.340032   \n",
       "1          4.0          15.0          0.0  ... -0.301880 -1.685230  0.943087   \n",
       "2          4.0          15.0          0.0  ... -0.553555  1.489640 -0.265398   \n",
       "3          3.0           7.0          0.0  ... -0.628943 -0.723548 -0.660786   \n",
       "4          3.0          15.0          0.0  ...  0.855529  1.418380 -1.991150   \n",
       "\n",
       "   theta[3]  theta[4]  theta[5]  theta[6]  theta[7]  theta[8]  theta[9]  \n",
       "0  0.238798 -1.234550  2.229970  1.976060  0.513333 -0.773843 -0.434371  \n",
       "1 -0.030949  0.647072  1.600220 -1.255590  0.298988 -0.006546  0.919991  \n",
       "2 -0.875390 -0.282335 -0.576169  1.022380 -0.316585 -0.445215 -0.906434  \n",
       "3 -0.308825 -1.358200 -0.790985 -0.694308 -0.169865  0.322882  0.289360  \n",
       "4  1.501530  0.810409  1.712130  0.766532  1.459070 -1.557710  1.199770  \n",
       "\n",
       "[5 rows x 21 columns]"
      ]
     },
     "execution_count": 16,
     "metadata": {},
     "output_type": "execute_result"
    }
   ],
   "source": [
    "path = os.path.join(\"../data/raw/funnel10/nuts_000cb98f665619fb6ab2aafc403ce455/chain_00/run_00/draws.csv\")\n",
    "nuts_df = pd.read_csv(path, sep=\"\\t\")\n",
    "nuts_df.head()"
   ]
  },
  {
   "cell_type": "code",
   "execution_count": 17,
   "metadata": {},
   "outputs": [],
   "source": [
    "path = os.path.join(\"../data/raw/funnel10\")"
   ]
  },
  {
   "cell_type": "markdown",
   "metadata": {},
   "source": [
    "# Explore Stan NUTS Parameters"
   ]
  },
  {
   "cell_type": "code",
   "execution_count": 18,
   "metadata": {},
   "outputs": [
    {
     "data": {
      "text/plain": [
       "<Axes: xlabel='n_leapfrog__', ylabel='Count'>"
      ]
     },
     "execution_count": 18,
     "metadata": {},
     "output_type": "execute_result"
    },
    {
     "data": {
      "image/png": "[encoded data removed]",
      "text/plain": [
       "<Figure size 640x480 with 1 Axes>"
      ]
     },
     "metadata": {},
     "output_type": "display_data"
    }
   ],
   "source": [
    "# plot histogram of nuts_df column \"n_leapfrog__\" \n",
    "sns.histplot(nuts_df[\"n_leapfrog__\"], bins=100)"
   ]
  },
  {
   "cell_type": "code",
   "execution_count": 8,
   "metadata": {},
   "outputs": [
    {
     "data": {
      "text/plain": [
       "63.0"
      ]
     },
     "execution_count": 8,
     "metadata": {},
     "output_type": "execute_result"
    }
   ],
   "source": [
    "# compute 90% percentile of nuts_df column \"n_leapfrog__\"\n",
    "leapfrog_90 = np.percentile(nuts_df[\"n_leapfrog__\"], 90)\n",
    "leapfrog_90"
   ]
  },
  {
   "cell_type": "markdown",
   "metadata": {},
   "source": [
    "# Common-Sense Confirmation"
   ]
  },
  {
   "cell_type": "code",
   "execution_count": 9,
   "metadata": {},
   "outputs": [
    {
     "data": {
      "text/plain": [
       "<Axes: xlabel='v', ylabel='Density'>"
      ]
     },
     "execution_count": 9,
     "metadata": {},
     "output_type": "execute_result"
    },
    {
     "data": {
      "image/png": "[encoded data removed]",
      "text/plain": [
       "<Figure size 640x480 with 1 Axes>"
      ]
     },
     "metadata": {},
     "output_type": "display_data"
    }
   ],
   "source": [
    "# with seaborn plot histogram of column \"v\" on x-axis and column \"lp__\" on y-axis, exponentiating the y-axis to remove the log scale\n",
    "sns.histplot(x=\"v\", data=nuts_df, log_scale=False, stat=\"density\", element=\"step\", bins=100)"
   ]
  },
  {
   "cell_type": "markdown",
   "metadata": {},
   "source": [
    "# Quality of Approximation\n",
    "#### Comparing NUTS vs DRHMC vs DRGHMC"
   ]
  },
  {
   "cell_type": "code",
   "execution_count": null,
   "metadata": {},
   "outputs": [],
   "source": []
  }
 ],
 "metadata": {
  "kernelspec": {
   "display_name": "drghmc",
   "language": "python",
   "name": "python3"
  },
  "language_info": {
   "codemirror_mode": {
    "name": "ipython",
    "version": 3
   },
   "file_extension": ".py",
   "mimetype": "text/x-python",
   "name": "python",
   "nbconvert_exporter": "python",
   "pygments_lexer": "ipython3",
   "version": "3.11.4"
  }
 },
 "nbformat": 4,
 "nbformat_minor": 2
}
