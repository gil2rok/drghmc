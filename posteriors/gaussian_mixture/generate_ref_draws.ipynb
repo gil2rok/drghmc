{
 "cells": [
  {
   "cell_type": "markdown",
   "metadata": {},
   "source": [
    "# Imports and Defaults"
   ]
  },
  {
   "cell_type": "code",
   "execution_count": 1,
   "metadata": {},
   "outputs": [],
   "source": [
    "import json\n",
    "import os\n",
    "import zipfile\n",
    "\n",
    "import bridgestan as bs\n",
    "from cmdstanpy import CmdStanModel\n",
    "import numpy as np"
   ]
  },
  {
   "cell_type": "code",
   "execution_count": 6,
   "metadata": {},
   "outputs": [],
   "source": [
    "seed = 1234\n",
    "rng = np.random.default_rng(seed)\n",
    "\n",
    "num_chains = 100\n",
    "num_samples = 100_0000\n",
    "num_dimensions = 50\n",
    "\n",
    "model_name = f\"gaussian_mixture\"\n",
    "model_path = model_name + \".stan\"\n",
    "data_path = model_name + \".json\""
   ]
  },
  {
   "cell_type": "code",
   "execution_count": 7,
   "metadata": {},
   "outputs": [],
   "source": [
    "mu1 = np.zeros(num_dimensions)\n",
    "mu2 = np.zeros(num_dimensions)\n",
    "mu2[0] = 8\n",
    "\n",
    "x1 = rng.normal(mu1, 1, size=(num_samples, num_dimensions))\n",
    "x2 = rng.normal(mu2, 1, size=(num_samples, num_dimensions))\n",
    "idx = rng.choice([0, 1], num_samples, p=[0.3, 0.7])\n",
    "y = np.where(idx[:, None] == 0, x1, x2)"
   ]
  },
  {
   "cell_type": "code",
   "execution_count": 8,
   "metadata": {},
   "outputs": [],
   "source": [
    "# extend the above code to multiple chains\n",
    "mu1 = np.zeros(num_dimensions)\n",
    "mu2 = np.zeros(num_dimensions)\n",
    "mu2[0] = 8\n",
    "\n",
    "x1 = rng.normal(mu1, 1, size=(num_chains, num_samples, num_dimensions))\n",
    "x2 = rng.normal(mu2, 1, size=(num_chains, num_samples, num_dimensions))\n",
    "idx = rng.choice([0, 1], (num_chains, num_samples), p=[0.3, 0.7])\n",
    "y = np.where(idx[:, :, None] == 0, x1, x2) # [num_chains, num_samples, num_dimensions]"
   ]
  },
  {
   "cell_type": "code",
   "execution_count": 9,
   "metadata": {},
   "outputs": [
    {
     "name": "stdout",
     "output_type": "stream",
     "text": [
      "[ 5.59997864e+00 -4.57118206e-05  7.36651941e-05  4.82711098e-05\n",
      "  2.33247320e-04  7.34790654e-05  1.55317763e-06  1.13004184e-04\n",
      " -4.49753728e-05 -1.00919667e-04  1.58804272e-05  2.91430143e-05\n",
      " -1.99471577e-04 -2.32670000e-04 -9.26425109e-05  2.53697471e-05\n",
      "  1.41952642e-04  1.79068355e-04 -1.05318504e-05  5.31741555e-06\n",
      " -3.19313183e-05 -6.05381337e-05  3.74114203e-05  1.20431138e-04\n",
      " -9.44835689e-05  7.16442759e-05 -1.54513266e-04 -5.19413818e-05\n",
      " -3.50432414e-06 -8.11711165e-05 -9.63501799e-05  2.74520969e-05\n",
      " -3.04331962e-05 -6.64586552e-05  1.97792150e-04 -1.07098567e-04\n",
      " -1.51104250e-05 -9.44270330e-05 -6.51835156e-05 -7.74844867e-05\n",
      "  1.22236923e-04 -2.81569096e-04 -5.22731551e-05  1.81172776e-04\n",
      "  6.19922136e-05 -1.22079783e-04  3.68960499e-05  1.37988568e-04\n",
      " -6.20498563e-05 -3.40600046e-05] [3.80007463 1.00008617 0.99988475 1.00000747 0.99991336 0.99999733\n",
      " 0.99996642 0.99991124 1.00008255 0.99988525 0.99998379 0.99994979\n",
      " 1.00004612 1.00002428 0.99993017 0.99990086 1.00005621 1.00000806\n",
      " 0.99993377 0.99993067 1.00010327 0.99992571 0.99999942 0.99995342\n",
      " 1.0002161  1.00004275 1.00000931 0.99986189 1.00004037 0.99998797\n",
      " 1.00000181 0.99996676 1.00004404 1.00001684 1.00002144 0.99995122\n",
      " 0.99988644 0.99995741 1.00004136 1.00003575 0.99996964 0.9999933\n",
      " 1.00004537 0.99993624 1.00006779 0.99991101 1.00001005 1.00001432\n",
      " 1.00001445 1.00016523]\n"
     ]
    }
   ],
   "source": [
    "y_mean, y_std = y.mean(axis=(0, 1)), y.std(axis=(0, 1))\n",
    "print(y_mean, y_std)"
   ]
  },
  {
   "cell_type": "markdown",
   "metadata": {},
   "source": [
    "# Generate Reference Draws"
   ]
  },
  {
   "cell_type": "code",
   "execution_count": 4,
   "metadata": {},
   "outputs": [],
   "source": [
    "v = rng.normal(0, 3, size=(num_chains, num_samples, 1))\n",
    "theta = rng.normal(0, np.exp(v / 2), size=(num_chains, num_samples, num_dimensions - 1))\n",
    "ref_draws_np = np.concatenate([v, theta], axis=2)"
   ]
  },
  {
   "cell_type": "code",
   "execution_count": 5,
   "metadata": {},
   "outputs": [],
   "source": [
    "# convert from numpy 3d array to json format\n",
    "\n",
    "param_names = [\"v\"] + [f\"theta[{i}]\" for i in range(1, num_dimensions)]\n",
    "\n",
    "ref_draws = []\n",
    "for chain in ref_draws_np:  # each chain is [n_samples, params_dim]\n",
    "    chain_dict = {}\n",
    "    for name, params in zip(param_names, chain.T):\n",
    "        chain_dict[name] = params.tolist()\n",
    "    ref_draws.append(chain_dict)\n",
    "\n",
    "# save to file\n",
    "with zipfile.ZipFile(f\"{model_name}.ref_draws.json.zip\", mode=\"w\", compression=zipfile.ZIP_DEFLATED, compresslevel=9) as zip_file: \n",
    "    dumped_JSON: str = json.dumps(ref_draws, ensure_ascii=False, indent=4)\n",
    "    zip_file.writestr(f\"{model_name}.ref_draws.json\", data=dumped_JSON)"
   ]
  }
 ],
 "metadata": {
  "kernelspec": {
   "display_name": "drghmc",
   "language": "python",
   "name": "python3"
  },
  "language_info": {
   "codemirror_mode": {
    "name": "ipython",
    "version": 3
   },
   "file_extension": ".py",
   "mimetype": "text/x-python",
   "name": "python",
   "nbconvert_exporter": "python",
   "pygments_lexer": "ipython3",
   "version": "3.11.8"
  }
 },
 "nbformat": 4,
 "nbformat_minor": 2
}
