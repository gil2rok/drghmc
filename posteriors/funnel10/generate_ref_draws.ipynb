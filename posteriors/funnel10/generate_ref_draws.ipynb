{
 "cells": [
  {
   "cell_type": "markdown",
   "metadata": {},
   "source": [
    "# Imports and Defaults"
   ]
  },
  {
   "cell_type": "code",
   "execution_count": 3,
   "metadata": {},
   "outputs": [],
   "source": [
    "import json\n",
    "import os\n",
    "import zipfile\n",
    "\n",
    "import bridgestan as bs\n",
    "from cmdstanpy import CmdStanModel\n",
    "import numpy as np"
   ]
  },
  {
   "cell_type": "code",
   "execution_count": 12,
   "metadata": {},
   "outputs": [],
   "source": [
    "seed = 1234\n",
    "rng = np.random.default_rng(seed)\n",
    "\n",
    "num_chains = 100\n",
    "num_samples = 100000\n",
    "\n",
    "model_name = \"funnel10\"\n",
    "model_path = model_name + \".stan\"\n",
    "data_path = model_name + \".json\""
   ]
  },
  {
   "cell_type": "markdown",
   "metadata": {},
   "source": [
    "# Generate Reference Draws"
   ]
  },
  {
   "cell_type": "code",
   "execution_count": 13,
   "metadata": {},
   "outputs": [
    {
     "name": "stderr",
     "output_type": "stream",
     "text": [
      "16:58:14 - cmdstanpy - INFO - CmdStan start processing\n"
     ]
    },
    {
     "data": {
      "application/vnd.jupyter.widget-view+json": {
       "model_id": "633b26c6cf3d45c19b998325797254eb",
       "version_major": 2,
       "version_minor": 0
      },
      "text/plain": [
       "chain 1 |          | 00:00 Status"
      ]
     },
     "metadata": {},
     "output_type": "display_data"
    },
    {
     "data": {
      "application/vnd.jupyter.widget-view+json": {
       "model_id": "6f150979aa984e1598047c5b26702a74",
       "version_major": 2,
       "version_minor": 0
      },
      "text/plain": [
       "chain 2 |          | 00:00 Status"
      ]
     },
     "metadata": {},
     "output_type": "display_data"
    },
    {
     "data": {
      "application/vnd.jupyter.widget-view+json": {
       "model_id": "731f79a72b974d01963f97714d9bcf60",
       "version_major": 2,
       "version_minor": 0
      },
      "text/plain": [
       "chain 3 |          | 00:00 Status"
      ]
     },
     "metadata": {},
     "output_type": "display_data"
    },
    {
     "data": {
      "application/vnd.jupyter.widget-view+json": {
       "model_id": "ee540f7a866c47bf928c30453655ceef",
       "version_major": 2,
       "version_minor": 0
      },
      "text/plain": [
       "chain 4 |          | 00:00 Status"
      ]
     },
     "metadata": {},
     "output_type": "display_data"
    },
    {
     "data": {
      "application/vnd.jupyter.widget-view+json": {
       "model_id": "d2d8873d21304bd091bf9fb040980dd0",
       "version_major": 2,
       "version_minor": 0
      },
      "text/plain": [
       "chain 5 |          | 00:00 Status"
      ]
     },
     "metadata": {},
     "output_type": "display_data"
    },
    {
     "data": {
      "application/vnd.jupyter.widget-view+json": {
       "model_id": "95fa344769cd478a9609682fe5f00da8",
       "version_major": 2,
       "version_minor": 0
      },
      "text/plain": [
       "chain 6 |          | 00:00 Status"
      ]
     },
     "metadata": {},
     "output_type": "display_data"
    },
    {
     "data": {
      "application/vnd.jupyter.widget-view+json": {
       "model_id": "3a6ec9d31ac74582bc084838e9524242",
       "version_major": 2,
       "version_minor": 0
      },
      "text/plain": [
       "chain 7 |          | 00:00 Status"
      ]
     },
     "metadata": {},
     "output_type": "display_data"
    },
    {
     "data": {
      "application/vnd.jupyter.widget-view+json": {
       "model_id": "a4cf3fbed26d452087a5288885d8c569",
       "version_major": 2,
       "version_minor": 0
      },
      "text/plain": [
       "chain 8 |          | 00:00 Status"
      ]
     },
     "metadata": {},
     "output_type": "display_data"
    },
    {
     "data": {
      "application/vnd.jupyter.widget-view+json": {
       "model_id": "36898a7689894fd0879aa27cbf20c383",
       "version_major": 2,
       "version_minor": 0
      },
      "text/plain": [
       "chain 9 |          | 00:00 Status"
      ]
     },
     "metadata": {},
     "output_type": "display_data"
    },
    {
     "data": {
      "application/vnd.jupyter.widget-view+json": {
       "model_id": "acc5b502b4bf4e6f82e2f2ad9dcc6cab",
       "version_major": 2,
       "version_minor": 0
      },
      "text/plain": [
       "chain 10 |          | 00:00 Status"
      ]
     },
     "metadata": {},
     "output_type": "display_data"
    },
    {
     "data": {
      "application/vnd.jupyter.widget-view+json": {
       "model_id": "5baac394778a42abb3936c7910018d30",
       "version_major": 2,
       "version_minor": 0
      },
      "text/plain": [
       "chain 11 |          | 00:00 Status"
      ]
     },
     "metadata": {},
     "output_type": "display_data"
    },
    {
     "data": {
      "application/vnd.jupyter.widget-view+json": {
       "model_id": "0a432a891d0146f19efe22472c88681c",
       "version_major": 2,
       "version_minor": 0
      },
      "text/plain": [
       "chain 12 |          | 00:00 Status"
      ]
     },
     "metadata": {},
     "output_type": "display_data"
    },
    {
     "data": {
      "application/vnd.jupyter.widget-view+json": {
       "model_id": "8f0de49050fa4ba4adccc4f7b7b840d8",
       "version_major": 2,
       "version_minor": 0
      },
      "text/plain": [
       "chain 13 |          | 00:00 Status"
      ]
     },
     "metadata": {},
     "output_type": "display_data"
    },
    {
     "data": {
      "application/vnd.jupyter.widget-view+json": {
       "model_id": "8e5f2d7f837945d38bd12f1ddc7e3406",
       "version_major": 2,
       "version_minor": 0
      },
      "text/plain": [
       "chain 14 |          | 00:00 Status"
      ]
     },
     "metadata": {},
     "output_type": "display_data"
    },
    {
     "data": {
      "application/vnd.jupyter.widget-view+json": {
       "model_id": "949fc379946f4b16945299699f058fee",
       "version_major": 2,
       "version_minor": 0
      },
      "text/plain": [
       "chain 15 |          | 00:00 Status"
      ]
     },
     "metadata": {},
     "output_type": "display_data"
    },
    {
     "data": {
      "application/vnd.jupyter.widget-view+json": {
       "model_id": "a9c9054a2321492a8dca344030ba1219",
       "version_major": 2,
       "version_minor": 0
      },
      "text/plain": [
       "chain 16 |          | 00:00 Status"
      ]
     },
     "metadata": {},
     "output_type": "display_data"
    },
    {
     "data": {
      "application/vnd.jupyter.widget-view+json": {
       "model_id": "f7479ae022f74103a9dab9a3a3abef34",
       "version_major": 2,
       "version_minor": 0
      },
      "text/plain": [
       "chain 17 |          | 00:00 Status"
      ]
     },
     "metadata": {},
     "output_type": "display_data"
    },
    {
     "data": {
      "application/vnd.jupyter.widget-view+json": {
       "model_id": "069d0135ac11465999c3a530b0ba2600",
       "version_major": 2,
       "version_minor": 0
      },
      "text/plain": [
       "chain 18 |          | 00:00 Status"
      ]
     },
     "metadata": {},
     "output_type": "display_data"
    },
    {
     "data": {
      "application/vnd.jupyter.widget-view+json": {
       "model_id": "6be5c290a83c4ba2972d67a35b6b399b",
       "version_major": 2,
       "version_minor": 0
      },
      "text/plain": [
       "chain 19 |          | 00:00 Status"
      ]
     },
     "metadata": {},
     "output_type": "display_data"
    },
    {
     "data": {
      "application/vnd.jupyter.widget-view+json": {
       "model_id": "9e6717ba19e8485f8711d1f7f17e3580",
       "version_major": 2,
       "version_minor": 0
      },
      "text/plain": [
       "chain 20 |          | 00:00 Status"
      ]
     },
     "metadata": {},
     "output_type": "display_data"
    },
    {
     "data": {
      "application/vnd.jupyter.widget-view+json": {
       "model_id": "f28a3ba38b2c411ea6e755fc6968603b",
       "version_major": 2,
       "version_minor": 0
      },
      "text/plain": [
       "chain 21 |          | 00:00 Status"
      ]
     },
     "metadata": {},
     "output_type": "display_data"
    },
    {
     "data": {
      "application/vnd.jupyter.widget-view+json": {
       "model_id": "d0e255d9f03d4cc6b40e0aa2572b2e89",
       "version_major": 2,
       "version_minor": 0
      },
      "text/plain": [
       "chain 22 |          | 00:00 Status"
      ]
     },
     "metadata": {},
     "output_type": "display_data"
    },
    {
     "data": {
      "application/vnd.jupyter.widget-view+json": {
       "model_id": "d469e5a8cf0c47bd8f2e7d350cc08431",
       "version_major": 2,
       "version_minor": 0
      },
      "text/plain": [
       "chain 23 |          | 00:00 Status"
      ]
     },
     "metadata": {},
     "output_type": "display_data"
    },
    {
     "data": {
      "application/vnd.jupyter.widget-view+json": {
       "model_id": "d4c2579684f045b9a5c0465a54020c91",
       "version_major": 2,
       "version_minor": 0
      },
      "text/plain": [
       "chain 24 |          | 00:00 Status"
      ]
     },
     "metadata": {},
     "output_type": "display_data"
    },
    {
     "data": {
      "application/vnd.jupyter.widget-view+json": {
       "model_id": "509161944669481c961085e1bd1a8aa5",
       "version_major": 2,
       "version_minor": 0
      },
      "text/plain": [
       "chain 25 |          | 00:00 Status"
      ]
     },
     "metadata": {},
     "output_type": "display_data"
    },
    {
     "data": {
      "application/vnd.jupyter.widget-view+json": {
       "model_id": "a42336cff9e84f5f9366019a17eb05fe",
       "version_major": 2,
       "version_minor": 0
      },
      "text/plain": [
       "chain 26 |          | 00:00 Status"
      ]
     },
     "metadata": {},
     "output_type": "display_data"
    },
    {
     "data": {
      "application/vnd.jupyter.widget-view+json": {
       "model_id": "40afe4f748204931a1b936d19c21765c",
       "version_major": 2,
       "version_minor": 0
      },
      "text/plain": [
       "chain 27 |          | 00:00 Status"
      ]
     },
     "metadata": {},
     "output_type": "display_data"
    },
    {
     "data": {
      "application/vnd.jupyter.widget-view+json": {
       "model_id": "a97ed86f820f4127bc2aeb0bef1430d3",
       "version_major": 2,
       "version_minor": 0
      },
      "text/plain": [
       "chain 28 |          | 00:00 Status"
      ]
     },
     "metadata": {},
     "output_type": "display_data"
    },
    {
     "data": {
      "application/vnd.jupyter.widget-view+json": {
       "model_id": "bdb64bcef2a147c7bd75aa738df9f2c0",
       "version_major": 2,
       "version_minor": 0
      },
      "text/plain": [
       "chain 29 |          | 00:00 Status"
      ]
     },
     "metadata": {},
     "output_type": "display_data"
    },
    {
     "data": {
      "application/vnd.jupyter.widget-view+json": {
       "model_id": "74b09890d58a4fe88c420ae05d99479c",
       "version_major": 2,
       "version_minor": 0
      },
      "text/plain": [
       "chain 30 |          | 00:00 Status"
      ]
     },
     "metadata": {},
     "output_type": "display_data"
    },
    {
     "data": {
      "application/vnd.jupyter.widget-view+json": {
       "model_id": "18b058f1e5214448b3c33696dd1cc61f",
       "version_major": 2,
       "version_minor": 0
      },
      "text/plain": [
       "chain 31 |          | 00:00 Status"
      ]
     },
     "metadata": {},
     "output_type": "display_data"
    },
    {
     "data": {
      "application/vnd.jupyter.widget-view+json": {
       "model_id": "8e51d53f88264cac877ce372d0425150",
       "version_major": 2,
       "version_minor": 0
      },
      "text/plain": [
       "chain 32 |          | 00:00 Status"
      ]
     },
     "metadata": {},
     "output_type": "display_data"
    },
    {
     "data": {
      "application/vnd.jupyter.widget-view+json": {
       "model_id": "4ac544a67e1c4e2abc3224b274c0da27",
       "version_major": 2,
       "version_minor": 0
      },
      "text/plain": [
       "chain 33 |          | 00:00 Status"
      ]
     },
     "metadata": {},
     "output_type": "display_data"
    },
    {
     "data": {
      "application/vnd.jupyter.widget-view+json": {
       "model_id": "dbf859968d7e4f4e99e6e7901f9ac396",
       "version_major": 2,
       "version_minor": 0
      },
      "text/plain": [
       "chain 34 |          | 00:00 Status"
      ]
     },
     "metadata": {},
     "output_type": "display_data"
    },
    {
     "data": {
      "application/vnd.jupyter.widget-view+json": {
       "model_id": "6115460329d34dad89805d9895d8c905",
       "version_major": 2,
       "version_minor": 0
      },
      "text/plain": [
       "chain 35 |          | 00:00 Status"
      ]
     },
     "metadata": {},
     "output_type": "display_data"
    },
    {
     "data": {
      "application/vnd.jupyter.widget-view+json": {
       "model_id": "c115a1e64cf74921bbd0ac9f07a22004",
       "version_major": 2,
       "version_minor": 0
      },
      "text/plain": [
       "chain 36 |          | 00:00 Status"
      ]
     },
     "metadata": {},
     "output_type": "display_data"
    },
    {
     "data": {
      "application/vnd.jupyter.widget-view+json": {
       "model_id": "ecab97d2558c44be950b264941095ec7",
       "version_major": 2,
       "version_minor": 0
      },
      "text/plain": [
       "chain 37 |          | 00:00 Status"
      ]
     },
     "metadata": {},
     "output_type": "display_data"
    },
    {
     "data": {
      "application/vnd.jupyter.widget-view+json": {
       "model_id": "66cf78c8afbd480c9f4c1654f5cde72c",
       "version_major": 2,
       "version_minor": 0
      },
      "text/plain": [
       "chain 38 |          | 00:00 Status"
      ]
     },
     "metadata": {},
     "output_type": "display_data"
    },
    {
     "data": {
      "application/vnd.jupyter.widget-view+json": {
       "model_id": "d8f418999be94796a99199be2d399ea5",
       "version_major": 2,
       "version_minor": 0
      },
      "text/plain": [
       "chain 39 |          | 00:00 Status"
      ]
     },
     "metadata": {},
     "output_type": "display_data"
    },
    {
     "data": {
      "application/vnd.jupyter.widget-view+json": {
       "model_id": "9b0dd68423a4410ea7b68cbbf9173966",
       "version_major": 2,
       "version_minor": 0
      },
      "text/plain": [
       "chain 40 |          | 00:00 Status"
      ]
     },
     "metadata": {},
     "output_type": "display_data"
    },
    {
     "data": {
      "application/vnd.jupyter.widget-view+json": {
       "model_id": "f08b45e1caeb40d9a1d1cc973121c7cf",
       "version_major": 2,
       "version_minor": 0
      },
      "text/plain": [
       "chain 41 |          | 00:00 Status"
      ]
     },
     "metadata": {},
     "output_type": "display_data"
    },
    {
     "data": {
      "application/vnd.jupyter.widget-view+json": {
       "model_id": "6728458a72c34caaa0d18e9bf5b0fffb",
       "version_major": 2,
       "version_minor": 0
      },
      "text/plain": [
       "chain 42 |          | 00:00 Status"
      ]
     },
     "metadata": {},
     "output_type": "display_data"
    },
    {
     "data": {
      "application/vnd.jupyter.widget-view+json": {
       "model_id": "d5ef76ce4cbf4b6c9a409bb1d934ce1d",
       "version_major": 2,
       "version_minor": 0
      },
      "text/plain": [
       "chain 43 |          | 00:00 Status"
      ]
     },
     "metadata": {},
     "output_type": "display_data"
    },
    {
     "data": {
      "application/vnd.jupyter.widget-view+json": {
       "model_id": "e1a28bd4c9a24128b3ba5eed0326f26c",
       "version_major": 2,
       "version_minor": 0
      },
      "text/plain": [
       "chain 44 |          | 00:00 Status"
      ]
     },
     "metadata": {},
     "output_type": "display_data"
    },
    {
     "data": {
      "application/vnd.jupyter.widget-view+json": {
       "model_id": "75031b5874d24c0080b35fd08767bdf5",
       "version_major": 2,
       "version_minor": 0
      },
      "text/plain": [
       "chain 45 |          | 00:00 Status"
      ]
     },
     "metadata": {},
     "output_type": "display_data"
    },
    {
     "data": {
      "application/vnd.jupyter.widget-view+json": {
       "model_id": "a5361062046045b19a19263eea9d4af8",
       "version_major": 2,
       "version_minor": 0
      },
      "text/plain": [
       "chain 46 |          | 00:00 Status"
      ]
     },
     "metadata": {},
     "output_type": "display_data"
    },
    {
     "data": {
      "application/vnd.jupyter.widget-view+json": {
       "model_id": "5c853bfad1914b489ec53964b8dfc74a",
       "version_major": 2,
       "version_minor": 0
      },
      "text/plain": [
       "chain 47 |          | 00:00 Status"
      ]
     },
     "metadata": {},
     "output_type": "display_data"
    },
    {
     "data": {
      "application/vnd.jupyter.widget-view+json": {
       "model_id": "a4333b8641584e80a171a6adef96f6e9",
       "version_major": 2,
       "version_minor": 0
      },
      "text/plain": [
       "chain 48 |          | 00:00 Status"
      ]
     },
     "metadata": {},
     "output_type": "display_data"
    },
    {
     "data": {
      "application/vnd.jupyter.widget-view+json": {
       "model_id": "1c8e1f92965b4719a0e953a0b1550076",
       "version_major": 2,
       "version_minor": 0
      },
      "text/plain": [
       "chain 49 |          | 00:00 Status"
      ]
     },
     "metadata": {},
     "output_type": "display_data"
    },
    {
     "data": {
      "application/vnd.jupyter.widget-view+json": {
       "model_id": "411351ca50b94d43a5e9877bc3d002f4",
       "version_major": 2,
       "version_minor": 0
      },
      "text/plain": [
       "chain 50 |          | 00:00 Status"
      ]
     },
     "metadata": {},
     "output_type": "display_data"
    },
    {
     "data": {
      "application/vnd.jupyter.widget-view+json": {
       "model_id": "d4a8d95dc3e74a3588db1d7af33081d6",
       "version_major": 2,
       "version_minor": 0
      },
      "text/plain": [
       "chain 51 |          | 00:00 Status"
      ]
     },
     "metadata": {},
     "output_type": "display_data"
    },
    {
     "data": {
      "application/vnd.jupyter.widget-view+json": {
       "model_id": "835509bd50f04938a2ac13bfc653b73b",
       "version_major": 2,
       "version_minor": 0
      },
      "text/plain": [
       "chain 52 |          | 00:00 Status"
      ]
     },
     "metadata": {},
     "output_type": "display_data"
    },
    {
     "data": {
      "application/vnd.jupyter.widget-view+json": {
       "model_id": "f8e5b89863de413b87a072660fb1453a",
       "version_major": 2,
       "version_minor": 0
      },
      "text/plain": [
       "chain 53 |          | 00:00 Status"
      ]
     },
     "metadata": {},
     "output_type": "display_data"
    },
    {
     "data": {
      "application/vnd.jupyter.widget-view+json": {
       "model_id": "3304efccca084c538d3bc13766ac62d7",
       "version_major": 2,
       "version_minor": 0
      },
      "text/plain": [
       "chain 54 |          | 00:00 Status"
      ]
     },
     "metadata": {},
     "output_type": "display_data"
    },
    {
     "data": {
      "application/vnd.jupyter.widget-view+json": {
       "model_id": "12af1a3d7a5044b2ad86af136af8709b",
       "version_major": 2,
       "version_minor": 0
      },
      "text/plain": [
       "chain 55 |          | 00:00 Status"
      ]
     },
     "metadata": {},
     "output_type": "display_data"
    },
    {
     "data": {
      "application/vnd.jupyter.widget-view+json": {
       "model_id": "2277274419a4470aa9297a48ded74412",
       "version_major": 2,
       "version_minor": 0
      },
      "text/plain": [
       "chain 56 |          | 00:00 Status"
      ]
     },
     "metadata": {},
     "output_type": "display_data"
    },
    {
     "data": {
      "application/vnd.jupyter.widget-view+json": {
       "model_id": "c70a04d334a140dda0e422fde75c5b85",
       "version_major": 2,
       "version_minor": 0
      },
      "text/plain": [
       "chain 57 |          | 00:00 Status"
      ]
     },
     "metadata": {},
     "output_type": "display_data"
    },
    {
     "data": {
      "application/vnd.jupyter.widget-view+json": {
       "model_id": "50bbbe3ad1174d80a71433ed6f8bf1c5",
       "version_major": 2,
       "version_minor": 0
      },
      "text/plain": [
       "chain 58 |          | 00:00 Status"
      ]
     },
     "metadata": {},
     "output_type": "display_data"
    },
    {
     "data": {
      "application/vnd.jupyter.widget-view+json": {
       "model_id": "1a0577f0a7af47ada25473a5d1671298",
       "version_major": 2,
       "version_minor": 0
      },
      "text/plain": [
       "chain 59 |          | 00:00 Status"
      ]
     },
     "metadata": {},
     "output_type": "display_data"
    },
    {
     "data": {
      "application/vnd.jupyter.widget-view+json": {
       "model_id": "ce6ba84870cb43f488c839c3b2d75a7f",
       "version_major": 2,
       "version_minor": 0
      },
      "text/plain": [
       "chain 60 |          | 00:00 Status"
      ]
     },
     "metadata": {},
     "output_type": "display_data"
    },
    {
     "data": {
      "application/vnd.jupyter.widget-view+json": {
       "model_id": "79e249b163fa4a1084caec09bb65425e",
       "version_major": 2,
       "version_minor": 0
      },
      "text/plain": [
       "chain 61 |          | 00:00 Status"
      ]
     },
     "metadata": {},
     "output_type": "display_data"
    },
    {
     "data": {
      "application/vnd.jupyter.widget-view+json": {
       "model_id": "478227dc24654a29a32ff0495f0b3537",
       "version_major": 2,
       "version_minor": 0
      },
      "text/plain": [
       "chain 62 |          | 00:00 Status"
      ]
     },
     "metadata": {},
     "output_type": "display_data"
    },
    {
     "data": {
      "application/vnd.jupyter.widget-view+json": {
       "model_id": "bde7cac8df4f437d86c625a5c8af15a8",
       "version_major": 2,
       "version_minor": 0
      },
      "text/plain": [
       "chain 63 |          | 00:00 Status"
      ]
     },
     "metadata": {},
     "output_type": "display_data"
    },
    {
     "data": {
      "application/vnd.jupyter.widget-view+json": {
       "model_id": "48e169afff61416b9846d5b35771ad12",
       "version_major": 2,
       "version_minor": 0
      },
      "text/plain": [
       "chain 64 |          | 00:00 Status"
      ]
     },
     "metadata": {},
     "output_type": "display_data"
    },
    {
     "data": {
      "application/vnd.jupyter.widget-view+json": {
       "model_id": "2221dd3d0a5b49e28fa83f6906de43d6",
       "version_major": 2,
       "version_minor": 0
      },
      "text/plain": [
       "chain 65 |          | 00:00 Status"
      ]
     },
     "metadata": {},
     "output_type": "display_data"
    },
    {
     "data": {
      "application/vnd.jupyter.widget-view+json": {
       "model_id": "8665b90dae9046a4abe600f8b6736a18",
       "version_major": 2,
       "version_minor": 0
      },
      "text/plain": [
       "chain 66 |          | 00:00 Status"
      ]
     },
     "metadata": {},
     "output_type": "display_data"
    },
    {
     "data": {
      "application/vnd.jupyter.widget-view+json": {
       "model_id": "ac5bd6669df0427796e8a7603c33db4e",
       "version_major": 2,
       "version_minor": 0
      },
      "text/plain": [
       "chain 67 |          | 00:00 Status"
      ]
     },
     "metadata": {},
     "output_type": "display_data"
    },
    {
     "data": {
      "application/vnd.jupyter.widget-view+json": {
       "model_id": "f63aef600e47475db753bd3a30c746cd",
       "version_major": 2,
       "version_minor": 0
      },
      "text/plain": [
       "chain 68 |          | 00:00 Status"
      ]
     },
     "metadata": {},
     "output_type": "display_data"
    },
    {
     "data": {
      "application/vnd.jupyter.widget-view+json": {
       "model_id": "1f06debed31c493fae32040814e5d6e8",
       "version_major": 2,
       "version_minor": 0
      },
      "text/plain": [
       "chain 69 |          | 00:00 Status"
      ]
     },
     "metadata": {},
     "output_type": "display_data"
    },
    {
     "data": {
      "application/vnd.jupyter.widget-view+json": {
       "model_id": "f12ab8183aae48faa1ce3934cd30953a",
       "version_major": 2,
       "version_minor": 0
      },
      "text/plain": [
       "chain 70 |          | 00:00 Status"
      ]
     },
     "metadata": {},
     "output_type": "display_data"
    },
    {
     "data": {
      "application/vnd.jupyter.widget-view+json": {
       "model_id": "e4707504c5a041bbba674057c322941c",
       "version_major": 2,
       "version_minor": 0
      },
      "text/plain": [
       "chain 71 |          | 00:00 Status"
      ]
     },
     "metadata": {},
     "output_type": "display_data"
    },
    {
     "data": {
      "application/vnd.jupyter.widget-view+json": {
       "model_id": "cf6c2ce6d7a74c3587064fa5d265837d",
       "version_major": 2,
       "version_minor": 0
      },
      "text/plain": [
       "chain 72 |          | 00:00 Status"
      ]
     },
     "metadata": {},
     "output_type": "display_data"
    },
    {
     "data": {
      "application/vnd.jupyter.widget-view+json": {
       "model_id": "a808068d50864c1d9b762746a06159e0",
       "version_major": 2,
       "version_minor": 0
      },
      "text/plain": [
       "chain 73 |          | 00:00 Status"
      ]
     },
     "metadata": {},
     "output_type": "display_data"
    },
    {
     "data": {
      "application/vnd.jupyter.widget-view+json": {
       "model_id": "368d2e97e1ed492b81614b75b7e45233",
       "version_major": 2,
       "version_minor": 0
      },
      "text/plain": [
       "chain 74 |          | 00:00 Status"
      ]
     },
     "metadata": {},
     "output_type": "display_data"
    },
    {
     "data": {
      "application/vnd.jupyter.widget-view+json": {
       "model_id": "719742e1fa52468d8729291443234aa7",
       "version_major": 2,
       "version_minor": 0
      },
      "text/plain": [
       "chain 75 |          | 00:00 Status"
      ]
     },
     "metadata": {},
     "output_type": "display_data"
    },
    {
     "data": {
      "application/vnd.jupyter.widget-view+json": {
       "model_id": "9add3a6e519c458cbbb05b24bce7303a",
       "version_major": 2,
       "version_minor": 0
      },
      "text/plain": [
       "chain 76 |          | 00:00 Status"
      ]
     },
     "metadata": {},
     "output_type": "display_data"
    },
    {
     "data": {
      "application/vnd.jupyter.widget-view+json": {
       "model_id": "12fb6ad3c6ed4515b37e2c067621b9b8",
       "version_major": 2,
       "version_minor": 0
      },
      "text/plain": [
       "chain 77 |          | 00:00 Status"
      ]
     },
     "metadata": {},
     "output_type": "display_data"
    },
    {
     "data": {
      "application/vnd.jupyter.widget-view+json": {
       "model_id": "ddd351f9fc3b495a9b8e350919df500c",
       "version_major": 2,
       "version_minor": 0
      },
      "text/plain": [
       "chain 78 |          | 00:00 Status"
      ]
     },
     "metadata": {},
     "output_type": "display_data"
    },
    {
     "data": {
      "application/vnd.jupyter.widget-view+json": {
       "model_id": "3df84ec9cdbe4059be8339d91d4a39e6",
       "version_major": 2,
       "version_minor": 0
      },
      "text/plain": [
       "chain 79 |          | 00:00 Status"
      ]
     },
     "metadata": {},
     "output_type": "display_data"
    },
    {
     "data": {
      "application/vnd.jupyter.widget-view+json": {
       "model_id": "40026747d1f54b97b50c09e423e9fa65",
       "version_major": 2,
       "version_minor": 0
      },
      "text/plain": [
       "chain 80 |          | 00:00 Status"
      ]
     },
     "metadata": {},
     "output_type": "display_data"
    },
    {
     "data": {
      "application/vnd.jupyter.widget-view+json": {
       "model_id": "9079ac01954747808ecca0ad31ed97aa",
       "version_major": 2,
       "version_minor": 0
      },
      "text/plain": [
       "chain 81 |          | 00:00 Status"
      ]
     },
     "metadata": {},
     "output_type": "display_data"
    },
    {
     "data": {
      "application/vnd.jupyter.widget-view+json": {
       "model_id": "923e1e0a8c58415d95bfff1670bf6bf3",
       "version_major": 2,
       "version_minor": 0
      },
      "text/plain": [
       "chain 82 |          | 00:00 Status"
      ]
     },
     "metadata": {},
     "output_type": "display_data"
    },
    {
     "data": {
      "application/vnd.jupyter.widget-view+json": {
       "model_id": "2aa70580904543c7ab978a87f2a87695",
       "version_major": 2,
       "version_minor": 0
      },
      "text/plain": [
       "chain 83 |          | 00:00 Status"
      ]
     },
     "metadata": {},
     "output_type": "display_data"
    },
    {
     "data": {
      "application/vnd.jupyter.widget-view+json": {
       "model_id": "c241ca423592475bba590f2238dc671d",
       "version_major": 2,
       "version_minor": 0
      },
      "text/plain": [
       "chain 84 |          | 00:00 Status"
      ]
     },
     "metadata": {},
     "output_type": "display_data"
    },
    {
     "data": {
      "application/vnd.jupyter.widget-view+json": {
       "model_id": "2922b21a99b14c05ab5df9db32524b0d",
       "version_major": 2,
       "version_minor": 0
      },
      "text/plain": [
       "chain 85 |          | 00:00 Status"
      ]
     },
     "metadata": {},
     "output_type": "display_data"
    },
    {
     "data": {
      "application/vnd.jupyter.widget-view+json": {
       "model_id": "0480c8d2abbe4e0f97499cb992f38d51",
       "version_major": 2,
       "version_minor": 0
      },
      "text/plain": [
       "chain 86 |          | 00:00 Status"
      ]
     },
     "metadata": {},
     "output_type": "display_data"
    },
    {
     "data": {
      "application/vnd.jupyter.widget-view+json": {
       "model_id": "75eac9dd8fe64261bcc9c88a75bc2c81",
       "version_major": 2,
       "version_minor": 0
      },
      "text/plain": [
       "chain 87 |          | 00:00 Status"
      ]
     },
     "metadata": {},
     "output_type": "display_data"
    },
    {
     "data": {
      "application/vnd.jupyter.widget-view+json": {
       "model_id": "68cf5d9b011f48dea5e3c3c50aa01a66",
       "version_major": 2,
       "version_minor": 0
      },
      "text/plain": [
       "chain 88 |          | 00:00 Status"
      ]
     },
     "metadata": {},
     "output_type": "display_data"
    },
    {
     "data": {
      "application/vnd.jupyter.widget-view+json": {
       "model_id": "ed1a0263038c45daa264f2fb32df0674",
       "version_major": 2,
       "version_minor": 0
      },
      "text/plain": [
       "chain 89 |          | 00:00 Status"
      ]
     },
     "metadata": {},
     "output_type": "display_data"
    },
    {
     "data": {
      "application/vnd.jupyter.widget-view+json": {
       "model_id": "85ea3531b4f04f26a451a192a513bd20",
       "version_major": 2,
       "version_minor": 0
      },
      "text/plain": [
       "chain 90 |          | 00:00 Status"
      ]
     },
     "metadata": {},
     "output_type": "display_data"
    },
    {
     "data": {
      "application/vnd.jupyter.widget-view+json": {
       "model_id": "fbea98303a314238becfa755570054b8",
       "version_major": 2,
       "version_minor": 0
      },
      "text/plain": [
       "chain 91 |          | 00:00 Status"
      ]
     },
     "metadata": {},
     "output_type": "display_data"
    },
    {
     "data": {
      "application/vnd.jupyter.widget-view+json": {
       "model_id": "9458eeeb66eb41cdaac600b216cbe79d",
       "version_major": 2,
       "version_minor": 0
      },
      "text/plain": [
       "chain 92 |          | 00:00 Status"
      ]
     },
     "metadata": {},
     "output_type": "display_data"
    },
    {
     "data": {
      "application/vnd.jupyter.widget-view+json": {
       "model_id": "db71dc74cb924dfea3ec4cc32503cd9c",
       "version_major": 2,
       "version_minor": 0
      },
      "text/plain": [
       "chain 93 |          | 00:00 Status"
      ]
     },
     "metadata": {},
     "output_type": "display_data"
    },
    {
     "data": {
      "application/vnd.jupyter.widget-view+json": {
       "model_id": "5e53c70e1b5c4b3cbd40c4f9b3241672",
       "version_major": 2,
       "version_minor": 0
      },
      "text/plain": [
       "chain 94 |          | 00:00 Status"
      ]
     },
     "metadata": {},
     "output_type": "display_data"
    },
    {
     "data": {
      "application/vnd.jupyter.widget-view+json": {
       "model_id": "eb6198cdf6444ff3952f8edf808e8b7d",
       "version_major": 2,
       "version_minor": 0
      },
      "text/plain": [
       "chain 95 |          | 00:00 Status"
      ]
     },
     "metadata": {},
     "output_type": "display_data"
    },
    {
     "data": {
      "application/vnd.jupyter.widget-view+json": {
       "model_id": "c50f76b3752d4016b1e2cb7cb12e4107",
       "version_major": 2,
       "version_minor": 0
      },
      "text/plain": [
       "chain 96 |          | 00:00 Status"
      ]
     },
     "metadata": {},
     "output_type": "display_data"
    },
    {
     "data": {
      "application/vnd.jupyter.widget-view+json": {
       "model_id": "30aa221630d14282a28168ac50fe072a",
       "version_major": 2,
       "version_minor": 0
      },
      "text/plain": [
       "chain 97 |          | 00:00 Status"
      ]
     },
     "metadata": {},
     "output_type": "display_data"
    },
    {
     "data": {
      "application/vnd.jupyter.widget-view+json": {
       "model_id": "212ddb8781a34a75a8e22df5cb25a5b9",
       "version_major": 2,
       "version_minor": 0
      },
      "text/plain": [
       "chain 98 |          | 00:00 Status"
      ]
     },
     "metadata": {},
     "output_type": "display_data"
    },
    {
     "data": {
      "application/vnd.jupyter.widget-view+json": {
       "model_id": "78449a1947e346d7875491e6599e6874",
       "version_major": 2,
       "version_minor": 0
      },
      "text/plain": [
       "chain 99 |          | 00:00 Status"
      ]
     },
     "metadata": {},
     "output_type": "display_data"
    },
    {
     "data": {
      "application/vnd.jupyter.widget-view+json": {
       "model_id": "eba65805af46492fbf17a2a93fce65ff",
       "version_major": 2,
       "version_minor": 0
      },
      "text/plain": [
       "chain 100 |          | 00:00 Status"
      ]
     },
     "metadata": {},
     "output_type": "display_data"
    },
    {
     "name": "stdout",
     "output_type": "stream",
     "text": [
      "                                                                                                                                                                                                                                                                                                                                                                                                                                                                                                                                                                                                                                                                                                                                                                                                                                                                                                                                                                                                                                                                                                                                                                                                                                                                                                                                                                                                                                                                                                                                                                                                                                                                                                                                                                                                                                                                                                                                                                                                                                                                                                                                                                                                                                                                                                                                                                                                                                                                                                                                                                                                                                                                                                                                                                                                                                                                                                                                                                                                                                                                                                                                                                                                                                                                                                                                                                                                                                                                                                                                                                                                                                                                                                                                                                                                                                                                                                                                                                                                                                                                                                                                                                                                                                                                                                                                                                                                                                                                                                                                                                                                                                                                                                                                                                                                                                                                                                                                                                                                                                                                                                                                                                                                                                                                                                                                                                                                                                                                                                                                                                                                                                                                                                                                                                                                                                                                                                                                                                                                                                                                                                                                                                                                                                                                                                                                                                                                                                                                                                                                                                                                                                                                                                                                                                                                                                                                                                                                                                                                                                                                                                                                                                                                                                                                                                                                                                                                                                                                                                                                                                                                                                                                                                                                                                                                                                                                                                                                                                                                                                                                                                                                                                                                                                                                                                                                "
     ]
    },
    {
     "name": "stderr",
     "output_type": "stream",
     "text": [
      "16:59:24 - cmdstanpy - INFO - CmdStan done processing.\n"
     ]
    },
    {
     "name": "stdout",
     "output_type": "stream",
     "text": [
      "\n"
     ]
    },
    {
     "name": "stderr",
     "output_type": "stream",
     "text": [
      "16:59:25 - cmdstanpy - WARNING - Some chains may have failed to converge.\n",
      "\tChain 1 had 9 divergent transitions (0.0%)\n",
      "\tChain 1 had 10 iterations at max treedepth (0.0%)\n",
      "\tChain 2 had 1 divergent transitions (0.0%)\n",
      "\tChain 2 had 10 iterations at max treedepth (0.0%)\n",
      "\tChain 3 had 16 iterations at max treedepth (0.0%)\n",
      "\tChain 4 had 1 divergent transitions (0.0%)\n",
      "\tChain 4 had 63 iterations at max treedepth (0.1%)\n",
      "\tChain 5 had 1 divergent transitions (0.0%)\n",
      "\tChain 5 had 1 iterations at max treedepth (0.0%)\n",
      "\tChain 6 had 2 divergent transitions (0.0%)\n",
      "\tChain 6 had 23 iterations at max treedepth (0.0%)\n",
      "\tChain 7 had 2 divergent transitions (0.0%)\n",
      "\tChain 7 had 1 iterations at max treedepth (0.0%)\n",
      "\tChain 8 had 1 divergent transitions (0.0%)\n",
      "\tChain 8 had 54 iterations at max treedepth (0.1%)\n",
      "\tChain 9 had 91 iterations at max treedepth (0.1%)\n",
      "\tChain 10 had 7 divergent transitions (0.0%)\n",
      "\tChain 10 had 8 iterations at max treedepth (0.0%)\n",
      "\tChain 11 had 4 divergent transitions (0.0%)\n",
      "\tChain 11 had 3 iterations at max treedepth (0.0%)\n",
      "\tChain 12 had 1 divergent transitions (0.0%)\n",
      "\tChain 12 had 1 iterations at max treedepth (0.0%)\n",
      "\tChain 13 had 53 divergent transitions (0.1%)\n",
      "\tChain 13 had 1 iterations at max treedepth (0.0%)\n",
      "\tChain 14 had 1 divergent transitions (0.0%)\n",
      "\tChain 14 had 3 iterations at max treedepth (0.0%)\n",
      "\tChain 15 had 4 iterations at max treedepth (0.0%)\n",
      "\tChain 16 had 1 iterations at max treedepth (0.0%)\n",
      "\tChain 17 had 10 divergent transitions (0.0%)\n",
      "\tChain 17 had 9 iterations at max treedepth (0.0%)\n",
      "\tChain 18 had 5 divergent transitions (0.0%)\n",
      "\tChain 18 had 1 iterations at max treedepth (0.0%)\n",
      "\tChain 19 had 1 divergent transitions (0.0%)\n",
      "\tChain 19 had 5 iterations at max treedepth (0.0%)\n",
      "\tChain 20 had 7 divergent transitions (0.0%)\n",
      "\tChain 20 had 1 iterations at max treedepth (0.0%)\n",
      "\tChain 21 had 58 iterations at max treedepth (0.1%)\n",
      "\tChain 22 had 3 divergent transitions (0.0%)\n",
      "\tChain 23 had 45 iterations at max treedepth (0.0%)\n",
      "\tChain 24 had 7 divergent transitions (0.0%)\n",
      "\tChain 25 had 54 iterations at max treedepth (0.1%)\n",
      "\tChain 26 had 3 iterations at max treedepth (0.0%)\n",
      "\tChain 27 had 28 iterations at max treedepth (0.0%)\n",
      "\tChain 28 had 4 divergent transitions (0.0%)\n",
      "\tChain 28 had 3 iterations at max treedepth (0.0%)\n",
      "\tChain 29 had 2 divergent transitions (0.0%)\n",
      "\tChain 29 had 4 iterations at max treedepth (0.0%)\n",
      "\tChain 30 had 1 divergent transitions (0.0%)\n",
      "\tChain 30 had 1 iterations at max treedepth (0.0%)\n",
      "\tChain 31 had 42 iterations at max treedepth (0.0%)\n",
      "\tChain 32 had 1 divergent transitions (0.0%)\n",
      "\tChain 32 had 2 iterations at max treedepth (0.0%)\n",
      "\tChain 33 had 23 divergent transitions (0.0%)\n",
      "\tChain 33 had 2 iterations at max treedepth (0.0%)\n",
      "\tChain 34 had 8 iterations at max treedepth (0.0%)\n",
      "\tChain 35 had 11 divergent transitions (0.0%)\n",
      "\tChain 35 had 3 iterations at max treedepth (0.0%)\n",
      "\tChain 36 had 16 divergent transitions (0.0%)\n",
      "\tChain 36 had 3 iterations at max treedepth (0.0%)\n",
      "\tChain 37 had 135 iterations at max treedepth (0.1%)\n",
      "\tChain 38 had 5 divergent transitions (0.0%)\n",
      "\tChain 38 had 3 iterations at max treedepth (0.0%)\n",
      "\tChain 39 had 23 divergent transitions (0.0%)\n",
      "\tChain 39 had 1 iterations at max treedepth (0.0%)\n",
      "\tChain 40 had 2 divergent transitions (0.0%)\n",
      "\tChain 40 had 2 iterations at max treedepth (0.0%)\n",
      "\tChain 41 had 10 iterations at max treedepth (0.0%)\n",
      "\tChain 42 had 17 divergent transitions (0.0%)\n",
      "\tChain 42 had 6 iterations at max treedepth (0.0%)\n",
      "\tChain 43 had 8 divergent transitions (0.0%)\n",
      "\tChain 44 had 2 divergent transitions (0.0%)\n",
      "\tChain 44 had 14 iterations at max treedepth (0.0%)\n",
      "\tChain 45 had 11 divergent transitions (0.0%)\n",
      "\tChain 46 had 3 divergent transitions (0.0%)\n",
      "\tChain 46 had 6 iterations at max treedepth (0.0%)\n",
      "\tChain 47 had 4 divergent transitions (0.0%)\n",
      "\tChain 47 had 7 iterations at max treedepth (0.0%)\n",
      "\tChain 48 had 31 divergent transitions (0.0%)\n",
      "\tChain 49 had 3 divergent transitions (0.0%)\n",
      "\tChain 50 had 4 divergent transitions (0.0%)\n",
      "\tChain 50 had 8 iterations at max treedepth (0.0%)\n",
      "\tChain 51 had 1 divergent transitions (0.0%)\n",
      "\tChain 51 had 6 iterations at max treedepth (0.0%)\n",
      "\tChain 52 had 4 divergent transitions (0.0%)\n",
      "\tChain 52 had 2 iterations at max treedepth (0.0%)\n",
      "\tChain 53 had 4 iterations at max treedepth (0.0%)\n",
      "\tChain 54 had 7 divergent transitions (0.0%)\n",
      "\tChain 54 had 1 iterations at max treedepth (0.0%)\n",
      "\tChain 55 had 33 divergent transitions (0.0%)\n",
      "\tChain 55 had 3 iterations at max treedepth (0.0%)\n",
      "\tChain 56 had 10 divergent transitions (0.0%)\n",
      "\tChain 56 had 4 iterations at max treedepth (0.0%)\n",
      "\tChain 57 had 2 divergent transitions (0.0%)\n",
      "\tChain 58 had 32 iterations at max treedepth (0.0%)\n",
      "\tChain 59 had 3 divergent transitions (0.0%)\n",
      "\tChain 59 had 25 iterations at max treedepth (0.0%)\n",
      "\tChain 60 had 78 divergent transitions (0.1%)\n",
      "\tChain 61 had 27 divergent transitions (0.0%)\n",
      "\tChain 61 had 1 iterations at max treedepth (0.0%)\n",
      "\tChain 62 had 1 iterations at max treedepth (0.0%)\n",
      "\tChain 63 had 11 divergent transitions (0.0%)\n",
      "\tChain 63 had 3 iterations at max treedepth (0.0%)\n",
      "\tChain 64 had 65 divergent transitions (0.1%)\n",
      "\tChain 65 had 77 divergent transitions (0.1%)\n",
      "\tChain 65 had 9 iterations at max treedepth (0.0%)\n",
      "\tChain 66 had 5 iterations at max treedepth (0.0%)\n",
      "\tChain 67 had 17 divergent transitions (0.0%)\n",
      "\tChain 68 had 49 divergent transitions (0.0%)\n",
      "\tChain 68 had 4 iterations at max treedepth (0.0%)\n",
      "\tChain 69 had 33 divergent transitions (0.0%)\n",
      "\tChain 69 had 3 iterations at max treedepth (0.0%)\n",
      "\tChain 70 had 1 divergent transitions (0.0%)\n",
      "\tChain 70 had 14 iterations at max treedepth (0.0%)\n",
      "\tChain 71 had 295 iterations at max treedepth (0.3%)\n",
      "\tChain 72 had 2 divergent transitions (0.0%)\n",
      "\tChain 72 had 1 iterations at max treedepth (0.0%)\n",
      "\tChain 73 had 423 iterations at max treedepth (0.4%)\n",
      "\tChain 74 had 100 iterations at max treedepth (0.1%)\n",
      "\tChain 75 had 8 divergent transitions (0.0%)\n",
      "\tChain 75 had 1 iterations at max treedepth (0.0%)\n",
      "\tChain 76 had 4 divergent transitions (0.0%)\n",
      "\tChain 76 had 1 iterations at max treedepth (0.0%)\n",
      "\tChain 77 had 1 divergent transitions (0.0%)\n",
      "\tChain 77 had 24 iterations at max treedepth (0.0%)\n",
      "\tChain 78 had 1 divergent transitions (0.0%)\n",
      "\tChain 78 had 2 iterations at max treedepth (0.0%)\n",
      "\tChain 79 had 34 iterations at max treedepth (0.0%)\n",
      "\tChain 80 had 41 iterations at max treedepth (0.0%)\n",
      "\tChain 81 had 127 iterations at max treedepth (0.1%)\n",
      "\tChain 82 had 54 iterations at max treedepth (0.1%)\n",
      "\tChain 83 had 1 divergent transitions (0.0%)\n",
      "\tChain 83 had 1 iterations at max treedepth (0.0%)\n",
      "\tChain 84 had 1 divergent transitions (0.0%)\n",
      "\tChain 84 had 94 iterations at max treedepth (0.1%)\n",
      "\tChain 85 had 5 iterations at max treedepth (0.0%)\n",
      "\tChain 86 had 7 iterations at max treedepth (0.0%)\n",
      "\tChain 87 had 38 iterations at max treedepth (0.0%)\n",
      "\tChain 88 had 3 divergent transitions (0.0%)\n",
      "\tChain 88 had 1 iterations at max treedepth (0.0%)\n",
      "\tChain 89 had 6 iterations at max treedepth (0.0%)\n",
      "\tChain 90 had 1 divergent transitions (0.0%)\n",
      "\tChain 90 had 2 iterations at max treedepth (0.0%)\n",
      "\tChain 91 had 35 iterations at max treedepth (0.0%)\n",
      "\tChain 92 had 2 divergent transitions (0.0%)\n",
      "\tChain 92 had 1 iterations at max treedepth (0.0%)\n",
      "\tChain 93 had 5 divergent transitions (0.0%)\n",
      "\tChain 93 had 3 iterations at max treedepth (0.0%)\n",
      "\tChain 94 had 99 divergent transitions (0.1%)\n",
      "\tChain 94 had 41 iterations at max treedepth (0.0%)\n",
      "\tChain 95 had 1 divergent transitions (0.0%)\n",
      "\tChain 95 had 24 iterations at max treedepth (0.0%)\n",
      "\tChain 96 had 8 divergent transitions (0.0%)\n",
      "\tChain 96 had 2 iterations at max treedepth (0.0%)\n",
      "\tChain 97 had 29 iterations at max treedepth (0.0%)\n",
      "\tChain 98 had 80 iterations at max treedepth (0.1%)\n",
      "\tChain 99 had 1 divergent transitions (0.0%)\n",
      "\tChain 99 had 4 iterations at max treedepth (0.0%)\n",
      "\tChain 100 had 23 iterations at max treedepth (0.0%)\n",
      "\tUse the \"diagnose()\" method on the CmdStanMCMC object to see further information.\n"
     ]
    }
   ],
   "source": [
    "model = CmdStanModel(stan_file=model_path)\n",
    "nuts_output = model.sample(\n",
    "    data=None,\n",
    "    iter_sampling=num_samples,\n",
    "    chains=num_chains,\n",
    "    seed=seed,\n",
    "    thin=100,\n",
    "    adapt_delta=0.95,\n",
    ")\n",
    "\n",
    "ref_draws_np = nuts_output.draws()[:, :, 7:] # [draws, chains, params]\n",
    "# convert dimension order to [chains, draws, params]\n",
    "ref_draws_np = np.transpose(ref_draws_np, (1, 0, 2))"
   ]
  },
  {
   "cell_type": "code",
   "execution_count": 14,
   "metadata": {},
   "outputs": [
    {
     "data": {
      "text/html": [
       "<div>\n",
       "<style scoped>\n",
       "    .dataframe tbody tr th:only-of-type {\n",
       "        vertical-align: middle;\n",
       "    }\n",
       "\n",
       "    .dataframe tbody tr th {\n",
       "        vertical-align: top;\n",
       "    }\n",
       "\n",
       "    .dataframe thead th {\n",
       "        text-align: right;\n",
       "    }\n",
       "</style>\n",
       "<table border=\"1\" class=\"dataframe\">\n",
       "  <thead>\n",
       "    <tr style=\"text-align: right;\">\n",
       "      <th></th>\n",
       "      <th>Mean</th>\n",
       "      <th>MCSE</th>\n",
       "      <th>StdDev</th>\n",
       "      <th>5%</th>\n",
       "      <th>50%</th>\n",
       "      <th>95%</th>\n",
       "      <th>N_Eff</th>\n",
       "      <th>N_Eff/s</th>\n",
       "      <th>R_hat</th>\n",
       "    </tr>\n",
       "  </thead>\n",
       "  <tbody>\n",
       "    <tr>\n",
       "      <th>lp__</th>\n",
       "      <td>-6.722610</td>\n",
       "      <td>0.255694</td>\n",
       "      <td>12.62990</td>\n",
       "      <td>-28.88760</td>\n",
       "      <td>-5.854140</td>\n",
       "      <td>12.37350</td>\n",
       "      <td>2439.83</td>\n",
       "      <td>2.31124</td>\n",
       "      <td>1.021250</td>\n",
       "    </tr>\n",
       "    <tr>\n",
       "      <th>v</th>\n",
       "      <td>0.397492</td>\n",
       "      <td>0.060486</td>\n",
       "      <td>2.72105</td>\n",
       "      <td>-3.84709</td>\n",
       "      <td>0.292460</td>\n",
       "      <td>5.03612</td>\n",
       "      <td>2023.76</td>\n",
       "      <td>1.91710</td>\n",
       "      <td>1.024370</td>\n",
       "    </tr>\n",
       "    <tr>\n",
       "      <th>theta[1]</th>\n",
       "      <td>0.023950</td>\n",
       "      <td>0.028864</td>\n",
       "      <td>9.18059</td>\n",
       "      <td>-5.55348</td>\n",
       "      <td>0.002127</td>\n",
       "      <td>5.72772</td>\n",
       "      <td>101166.00</td>\n",
       "      <td>95.83450</td>\n",
       "      <td>1.000040</td>\n",
       "    </tr>\n",
       "    <tr>\n",
       "      <th>theta[2]</th>\n",
       "      <td>-0.011786</td>\n",
       "      <td>0.028973</td>\n",
       "      <td>9.12231</td>\n",
       "      <td>-5.66141</td>\n",
       "      <td>0.000720</td>\n",
       "      <td>5.77593</td>\n",
       "      <td>99135.60</td>\n",
       "      <td>93.91080</td>\n",
       "      <td>0.999908</td>\n",
       "    </tr>\n",
       "    <tr>\n",
       "      <th>theta[3]</th>\n",
       "      <td>0.005457</td>\n",
       "      <td>0.029613</td>\n",
       "      <td>9.27242</td>\n",
       "      <td>-5.81472</td>\n",
       "      <td>0.000559</td>\n",
       "      <td>5.68569</td>\n",
       "      <td>98041.20</td>\n",
       "      <td>92.87410</td>\n",
       "      <td>0.999949</td>\n",
       "    </tr>\n",
       "    <tr>\n",
       "      <th>theta[4]</th>\n",
       "      <td>0.003879</td>\n",
       "      <td>0.028179</td>\n",
       "      <td>8.84715</td>\n",
       "      <td>-5.66420</td>\n",
       "      <td>-0.000116</td>\n",
       "      <td>5.71169</td>\n",
       "      <td>98575.00</td>\n",
       "      <td>93.37980</td>\n",
       "      <td>1.000010</td>\n",
       "    </tr>\n",
       "    <tr>\n",
       "      <th>theta[5]</th>\n",
       "      <td>-0.005265</td>\n",
       "      <td>0.029658</td>\n",
       "      <td>9.28998</td>\n",
       "      <td>-5.70621</td>\n",
       "      <td>-0.003554</td>\n",
       "      <td>5.68335</td>\n",
       "      <td>98116.60</td>\n",
       "      <td>92.94560</td>\n",
       "      <td>0.999896</td>\n",
       "    </tr>\n",
       "    <tr>\n",
       "      <th>theta[6]</th>\n",
       "      <td>0.040070</td>\n",
       "      <td>0.030332</td>\n",
       "      <td>9.38293</td>\n",
       "      <td>-5.58766</td>\n",
       "      <td>-0.001148</td>\n",
       "      <td>5.74118</td>\n",
       "      <td>95692.40</td>\n",
       "      <td>90.64910</td>\n",
       "      <td>1.000010</td>\n",
       "    </tr>\n",
       "    <tr>\n",
       "      <th>theta[7]</th>\n",
       "      <td>-0.008283</td>\n",
       "      <td>0.026538</td>\n",
       "      <td>8.41911</td>\n",
       "      <td>-5.65572</td>\n",
       "      <td>0.005718</td>\n",
       "      <td>5.73678</td>\n",
       "      <td>100642.00</td>\n",
       "      <td>95.33780</td>\n",
       "      <td>1.000010</td>\n",
       "    </tr>\n",
       "    <tr>\n",
       "      <th>theta[8]</th>\n",
       "      <td>0.028882</td>\n",
       "      <td>0.031226</td>\n",
       "      <td>9.65628</td>\n",
       "      <td>-5.71216</td>\n",
       "      <td>0.003112</td>\n",
       "      <td>5.67624</td>\n",
       "      <td>95630.60</td>\n",
       "      <td>90.59060</td>\n",
       "      <td>1.000030</td>\n",
       "    </tr>\n",
       "    <tr>\n",
       "      <th>theta[9]</th>\n",
       "      <td>-0.040105</td>\n",
       "      <td>0.031871</td>\n",
       "      <td>10.04410</td>\n",
       "      <td>-5.82768</td>\n",
       "      <td>-0.005244</td>\n",
       "      <td>5.66748</td>\n",
       "      <td>99316.90</td>\n",
       "      <td>94.08260</td>\n",
       "      <td>0.999886</td>\n",
       "    </tr>\n",
       "  </tbody>\n",
       "</table>\n",
       "</div>"
      ],
      "text/plain": [
       "              Mean      MCSE    StdDev        5%       50%       95%  \\\n",
       "lp__     -6.722610  0.255694  12.62990 -28.88760 -5.854140  12.37350   \n",
       "v         0.397492  0.060486   2.72105  -3.84709  0.292460   5.03612   \n",
       "theta[1]  0.023950  0.028864   9.18059  -5.55348  0.002127   5.72772   \n",
       "theta[2] -0.011786  0.028973   9.12231  -5.66141  0.000720   5.77593   \n",
       "theta[3]  0.005457  0.029613   9.27242  -5.81472  0.000559   5.68569   \n",
       "theta[4]  0.003879  0.028179   8.84715  -5.66420 -0.000116   5.71169   \n",
       "theta[5] -0.005265  0.029658   9.28998  -5.70621 -0.003554   5.68335   \n",
       "theta[6]  0.040070  0.030332   9.38293  -5.58766 -0.001148   5.74118   \n",
       "theta[7] -0.008283  0.026538   8.41911  -5.65572  0.005718   5.73678   \n",
       "theta[8]  0.028882  0.031226   9.65628  -5.71216  0.003112   5.67624   \n",
       "theta[9] -0.040105  0.031871  10.04410  -5.82768 -0.005244   5.66748   \n",
       "\n",
       "              N_Eff   N_Eff/s     R_hat  \n",
       "lp__        2439.83   2.31124  1.021250  \n",
       "v           2023.76   1.91710  1.024370  \n",
       "theta[1]  101166.00  95.83450  1.000040  \n",
       "theta[2]   99135.60  93.91080  0.999908  \n",
       "theta[3]   98041.20  92.87410  0.999949  \n",
       "theta[4]   98575.00  93.37980  1.000010  \n",
       "theta[5]   98116.60  92.94560  0.999896  \n",
       "theta[6]   95692.40  90.64910  1.000010  \n",
       "theta[7]  100642.00  95.33780  1.000010  \n",
       "theta[8]   95630.60  90.59060  1.000030  \n",
       "theta[9]   99316.90  94.08260  0.999886  "
      ]
     },
     "execution_count": 14,
     "metadata": {},
     "output_type": "execute_result"
    }
   ],
   "source": [
    "nuts_output.summary() # check n_eff is greater than the number of samples (after thinning)"
   ]
  },
  {
   "cell_type": "code",
   "execution_count": 11,
   "metadata": {},
   "outputs": [],
   "source": [
    "# convert from numpy 3d array to json format\n",
    "\n",
    "param_names = [\n",
    "    \"v\", \"theta[1]\", \"theta[2]\", \"theta[3]\", \"theta[4]\", \"theta[5]\", \n",
    "    \"theta[6]\", \"theta[7]\", \"theta[8]\", \"theta[9]\"\n",
    "]\n",
    "\n",
    "ref_draws = []\n",
    "for chain in ref_draws_np:  # each chain is [n_samples, params_dim]\n",
    "    chain_dict = {}\n",
    "    for name, params in zip(param_names, chain.T):\n",
    "        chain_dict[name] = params.tolist()\n",
    "    ref_draws.append(chain_dict)\n",
    "\n",
    "# save to file\n",
    "with zipfile.ZipFile(f\"{model_name}.ref_draws.json.zip\", mode=\"w\", compression=zipfile.ZIP_DEFLATED, compresslevel=9) as zip_file: \n",
    "    dumped_JSON: str = json.dumps(ref_draws, ensure_ascii=False, indent=4)\n",
    "    zip_file.writestr(f\"{model_name}.ref_draws.json\", data=dumped_JSON)"
   ]
  }
 ],
 "metadata": {
  "kernelspec": {
   "display_name": "drghmc",
   "language": "python",
   "name": "python3"
  },
  "language_info": {
   "codemirror_mode": {
    "name": "ipython",
    "version": 3
   },
   "file_extension": ".py",
   "mimetype": "text/x-python",
   "name": "python",
   "nbconvert_exporter": "python",
   "pygments_lexer": "ipython3",
   "version": "3.11.4"
  }
 },
 "nbformat": 4,
 "nbformat_minor": 2
}
