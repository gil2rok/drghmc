{
 "cells": [
  {
   "cell_type": "markdown",
   "metadata": {},
   "source": [
    "# Imports and Defaults"
   ]
  },
  {
   "cell_type": "code",
   "execution_count": 1,
   "metadata": {},
   "outputs": [],
   "source": [
    "import json\n",
    "import os\n",
    "import zipfile\n",
    "\n",
    "import bridgestan as bs\n",
    "from cmdstanpy import CmdStanModel\n",
    "import numpy as np"
   ]
  },
  {
   "cell_type": "code",
   "execution_count": 4,
   "metadata": {},
   "outputs": [],
   "source": [
    "seed = 1234\n",
    "rng = np.random.default_rng(seed)\n",
    "\n",
    "num_chains = 5\n",
    "num_samples = 100000000\n",
    "\n",
    "model_name = \"funnel10\"\n",
    "model_path = model_name + \".stan\"\n",
    "data_path = model_name + \".json\""
   ]
  },
  {
   "cell_type": "markdown",
   "metadata": {},
   "source": [
    "# Generate Reference Draws"
   ]
  },
  {
   "cell_type": "code",
   "execution_count": 5,
   "metadata": {},
   "outputs": [
    {
     "name": "stderr",
     "output_type": "stream",
     "text": [
      "15:03:54 - cmdstanpy - INFO - CmdStan start processing\n"
     ]
    },
    {
     "data": {
      "application/vnd.jupyter.widget-view+json": {
       "model_id": "d8906d92058743819bef25dce4fd56c8",
       "version_major": 2,
       "version_minor": 0
      },
      "text/plain": [
       "chain 1 |          | 00:00 Status"
      ]
     },
     "metadata": {},
     "output_type": "display_data"
    },
    {
     "data": {
      "application/vnd.jupyter.widget-view+json": {
       "model_id": "406ad618925a4f4b8e301e4890bfc132",
       "version_major": 2,
       "version_minor": 0
      },
      "text/plain": [
       "chain 2 |          | 00:00 Status"
      ]
     },
     "metadata": {},
     "output_type": "display_data"
    },
    {
     "data": {
      "application/vnd.jupyter.widget-view+json": {
       "model_id": "b432b5c77bc149e1bffb681a737c722a",
       "version_major": 2,
       "version_minor": 0
      },
      "text/plain": [
       "chain 3 |          | 00:00 Status"
      ]
     },
     "metadata": {},
     "output_type": "display_data"
    },
    {
     "data": {
      "application/vnd.jupyter.widget-view+json": {
       "model_id": "eb9f43b0882e4f2aa43e3dc65c59de8a",
       "version_major": 2,
       "version_minor": 0
      },
      "text/plain": [
       "chain 4 |          | 00:00 Status"
      ]
     },
     "metadata": {},
     "output_type": "display_data"
    },
    {
     "data": {
      "application/vnd.jupyter.widget-view+json": {
       "model_id": "27f1853dfb734eb2a181d32a363d5f3c",
       "version_major": 2,
       "version_minor": 0
      },
      "text/plain": [
       "chain 5 |          | 00:00 Status"
      ]
     },
     "metadata": {},
     "output_type": "display_data"
    },
    {
     "name": "stdout",
     "output_type": "stream",
     "text": [
      "                                                                                                                                                                                                                                                                                                                                                                                                                "
     ]
    },
    {
     "name": "stderr",
     "output_type": "stream",
     "text": [
      "20:38:06 - cmdstanpy - INFO - CmdStan done processing.\n"
     ]
    },
    {
     "name": "stdout",
     "output_type": "stream",
     "text": [
      "\n"
     ]
    },
    {
     "name": "stderr",
     "output_type": "stream",
     "text": [
      "20:38:13 - cmdstanpy - WARNING - Some chains may have failed to converge.\n",
      "\tChain 1 had 1540 divergent transitions (0.0%)\n",
      "\tChain 1 had 1244 iterations at max treedepth (0.0%)\n",
      "\tChain 2 had 378 divergent transitions (0.0%)\n",
      "\tChain 2 had 536 iterations at max treedepth (0.0%)\n",
      "\tChain 3 had 152 divergent transitions (0.0%)\n",
      "\tChain 3 had 1560 iterations at max treedepth (0.0%)\n",
      "\tChain 4 had 34 divergent transitions (0.0%)\n",
      "\tChain 4 had 5055 iterations at max treedepth (0.0%)\n",
      "\tChain 5 had 685 divergent transitions (0.0%)\n",
      "\tChain 5 had 413 iterations at max treedepth (0.0%)\n",
      "\tUse the \"diagnose()\" method on the CmdStanMCMC object to see further information.\n"
     ]
    }
   ],
   "source": [
    "model = CmdStanModel(stan_file=model_path)\n",
    "nuts_output = model.sample(\n",
    "    data=None,\n",
    "    iter_sampling=num_samples,\n",
    "    chains=num_chains,\n",
    "    seed=seed,\n",
    "    thin=1000,\n",
    "    adapt_delta=0.95,\n",
    ")\n",
    "\n",
    "ref_draws_np = nuts_output.draws()[:, :, 7:] # [draws, chains, params]\n",
    "# convert dimension order to [chains, draws, params]\n",
    "ref_draws_np = np.transpose(ref_draws_np, (1, 0, 2))"
   ]
  },
  {
   "cell_type": "code",
   "execution_count": 6,
   "metadata": {},
   "outputs": [],
   "source": [
    "# convert from numpy 3d array to json format\n",
    "\n",
    "param_names = [\n",
    "    \"v\", \"theta[1]\", \"theta[2]\", \"theta[3]\", \"theta[4]\", \"theta[5]\", \n",
    "    \"theta[6]\", \"theta[7]\", \"theta[8]\", \"theta[9]\"\n",
    "]\n",
    "\n",
    "ref_draws = []\n",
    "for chain in ref_draws_np:  # each chain is [n_samples, params_dim]\n",
    "    chain_dict = {}\n",
    "    for name, params in zip(param_names, chain.T):\n",
    "        chain_dict[name] = params.tolist()\n",
    "    ref_draws.append(chain_dict)\n",
    "\n",
    "# save to file\n",
    "with zipfile.ZipFile(f\"{model_name}.ref_draws.json.zip\", mode=\"w\", compression=zipfile.ZIP_DEFLATED, compresslevel=9) as zip_file: \n",
    "    dumped_JSON: str = json.dumps(ref_draws, ensure_ascii=False, indent=4)\n",
    "    zip_file.writestr(f\"{model_name}.ref_draws.json\", data=dumped_JSON)"
   ]
  },
  {
   "cell_type": "code",
   "execution_count": 15,
   "metadata": {},
   "outputs": [
    {
     "name": "stdout",
     "output_type": "stream",
     "text": [
      "[ 0.14746752 -0.01459007 -0.01617681 -0.03103291 -0.01275081 -0.00416501\n",
      "  0.0024026  -0.00704848  0.00514057 -0.0316727 ]\n",
      "[  8.14715571  92.6651645   84.07814618 102.3168585   90.45952225\n",
      "  82.78501964  85.76597462 102.95213108  89.55639543  94.01340356]\n"
     ]
    }
   ],
   "source": [
    "avg = np.mean(ref_draws_np, axis=(0, 1))\n",
    "avg_squared = np.mean(ref_draws_np ** 2, axis=(0, 1))\n",
    "\n",
    "print(avg)\n",
    "print(avg_squared)"
   ]
  },
  {
   "cell_type": "markdown",
   "metadata": {},
   "source": [
    "# Messing Around"
   ]
  },
  {
   "cell_type": "code",
   "execution_count": 6,
   "metadata": {},
   "outputs": [],
   "source": [
    "import seaborn as sns\n",
    "sns.set_theme(style=\"darkgrid\")"
   ]
  },
  {
   "cell_type": "code",
   "execution_count": 48,
   "metadata": {},
   "outputs": [
    {
     "name": "stderr",
     "output_type": "stream",
     "text": [
      "11:18:42 - cmdstanpy - INFO - CmdStan start processing\n"
     ]
    },
    {
     "data": {
      "application/vnd.jupyter.widget-view+json": {
       "model_id": "4b876d9a8a6f43e68d7aecae92776774",
       "version_major": 2,
       "version_minor": 0
      },
      "text/plain": [
       "chain 1 |          | 00:00 Status"
      ]
     },
     "metadata": {},
     "output_type": "display_data"
    },
    {
     "data": {
      "application/vnd.jupyter.widget-view+json": {
       "model_id": "2ceea75294094adeb6e04d9de5499846",
       "version_major": 2,
       "version_minor": 0
      },
      "text/plain": [
       "chain 2 |          | 00:00 Status"
      ]
     },
     "metadata": {},
     "output_type": "display_data"
    },
    {
     "data": {
      "application/vnd.jupyter.widget-view+json": {
       "model_id": "ad833e8013034a42ae3f52bed8fed7da",
       "version_major": 2,
       "version_minor": 0
      },
      "text/plain": [
       "chain 3 |          | 00:00 Status"
      ]
     },
     "metadata": {},
     "output_type": "display_data"
    },
    {
     "data": {
      "application/vnd.jupyter.widget-view+json": {
       "model_id": "6f82dc1141eb4b829bfaacac56926ea5",
       "version_major": 2,
       "version_minor": 0
      },
      "text/plain": [
       "chain 4 |          | 00:00 Status"
      ]
     },
     "metadata": {},
     "output_type": "display_data"
    },
    {
     "data": {
      "application/vnd.jupyter.widget-view+json": {
       "model_id": "ef28e7db8c5b417b9243ac84113ed5de",
       "version_major": 2,
       "version_minor": 0
      },
      "text/plain": [
       "chain 5 |          | 00:00 Status"
      ]
     },
     "metadata": {},
     "output_type": "display_data"
    },
    {
     "name": "stdout",
     "output_type": "stream",
     "text": [
      "                                                                                                                                                                                                                                                                                                                                                                                                                "
     ]
    },
    {
     "name": "stderr",
     "output_type": "stream",
     "text": [
      "11:22:26 - cmdstanpy - INFO - CmdStan done processing.\n"
     ]
    },
    {
     "name": "stdout",
     "output_type": "stream",
     "text": [
      "\n"
     ]
    },
    {
     "name": "stderr",
     "output_type": "stream",
     "text": [
      "11:22:32 - cmdstanpy - WARNING - Some chains may have failed to converge.\n",
      "\tChain 1 had 1656 divergent transitions (0.2%)\n",
      "\tChain 1 had 138 iterations at max treedepth (0.0%)\n",
      "\tChain 2 had 3069 divergent transitions (0.3%)\n",
      "\tChain 2 had 247 iterations at max treedepth (0.0%)\n",
      "\tChain 3 had 156 divergent transitions (0.0%)\n",
      "\tChain 3 had 5884 iterations at max treedepth (0.6%)\n",
      "\tChain 4 had 63 divergent transitions (0.0%)\n",
      "\tChain 4 had 2660 iterations at max treedepth (0.3%)\n",
      "\tChain 5 had 75 divergent transitions (0.0%)\n",
      "\tChain 5 had 2744 iterations at max treedepth (0.3%)\n",
      "\tUse the \"diagnose()\" method on the CmdStanMCMC object to see further information.\n"
     ]
    }
   ],
   "source": [
    "model = CmdStanModel(stan_file=model_path)\n",
    "nuts_output = model.sample(\n",
    "    data=None,\n",
    "    iter_sampling=1000000, # num_samples,\n",
    "    chains=num_chains,\n",
    "    seed=seed,\n",
    "    thin=10,\n",
    "    adapt_delta=0.99,\n",
    ")\n",
    "\n",
    "ref_draws_np = nuts_output.draws()[:, :, 7:] # [draws, chains, params]"
   ]
  },
  {
   "cell_type": "code",
   "execution_count": 49,
   "metadata": {},
   "outputs": [
    {
     "name": "stdout",
     "output_type": "stream",
     "text": [
      "[ 0.43323471  0.03603538  0.03738338 -0.00658518  0.00470734 -0.02435977\n",
      "  0.02907866 -0.01422127 -0.02774414  0.04764532]\n",
      "[  7.49006419  82.8207251  126.98616909  84.33697399  80.98813245\n",
      "  80.51229333  91.04528211  82.8727097   94.58167167 129.16905908]\n"
     ]
    }
   ],
   "source": [
    "v1 = ref_draws_np.mean(axis=(0, 1))\n",
    "v2 = np.square(ref_draws_np).mean(axis=(0, 1))\n",
    "\n",
    "print(v1)\n",
    "print(v2)"
   ]
  },
  {
   "cell_type": "code",
   "execution_count": 44,
   "metadata": {},
   "outputs": [
    {
     "name": "stdout",
     "output_type": "stream",
     "text": [
      "[ 0.26265482  0.05815606 -0.01567756 -0.02020245 -0.07218985 -0.05637811\n",
      "  0.00748403 -0.03356094 -0.01249842  0.00155373]\n",
      "[  7.61315534  72.40134027  82.53033107  72.31794659  74.81189062\n",
      "  77.52481398  65.92392995  67.96706224  85.66199092 102.12010162]\n"
     ]
    }
   ],
   "source": [
    "v1 = ref_draws_np.mean(axis=(0, 1))\n",
    "v2 = np.square(ref_draws_np).mean(axis=(0, 1))\n",
    "\n",
    "print(v1)\n",
    "print(v2)"
   ]
  },
  {
   "cell_type": "code",
   "execution_count": 45,
   "metadata": {},
   "outputs": [
    {
     "name": "stderr",
     "output_type": "stream",
     "text": [
      "/mnt/home/gturok/mambaforge/envs/drghmc/lib/python3.11/site-packages/seaborn/axisgrid.py:123: UserWarning: The figure layout has changed to tight\n",
      "  self._figure.tight_layout(*args, **kwargs)\n"
     ]
    },
    {
     "data": {
      "text/plain": [
       "Text(0.5, 0.98, 'NUTS with adapt_delta=0.95')"
      ]
     },
     "execution_count": 45,
     "metadata": {},
     "output_type": "execute_result"
    },
    {
     "data": {
      "image/png": "[encoded data removed]",
      "text/plain": [
       "<Figure size 2500x500 with 1 Axes>"
      ]
     },
     "metadata": {},
     "output_type": "display_data"
    }
   ],
   "source": [
    "fig = sns.displot(\n",
    "    x=ref_draws_np[:, :, 0].flatten(), \n",
    "    aspect=5,\n",
    "    stat=\"density\"\n",
    ")\n",
    "fig.set(xlim=(-12, 12))\n",
    "# adjust subplots to make room for title\n",
    "fig.fig.subplots_adjust(top=0.9)\n",
    "fig.fig.suptitle(f\"NUTS with adapt_delta=0.95\")"
   ]
  }
 ],
 "metadata": {
  "kernelspec": {
   "display_name": "drghmc",
   "language": "python",
   "name": "python3"
  },
  "language_info": {
   "codemirror_mode": {
    "name": "ipython",
    "version": 3
   },
   "file_extension": ".py",
   "mimetype": "text/x-python",
   "name": "python",
   "nbconvert_exporter": "python",
   "pygments_lexer": "ipython3",
   "version": "3.1.0"
  }
 },
 "nbformat": 4,
 "nbformat_minor": 2
}
