{
 "cells": [
  {
   "cell_type": "markdown",
   "metadata": {},
   "source": [
    "# Imports and Defaults"
   ]
  },
  {
   "cell_type": "code",
   "execution_count": 13,
   "metadata": {},
   "outputs": [],
   "source": [
    "import json\n",
    "import os\n",
    "from functools import lru_cache\n",
    "\n",
    "import numpy as np\n",
    "import pandas as pd\n",
    "import matplotlib.pyplot as plt\n",
    "import seaborn as sns"
   ]
  },
  {
   "cell_type": "code",
   "execution_count": 14,
   "metadata": {},
   "outputs": [],
   "source": [
    "sns.set_theme(font_scale=1.6, style=\"whitegrid\")\n",
    "plt.rcParams.update({\n",
    "    \"text.usetex\": True,\n",
    "    \"font.family\": \"serif\",\n",
    "    \"figure.dpi\": 300,\n",
    "})\n",
    "\n",
    "seed = 1234\n",
    "rng = np.random.default_rng(seed)\n",
    "funnel_dim = 10"
   ]
  },
  {
   "cell_type": "markdown",
   "metadata": {},
   "source": [
    "# Load Data"
   ]
  },
  {
   "cell_type": "code",
   "execution_count": 15,
   "metadata": {},
   "outputs": [],
   "source": [
    "posterior_fname = f\"../../data/funnel{funnel_dim}/baseline\"\n",
    "\n",
    "drghmc_sampler = \"adapt_metric=False__damping=0.08__max_proposals=3__metric=1__probabilistic=False__reduction_factor=4__sampler_type=drghmc__step_count_method=const_step_count__step_size_factor=2\"\n",
    "drhmc_sampler = \"adapt_metric=False__damping=1.0__max_proposals=3__metric=1__probabilistic=False__reduction_factor=4__sampler_type=drhmc__step_count_factor=0.9__step_size_factor=2\"\n",
    "nuts_sampler = \"adapt_metric=False__metric=identity__sampler_type=nuts\""
   ]
  },
  {
   "cell_type": "code",
   "execution_count": 16,
   "metadata": {},
   "outputs": [],
   "source": [
    "def get_fname(sampler, chain):\n",
    "    return os.path.join(posterior_fname, sampler, f\"history__chain={chain}.npz\")\n",
    "\n",
    "def get_chain_data(sampler, chain):\n",
    "    data = np.load(get_fname(sampler, chain))\n",
    "    return data[\"draws\"], data[\"grad_evals\"]"
   ]
  },
  {
   "cell_type": "code",
   "execution_count": 17,
   "metadata": {},
   "outputs": [],
   "source": [
    "@lru_cache(maxsize=3)\n",
    "def get_data(sampler):\n",
    "    data_list, grad_list = [], []\n",
    "    for chain in range(100):\n",
    "        draws, grad_evals = get_chain_data(sampler, chain)\n",
    "        data_list.append(draws)\n",
    "        grad_list.append(np.array(grad_evals))\n",
    "    \n",
    "    return np.concatenate(data_list, axis=0), np.concatenate(grad_list)"
   ]
  },
  {
   "cell_type": "code",
   "execution_count": 18,
   "metadata": {},
   "outputs": [
    {
     "ename": "KeyboardInterrupt",
     "evalue": "",
     "output_type": "error",
     "traceback": [
      "\u001b[0;31m---------------------------------------------------------------------------\u001b[0m",
      "\u001b[0;31mKeyboardInterrupt\u001b[0m                         Traceback (most recent call last)",
      "Cell \u001b[0;32mIn[18], line 1\u001b[0m\n\u001b[0;32m----> 1\u001b[0m drghmc_data, drghmc_grads \u001b[38;5;241m=\u001b[39m \u001b[43mget_data\u001b[49m\u001b[43m(\u001b[49m\u001b[43mdrghmc_sampler\u001b[49m\u001b[43m)\u001b[49m\n\u001b[1;32m      2\u001b[0m drhmc_data, drhmc_grads \u001b[38;5;241m=\u001b[39m get_data(drhmc_sampler)\n\u001b[1;32m      3\u001b[0m nuts_data, nuts_grads \u001b[38;5;241m=\u001b[39m get_data(nuts_sampler)\n",
      "Cell \u001b[0;32mIn[17], line 5\u001b[0m, in \u001b[0;36mget_data\u001b[0;34m(sampler)\u001b[0m\n\u001b[1;32m      3\u001b[0m data_list, grad_list \u001b[38;5;241m=\u001b[39m [], []\n\u001b[1;32m      4\u001b[0m \u001b[38;5;28;01mfor\u001b[39;00m chain \u001b[38;5;129;01min\u001b[39;00m \u001b[38;5;28mrange\u001b[39m(\u001b[38;5;241m100\u001b[39m):\n\u001b[0;32m----> 5\u001b[0m     draws, grad_evals \u001b[38;5;241m=\u001b[39m \u001b[43mget_chain_data\u001b[49m\u001b[43m(\u001b[49m\u001b[43msampler\u001b[49m\u001b[43m,\u001b[49m\u001b[43m \u001b[49m\u001b[43mchain\u001b[49m\u001b[43m)\u001b[49m\n\u001b[1;32m      6\u001b[0m     data_list\u001b[38;5;241m.\u001b[39mappend(draws)\n\u001b[1;32m      7\u001b[0m     grad_list\u001b[38;5;241m.\u001b[39mappend(np\u001b[38;5;241m.\u001b[39marray(grad_evals))\n",
      "Cell \u001b[0;32mIn[16], line 6\u001b[0m, in \u001b[0;36mget_chain_data\u001b[0;34m(sampler, chain)\u001b[0m\n\u001b[1;32m      4\u001b[0m \u001b[38;5;28;01mdef\u001b[39;00m \u001b[38;5;21mget_chain_data\u001b[39m(sampler, chain):\n\u001b[1;32m      5\u001b[0m     data \u001b[38;5;241m=\u001b[39m np\u001b[38;5;241m.\u001b[39mload(get_fname(sampler, chain))\n\u001b[0;32m----> 6\u001b[0m     \u001b[38;5;28;01mreturn\u001b[39;00m \u001b[43mdata\u001b[49m\u001b[43m[\u001b[49m\u001b[38;5;124;43m\"\u001b[39;49m\u001b[38;5;124;43mdraws\u001b[39;49m\u001b[38;5;124;43m\"\u001b[39;49m\u001b[43m]\u001b[49m, data[\u001b[38;5;124m\"\u001b[39m\u001b[38;5;124mgrad_evals\u001b[39m\u001b[38;5;124m\"\u001b[39m]\n",
      "File \u001b[0;32m~/mambaforge/envs/drghmc/lib/python3.11/site-packages/numpy/lib/npyio.py:256\u001b[0m, in \u001b[0;36mNpzFile.__getitem__\u001b[0;34m(self, key)\u001b[0m\n\u001b[1;32m    254\u001b[0m \u001b[38;5;28;01mif\u001b[39;00m magic \u001b[38;5;241m==\u001b[39m \u001b[38;5;28mformat\u001b[39m\u001b[38;5;241m.\u001b[39mMAGIC_PREFIX:\n\u001b[1;32m    255\u001b[0m     \u001b[38;5;28mbytes\u001b[39m \u001b[38;5;241m=\u001b[39m \u001b[38;5;28mself\u001b[39m\u001b[38;5;241m.\u001b[39mzip\u001b[38;5;241m.\u001b[39mopen(key)\n\u001b[0;32m--> 256\u001b[0m     \u001b[38;5;28;01mreturn\u001b[39;00m \u001b[38;5;28;43mformat\u001b[39;49m\u001b[38;5;241;43m.\u001b[39;49m\u001b[43mread_array\u001b[49m\u001b[43m(\u001b[49m\u001b[38;5;28;43mbytes\u001b[39;49m\u001b[43m,\u001b[49m\n\u001b[1;32m    257\u001b[0m \u001b[43m                             \u001b[49m\u001b[43mallow_pickle\u001b[49m\u001b[38;5;241;43m=\u001b[39;49m\u001b[38;5;28;43mself\u001b[39;49m\u001b[38;5;241;43m.\u001b[39;49m\u001b[43mallow_pickle\u001b[49m\u001b[43m,\u001b[49m\n\u001b[1;32m    258\u001b[0m \u001b[43m                             \u001b[49m\u001b[43mpickle_kwargs\u001b[49m\u001b[38;5;241;43m=\u001b[39;49m\u001b[38;5;28;43mself\u001b[39;49m\u001b[38;5;241;43m.\u001b[39;49m\u001b[43mpickle_kwargs\u001b[49m\u001b[43m,\u001b[49m\n\u001b[1;32m    259\u001b[0m \u001b[43m                             \u001b[49m\u001b[43mmax_header_size\u001b[49m\u001b[38;5;241;43m=\u001b[39;49m\u001b[38;5;28;43mself\u001b[39;49m\u001b[38;5;241;43m.\u001b[39;49m\u001b[43mmax_header_size\u001b[49m\u001b[43m)\u001b[49m\n\u001b[1;32m    260\u001b[0m \u001b[38;5;28;01melse\u001b[39;00m:\n\u001b[1;32m    261\u001b[0m     \u001b[38;5;28;01mreturn\u001b[39;00m \u001b[38;5;28mself\u001b[39m\u001b[38;5;241m.\u001b[39mzip\u001b[38;5;241m.\u001b[39mread(key)\n",
      "File \u001b[0;32m~/mambaforge/envs/drghmc/lib/python3.11/site-packages/numpy/lib/format.py:831\u001b[0m, in \u001b[0;36mread_array\u001b[0;34m(fp, allow_pickle, pickle_kwargs, max_header_size)\u001b[0m\n\u001b[1;32m    829\u001b[0m             read_count \u001b[38;5;241m=\u001b[39m \u001b[38;5;28mmin\u001b[39m(max_read_count, count \u001b[38;5;241m-\u001b[39m i)\n\u001b[1;32m    830\u001b[0m             read_size \u001b[38;5;241m=\u001b[39m \u001b[38;5;28mint\u001b[39m(read_count \u001b[38;5;241m*\u001b[39m dtype\u001b[38;5;241m.\u001b[39mitemsize)\n\u001b[0;32m--> 831\u001b[0m             data \u001b[38;5;241m=\u001b[39m \u001b[43m_read_bytes\u001b[49m\u001b[43m(\u001b[49m\u001b[43mfp\u001b[49m\u001b[43m,\u001b[49m\u001b[43m \u001b[49m\u001b[43mread_size\u001b[49m\u001b[43m,\u001b[49m\u001b[43m \u001b[49m\u001b[38;5;124;43m\"\u001b[39;49m\u001b[38;5;124;43marray data\u001b[39;49m\u001b[38;5;124;43m\"\u001b[39;49m\u001b[43m)\u001b[49m\n\u001b[1;32m    832\u001b[0m             array[i:i\u001b[38;5;241m+\u001b[39mread_count] \u001b[38;5;241m=\u001b[39m numpy\u001b[38;5;241m.\u001b[39mfrombuffer(data, dtype\u001b[38;5;241m=\u001b[39mdtype,\n\u001b[1;32m    833\u001b[0m                                                      count\u001b[38;5;241m=\u001b[39mread_count)\n\u001b[1;32m    835\u001b[0m \u001b[38;5;28;01mif\u001b[39;00m fortran_order:\n",
      "File \u001b[0;32m~/mambaforge/envs/drghmc/lib/python3.11/site-packages/numpy/lib/format.py:966\u001b[0m, in \u001b[0;36m_read_bytes\u001b[0;34m(fp, size, error_template)\u001b[0m\n\u001b[1;32m    961\u001b[0m \u001b[38;5;28;01mwhile\u001b[39;00m \u001b[38;5;28;01mTrue\u001b[39;00m:\n\u001b[1;32m    962\u001b[0m     \u001b[38;5;66;03m# io files (default in python3) return None or raise on\u001b[39;00m\n\u001b[1;32m    963\u001b[0m     \u001b[38;5;66;03m# would-block, python2 file will truncate, probably nothing can be\u001b[39;00m\n\u001b[1;32m    964\u001b[0m     \u001b[38;5;66;03m# done about that.  note that regular files can't be non-blocking\u001b[39;00m\n\u001b[1;32m    965\u001b[0m     \u001b[38;5;28;01mtry\u001b[39;00m:\n\u001b[0;32m--> 966\u001b[0m         r \u001b[38;5;241m=\u001b[39m \u001b[43mfp\u001b[49m\u001b[38;5;241;43m.\u001b[39;49m\u001b[43mread\u001b[49m\u001b[43m(\u001b[49m\u001b[43msize\u001b[49m\u001b[43m \u001b[49m\u001b[38;5;241;43m-\u001b[39;49m\u001b[43m \u001b[49m\u001b[38;5;28;43mlen\u001b[39;49m\u001b[43m(\u001b[49m\u001b[43mdata\u001b[49m\u001b[43m)\u001b[49m\u001b[43m)\u001b[49m\n\u001b[1;32m    967\u001b[0m         data \u001b[38;5;241m+\u001b[39m\u001b[38;5;241m=\u001b[39m r\n\u001b[1;32m    968\u001b[0m         \u001b[38;5;28;01mif\u001b[39;00m \u001b[38;5;28mlen\u001b[39m(r) \u001b[38;5;241m==\u001b[39m \u001b[38;5;241m0\u001b[39m \u001b[38;5;129;01mor\u001b[39;00m \u001b[38;5;28mlen\u001b[39m(data) \u001b[38;5;241m==\u001b[39m size:\n",
      "File \u001b[0;32m~/mambaforge/envs/drghmc/lib/python3.11/zipfile.py:957\u001b[0m, in \u001b[0;36mZipExtFile.read\u001b[0;34m(self, n)\u001b[0m\n\u001b[1;32m    955\u001b[0m \u001b[38;5;28mself\u001b[39m\u001b[38;5;241m.\u001b[39m_offset \u001b[38;5;241m=\u001b[39m \u001b[38;5;241m0\u001b[39m\n\u001b[1;32m    956\u001b[0m \u001b[38;5;28;01mwhile\u001b[39;00m n \u001b[38;5;241m>\u001b[39m \u001b[38;5;241m0\u001b[39m \u001b[38;5;129;01mand\u001b[39;00m \u001b[38;5;129;01mnot\u001b[39;00m \u001b[38;5;28mself\u001b[39m\u001b[38;5;241m.\u001b[39m_eof:\n\u001b[0;32m--> 957\u001b[0m     data \u001b[38;5;241m=\u001b[39m \u001b[38;5;28;43mself\u001b[39;49m\u001b[38;5;241;43m.\u001b[39;49m\u001b[43m_read1\u001b[49m\u001b[43m(\u001b[49m\u001b[43mn\u001b[49m\u001b[43m)\u001b[49m\n\u001b[1;32m    958\u001b[0m     \u001b[38;5;28;01mif\u001b[39;00m n \u001b[38;5;241m<\u001b[39m \u001b[38;5;28mlen\u001b[39m(data):\n\u001b[1;32m    959\u001b[0m         \u001b[38;5;28mself\u001b[39m\u001b[38;5;241m.\u001b[39m_readbuffer \u001b[38;5;241m=\u001b[39m data\n",
      "File \u001b[0;32m~/mambaforge/envs/drghmc/lib/python3.11/zipfile.py:1047\u001b[0m, in \u001b[0;36mZipExtFile._read1\u001b[0;34m(self, n)\u001b[0m\n\u001b[1;32m   1045\u001b[0m \u001b[38;5;28;01mif\u001b[39;00m \u001b[38;5;28mself\u001b[39m\u001b[38;5;241m.\u001b[39m_left \u001b[38;5;241m<\u001b[39m\u001b[38;5;241m=\u001b[39m \u001b[38;5;241m0\u001b[39m:\n\u001b[1;32m   1046\u001b[0m     \u001b[38;5;28mself\u001b[39m\u001b[38;5;241m.\u001b[39m_eof \u001b[38;5;241m=\u001b[39m \u001b[38;5;28;01mTrue\u001b[39;00m\n\u001b[0;32m-> 1047\u001b[0m \u001b[38;5;28;43mself\u001b[39;49m\u001b[38;5;241;43m.\u001b[39;49m\u001b[43m_update_crc\u001b[49m\u001b[43m(\u001b[49m\u001b[43mdata\u001b[49m\u001b[43m)\u001b[49m\n\u001b[1;32m   1048\u001b[0m \u001b[38;5;28;01mreturn\u001b[39;00m data\n",
      "File \u001b[0;32m~/mambaforge/envs/drghmc/lib/python3.11/zipfile.py:972\u001b[0m, in \u001b[0;36mZipExtFile._update_crc\u001b[0;34m(self, newdata)\u001b[0m\n\u001b[1;32m    969\u001b[0m \u001b[38;5;28;01mif\u001b[39;00m \u001b[38;5;28mself\u001b[39m\u001b[38;5;241m.\u001b[39m_expected_crc \u001b[38;5;129;01mis\u001b[39;00m \u001b[38;5;28;01mNone\u001b[39;00m:\n\u001b[1;32m    970\u001b[0m     \u001b[38;5;66;03m# No need to compute the CRC if we don't have a reference value\u001b[39;00m\n\u001b[1;32m    971\u001b[0m     \u001b[38;5;28;01mreturn\u001b[39;00m\n\u001b[0;32m--> 972\u001b[0m \u001b[38;5;28mself\u001b[39m\u001b[38;5;241m.\u001b[39m_running_crc \u001b[38;5;241m=\u001b[39m crc32(newdata, \u001b[38;5;28mself\u001b[39m\u001b[38;5;241m.\u001b[39m_running_crc)\n\u001b[1;32m    973\u001b[0m \u001b[38;5;66;03m# Check the CRC if we're at the end of the file\u001b[39;00m\n\u001b[1;32m    974\u001b[0m \u001b[38;5;28;01mif\u001b[39;00m \u001b[38;5;28mself\u001b[39m\u001b[38;5;241m.\u001b[39m_eof \u001b[38;5;129;01mand\u001b[39;00m \u001b[38;5;28mself\u001b[39m\u001b[38;5;241m.\u001b[39m_running_crc \u001b[38;5;241m!=\u001b[39m \u001b[38;5;28mself\u001b[39m\u001b[38;5;241m.\u001b[39m_expected_crc:\n",
      "\u001b[0;31mKeyboardInterrupt\u001b[0m: "
     ]
    }
   ],
   "source": [
    "drghmc_data, drghmc_grads = get_data(drghmc_sampler)\n",
    "drhmc_data, drhmc_grads = get_data(drhmc_sampler)\n",
    "nuts_data, nuts_grads = get_data(nuts_sampler)"
   ]
  },
  {
   "cell_type": "code",
   "execution_count": null,
   "metadata": {},
   "outputs": [],
   "source": [
    "# drghmc in 10 dim has 1e7 grad evals, instead of 1e6\n",
    "if funnel_dim == 10:    \n",
    "    for i in range(drghmc_grads.shape[0]):\n",
    "        idx = np.where(drghmc_grads[i] < 1e6)[0]\n",
    "        drghmc_data[i] = drghmc_data[i, idx]\n",
    "        drghmc_grads[i] = drghmc_grads[i, idx]"
   ]
  },
  {
   "cell_type": "markdown",
   "metadata": {},
   "source": [
    "# Loss Plots"
   ]
  },
  {
   "cell_type": "code",
   "execution_count": null,
   "metadata": {},
   "outputs": [],
   "source": [
    "fname = f\"../../posteriors/funnel{funnel_dim}/funnel{funnel_dim}.analytic_params.json\"\n",
    "with open(fname, \"r\") as f:\n",
    "    analytic_params = json.load(f)\n",
    "    \n",
    "true_mean = np.array([v for v in analytic_params[\"params_mean\"].values()])\n",
    "true_std = np.array([v for v in analytic_params[\"params_std\"].values()])\n",
    "true_squared_mean = np.array([v for v in analytic_params[\"params_squared_mean\"].values()])\n",
    "true_squared_std = np.array([v for v in analytic_params[\"params_squared_std\"].values()])"
   ]
  },
  {
   "cell_type": "code",
   "execution_count": null,
   "metadata": {},
   "outputs": [],
   "source": [
    "# dummy data\n",
    "ndim = 2\n",
    "nchains = 3\n",
    "nsamples = 5\n",
    "\n",
    "data = [rng.integers(0, 10, (nsamples, ndim)) for _ in range(nchains)]\n",
    "grads = [np.cumsum(rng.integers(1, 10, nsamples)) for _ in range(nchains)]\n",
    "\n",
    "# _ = [print(f\"Data: {d}\\nGrad: {g}\\n\") for d, g in zip(data, grads)]"
   ]
  },
  {
   "cell_type": "code",
   "execution_count": null,
   "metadata": {},
   "outputs": [],
   "source": [
    "# compute cumulative average based off gradeint evaluation indexing across chains\n",
    "# for `t` gradient evaluations, we want to get the average of all samples across all chains \n",
    "# generated with <= t gradient evaluations\n",
    "\n",
    "# merge data list into single numpy array based off gradient evaluation index\n",
    "# do so effiicently because single chain data is already sorted per gradient evaluation\n",
    "def merge_data(data_list, grad_list):\n",
    "    data = np.concatenate(data_list, axis=0)\n",
    "    grads = np.concatenate(grad_list, axis=0)\n",
    "    idx = np.argsort(grads)\n",
    "    return data[idx], grads[idx]\n",
    "\n",
    "merged_data, merged_grads = merge_data(data, grads)\n",
    "# _ = [print(f\"Data: {d}\\tGrad: {g}\") for d, g in zip(merged_data, merged_grads)]"
   ]
  },
  {
   "cell_type": "code",
   "execution_count": null,
   "metadata": {},
   "outputs": [],
   "source": [
    "def get_mean(data):\n",
    "    n = data.shape[0]\n",
    "    denom = np.arange(1, n + 1)[:, None]\n",
    "    return np.cumsum(data, axis=0) / denom\n",
    "\n",
    "def get_error(data):\n",
    "    abs_error = np.abs(get_mean(data) - true_mean)\n",
    "    return np.linalg.norm(abs_error / true_std, axis=1, ord=np.inf)  # inf norm equivalent to max\n",
    "\n",
    "def get_error_squared(data):\n",
    "    abs_error = np.abs(get_mean(data ** 2) - true_squared_mean)\n",
    "    return np.linalg.norm(abs_error / true_squared_std, axis=1, ord=np.inf)  # inf norm equivalent to max\n",
    "\n",
    "np.set_printoptions(precision=3)\n",
    "avg = get_mean(merged_data)\n",
    "# _ = [print(f\"Data: {d}   \\tGrad: {g}\") for d, g in zip(avg, merged_grads)]"
   ]
  },
  {
   "cell_type": "code",
   "execution_count": null,
   "metadata": {},
   "outputs": [],
   "source": [
    "# try with real data\n",
    "drghmc_data_merged, drghmc_grad_merged = merge_data(drghmc_data, drghmc_grads)\n",
    "drhmc_data_merged, drhmc_grad_merged = merge_data(drhmc_data, drhmc_grads)\n",
    "nuts_data_merged, nuts_grad_merged = merge_data(nuts_data, nuts_grads)"
   ]
  },
  {
   "cell_type": "code",
   "execution_count": null,
   "metadata": {},
   "outputs": [],
   "source": [
    "drghmc_error = get_error(drghmc_data_merged)\n",
    "drhmc_error = get_error(drhmc_data_merged)\n",
    "nuts_error = get_error(nuts_data_merged)\n",
    "\n",
    "drghmc_error_squared = get_error_squared(drghmc_data_merged)\n",
    "drhmc_error_squared = get_error_squared(drhmc_data_merged)\n",
    "nuts_error_squared = get_error_squared(nuts_data_merged)"
   ]
  },
  {
   "cell_type": "code",
   "execution_count": null,
   "metadata": {},
   "outputs": [
    {
     "data": {
      "text/html": [
       "<div>\n",
       "<style scoped>\n",
       "    .dataframe tbody tr th:only-of-type {\n",
       "        vertical-align: middle;\n",
       "    }\n",
       "\n",
       "    .dataframe tbody tr th {\n",
       "        vertical-align: top;\n",
       "    }\n",
       "\n",
       "    .dataframe thead th {\n",
       "        text-align: right;\n",
       "    }\n",
       "</style>\n",
       "<table border=\"1\" class=\"dataframe\">\n",
       "  <thead>\n",
       "    <tr style=\"text-align: right;\">\n",
       "      <th></th>\n",
       "      <th>Gradient Evaluations</th>\n",
       "      <th>Sampler</th>\n",
       "      <th>Error Type</th>\n",
       "      <th>Errors</th>\n",
       "    </tr>\n",
       "  </thead>\n",
       "  <tbody>\n",
       "    <tr>\n",
       "      <th>0</th>\n",
       "      <td>2.0</td>\n",
       "      <td>DR-G-HMC</td>\n",
       "      <td>Error</td>\n",
       "      <td>0.286528</td>\n",
       "    </tr>\n",
       "    <tr>\n",
       "      <th>10</th>\n",
       "      <td>2.0</td>\n",
       "      <td>DR-G-HMC</td>\n",
       "      <td>Error</td>\n",
       "      <td>0.612318</td>\n",
       "    </tr>\n",
       "    <tr>\n",
       "      <th>20</th>\n",
       "      <td>2.0</td>\n",
       "      <td>DR-G-HMC</td>\n",
       "      <td>Error</td>\n",
       "      <td>0.758338</td>\n",
       "    </tr>\n",
       "    <tr>\n",
       "      <th>30</th>\n",
       "      <td>2.0</td>\n",
       "      <td>DR-G-HMC</td>\n",
       "      <td>Error</td>\n",
       "      <td>0.711344</td>\n",
       "    </tr>\n",
       "    <tr>\n",
       "      <th>40</th>\n",
       "      <td>2.0</td>\n",
       "      <td>DR-G-HMC</td>\n",
       "      <td>Error</td>\n",
       "      <td>0.706266</td>\n",
       "    </tr>\n",
       "    <tr>\n",
       "      <th>...</th>\n",
       "      <td>...</td>\n",
       "      <td>...</td>\n",
       "      <td>...</td>\n",
       "      <td>...</td>\n",
       "    </tr>\n",
       "    <tr>\n",
       "      <th>77264050</th>\n",
       "      <td>999994.0</td>\n",
       "      <td>NUTS</td>\n",
       "      <td>Error Squared</td>\n",
       "      <td>0.813656</td>\n",
       "    </tr>\n",
       "    <tr>\n",
       "      <th>77264060</th>\n",
       "      <td>999995.0</td>\n",
       "      <td>NUTS</td>\n",
       "      <td>Error Squared</td>\n",
       "      <td>0.813655</td>\n",
       "    </tr>\n",
       "    <tr>\n",
       "      <th>77264070</th>\n",
       "      <td>999997.0</td>\n",
       "      <td>NUTS</td>\n",
       "      <td>Error Squared</td>\n",
       "      <td>0.813655</td>\n",
       "    </tr>\n",
       "    <tr>\n",
       "      <th>77264080</th>\n",
       "      <td>999999.0</td>\n",
       "      <td>NUTS</td>\n",
       "      <td>Error Squared</td>\n",
       "      <td>0.813655</td>\n",
       "    </tr>\n",
       "    <tr>\n",
       "      <th>77264090</th>\n",
       "      <td>1000000.0</td>\n",
       "      <td>NUTS</td>\n",
       "      <td>Error Squared</td>\n",
       "      <td>0.813655</td>\n",
       "    </tr>\n",
       "  </tbody>\n",
       "</table>\n",
       "<p>7726410 rows × 4 columns</p>\n",
       "</div>"
      ],
      "text/plain": [
       "          Gradient Evaluations   Sampler     Error Type    Errors\n",
       "0                          2.0  DR-G-HMC          Error  0.286528\n",
       "10                         2.0  DR-G-HMC          Error  0.612318\n",
       "20                         2.0  DR-G-HMC          Error  0.758338\n",
       "30                         2.0  DR-G-HMC          Error  0.711344\n",
       "40                         2.0  DR-G-HMC          Error  0.706266\n",
       "...                        ...       ...            ...       ...\n",
       "77264050              999994.0      NUTS  Error Squared  0.813656\n",
       "77264060              999995.0      NUTS  Error Squared  0.813655\n",
       "77264070              999997.0      NUTS  Error Squared  0.813655\n",
       "77264080              999999.0      NUTS  Error Squared  0.813655\n",
       "77264090             1000000.0      NUTS  Error Squared  0.813655\n",
       "\n",
       "[7726410 rows x 4 columns]"
      ]
     },
     "execution_count": 41,
     "metadata": {},
     "output_type": "execute_result"
    }
   ],
   "source": [
    "data = {\n",
    "    \"Gradient Evaluations\": np.concatenate([drghmc_grad_merged, drhmc_grad_merged, nuts_grad_merged]),\n",
    "    \"Error\": np.concatenate([drghmc_error, drhmc_error, nuts_error]),\n",
    "    \"Error Squared\": np.concatenate([drghmc_error_squared, drhmc_error_squared, nuts_error_squared]),\n",
    "    \"Sampler\": np.concatenate(\n",
    "        [[\"DR-G-HMC\"] * len(drghmc_grad_merged), \n",
    "         [\"DR-HMC\"] * len(drhmc_grad_merged), \n",
    "         [\"NUTS\"] * len(nuts_grad_merged)]\n",
    "    )\n",
    "}\n",
    "\n",
    "data = pd.DataFrame(data)\n",
    "data = pd.melt(data, id_vars=[\"Gradient Evaluations\", \"Sampler\"], var_name=\"Error Type\", value_name=\"Errors\")\n",
    "data = data.iloc[::10, :]\n",
    "data"
   ]
  },
  {
   "cell_type": "code",
   "execution_count": null,
   "metadata": {},
   "outputs": [],
   "source": [
    "fig = sns.relplot(\n",
    "    data=data,\n",
    "    kind=\"line\",\n",
    "    x=\"Gradient Evaluations\",\n",
    "    y=\"Errors\",\n",
    "    hue=\"Sampler\",\n",
    "    # row=\"Sampler\",\n",
    "    col=\"Error Type\",\n",
    "    aspect=1.5,\n",
    "    # facet_kws={\"sharey\": \"col\"},\n",
    ")\n",
    "fig.set(yscale=\"log\")        \n",
    "fig.set(ylim=(1e-3, 5e0))\n",
    "fig.axes.flat[0].set_title(r'Error in Mean ($\\mathcal{L}_{\\theta, t}$)')\n",
    "fig.axes.flat[1].set_title(r'Error in Variance ($\\mathcal{L}_{\\theta^2, t}$)')\n",
    "\n",
    "fig.set_ylabels(\"Error\")\n",
    "fig.set_xlabels(r'Gradient Evaluations ($t$)')\n",
    "fig.figure.subplots_adjust(bottom=0.3)\n",
    "sns.move_legend(fig, \"lower center\", ncol=3, title=\"\")"
   ]
  }
 ],
 "metadata": {
  "kernelspec": {
   "display_name": "drghmc",
   "language": "python",
   "name": "python3"
  },
  "language_info": {
   "codemirror_mode": {
    "name": "ipython",
    "version": 3
   },
   "file_extension": ".py",
   "mimetype": "text/x-python",
   "name": "python",
   "nbconvert_exporter": "python",
   "pygments_lexer": "ipython3",
   "version": "3.11.8"
  }
 },
 "nbformat": 4,
 "nbformat_minor": 2
}
