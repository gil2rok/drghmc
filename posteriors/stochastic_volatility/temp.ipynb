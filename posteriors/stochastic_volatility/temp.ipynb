{
 "cells": [
  {
   "cell_type": "markdown",
   "metadata": {},
   "source": [
    "# Imports and Defaults"
   ]
  },
  {
   "cell_type": "code",
   "execution_count": 1,
   "metadata": {},
   "outputs": [],
   "source": [
    "import numpy as np\n",
    "import zipfile\n",
    "import json"
   ]
  },
  {
   "cell_type": "markdown",
   "metadata": {},
   "source": [
    "# Get Data"
   ]
  },
  {
   "cell_type": "code",
   "execution_count": 2,
   "metadata": {},
   "outputs": [],
   "source": [
    "fname = \"stochastic_volatility.ref_draws.json\""
   ]
  },
  {
   "cell_type": "code",
   "execution_count": 3,
   "metadata": {},
   "outputs": [],
   "source": [
    "with open(fname, \"r\") as f:\n",
    "    ref_draws_dict = json.load(f)"
   ]
  },
  {
   "cell_type": "markdown",
   "metadata": {},
   "source": [
    "# Get Inits"
   ]
  },
  {
   "cell_type": "code",
   "execution_count": 14,
   "metadata": {},
   "outputs": [],
   "source": [
    "inits = []\n",
    "\n",
    "for my_dict in ref_draws_dict:\n",
    "    arr = np.array([v[-1] for v in my_dict.values()])\n",
    "    inits.append(arr)\n",
    "\n",
    "# reshape to (nchains, 1, nparams)\n",
    "inits = np.array(inits)[:, np.newaxis, :]"
   ]
  },
  {
   "cell_type": "code",
   "execution_count": 19,
   "metadata": {},
   "outputs": [],
   "source": [
    "# save to numpy file\n",
    "np.save(\"stochastic_volatility.inits.npy\", inits)"
   ]
  },
  {
   "cell_type": "markdown",
   "metadata": {},
   "source": [
    "# Get true params and true params squared"
   ]
  },
  {
   "cell_type": "code",
   "execution_count": 8,
   "metadata": {},
   "outputs": [],
   "source": [
    "true_params_mean, true_params_std = [], []\n",
    "for my_dict in ref_draws_dict:\n",
    "    mean = np.array([np.mean(v) for v in my_dict.values()])\n",
    "    std = np.array([np.std(v) for v in my_dict.values()])\n",
    "    true_params_mean.append(mean)\n",
    "    true_params_std.append(std)\n",
    "true_params_mean = np.array(true_params_mean)\n",
    "true_params_std = np.array(true_params_std)"
   ]
  },
  {
   "cell_type": "code",
   "execution_count": 9,
   "metadata": {},
   "outputs": [],
   "source": [
    "true_params_squared_mean, true_params_squared_std = [], []\n",
    "for my_dict in ref_draws_dict:\n",
    "    mean = np.array([np.mean(np.square(v)) for v in my_dict.values()])\n",
    "    std = np.array([np.std(np.square(v)) for v in my_dict.values()])\n",
    "    true_params_squared_mean.append(mean)\n",
    "    true_params_squared_std.append(std)\n",
    "true_params_squared_mean = np.array(true_params_squared_mean)\n",
    "true_params_squared_std = np.array(true_params_squared_std)"
   ]
  },
  {
   "cell_type": "code",
   "execution_count": 10,
   "metadata": {},
   "outputs": [
    {
     "ename": "",
     "evalue": "",
     "output_type": "error",
     "traceback": [
      "\u001b[1;31mThe Kernel crashed while executing code in the current cell or a previous cell. \n",
      "\u001b[1;31mPlease review the code in the cell(s) to identify a possible cause of the failure. \n",
      "\u001b[1;31mClick <a href='https://aka.ms/vscodeJupyterKernelCrash'>here</a> for more info. \n",
      "\u001b[1;31mView Jupyter <a href='command:jupyter.viewOutput'>log</a> for further details."
     ]
    }
   ],
   "source": [
    "# numpy save in npz format\n",
    "np.savez(\n",
    "    \"stochastic_volatility.true_params.npz\",\n",
    "    mean=true_params_mean,\n",
    "    std=true_params_std,\n",
    "    squared_mean=true_params_squared_mean,\n",
    "    squared_std=true_params_squared_std\n",
    ")"
   ]
  }
 ],
 "metadata": {
  "kernelspec": {
   "display_name": "drghmc",
   "language": "python",
   "name": "python3"
  },
  "language_info": {
   "codemirror_mode": {
    "name": "ipython",
    "version": 3
   },
   "file_extension": ".py",
   "mimetype": "text/x-python",
   "name": "python",
   "nbconvert_exporter": "python",
   "pygments_lexer": "ipython3",
   "version": "3.11.4"
  }
 },
 "nbformat": 4,
 "nbformat_minor": 2
}
