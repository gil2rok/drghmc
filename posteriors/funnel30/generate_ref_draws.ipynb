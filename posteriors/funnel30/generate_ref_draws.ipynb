{
 "cells": [
  {
   "cell_type": "markdown",
   "metadata": {},
   "source": [
    "# Imports and Defaults"
   ]
  },
  {
   "cell_type": "code",
   "execution_count": 1,
   "metadata": {},
   "outputs": [],
   "source": [
    "import json\n",
    "import os\n",
    "import zipfile\n",
    "\n",
    "import bridgestan as bs\n",
    "from cmdstanpy import CmdStanModel\n",
    "import numpy as np"
   ]
  },
  {
   "cell_type": "code",
   "execution_count": 5,
   "metadata": {},
   "outputs": [],
   "source": [
    "seed = 1234\n",
    "rng = np.random.default_rng(seed)\n",
    "\n",
    "num_chains = 100\n",
    "num_samples = 10\n",
    "num_dimensions = 30\n",
    "\n",
    "model_name = \"funnel30\"\n",
    "model_path = model_name + \".stan\"\n",
    "data_path = model_name + \".json\""
   ]
  },
  {
   "cell_type": "markdown",
   "metadata": {},
   "source": [
    "# Generate Reference Draws"
   ]
  },
  {
   "cell_type": "code",
   "execution_count": 6,
   "metadata": {},
   "outputs": [],
   "source": [
    "v = rng.normal(0, 3, size=(num_chains, num_samples, 1))\n",
    "theta = rng.normal(0, np.exp(v / 2), size=(num_chains, num_samples, num_dimensions - 1))\n",
    "ref_draws_np = np.concatenate([v, theta], axis=2)"
   ]
  },
  {
   "cell_type": "code",
   "execution_count": 7,
   "metadata": {},
   "outputs": [],
   "source": [
    "# convert from numpy 3d array to json format\n",
    "\n",
    "param_names = [\n",
    "    \"v\", \"theta[1]\", \"theta[2]\", \"theta[3]\", \"theta[4]\", \"theta[5]\", \"theta[6]\", \"theta[7]\", \"theta[8]\", \"theta[9]\", \n",
    "    \"theta[10]\", \"theta[11]\", \"theta[12]\", \"theta[13]\", \"theta[14]\", \"theta[15]\", \"theta[16]\", \"theta[17]\", \"theta[18]\", \"theta[19]\", \n",
    "    \"theta[20]\", \"theta[21]\", \"theta[22]\", \"theta[23]\", \"theta[24]\", \"theta[25]\", \"theta[26]\", \"theta[27]\", \"theta[28]\", \"theta[29]\" \n",
    "]\n",
    "\n",
    "ref_draws = []\n",
    "for chain in ref_draws_np:  # each chain is [n_samples, params_dim]\n",
    "    chain_dict = {}\n",
    "    for name, params in zip(param_names, chain.T):\n",
    "        chain_dict[name] = params.tolist()\n",
    "    ref_draws.append(chain_dict)\n",
    "\n",
    "# save to file\n",
    "with zipfile.ZipFile(f\"{model_name}.ref_draws.json.zip\", mode=\"w\", compression=zipfile.ZIP_DEFLATED, compresslevel=9) as zip_file: \n",
    "    dumped_JSON: str = json.dumps(ref_draws, ensure_ascii=False, indent=4)\n",
    "    zip_file.writestr(f\"{model_name}.ref_draws.json\", data=dumped_JSON)"
   ]
  }
 ],
 "metadata": {
  "kernelspec": {
   "display_name": "drghmc",
   "language": "python",
   "name": "python3"
  },
  "language_info": {
   "codemirror_mode": {
    "name": "ipython",
    "version": 3
   },
   "file_extension": ".py",
   "mimetype": "text/x-python",
   "name": "python",
   "nbconvert_exporter": "python",
   "pygments_lexer": "ipython3",
   "version": "3.11.4"
  }
 },
 "nbformat": 4,
 "nbformat_minor": 2
}
