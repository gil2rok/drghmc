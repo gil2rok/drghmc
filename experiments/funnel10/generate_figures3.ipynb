{
 "cells": [
  {
   "cell_type": "markdown",
   "metadata": {},
   "source": [
    "# Imports and Defaults"
   ]
  },
  {
   "cell_type": "code",
   "execution_count": 1,
   "metadata": {},
   "outputs": [],
   "source": [
    "import os\n",
    "\n",
    "import numpy as np\n",
    "import polars as pl\n",
    "import seaborn as sns"
   ]
  },
  {
   "cell_type": "code",
   "execution_count": 2,
   "metadata": {},
   "outputs": [],
   "source": [
    "sns.set_theme(style=\"darkgrid\")\n",
    "posterior_name = \"funnel10\"\n",
    "data_dir = os.path.join(\"..\", \"..\", \"data\", posterior_name)"
   ]
  },
  {
   "cell_type": "markdown",
   "metadata": {},
   "source": [
    "# Load Data"
   ]
  },
  {
   "cell_type": "code",
   "execution_count": 3,
   "metadata": {},
   "outputs": [
    {
     "data": {
      "text/html": [
       "<div><style>\n",
       ".dataframe > thead > tr,\n",
       ".dataframe > tbody > tr {\n",
       "  text-align: right;\n",
       "  white-space: pre-wrap;\n",
       "}\n",
       "</style>\n",
       "<small>shape: (9, 37)</small><table border=\"1\" class=\"dataframe\"><thead><tr><th>statistic</th><th>chain</th><th>damping</th><th>max_proposals</th><th>metric</th><th>probabilistic</th><th>reduction_factor</th><th>sampler_type</th><th>step_count_method</th><th>step_size</th><th>step_size_factor</th><th>hparams</th><th>num_nans</th><th>max_se1</th><th>max_se2</th><th>p0_se1</th><th>p1_se1</th><th>p2_se1</th><th>p3_se1</th><th>p4_se1</th><th>p5_se1</th><th>p6_se1</th><th>p7_se1</th><th>p8_se1</th><th>p9_se1</th><th>p0_se2</th><th>p1_se2</th><th>p2_se2</th><th>p3_se2</th><th>p4_se2</th><th>p5_se2</th><th>p6_se2</th><th>p7_se2</th><th>p8_se2</th><th>p9_se2</th><th>step_count</th><th>step_count_factor</th></tr><tr><td>str</td><td>f64</td><td>f64</td><td>f64</td><td>f64</td><td>f64</td><td>f64</td><td>str</td><td>str</td><td>f64</td><td>f64</td><td>str</td><td>f64</td><td>f64</td><td>f64</td><td>f64</td><td>f64</td><td>f64</td><td>f64</td><td>f64</td><td>f64</td><td>f64</td><td>f64</td><td>f64</td><td>f64</td><td>f64</td><td>f64</td><td>f64</td><td>f64</td><td>f64</td><td>f64</td><td>f64</td><td>f64</td><td>f64</td><td>f64</td><td>f64</td><td>f64</td></tr></thead><tbody><tr><td>&quot;count&quot;</td><td>4405.0</td><td>4400.0</td><td>4400.0</td><td>4400.0</td><td>4400.0</td><td>4400.0</td><td>&quot;4405&quot;</td><td>&quot;4000&quot;</td><td>0.0</td><td>4400.0</td><td>&quot;4405&quot;</td><td>4405.0</td><td>4405.0</td><td>4405.0</td><td>4405.0</td><td>4405.0</td><td>4405.0</td><td>4405.0</td><td>4405.0</td><td>4405.0</td><td>4405.0</td><td>4405.0</td><td>4405.0</td><td>4405.0</td><td>4405.0</td><td>4405.0</td><td>4405.0</td><td>4405.0</td><td>4405.0</td><td>4405.0</td><td>4405.0</td><td>4405.0</td><td>4405.0</td><td>4405.0</td><td>0.0</td><td>400.0</td></tr><tr><td>&quot;null_count&quot;</td><td>0.0</td><td>5.0</td><td>5.0</td><td>5.0</td><td>5.0</td><td>5.0</td><td>&quot;0&quot;</td><td>&quot;405&quot;</td><td>4405.0</td><td>5.0</td><td>&quot;0&quot;</td><td>0.0</td><td>0.0</td><td>0.0</td><td>0.0</td><td>0.0</td><td>0.0</td><td>0.0</td><td>0.0</td><td>0.0</td><td>0.0</td><td>0.0</td><td>0.0</td><td>0.0</td><td>0.0</td><td>0.0</td><td>0.0</td><td>0.0</td><td>0.0</td><td>0.0</td><td>0.0</td><td>0.0</td><td>0.0</td><td>0.0</td><td>4405.0</td><td>4005.0</td></tr><tr><td>&quot;mean&quot;</td><td>2.0</td><td>0.265455</td><td>3.5</td><td>1.0</td><td>0.0</td><td>7.5</td><td>null</td><td>null</td><td>null</td><td>3.3</td><td>null</td><td>3.7592e7</td><td>7.635495</td><td>500592.927888</td><td>0.8186</td><td>1.212679</td><td>4.273447</td><td>3.522798</td><td>0.995649</td><td>0.999372</td><td>1.134992</td><td>1.894176</td><td>2.183241</td><td>5.270488</td><td>15.672466</td><td>50478.534945</td><td>180589.853603</td><td>244501.754969</td><td>47085.170651</td><td>55906.439687</td><td>36900.317117</td><td>89425.727235</td><td>98213.218906</td><td>427794.841883</td><td>null</td><td>0.9</td></tr><tr><td>&quot;std&quot;</td><td>1.414374</td><td>0.290811</td><td>1.118161</td><td>0.0</td><td>null</td><td>5.362512</td><td>null</td><td>null</td><td>null</td><td>2.821668</td><td>null</td><td>2.2788e8</td><td>238.104835</td><td>2.2733e7</td><td>3.786864</td><td>23.705812</td><td>202.916272</td><td>132.475016</td><td>14.574173</td><td>27.918949</td><td>35.526589</td><td>64.040809</td><td>62.398871</td><td>233.043133</td><td>140.80181</td><td>1.5960e6</td><td>7.9224e6</td><td>1.0718e7</td><td>1.5446e6</td><td>2.1826e6</td><td>1.1743e6</td><td>4.6932e6</td><td>3.6767e6</td><td>2.1759e7</td><td>null</td><td>0.0</td></tr><tr><td>&quot;min&quot;</td><td>0.0</td><td>0.01</td><td>2.0</td><td>1.0</td><td>0.0</td><td>2.0</td><td>&quot;drghmc&quot;</td><td>&quot;const_step_cou…</td><td>null</td><td>0.5</td><td>&quot;damping=0.01__…</td><td>0.0</td><td>0.008626</td><td>657.352949</td><td>1.0737e-8</td><td>3.1117e-10</td><td>3.6385e-10</td><td>1.5907e-8</td><td>2.1731e-9</td><td>2.4738e-9</td><td>3.3318e-9</td><td>1.3619e-13</td><td>7.3660e-11</td><td>6.3810e-10</td><td>4.6780e-7</td><td>0.05311</td><td>0.001128</td><td>0.015753</td><td>0.000114</td><td>0.019178</td><td>0.001389</td><td>0.009555</td><td>0.00167</td><td>0.164942</td><td>null</td><td>0.9</td></tr><tr><td>&quot;25%&quot;</td><td>1.0</td><td>0.05</td><td>3.0</td><td>1.0</td><td>null</td><td>4.0</td><td>null</td><td>null</td><td>null</td><td>1.0</td><td>null</td><td>0.0</td><td>0.118217</td><td>6152.419332</td><td>0.015954</td><td>0.003052</td><td>0.004537</td><td>0.004778</td><td>0.003571</td><td>0.003397</td><td>0.003836</td><td>0.003248</td><td>0.003786</td><td>0.005072</td><td>0.60869</td><td>2215.552114</td><td>3163.650654</td><td>2179.371173</td><td>2424.042337</td><td>2697.949156</td><td>1678.59147</td><td>1879.494617</td><td>3545.852294</td><td>5782.851454</td><td>null</td><td>0.9</td></tr><tr><td>&quot;50%&quot;</td><td>2.0</td><td>0.1</td><td>4.0</td><td>1.0</td><td>null</td><td>8.0</td><td>null</td><td>null</td><td>null</td><td>2.0</td><td>null</td><td>0.0</td><td>0.267004</td><td>7960.521565</td><td>0.074054</td><td>0.019896</td><td>0.02597</td><td>0.031057</td><td>0.021644</td><td>0.019958</td><td>0.022435</td><td>0.017359</td><td>0.021224</td><td>0.029593</td><td>2.241711</td><td>3463.102847</td><td>4733.005016</td><td>3444.387183</td><td>3719.115977</td><td>4086.503437</td><td>2769.913836</td><td>3007.977455</td><td>5119.953783</td><td>7775.538563</td><td>null</td><td>0.9</td></tr><tr><td>&quot;75%&quot;</td><td>3.0</td><td>0.5</td><td>4.0</td><td>1.0</td><td>null</td><td>8.0</td><td>null</td><td>null</td><td>null</td><td>5.0</td><td>null</td><td>0.0</td><td>0.820601</td><td>9338.017748</td><td>0.242269</td><td>0.093202</td><td>0.095382</td><td>0.142627</td><td>0.083586</td><td>0.078885</td><td>0.090421</td><td>0.08403</td><td>0.089133</td><td>0.108441</td><td>6.272388</td><td>4371.021976</td><td>5824.459017</td><td>4410.553605</td><td>4695.904149</td><td>5156.207261</td><td>3678.760114</td><td>3892.501688</td><td>6271.703371</td><td>9132.736529</td><td>null</td><td>0.9</td></tr><tr><td>&quot;max&quot;</td><td>4.0</td><td>1.0</td><td>5.0</td><td>1.0</td><td>0.0</td><td>16.0</td><td>&quot;nuts&quot;</td><td>&quot;const_traj_len…</td><td>null</td><td>8.0</td><td>&quot;sampler_type=n…</td><td>5.8143e9</td><td>14904.869886</td><td>1.4069e9</td><td>90.782996</td><td>1055.416498</td><td>13024.938125</td><td>7294.765753</td><td>498.794175</td><td>1727.926927</td><td>2228.841747</td><td>3953.501377</td><td>2884.438543</td><td>14904.869886</td><td>7230.685296</td><td>8.6146e7</td><td>3.9280e8</td><td>5.3864e8</td><td>8.7763e7</td><td>1.1742e8</td><td>5.4094e7</td><td>3.0873e8</td><td>1.9567e8</td><td>1.4069e9</td><td>null</td><td>0.9</td></tr></tbody></table></div>"
      ],
      "text/plain": [
       "shape: (9, 37)\n",
       "┌────────────┬──────────┬──────────┬───────────┬───┬───────────┬───────────┬───────────┬───────────┐\n",
       "│ statistic  ┆ chain    ┆ damping  ┆ max_propo ┆ … ┆ p8_se2    ┆ p9_se2    ┆ step_coun ┆ step_coun │\n",
       "│ ---        ┆ ---      ┆ ---      ┆ sals      ┆   ┆ ---       ┆ ---       ┆ t         ┆ t_factor  │\n",
       "│ str        ┆ f64      ┆ f64      ┆ ---       ┆   ┆ f64       ┆ f64       ┆ ---       ┆ ---       │\n",
       "│            ┆          ┆          ┆ f64       ┆   ┆           ┆           ┆ f64       ┆ f64       │\n",
       "╞════════════╪══════════╪══════════╪═══════════╪═══╪═══════════╪═══════════╪═══════════╪═══════════╡\n",
       "│ count      ┆ 4405.0   ┆ 4400.0   ┆ 4400.0    ┆ … ┆ 4405.0    ┆ 4405.0    ┆ 0.0       ┆ 400.0     │\n",
       "│ null_count ┆ 0.0      ┆ 5.0      ┆ 5.0       ┆ … ┆ 0.0       ┆ 0.0       ┆ 4405.0    ┆ 4005.0    │\n",
       "│ mean       ┆ 2.0      ┆ 0.265455 ┆ 3.5       ┆ … ┆ 98213.218 ┆ 427794.84 ┆ null      ┆ 0.9       │\n",
       "│            ┆          ┆          ┆           ┆   ┆ 906       ┆ 1883      ┆           ┆           │\n",
       "│ std        ┆ 1.414374 ┆ 0.290811 ┆ 1.118161  ┆ … ┆ 3.6767e6  ┆ 2.1759e7  ┆ null      ┆ 0.0       │\n",
       "│ min        ┆ 0.0      ┆ 0.01     ┆ 2.0       ┆ … ┆ 0.00167   ┆ 0.164942  ┆ null      ┆ 0.9       │\n",
       "│ 25%        ┆ 1.0      ┆ 0.05     ┆ 3.0       ┆ … ┆ 3545.8522 ┆ 5782.8514 ┆ null      ┆ 0.9       │\n",
       "│            ┆          ┆          ┆           ┆   ┆ 94        ┆ 54        ┆           ┆           │\n",
       "│ 50%        ┆ 2.0      ┆ 0.1      ┆ 4.0       ┆ … ┆ 5119.9537 ┆ 7775.5385 ┆ null      ┆ 0.9       │\n",
       "│            ┆          ┆          ┆           ┆   ┆ 83        ┆ 63        ┆           ┆           │\n",
       "│ 75%        ┆ 3.0      ┆ 0.5      ┆ 4.0       ┆ … ┆ 6271.7033 ┆ 9132.7365 ┆ null      ┆ 0.9       │\n",
       "│            ┆          ┆          ┆           ┆   ┆ 71        ┆ 29        ┆           ┆           │\n",
       "│ max        ┆ 4.0      ┆ 1.0      ┆ 5.0       ┆ … ┆ 1.9567e8  ┆ 1.4069e9  ┆ null      ┆ 0.9       │\n",
       "└────────────┴──────────┴──────────┴───────────┴───┴───────────┴───────────┴───────────┴───────────┘"
      ]
     },
     "execution_count": 3,
     "metadata": {},
     "output_type": "execute_result"
    }
   ],
   "source": [
    "summary = pl.read_parquet(os.path.join(data_dir, \"summary.parquet\"))\n",
    "summary.describe()"
   ]
  },
  {
   "cell_type": "markdown",
   "metadata": {},
   "source": [
    "# Squared Error Across Chains"
   ]
  },
  {
   "cell_type": "markdown",
   "metadata": {},
   "source": [
    "WLOG consider a model parameter with true value $\\theta$ and an estimate $\\hat{\\theta} = \\frac{1}{n} \\sum_{i=1}^n \\theta_i$, with $\\theta_i$ s drawn from our sampler. The squared error of our estimate is then:\n",
    "\n",
    "$$ \\text{SE} = (\\hat{\\theta} - \\theta)^2 $$\n",
    "\n",
    "We compute the squared error across different gradient evaluations to see how the squared error changes as we generate more draws:\n",
    "\n",
    "$$ \\text{SE}_i = (\\hat{\\theta}_i - \\theta)^2 $$\n",
    "\n",
    "where $\\hat{\\theta}_i = \\frac{1}{i} \\sum_{j=1}^i \\theta_j$\n",
    "\n",
    "To compute squared error *across* chains we cannot simply average the squared error because it is not a linear calculation. Instead we concatonate chains into one long series of draws and then compute the squared error.\n",
    "\n",
    "For $C$ chains, construct $\\hat{\\theta}_i$ as follows:\n",
    "\n",
    "$$ \\hat{\\theta}_i = \\frac{1}{i} \\sum_{j=1}^i \\sum_{k=1}^C \\theta_{jk} $$\n",
    "\n",
    "where $\\theta_{jk}$ is the $j$ th draw from the $k$ th chain."
   ]
  },
  {
   "cell_type": "code",
   "execution_count": 43,
   "metadata": {},
   "outputs": [],
   "source": [
    "def parse_summary_row(summary_row):\n",
    "    important_keys = set([\n",
    "        \"hparams\",\n",
    "        \"chain\",\n",
    "        \"damping\",\n",
    "        \"max_proposals\", \n",
    "        \"metric\",\n",
    "        \"probabilistic\",\n",
    "        \"reduction_factor\",\n",
    "        \"sampler_type\",\n",
    "        \"step_count_method\",\n",
    "        \"step_size\",\n",
    "        \"step_size_factor\",\n",
    "        \"num_nans\",\n",
    "        \"step_count\",\n",
    "        \"step_count_factor\",\n",
    "    ])\n",
    "    \n",
    "    hparam_dict = dict()\n",
    "    for key in important_keys:\n",
    "        hparam_dict[key] = summary_row[key]\n",
    "    return hparam_dict\n",
    "\n",
    "def get_dir_name(row_dict):\n",
    "    if row_dict[\"sampler_type\"] == \"nuts\":\n",
    "        return f\"burn_in=0__chain={row_dict['chain']}__gradient_budget=1000000__metric={row_dict['metric']}__sampler_type={row_dict['sampler_type']}__seed=1234\"\n",
    "    \n",
    "    elif row_dict[\"sampler_type\"] == \"drghmc\":\n",
    "        return f\"burn_in=0__chain={row_dict['chain']}__damping={row_dict['damping']}__gradient_budget=1000000__max_proposals={row_dict['max_proposals']}__metric={row_dict['metric']}__probabilistic={row_dict['probabilistic']}__reduction_factor={row_dict['reduction_factor']}__sampler_type={row_dict['sampler_type']}__seed=1234__step_count_method={row_dict['step_count_method']}__step_size={row_dict['step_size']}__step_size_factor={row_dict['step_size_factor']}\"\n",
    "    \n",
    "    elif row_dict[\"sampler_type\"] == \"drhmc\":\n",
    "        return f\"burn_in=0__chain={row_dict['chain']}__damping={int(row_dict['damping'])}__gradient_budget=1000000__max_proposals={row_dict['max_proposals']}__metric={row_dict['metric']}__probabilistic={row_dict['probabilistic']}__reduction_factor={row_dict['reduction_factor']}__sampler_type={row_dict['sampler_type']}__seed=1234__step_count={row_dict['step_count']}__step_count_factor={row_dict['step_count_factor']}__step_size={row_dict['step_size']}__step_size_factor={int(row_dict['step_size_factor'])}\"\n",
    "    \n",
    "    else:\n",
    "        raise ValueError(f\"Unknown sampler type: {row_dict['sampler_type']}\")\n",
    "    \n",
    "def parse_history(hparams_dict, history_keys):\n",
    "    path = os.path.join(data_dir, get_dir_name(hparams_dict), \"history.npz\")\n",
    "    history = np.load(path)\n",
    "    \n",
    "    rows = []\n",
    "    if \"draws\" in history_keys:\n",
    "        hparams_cp = hparams_dict.copy()\n",
    "        for draw in history[\"draws\"]:\n",
    "            for idx, param in enumerate(draw):\n",
    "                hparams_cp[f\"p{idx}\"] = param\n",
    "                rows.append(hparams_cp)\n",
    "        history_keys.remove(\"draws\")\n",
    "        \n",
    "    for k in history_keys:\n",
    "        hparams_cp = hparams_dict.copy()\n",
    "        for v in history[k]:\n",
    "            hparams_cp[k] = v\n",
    "            rows.append(hparams_cp)\n",
    "        \n",
    "    return rows\n",
    "\n",
    "def parse_summary(summary, history_keys=None, metric_keys=None):\n",
    "    rows = []\n",
    "    for summary_row in summary.rows(named=True):\n",
    "        hparams_dict = parse_summary_row(summary_row)\n",
    "        \n",
    "        if history_keys:\n",
    "            history_dict = parse_history(hparams_dict, history_keys)\n",
    "            rows.extend(history_dict)\n",
    "            \n",
    "        # if metric_keys:\n",
    "            # metric_dict = parse_metrics(hparams, metrics_keys)\n",
    "            # rows.extend(metric_dict)\n",
    "        break\n",
    "    \n",
    "    return pl.DataFrame(rows)"
   ]
  },
  {
   "cell_type": "code",
   "execution_count": 44,
   "metadata": {},
   "outputs": [
    {
     "data": {
      "text/html": [
       "<div><style>\n",
       ".dataframe > thead > tr,\n",
       ".dataframe > tbody > tr {\n",
       "  text-align: right;\n",
       "  white-space: pre-wrap;\n",
       "}\n",
       "</style>\n",
       "<small>shape: (9, 25)</small><table border=\"1\" class=\"dataframe\"><thead><tr><th>statistic</th><th>probabilistic</th><th>hparams</th><th>damping</th><th>reduction_factor</th><th>metric</th><th>max_proposals</th><th>step_count_method</th><th>step_size</th><th>step_count_factor</th><th>step_size_factor</th><th>num_nans</th><th>step_count</th><th>chain</th><th>sampler_type</th><th>p0</th><th>p1</th><th>p2</th><th>p3</th><th>p4</th><th>p5</th><th>p6</th><th>p7</th><th>p8</th><th>p9</th></tr><tr><td>str</td><td>f64</td><td>str</td><td>f64</td><td>f64</td><td>f64</td><td>f64</td><td>f64</td><td>f64</td><td>f64</td><td>f64</td><td>f64</td><td>f64</td><td>f64</td><td>str</td><td>f64</td><td>f64</td><td>f64</td><td>f64</td><td>f64</td><td>f64</td><td>f64</td><td>f64</td><td>f64</td><td>f64</td></tr></thead><tbody><tr><td>&quot;count&quot;</td><td>36916.0</td><td>&quot;36916&quot;</td><td>36916.0</td><td>36916.0</td><td>36916.0</td><td>36916.0</td><td>0.0</td><td>0.0</td><td>36916.0</td><td>36916.0</td><td>36916.0</td><td>0.0</td><td>36916.0</td><td>&quot;36916&quot;</td><td>33560.0</td><td>33560.0</td><td>33560.0</td><td>33560.0</td><td>33560.0</td><td>33560.0</td><td>33560.0</td><td>33560.0</td><td>33560.0</td><td>33560.0</td></tr><tr><td>&quot;null_count&quot;</td><td>0.0</td><td>&quot;0&quot;</td><td>0.0</td><td>0.0</td><td>0.0</td><td>0.0</td><td>36916.0</td><td>36916.0</td><td>0.0</td><td>0.0</td><td>0.0</td><td>36916.0</td><td>0.0</td><td>&quot;0&quot;</td><td>3356.0</td><td>3356.0</td><td>3356.0</td><td>3356.0</td><td>3356.0</td><td>3356.0</td><td>3356.0</td><td>3356.0</td><td>3356.0</td><td>3356.0</td></tr><tr><td>&quot;mean&quot;</td><td>0.0</td><td>null</td><td>1.0</td><td>8.0</td><td>1.0</td><td>2.0</td><td>null</td><td>null</td><td>0.9</td><td>5.0</td><td>162161.0</td><td>null</td><td>0.0</td><td>null</td><td>-0.136604</td><td>-0.59991</td><td>-0.935525</td><td>1.900947</td><td>-0.194565</td><td>0.41155</td><td>-0.264543</td><td>-0.041403</td><td>-0.973988</td><td>-0.125921</td></tr><tr><td>&quot;std&quot;</td><td>null</td><td>null</td><td>0.0</td><td>0.0</td><td>0.0</td><td>0.0</td><td>null</td><td>null</td><td>2.2205e-16</td><td>0.0</td><td>0.0</td><td>null</td><td>0.0</td><td>null</td><td>0.0</td><td>1.1102e-16</td><td>1.1102e-16</td><td>2.2205e-16</td><td>2.7756e-17</td><td>0.0</td><td>5.5512e-17</td><td>6.9390e-18</td><td>1.1102e-16</td><td>0.0</td></tr><tr><td>&quot;min&quot;</td><td>0.0</td><td>&quot;damping=1__max…</td><td>1.0</td><td>8.0</td><td>1.0</td><td>2.0</td><td>null</td><td>null</td><td>0.9</td><td>5.0</td><td>162161.0</td><td>null</td><td>0.0</td><td>&quot;drhmc&quot;</td><td>-0.136604</td><td>-0.59991</td><td>-0.935525</td><td>1.900947</td><td>-0.194565</td><td>0.41155</td><td>-0.264543</td><td>-0.041403</td><td>-0.973988</td><td>-0.125921</td></tr><tr><td>&quot;25%&quot;</td><td>null</td><td>null</td><td>1.0</td><td>8.0</td><td>1.0</td><td>2.0</td><td>null</td><td>null</td><td>0.9</td><td>5.0</td><td>162161.0</td><td>null</td><td>0.0</td><td>null</td><td>-0.136604</td><td>-0.59991</td><td>-0.935525</td><td>1.900947</td><td>-0.194565</td><td>0.41155</td><td>-0.264543</td><td>-0.041403</td><td>-0.973988</td><td>-0.125921</td></tr><tr><td>&quot;50%&quot;</td><td>null</td><td>null</td><td>1.0</td><td>8.0</td><td>1.0</td><td>2.0</td><td>null</td><td>null</td><td>0.9</td><td>5.0</td><td>162161.0</td><td>null</td><td>0.0</td><td>null</td><td>-0.136604</td><td>-0.59991</td><td>-0.935525</td><td>1.900947</td><td>-0.194565</td><td>0.41155</td><td>-0.264543</td><td>-0.041403</td><td>-0.973988</td><td>-0.125921</td></tr><tr><td>&quot;75%&quot;</td><td>null</td><td>null</td><td>1.0</td><td>8.0</td><td>1.0</td><td>2.0</td><td>null</td><td>null</td><td>0.9</td><td>5.0</td><td>162161.0</td><td>null</td><td>0.0</td><td>null</td><td>-0.136604</td><td>-0.59991</td><td>-0.935525</td><td>1.900947</td><td>-0.194565</td><td>0.41155</td><td>-0.264543</td><td>-0.041403</td><td>-0.973988</td><td>-0.125921</td></tr><tr><td>&quot;max&quot;</td><td>0.0</td><td>&quot;damping=1__max…</td><td>1.0</td><td>8.0</td><td>1.0</td><td>2.0</td><td>null</td><td>null</td><td>0.9</td><td>5.0</td><td>162161.0</td><td>null</td><td>0.0</td><td>&quot;drhmc&quot;</td><td>-0.136604</td><td>-0.59991</td><td>-0.935525</td><td>1.900947</td><td>-0.194565</td><td>0.41155</td><td>-0.264543</td><td>-0.041403</td><td>-0.973988</td><td>-0.125921</td></tr></tbody></table></div>"
      ],
      "text/plain": [
       "shape: (9, 25)\n",
       "┌────────────┬───────────┬───────────┬─────────┬───┬───────────┬───────────┬───────────┬───────────┐\n",
       "│ statistic  ┆ probabili ┆ hparams   ┆ damping ┆ … ┆ p6        ┆ p7        ┆ p8        ┆ p9        │\n",
       "│ ---        ┆ stic      ┆ ---       ┆ ---     ┆   ┆ ---       ┆ ---       ┆ ---       ┆ ---       │\n",
       "│ str        ┆ ---       ┆ str       ┆ f64     ┆   ┆ f64       ┆ f64       ┆ f64       ┆ f64       │\n",
       "│            ┆ f64       ┆           ┆         ┆   ┆           ┆           ┆           ┆           │\n",
       "╞════════════╪═══════════╪═══════════╪═════════╪═══╪═══════════╪═══════════╪═══════════╪═══════════╡\n",
       "│ count      ┆ 36916.0   ┆ 36916     ┆ 36916.0 ┆ … ┆ 33560.0   ┆ 33560.0   ┆ 33560.0   ┆ 33560.0   │\n",
       "│ null_count ┆ 0.0       ┆ 0         ┆ 0.0     ┆ … ┆ 3356.0    ┆ 3356.0    ┆ 3356.0    ┆ 3356.0    │\n",
       "│ mean       ┆ 0.0       ┆ null      ┆ 1.0     ┆ … ┆ -0.264543 ┆ -0.041403 ┆ -0.973988 ┆ -0.125921 │\n",
       "│ std        ┆ null      ┆ null      ┆ 0.0     ┆ … ┆ 5.5512e-1 ┆ 6.9390e-1 ┆ 1.1102e-1 ┆ 0.0       │\n",
       "│            ┆           ┆           ┆         ┆   ┆ 7         ┆ 8         ┆ 6         ┆           │\n",
       "│ min        ┆ 0.0       ┆ damping=1 ┆ 1.0     ┆ … ┆ -0.264543 ┆ -0.041403 ┆ -0.973988 ┆ -0.125921 │\n",
       "│            ┆           ┆ __max_pro ┆         ┆   ┆           ┆           ┆           ┆           │\n",
       "│            ┆           ┆ posals=2_ ┆         ┆   ┆           ┆           ┆           ┆           │\n",
       "│            ┆           ┆ _metr…    ┆         ┆   ┆           ┆           ┆           ┆           │\n",
       "│ 25%        ┆ null      ┆ null      ┆ 1.0     ┆ … ┆ -0.264543 ┆ -0.041403 ┆ -0.973988 ┆ -0.125921 │\n",
       "│ 50%        ┆ null      ┆ null      ┆ 1.0     ┆ … ┆ -0.264543 ┆ -0.041403 ┆ -0.973988 ┆ -0.125921 │\n",
       "│ 75%        ┆ null      ┆ null      ┆ 1.0     ┆ … ┆ -0.264543 ┆ -0.041403 ┆ -0.973988 ┆ -0.125921 │\n",
       "│ max        ┆ 0.0       ┆ damping=1 ┆ 1.0     ┆ … ┆ -0.264543 ┆ -0.041403 ┆ -0.973988 ┆ -0.125921 │\n",
       "│            ┆           ┆ __max_pro ┆         ┆   ┆           ┆           ┆           ┆           │\n",
       "│            ┆           ┆ posals=2_ ┆         ┆   ┆           ┆           ┆           ┆           │\n",
       "│            ┆           ┆ _metr…    ┆         ┆   ┆           ┆           ┆           ┆           │\n",
       "└────────────┴───────────┴───────────┴─────────┴───┴───────────┴───────────┴───────────┴───────────┘"
      ]
     },
     "execution_count": 44,
     "metadata": {},
     "output_type": "execute_result"
    }
   ],
   "source": [
    "filtered = summary.filter(pl.col(\"sampler_type\") == \"drhmc\")\n",
    "df = parse_summary(filtered, history_keys=[\"draws\", \"acceptance\"], metric_keys=None)\n",
    "df.describe()"
   ]
  },
  {
   "cell_type": "code",
   "execution_count": null,
   "metadata": {},
   "outputs": [],
   "source": []
  }
 ],
 "metadata": {
  "kernelspec": {
   "display_name": "drghmc",
   "language": "python",
   "name": "python3"
  },
  "language_info": {
   "codemirror_mode": {
    "name": "ipython",
    "version": 3
   },
   "file_extension": ".py",
   "mimetype": "text/x-python",
   "name": "python",
   "nbconvert_exporter": "python",
   "pygments_lexer": "ipython3",
   "version": "3.11.4"
  }
 },
 "nbformat": 4,
 "nbformat_minor": 2
}
