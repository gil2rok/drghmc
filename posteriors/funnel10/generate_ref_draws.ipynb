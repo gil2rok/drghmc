{
 "cells": [
  {
   "cell_type": "code",
   "execution_count": 3,
   "metadata": {},
   "outputs": [],
   "source": [
    "import json, os, zipfile\n",
    "import numpy as np\n",
    "\n",
    "# defaults\n",
    "seed = 1234\n",
    "num_chains = 50\n",
    "num_samples = 10000\n",
    "num_dim = 10\n",
    "model_name = \"funnel10\""
   ]
  },
  {
   "cell_type": "code",
   "execution_count": 4,
   "metadata": {},
   "outputs": [],
   "source": [
    "rng = np.random.default_rng(seed)\n",
    "\n",
    "def generate_funnel(funnel_dim): # [chain_num, n_samples, params_dim]\n",
    "    # generate parameters\n",
    "    y_raw = rng.normal(loc=0, scale=1, size=(num_chains, num_samples, 1))\n",
    "    \n",
    "    x_raw = rng.normal(loc=0, scale=1, size=(num_chains, num_samples, funnel_dim - 1))\n",
    "    \n",
    "    # transform and return parameters\n",
    "    y = 3 * y_raw\n",
    "    x = np.exp(y_raw / 2) * x_raw\n",
    "    return np.concatenate((y, x), axis=2)\n",
    "\n",
    "ref_draws_np = generate_funnel(num_dim)   # [chain_num, n_samples, params_dim]"
   ]
  },
  {
   "cell_type": "code",
   "execution_count": 5,
   "metadata": {},
   "outputs": [],
   "source": [
    "# convert from numpy 3d array to json format\n",
    "\n",
    "param_names = [\n",
    "    \"v\", \"theta[1]\", \"theta[2]\", \"theta[3]\", \"theta[4]\", \"theta[5]\", \n",
    "    \"theta[6]\", \"theta[7]\", \"theta[8]\", \"theta[9]\"\n",
    "]\n",
    "\n",
    "ref_draws = []\n",
    "for chain in ref_draws_np:  # each chain is [n_samples, params_dim]\n",
    "    chain_dict = {}\n",
    "    for name, params in zip(param_names, chain.T):\n",
    "        chain_dict[name] = params.tolist()\n",
    "    ref_draws.append(chain_dict)\n",
    "\n",
    "# save to file\n",
    "with zipfile.ZipFile(f\"{model_name}.ref_draws.json.zip\", mode=\"w\", compression=zipfile.ZIP_DEFLATED, compresslevel=9) as zip_file: \n",
    "    dumped_JSON: str = json.dumps(ref_draws, ensure_ascii=False, indent=4)\n",
    "    zip_file.writestr(f\"{model_name}.ref_draws.json\", data=dumped_JSON)\n",
    "    zip_file.testzip() # Test integrity of compressed archive\n",
    "    \n",
    "# with open(f\"{model_name}.ref_draws.json\", \"w\") as f:\n",
    "#     json.dump(ref_draws, f)"
   ]
  }
 ],
 "metadata": {
  "kernelspec": {
   "display_name": "drghmc",
   "language": "python",
   "name": "python3"
  },
  "language_info": {
   "codemirror_mode": {
    "name": "ipython",
    "version": 3
   },
   "file_extension": ".py",
   "mimetype": "text/x-python",
   "name": "python",
   "nbconvert_exporter": "python",
   "pygments_lexer": "ipython3",
   "version": "3.11.4"
  }
 },
 "nbformat": 4,
 "nbformat_minor": 2
}
