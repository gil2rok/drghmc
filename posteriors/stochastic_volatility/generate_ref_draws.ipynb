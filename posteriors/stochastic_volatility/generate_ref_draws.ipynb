{
 "cells": [
  {
   "cell_type": "markdown",
   "metadata": {},
   "source": [
    "# Imports and Defaults"
   ]
  },
  {
   "cell_type": "code",
   "execution_count": 34,
   "metadata": {},
   "outputs": [],
   "source": [
    "import json\n",
    "import os\n",
    "import zipfile\n",
    "\n",
    "import bridgestan as bs\n",
    "from cmdstanpy import CmdStanModel\n",
    "import numpy as np"
   ]
  },
  {
   "cell_type": "code",
   "execution_count": 36,
   "metadata": {},
   "outputs": [],
   "source": [
    "seed = 1234\n",
    "rng = np.random.default_rng(seed)\n",
    "\n",
    "num_chains = 100\n",
    "num_samples = 10000\n",
    "\n",
    "model_name = \"stochastic_volatility\"\n",
    "model_path = model_name + \".stan\"\n",
    "data_path = model_name + \".data.json\""
   ]
  },
  {
   "cell_type": "markdown",
   "metadata": {},
   "source": [
    "# Generate Ref Draws"
   ]
  },
  {
   "cell_type": "code",
   "execution_count": 66,
   "metadata": {},
   "outputs": [
    {
     "name": "stderr",
     "output_type": "stream",
     "text": [
      "15:50:32 - cmdstanpy - INFO - CmdStan start processing\n"
     ]
    },
    {
     "data": {
      "application/vnd.jupyter.widget-view+json": {
       "model_id": "c6c1d69f97744593bb5d38ac983f86a0",
       "version_major": 2,
       "version_minor": 0
      },
      "text/plain": [
       "chain 1 |          | 00:00 Status"
      ]
     },
     "metadata": {},
     "output_type": "display_data"
    },
    {
     "data": {
      "application/vnd.jupyter.widget-view+json": {
       "model_id": "1adb947f39f64797be3038ccef29a6cf",
       "version_major": 2,
       "version_minor": 0
      },
      "text/plain": [
       "chain 2 |          | 00:00 Status"
      ]
     },
     "metadata": {},
     "output_type": "display_data"
    },
    {
     "data": {
      "application/vnd.jupyter.widget-view+json": {
       "model_id": "cfbfc43ed9fd47e99264d5be030b5413",
       "version_major": 2,
       "version_minor": 0
      },
      "text/plain": [
       "chain 3 |          | 00:00 Status"
      ]
     },
     "metadata": {},
     "output_type": "display_data"
    },
    {
     "data": {
      "application/vnd.jupyter.widget-view+json": {
       "model_id": "ae87794c62ca403dad3d046bbd5fee7a",
       "version_major": 2,
       "version_minor": 0
      },
      "text/plain": [
       "chain 4 |          | 00:00 Status"
      ]
     },
     "metadata": {},
     "output_type": "display_data"
    },
    {
     "data": {
      "application/vnd.jupyter.widget-view+json": {
       "model_id": "a9696bd85bc34c21b322cb4ab64a0a0b",
       "version_major": 2,
       "version_minor": 0
      },
      "text/plain": [
       "chain 5 |          | 00:00 Status"
      ]
     },
     "metadata": {},
     "output_type": "display_data"
    },
    {
     "data": {
      "application/vnd.jupyter.widget-view+json": {
       "model_id": "45b438b0441e4cf6931d4dc3c4db4494",
       "version_major": 2,
       "version_minor": 0
      },
      "text/plain": [
       "chain 6 |          | 00:00 Status"
      ]
     },
     "metadata": {},
     "output_type": "display_data"
    },
    {
     "data": {
      "application/vnd.jupyter.widget-view+json": {
       "model_id": "12621c099aed49a1b3f8298535f27866",
       "version_major": 2,
       "version_minor": 0
      },
      "text/plain": [
       "chain 7 |          | 00:00 Status"
      ]
     },
     "metadata": {},
     "output_type": "display_data"
    },
    {
     "data": {
      "application/vnd.jupyter.widget-view+json": {
       "model_id": "953c9470d9514bdbbadb24089f029951",
       "version_major": 2,
       "version_minor": 0
      },
      "text/plain": [
       "chain 8 |          | 00:00 Status"
      ]
     },
     "metadata": {},
     "output_type": "display_data"
    },
    {
     "data": {
      "application/vnd.jupyter.widget-view+json": {
       "model_id": "4de176c41d9c4181a0543658bf6a7e8f",
       "version_major": 2,
       "version_minor": 0
      },
      "text/plain": [
       "chain 9 |          | 00:00 Status"
      ]
     },
     "metadata": {},
     "output_type": "display_data"
    },
    {
     "data": {
      "application/vnd.jupyter.widget-view+json": {
       "model_id": "6c910c557b8045e995d9bb6cc3e34f38",
       "version_major": 2,
       "version_minor": 0
      },
      "text/plain": [
       "chain 10 |          | 00:00 Status"
      ]
     },
     "metadata": {},
     "output_type": "display_data"
    },
    {
     "data": {
      "application/vnd.jupyter.widget-view+json": {
       "model_id": "4a834896d191483db3fe27cb02c5261f",
       "version_major": 2,
       "version_minor": 0
      },
      "text/plain": [
       "chain 11 |          | 00:00 Status"
      ]
     },
     "metadata": {},
     "output_type": "display_data"
    },
    {
     "data": {
      "application/vnd.jupyter.widget-view+json": {
       "model_id": "d8be30b5c62b467ab4845ca0b6ae8cb6",
       "version_major": 2,
       "version_minor": 0
      },
      "text/plain": [
       "chain 12 |          | 00:00 Status"
      ]
     },
     "metadata": {},
     "output_type": "display_data"
    },
    {
     "data": {
      "application/vnd.jupyter.widget-view+json": {
       "model_id": "1339b71449514325bcaca627a2a17180",
       "version_major": 2,
       "version_minor": 0
      },
      "text/plain": [
       "chain 13 |          | 00:00 Status"
      ]
     },
     "metadata": {},
     "output_type": "display_data"
    },
    {
     "data": {
      "application/vnd.jupyter.widget-view+json": {
       "model_id": "7349c2f3751c4409890da9a57bc46100",
       "version_major": 2,
       "version_minor": 0
      },
      "text/plain": [
       "chain 14 |          | 00:00 Status"
      ]
     },
     "metadata": {},
     "output_type": "display_data"
    },
    {
     "data": {
      "application/vnd.jupyter.widget-view+json": {
       "model_id": "cc173ecd25df4f78a8a36c342191ad4c",
       "version_major": 2,
       "version_minor": 0
      },
      "text/plain": [
       "chain 15 |          | 00:00 Status"
      ]
     },
     "metadata": {},
     "output_type": "display_data"
    },
    {
     "data": {
      "application/vnd.jupyter.widget-view+json": {
       "model_id": "d70790e52fa24712b7593e6a06e2b9b5",
       "version_major": 2,
       "version_minor": 0
      },
      "text/plain": [
       "chain 16 |          | 00:00 Status"
      ]
     },
     "metadata": {},
     "output_type": "display_data"
    },
    {
     "data": {
      "application/vnd.jupyter.widget-view+json": {
       "model_id": "fab61cbd9c18430db1e729be1529093a",
       "version_major": 2,
       "version_minor": 0
      },
      "text/plain": [
       "chain 17 |          | 00:00 Status"
      ]
     },
     "metadata": {},
     "output_type": "display_data"
    },
    {
     "data": {
      "application/vnd.jupyter.widget-view+json": {
       "model_id": "907f5ce4e967474eb16591a52effdd3b",
       "version_major": 2,
       "version_minor": 0
      },
      "text/plain": [
       "chain 18 |          | 00:00 Status"
      ]
     },
     "metadata": {},
     "output_type": "display_data"
    },
    {
     "data": {
      "application/vnd.jupyter.widget-view+json": {
       "model_id": "ee4ec84e706445d794eb0ec41619dda7",
       "version_major": 2,
       "version_minor": 0
      },
      "text/plain": [
       "chain 19 |          | 00:00 Status"
      ]
     },
     "metadata": {},
     "output_type": "display_data"
    },
    {
     "data": {
      "application/vnd.jupyter.widget-view+json": {
       "model_id": "336e6e6402524e7993e1103ded2b80e6",
       "version_major": 2,
       "version_minor": 0
      },
      "text/plain": [
       "chain 20 |          | 00:00 Status"
      ]
     },
     "metadata": {},
     "output_type": "display_data"
    },
    {
     "data": {
      "application/vnd.jupyter.widget-view+json": {
       "model_id": "73d662885ce94940895c92af1df526c2",
       "version_major": 2,
       "version_minor": 0
      },
      "text/plain": [
       "chain 21 |          | 00:00 Status"
      ]
     },
     "metadata": {},
     "output_type": "display_data"
    },
    {
     "data": {
      "application/vnd.jupyter.widget-view+json": {
       "model_id": "8a80ce763950401e81ca31a5469b3c16",
       "version_major": 2,
       "version_minor": 0
      },
      "text/plain": [
       "chain 22 |          | 00:00 Status"
      ]
     },
     "metadata": {},
     "output_type": "display_data"
    },
    {
     "data": {
      "application/vnd.jupyter.widget-view+json": {
       "model_id": "4df653eddeda46f99bad64d6519cf01a",
       "version_major": 2,
       "version_minor": 0
      },
      "text/plain": [
       "chain 23 |          | 00:00 Status"
      ]
     },
     "metadata": {},
     "output_type": "display_data"
    },
    {
     "data": {
      "application/vnd.jupyter.widget-view+json": {
       "model_id": "661a22950c1d433f80c6bd162a452501",
       "version_major": 2,
       "version_minor": 0
      },
      "text/plain": [
       "chain 24 |          | 00:00 Status"
      ]
     },
     "metadata": {},
     "output_type": "display_data"
    },
    {
     "data": {
      "application/vnd.jupyter.widget-view+json": {
       "model_id": "783a47f23f994695ab49077fa5a92994",
       "version_major": 2,
       "version_minor": 0
      },
      "text/plain": [
       "chain 25 |          | 00:00 Status"
      ]
     },
     "metadata": {},
     "output_type": "display_data"
    },
    {
     "data": {
      "application/vnd.jupyter.widget-view+json": {
       "model_id": "966be38644834a0fbd437729f6020942",
       "version_major": 2,
       "version_minor": 0
      },
      "text/plain": [
       "chain 26 |          | 00:00 Status"
      ]
     },
     "metadata": {},
     "output_type": "display_data"
    },
    {
     "data": {
      "application/vnd.jupyter.widget-view+json": {
       "model_id": "1ce44ba63f3b4426b1d1ca04e8e42ab5",
       "version_major": 2,
       "version_minor": 0
      },
      "text/plain": [
       "chain 27 |          | 00:00 Status"
      ]
     },
     "metadata": {},
     "output_type": "display_data"
    },
    {
     "data": {
      "application/vnd.jupyter.widget-view+json": {
       "model_id": "b60e7fa5da42459da8ec734f60f2e1ba",
       "version_major": 2,
       "version_minor": 0
      },
      "text/plain": [
       "chain 28 |          | 00:00 Status"
      ]
     },
     "metadata": {},
     "output_type": "display_data"
    },
    {
     "data": {
      "application/vnd.jupyter.widget-view+json": {
       "model_id": "dc833c0161cb4f2fa0d4a2eb1b17fe29",
       "version_major": 2,
       "version_minor": 0
      },
      "text/plain": [
       "chain 29 |          | 00:00 Status"
      ]
     },
     "metadata": {},
     "output_type": "display_data"
    },
    {
     "data": {
      "application/vnd.jupyter.widget-view+json": {
       "model_id": "1492dfdf12db421381aff1424f815ff5",
       "version_major": 2,
       "version_minor": 0
      },
      "text/plain": [
       "chain 30 |          | 00:00 Status"
      ]
     },
     "metadata": {},
     "output_type": "display_data"
    },
    {
     "data": {
      "application/vnd.jupyter.widget-view+json": {
       "model_id": "a717fe0d758d412e87acfacc628d02fa",
       "version_major": 2,
       "version_minor": 0
      },
      "text/plain": [
       "chain 31 |          | 00:00 Status"
      ]
     },
     "metadata": {},
     "output_type": "display_data"
    },
    {
     "data": {
      "application/vnd.jupyter.widget-view+json": {
       "model_id": "2f7fc0e9d0714ed88fb99aac2c9c9131",
       "version_major": 2,
       "version_minor": 0
      },
      "text/plain": [
       "chain 32 |          | 00:00 Status"
      ]
     },
     "metadata": {},
     "output_type": "display_data"
    },
    {
     "data": {
      "application/vnd.jupyter.widget-view+json": {
       "model_id": "c8dbea16f18f48f591b41dd3a830a891",
       "version_major": 2,
       "version_minor": 0
      },
      "text/plain": [
       "chain 33 |          | 00:00 Status"
      ]
     },
     "metadata": {},
     "output_type": "display_data"
    },
    {
     "data": {
      "application/vnd.jupyter.widget-view+json": {
       "model_id": "4b40e73ca27e4852a78a70b3a7c77892",
       "version_major": 2,
       "version_minor": 0
      },
      "text/plain": [
       "chain 34 |          | 00:00 Status"
      ]
     },
     "metadata": {},
     "output_type": "display_data"
    },
    {
     "data": {
      "application/vnd.jupyter.widget-view+json": {
       "model_id": "3e08214ce2c94ff5a56e30cd3afb18e0",
       "version_major": 2,
       "version_minor": 0
      },
      "text/plain": [
       "chain 35 |          | 00:00 Status"
      ]
     },
     "metadata": {},
     "output_type": "display_data"
    },
    {
     "data": {
      "application/vnd.jupyter.widget-view+json": {
       "model_id": "1f1bf9aeaa4244a9b1102748cbce9c99",
       "version_major": 2,
       "version_minor": 0
      },
      "text/plain": [
       "chain 36 |          | 00:00 Status"
      ]
     },
     "metadata": {},
     "output_type": "display_data"
    },
    {
     "data": {
      "application/vnd.jupyter.widget-view+json": {
       "model_id": "181b6d01534442a38094040b431b2467",
       "version_major": 2,
       "version_minor": 0
      },
      "text/plain": [
       "chain 37 |          | 00:00 Status"
      ]
     },
     "metadata": {},
     "output_type": "display_data"
    },
    {
     "data": {
      "application/vnd.jupyter.widget-view+json": {
       "model_id": "0da3497b81ed4b1d85f69885790c0c28",
       "version_major": 2,
       "version_minor": 0
      },
      "text/plain": [
       "chain 38 |          | 00:00 Status"
      ]
     },
     "metadata": {},
     "output_type": "display_data"
    },
    {
     "data": {
      "application/vnd.jupyter.widget-view+json": {
       "model_id": "48e29f11d08846f2925e966604c1127d",
       "version_major": 2,
       "version_minor": 0
      },
      "text/plain": [
       "chain 39 |          | 00:00 Status"
      ]
     },
     "metadata": {},
     "output_type": "display_data"
    },
    {
     "data": {
      "application/vnd.jupyter.widget-view+json": {
       "model_id": "8ac1cdecb89b4d4a884aa0e04035f8b6",
       "version_major": 2,
       "version_minor": 0
      },
      "text/plain": [
       "chain 40 |          | 00:00 Status"
      ]
     },
     "metadata": {},
     "output_type": "display_data"
    },
    {
     "data": {
      "application/vnd.jupyter.widget-view+json": {
       "model_id": "236e311eb5e543aa8101bea4cf350df9",
       "version_major": 2,
       "version_minor": 0
      },
      "text/plain": [
       "chain 41 |          | 00:00 Status"
      ]
     },
     "metadata": {},
     "output_type": "display_data"
    },
    {
     "data": {
      "application/vnd.jupyter.widget-view+json": {
       "model_id": "22267c4e60504e8c8ae3c8c9b99e986f",
       "version_major": 2,
       "version_minor": 0
      },
      "text/plain": [
       "chain 42 |          | 00:00 Status"
      ]
     },
     "metadata": {},
     "output_type": "display_data"
    },
    {
     "data": {
      "application/vnd.jupyter.widget-view+json": {
       "model_id": "694faea1764c457989978bdd76c5972a",
       "version_major": 2,
       "version_minor": 0
      },
      "text/plain": [
       "chain 43 |          | 00:00 Status"
      ]
     },
     "metadata": {},
     "output_type": "display_data"
    },
    {
     "data": {
      "application/vnd.jupyter.widget-view+json": {
       "model_id": "b7c8cbf19f7f443eadd10a7008e13cd5",
       "version_major": 2,
       "version_minor": 0
      },
      "text/plain": [
       "chain 44 |          | 00:00 Status"
      ]
     },
     "metadata": {},
     "output_type": "display_data"
    },
    {
     "data": {
      "application/vnd.jupyter.widget-view+json": {
       "model_id": "7ed0694e907041a4975e0dfd044dd633",
       "version_major": 2,
       "version_minor": 0
      },
      "text/plain": [
       "chain 45 |          | 00:00 Status"
      ]
     },
     "metadata": {},
     "output_type": "display_data"
    },
    {
     "data": {
      "application/vnd.jupyter.widget-view+json": {
       "model_id": "c5ebd35495754d79b648bc4cab215e81",
       "version_major": 2,
       "version_minor": 0
      },
      "text/plain": [
       "chain 46 |          | 00:00 Status"
      ]
     },
     "metadata": {},
     "output_type": "display_data"
    },
    {
     "data": {
      "application/vnd.jupyter.widget-view+json": {
       "model_id": "dc535f55dab74c6eb8de84d54cfbf5a1",
       "version_major": 2,
       "version_minor": 0
      },
      "text/plain": [
       "chain 47 |          | 00:00 Status"
      ]
     },
     "metadata": {},
     "output_type": "display_data"
    },
    {
     "data": {
      "application/vnd.jupyter.widget-view+json": {
       "model_id": "df14fda9bce94c3b827e94dc4814f65c",
       "version_major": 2,
       "version_minor": 0
      },
      "text/plain": [
       "chain 48 |          | 00:00 Status"
      ]
     },
     "metadata": {},
     "output_type": "display_data"
    },
    {
     "data": {
      "application/vnd.jupyter.widget-view+json": {
       "model_id": "2506aafc1d594918b07ee3d7aa09f41c",
       "version_major": 2,
       "version_minor": 0
      },
      "text/plain": [
       "chain 49 |          | 00:00 Status"
      ]
     },
     "metadata": {},
     "output_type": "display_data"
    },
    {
     "data": {
      "application/vnd.jupyter.widget-view+json": {
       "model_id": "d1042105eb324fc1aee1fe40cb5fff9c",
       "version_major": 2,
       "version_minor": 0
      },
      "text/plain": [
       "chain 50 |          | 00:00 Status"
      ]
     },
     "metadata": {},
     "output_type": "display_data"
    },
    {
     "data": {
      "application/vnd.jupyter.widget-view+json": {
       "model_id": "709889df25a348c09a0d189b8e09c49e",
       "version_major": 2,
       "version_minor": 0
      },
      "text/plain": [
       "chain 51 |          | 00:00 Status"
      ]
     },
     "metadata": {},
     "output_type": "display_data"
    },
    {
     "data": {
      "application/vnd.jupyter.widget-view+json": {
       "model_id": "21bb5d46ee4e4ad188fd7d6de02fe5fa",
       "version_major": 2,
       "version_minor": 0
      },
      "text/plain": [
       "chain 52 |          | 00:00 Status"
      ]
     },
     "metadata": {},
     "output_type": "display_data"
    },
    {
     "data": {
      "application/vnd.jupyter.widget-view+json": {
       "model_id": "e900531cd98d4eec8ac446ba5b452074",
       "version_major": 2,
       "version_minor": 0
      },
      "text/plain": [
       "chain 53 |          | 00:00 Status"
      ]
     },
     "metadata": {},
     "output_type": "display_data"
    },
    {
     "data": {
      "application/vnd.jupyter.widget-view+json": {
       "model_id": "563f114ebdc747f3ac6d4907ae60237c",
       "version_major": 2,
       "version_minor": 0
      },
      "text/plain": [
       "chain 54 |          | 00:00 Status"
      ]
     },
     "metadata": {},
     "output_type": "display_data"
    },
    {
     "data": {
      "application/vnd.jupyter.widget-view+json": {
       "model_id": "d2234e172e3d49b29859dbb842aa2aa4",
       "version_major": 2,
       "version_minor": 0
      },
      "text/plain": [
       "chain 55 |          | 00:00 Status"
      ]
     },
     "metadata": {},
     "output_type": "display_data"
    },
    {
     "data": {
      "application/vnd.jupyter.widget-view+json": {
       "model_id": "acabd56cb03440f5b592217df98f7fb4",
       "version_major": 2,
       "version_minor": 0
      },
      "text/plain": [
       "chain 56 |          | 00:00 Status"
      ]
     },
     "metadata": {},
     "output_type": "display_data"
    },
    {
     "data": {
      "application/vnd.jupyter.widget-view+json": {
       "model_id": "ef4e119d827f4546970e56959dbd37e0",
       "version_major": 2,
       "version_minor": 0
      },
      "text/plain": [
       "chain 57 |          | 00:00 Status"
      ]
     },
     "metadata": {},
     "output_type": "display_data"
    },
    {
     "data": {
      "application/vnd.jupyter.widget-view+json": {
       "model_id": "5c5fe5cda2394810912bb3f3e37efad0",
       "version_major": 2,
       "version_minor": 0
      },
      "text/plain": [
       "chain 58 |          | 00:00 Status"
      ]
     },
     "metadata": {},
     "output_type": "display_data"
    },
    {
     "data": {
      "application/vnd.jupyter.widget-view+json": {
       "model_id": "cd8a5a5f155c49adaab2904f7681a2a1",
       "version_major": 2,
       "version_minor": 0
      },
      "text/plain": [
       "chain 59 |          | 00:00 Status"
      ]
     },
     "metadata": {},
     "output_type": "display_data"
    },
    {
     "data": {
      "application/vnd.jupyter.widget-view+json": {
       "model_id": "fe6cfc9a3c9f4f5baee506147d6f01cd",
       "version_major": 2,
       "version_minor": 0
      },
      "text/plain": [
       "chain 60 |          | 00:00 Status"
      ]
     },
     "metadata": {},
     "output_type": "display_data"
    },
    {
     "data": {
      "application/vnd.jupyter.widget-view+json": {
       "model_id": "123b585beb4f468ab24208cd46eafd9d",
       "version_major": 2,
       "version_minor": 0
      },
      "text/plain": [
       "chain 61 |          | 00:00 Status"
      ]
     },
     "metadata": {},
     "output_type": "display_data"
    },
    {
     "data": {
      "application/vnd.jupyter.widget-view+json": {
       "model_id": "da08f40fbe6449f4ad10f4869a0ea22d",
       "version_major": 2,
       "version_minor": 0
      },
      "text/plain": [
       "chain 62 |          | 00:00 Status"
      ]
     },
     "metadata": {},
     "output_type": "display_data"
    },
    {
     "data": {
      "application/vnd.jupyter.widget-view+json": {
       "model_id": "d153a2bae1374ed9a107adfe769f6759",
       "version_major": 2,
       "version_minor": 0
      },
      "text/plain": [
       "chain 63 |          | 00:00 Status"
      ]
     },
     "metadata": {},
     "output_type": "display_data"
    },
    {
     "data": {
      "application/vnd.jupyter.widget-view+json": {
       "model_id": "086c48411eeb4da5b3a1208ee21809b9",
       "version_major": 2,
       "version_minor": 0
      },
      "text/plain": [
       "chain 64 |          | 00:00 Status"
      ]
     },
     "metadata": {},
     "output_type": "display_data"
    },
    {
     "data": {
      "application/vnd.jupyter.widget-view+json": {
       "model_id": "b471aee44a014714858d2f6dc28452a2",
       "version_major": 2,
       "version_minor": 0
      },
      "text/plain": [
       "chain 65 |          | 00:00 Status"
      ]
     },
     "metadata": {},
     "output_type": "display_data"
    },
    {
     "data": {
      "application/vnd.jupyter.widget-view+json": {
       "model_id": "93045a30328e4856abdb8995d8fd49b0",
       "version_major": 2,
       "version_minor": 0
      },
      "text/plain": [
       "chain 66 |          | 00:00 Status"
      ]
     },
     "metadata": {},
     "output_type": "display_data"
    },
    {
     "data": {
      "application/vnd.jupyter.widget-view+json": {
       "model_id": "13ba27e8918240f390c65eb254af68a9",
       "version_major": 2,
       "version_minor": 0
      },
      "text/plain": [
       "chain 67 |          | 00:00 Status"
      ]
     },
     "metadata": {},
     "output_type": "display_data"
    },
    {
     "data": {
      "application/vnd.jupyter.widget-view+json": {
       "model_id": "63fbeb88a2b84bfdafa3f64acbd7a819",
       "version_major": 2,
       "version_minor": 0
      },
      "text/plain": [
       "chain 68 |          | 00:00 Status"
      ]
     },
     "metadata": {},
     "output_type": "display_data"
    },
    {
     "data": {
      "application/vnd.jupyter.widget-view+json": {
       "model_id": "85f696e450704ac4af44c9e3e2bf281c",
       "version_major": 2,
       "version_minor": 0
      },
      "text/plain": [
       "chain 69 |          | 00:00 Status"
      ]
     },
     "metadata": {},
     "output_type": "display_data"
    },
    {
     "data": {
      "application/vnd.jupyter.widget-view+json": {
       "model_id": "b1b7fee1fc8e46a29189a1cd886477b7",
       "version_major": 2,
       "version_minor": 0
      },
      "text/plain": [
       "chain 70 |          | 00:00 Status"
      ]
     },
     "metadata": {},
     "output_type": "display_data"
    },
    {
     "data": {
      "application/vnd.jupyter.widget-view+json": {
       "model_id": "c83419f7c37a44f194c2a08d6f69e9ed",
       "version_major": 2,
       "version_minor": 0
      },
      "text/plain": [
       "chain 71 |          | 00:00 Status"
      ]
     },
     "metadata": {},
     "output_type": "display_data"
    },
    {
     "data": {
      "application/vnd.jupyter.widget-view+json": {
       "model_id": "9dd4836000874baa84a3f32b3f8925ee",
       "version_major": 2,
       "version_minor": 0
      },
      "text/plain": [
       "chain 72 |          | 00:00 Status"
      ]
     },
     "metadata": {},
     "output_type": "display_data"
    },
    {
     "data": {
      "application/vnd.jupyter.widget-view+json": {
       "model_id": "a5b6622308c542d09bafbd072e9b6cc5",
       "version_major": 2,
       "version_minor": 0
      },
      "text/plain": [
       "chain 73 |          | 00:00 Status"
      ]
     },
     "metadata": {},
     "output_type": "display_data"
    },
    {
     "data": {
      "application/vnd.jupyter.widget-view+json": {
       "model_id": "a396bf326bce495e96260e1f0c0d1505",
       "version_major": 2,
       "version_minor": 0
      },
      "text/plain": [
       "chain 74 |          | 00:00 Status"
      ]
     },
     "metadata": {},
     "output_type": "display_data"
    },
    {
     "data": {
      "application/vnd.jupyter.widget-view+json": {
       "model_id": "2634b848cf864d02b01fa5af0e530024",
       "version_major": 2,
       "version_minor": 0
      },
      "text/plain": [
       "chain 75 |          | 00:00 Status"
      ]
     },
     "metadata": {},
     "output_type": "display_data"
    },
    {
     "data": {
      "application/vnd.jupyter.widget-view+json": {
       "model_id": "4797a7af0600406b8952dc1342ca2083",
       "version_major": 2,
       "version_minor": 0
      },
      "text/plain": [
       "chain 76 |          | 00:00 Status"
      ]
     },
     "metadata": {},
     "output_type": "display_data"
    },
    {
     "data": {
      "application/vnd.jupyter.widget-view+json": {
       "model_id": "7eea28cfcc02429ba7cdf9d0d5641ae3",
       "version_major": 2,
       "version_minor": 0
      },
      "text/plain": [
       "chain 77 |          | 00:00 Status"
      ]
     },
     "metadata": {},
     "output_type": "display_data"
    },
    {
     "data": {
      "application/vnd.jupyter.widget-view+json": {
       "model_id": "259112823a5b4c488e7ac81a35ed2e6c",
       "version_major": 2,
       "version_minor": 0
      },
      "text/plain": [
       "chain 78 |          | 00:00 Status"
      ]
     },
     "metadata": {},
     "output_type": "display_data"
    },
    {
     "data": {
      "application/vnd.jupyter.widget-view+json": {
       "model_id": "f83cc11a67be4304a7b0993badd46212",
       "version_major": 2,
       "version_minor": 0
      },
      "text/plain": [
       "chain 79 |          | 00:00 Status"
      ]
     },
     "metadata": {},
     "output_type": "display_data"
    },
    {
     "data": {
      "application/vnd.jupyter.widget-view+json": {
       "model_id": "68b962f6d004441e913947dbb7e834d0",
       "version_major": 2,
       "version_minor": 0
      },
      "text/plain": [
       "chain 80 |          | 00:00 Status"
      ]
     },
     "metadata": {},
     "output_type": "display_data"
    },
    {
     "data": {
      "application/vnd.jupyter.widget-view+json": {
       "model_id": "ee9e324c6f3b4f4f9ec653278970f85c",
       "version_major": 2,
       "version_minor": 0
      },
      "text/plain": [
       "chain 81 |          | 00:00 Status"
      ]
     },
     "metadata": {},
     "output_type": "display_data"
    },
    {
     "data": {
      "application/vnd.jupyter.widget-view+json": {
       "model_id": "43bde895c59940cebae7c2cae7902a14",
       "version_major": 2,
       "version_minor": 0
      },
      "text/plain": [
       "chain 82 |          | 00:00 Status"
      ]
     },
     "metadata": {},
     "output_type": "display_data"
    },
    {
     "data": {
      "application/vnd.jupyter.widget-view+json": {
       "model_id": "a611f0f342df4cec8522d3d4c5472169",
       "version_major": 2,
       "version_minor": 0
      },
      "text/plain": [
       "chain 83 |          | 00:00 Status"
      ]
     },
     "metadata": {},
     "output_type": "display_data"
    },
    {
     "data": {
      "application/vnd.jupyter.widget-view+json": {
       "model_id": "fe8ab2a5edbf4aff99a88a1a1963d74d",
       "version_major": 2,
       "version_minor": 0
      },
      "text/plain": [
       "chain 84 |          | 00:00 Status"
      ]
     },
     "metadata": {},
     "output_type": "display_data"
    },
    {
     "data": {
      "application/vnd.jupyter.widget-view+json": {
       "model_id": "1d9fd8a7596e42ac9c36aff2a0bef0a6",
       "version_major": 2,
       "version_minor": 0
      },
      "text/plain": [
       "chain 85 |          | 00:00 Status"
      ]
     },
     "metadata": {},
     "output_type": "display_data"
    },
    {
     "data": {
      "application/vnd.jupyter.widget-view+json": {
       "model_id": "c534b8a0f95a4be5ad91dadac2247bba",
       "version_major": 2,
       "version_minor": 0
      },
      "text/plain": [
       "chain 86 |          | 00:00 Status"
      ]
     },
     "metadata": {},
     "output_type": "display_data"
    },
    {
     "data": {
      "application/vnd.jupyter.widget-view+json": {
       "model_id": "581446e162824399a1524ccdc4ca9338",
       "version_major": 2,
       "version_minor": 0
      },
      "text/plain": [
       "chain 87 |          | 00:00 Status"
      ]
     },
     "metadata": {},
     "output_type": "display_data"
    },
    {
     "data": {
      "application/vnd.jupyter.widget-view+json": {
       "model_id": "856f19ab8d98465f93c1268184cd4cd8",
       "version_major": 2,
       "version_minor": 0
      },
      "text/plain": [
       "chain 88 |          | 00:00 Status"
      ]
     },
     "metadata": {},
     "output_type": "display_data"
    },
    {
     "data": {
      "application/vnd.jupyter.widget-view+json": {
       "model_id": "d584a8b31d454e4f90cfaca448e87f6d",
       "version_major": 2,
       "version_minor": 0
      },
      "text/plain": [
       "chain 89 |          | 00:00 Status"
      ]
     },
     "metadata": {},
     "output_type": "display_data"
    },
    {
     "data": {
      "application/vnd.jupyter.widget-view+json": {
       "model_id": "39ae70e9dfc44bf8b0c1c5475a6f60f3",
       "version_major": 2,
       "version_minor": 0
      },
      "text/plain": [
       "chain 90 |          | 00:00 Status"
      ]
     },
     "metadata": {},
     "output_type": "display_data"
    },
    {
     "data": {
      "application/vnd.jupyter.widget-view+json": {
       "model_id": "641689cfa67146f88cb0b90626559d64",
       "version_major": 2,
       "version_minor": 0
      },
      "text/plain": [
       "chain 91 |          | 00:00 Status"
      ]
     },
     "metadata": {},
     "output_type": "display_data"
    },
    {
     "data": {
      "application/vnd.jupyter.widget-view+json": {
       "model_id": "f8e37d9713204f7c868d4e4a5c809ef7",
       "version_major": 2,
       "version_minor": 0
      },
      "text/plain": [
       "chain 92 |          | 00:00 Status"
      ]
     },
     "metadata": {},
     "output_type": "display_data"
    },
    {
     "data": {
      "application/vnd.jupyter.widget-view+json": {
       "model_id": "70367e3cc3ff499bbeecf4de98b66f35",
       "version_major": 2,
       "version_minor": 0
      },
      "text/plain": [
       "chain 93 |          | 00:00 Status"
      ]
     },
     "metadata": {},
     "output_type": "display_data"
    },
    {
     "data": {
      "application/vnd.jupyter.widget-view+json": {
       "model_id": "999a8dd01b61456298631799c144ce36",
       "version_major": 2,
       "version_minor": 0
      },
      "text/plain": [
       "chain 94 |          | 00:00 Status"
      ]
     },
     "metadata": {},
     "output_type": "display_data"
    },
    {
     "data": {
      "application/vnd.jupyter.widget-view+json": {
       "model_id": "dedaea58bdf24a2789b23b05d26909c9",
       "version_major": 2,
       "version_minor": 0
      },
      "text/plain": [
       "chain 95 |          | 00:00 Status"
      ]
     },
     "metadata": {},
     "output_type": "display_data"
    },
    {
     "data": {
      "application/vnd.jupyter.widget-view+json": {
       "model_id": "86103388cfc24c958946d9311bac9d58",
       "version_major": 2,
       "version_minor": 0
      },
      "text/plain": [
       "chain 96 |          | 00:00 Status"
      ]
     },
     "metadata": {},
     "output_type": "display_data"
    },
    {
     "data": {
      "application/vnd.jupyter.widget-view+json": {
       "model_id": "a66e551393994dd9a1b03c3b32097e88",
       "version_major": 2,
       "version_minor": 0
      },
      "text/plain": [
       "chain 97 |          | 00:00 Status"
      ]
     },
     "metadata": {},
     "output_type": "display_data"
    },
    {
     "data": {
      "application/vnd.jupyter.widget-view+json": {
       "model_id": "1d706439593844c8bf0832d097ebba81",
       "version_major": 2,
       "version_minor": 0
      },
      "text/plain": [
       "chain 98 |          | 00:00 Status"
      ]
     },
     "metadata": {},
     "output_type": "display_data"
    },
    {
     "data": {
      "application/vnd.jupyter.widget-view+json": {
       "model_id": "aa5dd9835aa9418aa465db643646640b",
       "version_major": 2,
       "version_minor": 0
      },
      "text/plain": [
       "chain 99 |          | 00:00 Status"
      ]
     },
     "metadata": {},
     "output_type": "display_data"
    },
    {
     "data": {
      "application/vnd.jupyter.widget-view+json": {
       "model_id": "915be70081804c878ad8d39af26c86f8",
       "version_major": 2,
       "version_minor": 0
      },
      "text/plain": [
       "chain 100 |          | 00:00 Status"
      ]
     },
     "metadata": {},
     "output_type": "display_data"
    },
    {
     "name": "stdout",
     "output_type": "stream",
     "text": [
      "                                                                                                                                                                                                                                                                                                                                                                                                                                                                                                                                                                                                                                                                                                                                                                                                                                                                                                                                                                                                                                                                                                                                                                                                                                                                                                                                                                                                                                                                                                                                                                                                                                                                                                                                                                                                                                                                                                                                                                                                                                                                                                                                                                                                                                                                                                                                                                                                                                                                                                                                                                                                                                                                                                                                                                                                                                                                                                                                                                                                                                                                                                                                                                                                                                                                                                                                                                                                                                                                                                                                                                                                                                                                                                                                                                                                                                                                                                                                                                                                                                                                                                                                                                                                                                                                                                                                                                                                                                                                                                                                                                                                                                                                                                                                                                                                                                                                                                                                                                                                                                                                                                                                                                                                                                                                                                                                                                                                                                                                                                                                                                                                                                                                                                                                                                                                                                                                                                                                                                                                                                                                                                                                                                                                                                                                                                                                                                                                                                                                                                                                                                                                                                                                                                                                                                                                                                                                                                                                                                                                                                                                                                                                                                                                                                                                                                                                                                                                                                                                                                                                                                                                                                                                                                                                                                                                                                                                                                                                                                                                                                                                                                                                                                                                                                                                                                                                "
     ]
    },
    {
     "name": "stderr",
     "output_type": "stream",
     "text": [
      "15:52:06 - cmdstanpy - INFO - CmdStan done processing.\n",
      "15:52:06 - cmdstanpy - WARNING - Non-fatal error during sampling:\n",
      "Exception: lognormal_lpdf: Scale parameter is inf, but must be positive finite! (in 'stochastic_volatility.stan', line 15, column 4 to column 56)\n",
      "\tException: lognormal_lpdf: Scale parameter is inf, but must be positive finite! (in 'stochastic_volatility.stan', line 15, column 4 to column 56)\n",
      "\tException: lognormal_lpdf: Scale parameter is -nan, but must be positive finite! (in 'stochastic_volatility.stan', line 15, column 4 to column 56)\n",
      "Exception: lognormal_lpdf: Scale parameter is inf, but must be positive finite! (in 'stochastic_volatility.stan', line 15, column 4 to column 56)\n",
      "\tException: lognormal_lpdf: Scale parameter is inf, but must be positive finite! (in 'stochastic_volatility.stan', line 15, column 4 to column 56)\n",
      "\tException: lognormal_lpdf: Scale parameter is inf, but must be positive finite! (in 'stochastic_volatility.stan', line 15, column 4 to column 56)\n",
      "\tException: lognormal_lpdf: Scale parameter is inf, but must be positive finite! (in 'stochastic_volatility.stan', line 15, column 4 to column 56)\n",
      "\tException: lognormal_lpdf: Scale parameter is inf, but must be positive finite! (in 'stochastic_volatility.stan', line 15, column 4 to column 56)\n",
      "\tException: lognormal_lpdf: Scale parameter is inf, but must be positive finite! (in 'stochastic_volatility.stan', line 15, column 4 to column 56)\n",
      "Exception: lognormal_lpdf: Scale parameter is inf, but must be positive finite! (in 'stochastic_volatility.stan', line 15, column 4 to column 56)\n",
      "\tException: lognormal_lpdf: Scale parameter is inf, but must be positive finite! (in 'stochastic_volatility.stan', line 15, column 4 to column 56)\n",
      "\tException: lognormal_lpdf: Scale parameter is inf, but must be positive finite! (in 'stochastic_volatility.stan', line 15, column 4 to column 56)\n",
      "\tException: lognormal_lpdf: Scale parameter is inf, but must be positive finite! (in 'stochastic_volatility.stan', line 15, column 4 to column 56)\n",
      "\tException: lognormal_lpdf: Scale parameter is inf, but must be positive finite! (in 'stochastic_volatility.stan', line 15, column 4 to column 56)\n",
      "\tException: lognormal_lpdf: Scale parameter is inf, but must be positive finite! (in 'stochastic_volatility.stan', line 15, column 4 to column 56)\n",
      "\tException: lognormal_lpdf: Scale parameter is inf, but must be positive finite! (in 'stochastic_volatility.stan', line 15, column 4 to column 56)\n",
      "\tException: lognormal_lpdf: Scale parameter is inf, but must be positive finite! (in 'stochastic_volatility.stan', line 15, column 4 to column 56)\n",
      "Exception: lognormal_lpdf: Scale parameter is inf, but must be positive finite! (in 'stochastic_volatility.stan', line 15, column 4 to column 56)\n",
      "\tException: lognormal_lpdf: Scale parameter is inf, but must be positive finite! (in 'stochastic_volatility.stan', line 15, column 4 to column 56)\n",
      "\tException: lognormal_lpdf: Scale parameter is inf, but must be positive finite! (in 'stochastic_volatility.stan', line 15, column 4 to column 56)\n",
      "\tException: lognormal_lpdf: Scale parameter is inf, but must be positive finite! (in 'stochastic_volatility.stan', line 15, column 4 to column 56)\n",
      "\tException: lognormal_lpdf: Scale parameter is inf, but must be positive finite! (in 'stochastic_volatility.stan', line 15, column 4 to column 56)\n",
      "\tException: lognormal_lpdf: Scale parameter is inf, but must be positive finite! (in 'stochastic_volatility.stan', line 15, column 4 to column 56)\n",
      "Exception: lognormal_lpdf: Scale parameter is -nan, but must be positive finite! (in 'stochastic_volatility.stan', line 15, column 4 to column 56)\n",
      "Exception: lognormal_lpdf: Scale parameter is inf, but must be positive finite! (in 'stochastic_volatility.stan', line 15, column 4 to column 56)\n",
      "\tException: lognormal_lpdf: Scale parameter is inf, but must be positive finite! (in 'stochastic_volatility.stan', line 15, column 4 to column 56)\n",
      "\tException: lognormal_lpdf: Scale parameter is inf, but must be positive finite! (in 'stochastic_volatility.stan', line 15, column 4 to column 56)\n",
      "\tException: lognormal_lpdf: Scale parameter is inf, but must be positive finite! (in 'stochastic_volatility.stan', line 15, column 4 to column 56)\n",
      "Exception: lognormal_lpdf: Scale parameter is inf, but must be positive finite! (in 'stochastic_volatility.stan', line 15, column 4 to column 56)\n",
      "\tException: lognormal_lpdf: Scale parameter is inf, but must be positive finite! (in 'stochastic_volatility.stan', line 15, column 4 to column 56)\n",
      "\tException: lognormal_lpdf: Scale parameter is inf, but must be positive finite! (in 'stochastic_volatility.stan', line 15, column 4 to column 56)\n",
      "\tException: lognormal_lpdf: Scale parameter is inf, but must be positive finite! (in 'stochastic_volatility.stan', line 15, column 4 to column 56)\n",
      "\tException: lognormal_lpdf: Scale parameter is inf, but must be positive finite! (in 'stochastic_volatility.stan', line 15, column 4 to column 56)\n",
      "Exception: lognormal_lpdf: Scale parameter is inf, but must be positive finite! (in 'stochastic_volatility.stan', line 15, column 4 to column 56)\n",
      "\tException: lognormal_lpdf: Scale parameter is inf, but must be positive finite! (in 'stochastic_volatility.stan', line 15, column 4 to column 56)\n",
      "\tException: lognormal_lpdf: Scale parameter is inf, but must be positive finite! (in 'stochastic_volatility.stan', line 15, column 4 to column 56)\n",
      "Exception: lognormal_lpdf: Scale parameter is inf, but must be positive finite! (in 'stochastic_volatility.stan', line 15, column 4 to column 56)\n",
      "\tException: lognormal_lpdf: Scale parameter is inf, but must be positive finite! (in 'stochastic_volatility.stan', line 15, column 4 to column 56)\n",
      "\tException: lognormal_lpdf: Scale parameter is -nan, but must be positive finite! (in 'stochastic_volatility.stan', line 15, column 4 to column 56)\n",
      "Exception: lognormal_lpdf: Scale parameter is inf, but must be positive finite! (in 'stochastic_volatility.stan', line 15, column 4 to column 56)\n",
      "\tException: lognormal_lpdf: Scale parameter is inf, but must be positive finite! (in 'stochastic_volatility.stan', line 15, column 4 to column 56)\n",
      "\tException: lognormal_lpdf: Scale parameter is inf, but must be positive finite! (in 'stochastic_volatility.stan', line 15, column 4 to column 56)\n",
      "\tException: lognormal_lpdf: Scale parameter is inf, but must be positive finite! (in 'stochastic_volatility.stan', line 15, column 4 to column 56)\n",
      "\tException: lognormal_lpdf: Scale parameter is inf, but must be positive finite! (in 'stochastic_volatility.stan', line 15, column 4 to column 56)\n",
      "\tException: lognormal_lpdf: Scale parameter is inf, but must be positive finite! (in 'stochastic_volatility.stan', line 15, column 4 to column 56)\n",
      "\tException: lognormal_lpdf: Scale parameter is inf, but must be positive finite! (in 'stochastic_volatility.stan', line 15, column 4 to column 56)\n",
      "Exception: lognormal_lpdf: Scale parameter is inf, but must be positive finite! (in 'stochastic_volatility.stan', line 15, column 4 to column 56)\n",
      "\tException: lognormal_lpdf: Scale parameter is inf, but must be positive finite! (in 'stochastic_volatility.stan', line 15, column 4 to column 56)\n",
      "\tException: lognormal_lpdf: Scale parameter is inf, but must be positive finite! (in 'stochastic_volatility.stan', line 15, column 4 to column 56)\n",
      "\tException: lognormal_lpdf: Scale parameter is inf, but must be positive finite! (in 'stochastic_volatility.stan', line 15, column 4 to column 56)\n",
      "Exception: lognormal_lpdf: Scale parameter is -nan, but must be positive finite! (in 'stochastic_volatility.stan', line 15, column 4 to column 56)\n",
      "Exception: lognormal_lpdf: Scale parameter is inf, but must be positive finite! (in 'stochastic_volatility.stan', line 15, column 4 to column 56)\n",
      "\tException: lognormal_lpdf: Scale parameter is inf, but must be positive finite! (in 'stochastic_volatility.stan', line 15, column 4 to column 56)\n",
      "\tException: lognormal_lpdf: Scale parameter is -nan, but must be positive finite! (in 'stochastic_volatility.stan', line 15, column 4 to column 56)\n",
      "Exception: lognormal_lpdf: Scale parameter is -nan, but must be positive finite! (in 'stochastic_volatility.stan', line 15, column 4 to column 56)\n",
      "Exception: lognormal_lpdf: Scale parameter is inf, but must be positive finite! (in 'stochastic_volatility.stan', line 15, column 4 to column 56)\n",
      "\tException: lognormal_lpdf: Scale parameter is inf, but must be positive finite! (in 'stochastic_volatility.stan', line 15, column 4 to column 56)\n",
      "\tException: lognormal_lpdf: Scale parameter is inf, but must be positive finite! (in 'stochastic_volatility.stan', line 15, column 4 to column 56)\n",
      "\tException: lognormal_lpdf: Scale parameter is inf, but must be positive finite! (in 'stochastic_volatility.stan', line 15, column 4 to column 56)\n",
      "\tException: lognormal_lpdf: Scale parameter is inf, but must be positive finite! (in 'stochastic_volatility.stan', line 15, column 4 to column 56)\n",
      "\tException: lognormal_lpdf: Scale parameter is inf, but must be positive finite! (in 'stochastic_volatility.stan', line 15, column 4 to column 56)\n",
      "Exception: lognormal_lpdf: Scale parameter is inf, but must be positive finite! (in 'stochastic_volatility.stan', line 15, column 4 to column 56)\n",
      "\tException: lognormal_lpdf: Scale parameter is inf, but must be positive finite! (in 'stochastic_volatility.stan', line 15, column 4 to column 56)\n",
      "\tException: lognormal_lpdf: Scale parameter is inf, but must be positive finite! (in 'stochastic_volatility.stan', line 15, column 4 to column 56)\n",
      "\tException: lognormal_lpdf: Scale parameter is inf, but must be positive finite! (in 'stochastic_volatility.stan', line 15, column 4 to column 56)\n",
      "\tException: lognormal_lpdf: Scale parameter is inf, but must be positive finite! (in 'stochastic_volatility.stan', line 15, column 4 to column 56)\n",
      "Exception: lognormal_lpdf: Scale parameter is -nan, but must be positive finite! (in 'stochastic_volatility.stan', line 15, column 4 to column 56)\n",
      "Exception: lognormal_lpdf: Scale parameter is inf, but must be positive finite! (in 'stochastic_volatility.stan', line 15, column 4 to column 56)\n",
      "\tException: lognormal_lpdf: Scale parameter is inf, but must be positive finite! (in 'stochastic_volatility.stan', line 15, column 4 to column 56)\n",
      "\tException: lognormal_lpdf: Scale parameter is -nan, but must be positive finite! (in 'stochastic_volatility.stan', line 15, column 4 to column 56)\n",
      "Exception: lognormal_lpdf: Scale parameter is inf, but must be positive finite! (in 'stochastic_volatility.stan', line 15, column 4 to column 56)\n",
      "\tException: lognormal_lpdf: Scale parameter is inf, but must be positive finite! (in 'stochastic_volatility.stan', line 15, column 4 to column 56)\n",
      "\tException: lognormal_lpdf: Scale parameter is inf, but must be positive finite! (in 'stochastic_volatility.stan', line 15, column 4 to column 56)\n",
      "\tException: lognormal_lpdf: Scale parameter is inf, but must be positive finite! (in 'stochastic_volatility.stan', line 15, column 4 to column 56)\n",
      "\tException: lognormal_lpdf: Scale parameter is inf, but must be positive finite! (in 'stochastic_volatility.stan', line 15, column 4 to column 56)\n",
      "\tException: lognormal_lpdf: Scale parameter is inf, but must be positive finite! (in 'stochastic_volatility.stan', line 15, column 4 to column 56)\n",
      "Exception: lognormal_lpdf: Scale parameter is inf, but must be positive finite! (in 'stochastic_volatility.stan', line 15, column 4 to column 56)\n",
      "Exception: lognormal_lpdf: Scale parameter is inf, but must be positive finite! (in 'stochastic_volatility.stan', line 15, column 4 to column 56)\n",
      "\tException: lognormal_lpdf: Scale parameter is inf, but must be positive finite! (in 'stochastic_volatility.stan', line 15, column 4 to column 56)\n",
      "\tException: lognormal_lpdf: Scale parameter is inf, but must be positive finite! (in 'stochastic_volatility.stan', line 15, column 4 to column 56)\n",
      "\tException: lognormal_lpdf: Scale parameter is inf, but must be positive finite! (in 'stochastic_volatility.stan', line 15, column 4 to column 56)\n",
      "\tException: lognormal_lpdf: Scale parameter is inf, but must be positive finite! (in 'stochastic_volatility.stan', line 15, column 4 to column 56)\n",
      "\tException: lognormal_lpdf: Scale parameter is inf, but must be positive finite! (in 'stochastic_volatility.stan', line 15, column 4 to column 56)\n",
      "\tException: lognormal_lpdf: Scale parameter is inf, but must be positive finite! (in 'stochastic_volatility.stan', line 15, column 4 to column 56)\n",
      "Exception: lognormal_lpdf: Scale parameter is inf, but must be positive finite! (in 'stochastic_volatility.stan', line 15, column 4 to column 56)\n",
      "\tException: lognormal_lpdf: Scale parameter is inf, but must be positive finite! (in 'stochastic_volatility.stan', line 15, column 4 to column 56)\n",
      "\tException: lognormal_lpdf: Scale parameter is inf, but must be positive finite! (in 'stochastic_volatility.stan', line 15, column 4 to column 56)\n",
      "\tException: lognormal_lpdf: Scale parameter is inf, but must be positive finite! (in 'stochastic_volatility.stan', line 15, column 4 to column 56)\n",
      "\tException: lognormal_lpdf: Scale parameter is inf, but must be positive finite! (in 'stochastic_volatility.stan', line 15, column 4 to column 56)\n",
      "\tException: lognormal_lpdf: Scale parameter is inf, but must be positive finite! (in 'stochastic_volatility.stan', line 15, column 4 to column 56)\n",
      "\tException: lognormal_lpdf: Scale parameter is inf, but must be positive finite! (in 'stochastic_volatility.stan', line 15, column 4 to column 56)\n",
      "Exception: lognormal_lpdf: Scale parameter is inf, but must be positive finite! (in 'stochastic_volatility.stan', line 15, column 4 to column 56)\n",
      "\tException: lognormal_lpdf: Scale parameter is inf, but must be positive finite! (in 'stochastic_volatility.stan', line 15, column 4 to column 56)\n",
      "\tException: lognormal_lpdf: Scale parameter is inf, but must be positive finite! (in 'stochastic_volatility.stan', line 15, column 4 to column 56)\n",
      "\tException: lognormal_lpdf: Scale parameter is inf, but must be positive finite! (in 'stochastic_volatility.stan', line 15, column 4 to column 56)\n",
      "\tException: lognormal_lpdf: Scale parameter is inf, but must be positive finite! (in 'stochastic_volatility.stan', line 15, column 4 to column 56)\n",
      "\tException: lognormal_lpdf: Scale parameter is inf, but must be positive finite! (in 'stochastic_volatility.stan', line 15, column 4 to column 56)\n",
      "\tException: lognormal_lpdf: Scale parameter is inf, but must be positive finite! (in 'stochastic_volatility.stan', line 15, column 4 to column 56)\n",
      "Exception: lognormal_lpdf: Scale parameter is inf, but must be positive finite! (in 'stochastic_volatility.stan', line 15, column 4 to column 56)\n",
      "\tException: lognormal_lpdf: Scale parameter is inf, but must be positive finite! (in 'stochastic_volatility.stan', line 15, column 4 to column 56)\n",
      "\tException: lognormal_lpdf: Scale parameter is inf, but must be positive finite! (in 'stochastic_volatility.stan', line 15, column 4 to column 56)\n",
      "\tException: lognormal_lpdf: Scale parameter is inf, but must be positive finite! (in 'stochastic_volatility.stan', line 15, column 4 to column 56)\n",
      "\tException: lognormal_lpdf: Scale parameter is inf, but must be positive finite! (in 'stochastic_volatility.stan', line 15, column 4 to column 56)\n",
      "\tException: lognormal_lpdf: Scale parameter is inf, but must be positive finite! (in 'stochastic_volatility.stan', line 15, column 4 to column 56)\n",
      "Exception: lognormal_lpdf: Scale parameter is inf, but must be positive finite! (in 'stochastic_volatility.stan', line 15, column 4 to column 56)\n",
      "Exception: lognormal_lpdf: Scale parameter is inf, but must be positive finite! (in 'stochastic_volatility.stan', line 15, column 4 to column 56)\n",
      "\tException: lognormal_lpdf: Scale parameter is inf, but must be positive finite! (in 'stochastic_volatility.stan', line 15, column 4 to column 56)\n",
      "\tException: lognormal_lpdf: Scale parameter is inf, but must be positive finite! (in 'stochastic_volatility.stan', line 15, column 4 to column 56)\n",
      "\tException: lognormal_lpdf: Scale parameter is inf, but must be positive finite! (in 'stochastic_volatility.stan', line 15, column 4 to column 56)\n",
      "Exception: lognormal_lpdf: Scale parameter is -nan, but must be positive finite! (in 'stochastic_volatility.stan', line 15, column 4 to column 56)\n",
      "Exception: lognormal_lpdf: Scale parameter is -nan, but must be positive finite! (in 'stochastic_volatility.stan', line 15, column 4 to column 56)\n",
      "Exception: lognormal_lpdf: Scale parameter is inf, but must be positive finite! (in 'stochastic_volatility.stan', line 15, column 4 to column 56)\n",
      "\tException: lognormal_lpdf: Scale parameter is inf, but must be positive finite! (in 'stochastic_volatility.stan', line 15, column 4 to column 56)\n",
      "\tException: lognormal_lpdf: Scale parameter is inf, but must be positive finite! (in 'stochastic_volatility.stan', line 15, column 4 to column 56)\n",
      "Exception: lognormal_lpdf: Scale parameter is inf, but must be positive finite! (in 'stochastic_volatility.stan', line 15, column 4 to column 56)\n",
      "\tException: lognormal_lpdf: Scale parameter is inf, but must be positive finite! (in 'stochastic_volatility.stan', line 15, column 4 to column 56)\n",
      "\tException: lognormal_lpdf: Scale parameter is inf, but must be positive finite! (in 'stochastic_volatility.stan', line 15, column 4 to column 56)\n",
      "\tException: lognormal_lpdf: Scale parameter is inf, but must be positive finite! (in 'stochastic_volatility.stan', line 15, column 4 to column 56)\n",
      "\tException: lognormal_lpdf: Scale parameter is inf, but must be positive finite! (in 'stochastic_volatility.stan', line 15, column 4 to column 56)\n",
      "\tException: lognormal_lpdf: Scale parameter is inf, but must be positive finite! (in 'stochastic_volatility.stan', line 15, column 4 to column 56)\n",
      "Exception: lognormal_lpdf: Scale parameter is inf, but must be positive finite! (in 'stochastic_volatility.stan', line 15, column 4 to column 56)\n",
      "Exception: lognormal_lpdf: Scale parameter is inf, but must be positive finite! (in 'stochastic_volatility.stan', line 15, column 4 to column 56)\n",
      "\tException: lognormal_lpdf: Scale parameter is inf, but must be positive finite! (in 'stochastic_volatility.stan', line 15, column 4 to column 56)\n",
      "\tException: lognormal_lpdf: Scale parameter is inf, but must be positive finite! (in 'stochastic_volatility.stan', line 15, column 4 to column 56)\n",
      "\tException: lognormal_lpdf: Scale parameter is inf, but must be positive finite! (in 'stochastic_volatility.stan', line 15, column 4 to column 56)\n",
      "\tException: lognormal_lpdf: Scale parameter is inf, but must be positive finite! (in 'stochastic_volatility.stan', line 15, column 4 to column 56)\n",
      "\tException: lognormal_lpdf: Scale parameter is inf, but must be positive finite! (in 'stochastic_volatility.stan', line 15, column 4 to column 56)\n",
      "Exception: lognormal_lpdf: Scale parameter is inf, but must be positive finite! (in 'stochastic_volatility.stan', line 15, column 4 to column 56)\n",
      "\tException: lognormal_lpdf: Scale parameter is inf, but must be positive finite! (in 'stochastic_volatility.stan', line 15, column 4 to column 56)\n",
      "\tException: lognormal_lpdf: Scale parameter is inf, but must be positive finite! (in 'stochastic_volatility.stan', line 15, column 4 to column 56)\n",
      "\tException: lognormal_lpdf: Scale parameter is inf, but must be positive finite! (in 'stochastic_volatility.stan', line 15, column 4 to column 56)\n",
      "Exception: lognormal_lpdf: Scale parameter is inf, but must be positive finite! (in 'stochastic_volatility.stan', line 15, column 4 to column 56)\n",
      "\tException: lognormal_lpdf: Scale parameter is inf, but must be positive finite! (in 'stochastic_volatility.stan', line 15, column 4 to column 56)\n",
      "\tException: lognormal_lpdf: Scale parameter is inf, but must be positive finite! (in 'stochastic_volatility.stan', line 15, column 4 to column 56)\n",
      "\tException: lognormal_lpdf: Scale parameter is inf, but must be positive finite! (in 'stochastic_volatility.stan', line 15, column 4 to column 56)\n",
      "\tException: lognormal_lpdf: Scale parameter is inf, but must be positive finite! (in 'stochastic_volatility.stan', line 15, column 4 to column 56)\n",
      "Exception: lognormal_lpdf: Scale parameter is inf, but must be positive finite! (in 'stochastic_volatility.stan', line 15, column 4 to column 56)\n",
      "Exception: lognormal_lpdf: Scale parameter is inf, but must be positive finite! (in 'stochastic_volatility.stan', line 15, column 4 to column 56)\n",
      "\tException: lognormal_lpdf: Scale parameter is inf, but must be positive finite! (in 'stochastic_volatility.stan', line 15, column 4 to column 56)\n",
      "\tException: lognormal_lpdf: Scale parameter is inf, but must be positive finite! (in 'stochastic_volatility.stan', line 15, column 4 to column 56)\n",
      "\tException: lognormal_lpdf: Scale parameter is inf, but must be positive finite! (in 'stochastic_volatility.stan', line 15, column 4 to column 56)\n",
      "\tException: lognormal_lpdf: Scale parameter is inf, but must be positive finite! (in 'stochastic_volatility.stan', line 15, column 4 to column 56)\n",
      "\tException: lognormal_lpdf: Scale parameter is inf, but must be positive finite! (in 'stochastic_volatility.stan', line 15, column 4 to column 56)\n",
      "Exception: lognormal_lpdf: Scale parameter is inf, but must be positive finite! (in 'stochastic_volatility.stan', line 15, column 4 to column 56)\n",
      "\tException: lognormal_lpdf: Scale parameter is inf, but must be positive finite! (in 'stochastic_volatility.stan', line 15, column 4 to column 56)\n",
      "\tException: lognormal_lpdf: Scale parameter is -nan, but must be positive finite! (in 'stochastic_volatility.stan', line 15, column 4 to column 56)\n",
      "Exception: lognormal_lpdf: Scale parameter is inf, but must be positive finite! (in 'stochastic_volatility.stan', line 15, column 4 to column 56)\n",
      "Exception: lognormal_lpdf: Scale parameter is inf, but must be positive finite! (in 'stochastic_volatility.stan', line 15, column 4 to column 56)\n",
      "\tException: lognormal_lpdf: Scale parameter is inf, but must be positive finite! (in 'stochastic_volatility.stan', line 15, column 4 to column 56)\n",
      "\tException: lognormal_lpdf: Scale parameter is inf, but must be positive finite! (in 'stochastic_volatility.stan', line 15, column 4 to column 56)\n",
      "Exception: lognormal_lpdf: Scale parameter is inf, but must be positive finite! (in 'stochastic_volatility.stan', line 15, column 4 to column 56)\n",
      "\tException: lognormal_lpdf: Scale parameter is inf, but must be positive finite! (in 'stochastic_volatility.stan', line 15, column 4 to column 56)\n",
      "\tException: lognormal_lpdf: Scale parameter is inf, but must be positive finite! (in 'stochastic_volatility.stan', line 15, column 4 to column 56)\n",
      "\tException: lognormal_lpdf: Scale parameter is inf, but must be positive finite! (in 'stochastic_volatility.stan', line 15, column 4 to column 56)\n",
      "\tException: lognormal_lpdf: Scale parameter is inf, but must be positive finite! (in 'stochastic_volatility.stan', line 15, column 4 to column 56)\n",
      "Exception: lognormal_lpdf: Scale parameter is -nan, but must be positive finite! (in 'stochastic_volatility.stan', line 15, column 4 to column 56)\n",
      "Exception: lognormal_lpdf: Scale parameter is inf, but must be positive finite! (in 'stochastic_volatility.stan', line 15, column 4 to column 56)\n",
      "\tException: lognormal_lpdf: Scale parameter is inf, but must be positive finite! (in 'stochastic_volatility.stan', line 15, column 4 to column 56)\n",
      "\tException: lognormal_lpdf: Scale parameter is inf, but must be positive finite! (in 'stochastic_volatility.stan', line 15, column 4 to column 56)\n",
      "\tException: lognormal_lpdf: Scale parameter is -nan, but must be positive finite! (in 'stochastic_volatility.stan', line 15, column 4 to column 56)\n",
      "Exception: lognormal_lpdf: Scale parameter is inf, but must be positive finite! (in 'stochastic_volatility.stan', line 15, column 4 to column 56)\n",
      "\tException: lognormal_lpdf: Scale parameter is inf, but must be positive finite! (in 'stochastic_volatility.stan', line 15, column 4 to column 56)\n",
      "\tException: lognormal_lpdf: Scale parameter is inf, but must be positive finite! (in 'stochastic_volatility.stan', line 15, column 4 to column 56)\n",
      "Exception: lognormal_lpdf: Scale parameter is inf, but must be positive finite! (in 'stochastic_volatility.stan', line 15, column 4 to column 56)\n",
      "\tException: lognormal_lpdf: Scale parameter is inf, but must be positive finite! (in 'stochastic_volatility.stan', line 15, column 4 to column 56)\n",
      "\tException: lognormal_lpdf: Scale parameter is inf, but must be positive finite! (in 'stochastic_volatility.stan', line 15, column 4 to column 56)\n",
      "\tException: lognormal_lpdf: Scale parameter is inf, but must be positive finite! (in 'stochastic_volatility.stan', line 15, column 4 to column 56)\n",
      "\tException: lognormal_lpdf: Scale parameter is inf, but must be positive finite! (in 'stochastic_volatility.stan', line 15, column 4 to column 56)\n",
      "\tException: lognormal_lpdf: Scale parameter is inf, but must be positive finite! (in 'stochastic_volatility.stan', line 15, column 4 to column 56)\n",
      "Exception: lognormal_lpdf: Scale parameter is inf, but must be positive finite! (in 'stochastic_volatility.stan', line 15, column 4 to column 56)\n",
      "\tException: lognormal_lpdf: Scale parameter is inf, but must be positive finite! (in 'stochastic_volatility.stan', line 15, column 4 to column 56)\n",
      "\tException: lognormal_lpdf: Scale parameter is inf, but must be positive finite! (in 'stochastic_volatility.stan', line 15, column 4 to column 56)\n",
      "\tException: lognormal_lpdf: Scale parameter is inf, but must be positive finite! (in 'stochastic_volatility.stan', line 15, column 4 to column 56)\n",
      "\tException: lognormal_lpdf: Scale parameter is inf, but must be positive finite! (in 'stochastic_volatility.stan', line 15, column 4 to column 56)\n",
      "\tException: lognormal_lpdf: Scale parameter is inf, but must be positive finite! (in 'stochastic_volatility.stan', line 15, column 4 to column 56)\n",
      "\tException: lognormal_lpdf: Scale parameter is inf, but must be positive finite! (in 'stochastic_volatility.stan', line 15, column 4 to column 56)\n",
      "Exception: lognormal_lpdf: Scale parameter is -nan, but must be positive finite! (in 'stochastic_volatility.stan', line 15, column 4 to column 56)\n",
      "Exception: lognormal_lpdf: Scale parameter is inf, but must be positive finite! (in 'stochastic_volatility.stan', line 15, column 4 to column 56)\n",
      "Exception: lognormal_lpdf: Scale parameter is inf, but must be positive finite! (in 'stochastic_volatility.stan', line 15, column 4 to column 56)\n",
      "\tException: lognormal_lpdf: Scale parameter is inf, but must be positive finite! (in 'stochastic_volatility.stan', line 15, column 4 to column 56)\n",
      "\tException: lognormal_lpdf: Scale parameter is inf, but must be positive finite! (in 'stochastic_volatility.stan', line 15, column 4 to column 56)\n",
      "\tException: lognormal_lpdf: Scale parameter is inf, but must be positive finite! (in 'stochastic_volatility.stan', line 15, column 4 to column 56)\n",
      "\tException: lognormal_lpdf: Scale parameter is inf, but must be positive finite! (in 'stochastic_volatility.stan', line 15, column 4 to column 56)\n",
      "\tException: lognormal_lpdf: Scale parameter is inf, but must be positive finite! (in 'stochastic_volatility.stan', line 15, column 4 to column 56)\n",
      "\tException: lognormal_lpdf: Scale parameter is inf, but must be positive finite! (in 'stochastic_volatility.stan', line 15, column 4 to column 56)\n",
      "Exception: lognormal_lpdf: Scale parameter is -nan, but must be positive finite! (in 'stochastic_volatility.stan', line 15, column 4 to column 56)\n",
      "Exception: lognormal_lpdf: Scale parameter is inf, but must be positive finite! (in 'stochastic_volatility.stan', line 15, column 4 to column 56)\n",
      "\tException: lognormal_lpdf: Scale parameter is inf, but must be positive finite! (in 'stochastic_volatility.stan', line 15, column 4 to column 56)\n",
      "\tException: lognormal_lpdf: Scale parameter is inf, but must be positive finite! (in 'stochastic_volatility.stan', line 15, column 4 to column 56)\n",
      "\tException: lognormal_lpdf: Scale parameter is inf, but must be positive finite! (in 'stochastic_volatility.stan', line 15, column 4 to column 56)\n",
      "\tException: lognormal_lpdf: Scale parameter is inf, but must be positive finite! (in 'stochastic_volatility.stan', line 15, column 4 to column 56)\n",
      "\tException: lognormal_lpdf: Scale parameter is inf, but must be positive finite! (in 'stochastic_volatility.stan', line 15, column 4 to column 56)\n",
      "\tException: lognormal_lpdf: Scale parameter is inf, but must be positive finite! (in 'stochastic_volatility.stan', line 15, column 4 to column 56)\n",
      "\tException: lognormal_lpdf: Scale parameter is inf, but must be positive finite! (in 'stochastic_volatility.stan', line 15, column 4 to column 56)\n",
      "Exception: lognormal_lpdf: Scale parameter is inf, but must be positive finite! (in 'stochastic_volatility.stan', line 15, column 4 to column 56)\n",
      "\tException: lognormal_lpdf: Scale parameter is inf, but must be positive finite! (in 'stochastic_volatility.stan', line 15, column 4 to column 56)\n",
      "\tException: lognormal_lpdf: Scale parameter is inf, but must be positive finite! (in 'stochastic_volatility.stan', line 15, column 4 to column 56)\n",
      "\tException: lognormal_lpdf: Scale parameter is inf, but must be positive finite! (in 'stochastic_volatility.stan', line 15, column 4 to column 56)\n",
      "\tException: lognormal_lpdf: Scale parameter is inf, but must be positive finite! (in 'stochastic_volatility.stan', line 15, column 4 to column 56)\n",
      "\tException: lognormal_lpdf: Scale parameter is inf, but must be positive finite! (in 'stochastic_volatility.stan', line 15, column 4 to column 56)\n",
      "Exception: lognormal_lpdf: Scale parameter is inf, but must be positive finite! (in 'stochastic_volatility.stan', line 15, column 4 to column 56)\n",
      "\tException: lognormal_lpdf: Scale parameter is inf, but must be positive finite! (in 'stochastic_volatility.stan', line 15, column 4 to column 56)\n",
      "\tException: lognormal_lpdf: Scale parameter is inf, but must be positive finite! (in 'stochastic_volatility.stan', line 15, column 4 to column 56)\n",
      "\tException: lognormal_lpdf: Scale parameter is inf, but must be positive finite! (in 'stochastic_volatility.stan', line 15, column 4 to column 56)\n",
      "\tException: lognormal_lpdf: Scale parameter is inf, but must be positive finite! (in 'stochastic_volatility.stan', line 15, column 4 to column 56)\n",
      "\tException: lognormal_lpdf: Scale parameter is inf, but must be positive finite! (in 'stochastic_volatility.stan', line 15, column 4 to column 56)\n",
      "\tException: lognormal_lpdf: Scale parameter is inf, but must be positive finite! (in 'stochastic_volatility.stan', line 15, column 4 to column 56)\n",
      "\tException: lognormal_lpdf: Scale parameter is inf, but must be positive finite! (in 'stochastic_volatility.stan', line 15, column 4 to column 56)\n",
      "Exception: lognormal_lpdf: Scale parameter is inf, but must be positive finite! (in 'stochastic_volatility.stan', line 15, column 4 to column 56)\n",
      "\tException: lognormal_lpdf: Scale parameter is inf, but must be positive finite! (in 'stochastic_volatility.stan', line 15, column 4 to column 56)\n",
      "\tException: lognormal_lpdf: Scale parameter is inf, but must be positive finite! (in 'stochastic_volatility.stan', line 15, column 4 to column 56)\n",
      "\tException: lognormal_lpdf: Scale parameter is inf, but must be positive finite! (in 'stochastic_volatility.stan', line 15, column 4 to column 56)\n",
      "\tException: lognormal_lpdf: Scale parameter is inf, but must be positive finite! (in 'stochastic_volatility.stan', line 15, column 4 to column 56)\n",
      "\tException: lognormal_lpdf: Scale parameter is inf, but must be positive finite! (in 'stochastic_volatility.stan', line 15, column 4 to column 56)\n",
      "Exception: lognormal_lpdf: Scale parameter is inf, but must be positive finite! (in 'stochastic_volatility.stan', line 15, column 4 to column 56)\n",
      "\tException: lognormal_lpdf: Scale parameter is inf, but must be positive finite! (in 'stochastic_volatility.stan', line 15, column 4 to column 56)\n",
      "\tException: lognormal_lpdf: Scale parameter is inf, but must be positive finite! (in 'stochastic_volatility.stan', line 15, column 4 to column 56)\n",
      "\tException: lognormal_lpdf: Scale parameter is inf, but must be positive finite! (in 'stochastic_volatility.stan', line 15, column 4 to column 56)\n",
      "\tException: lognormal_lpdf: Scale parameter is inf, but must be positive finite! (in 'stochastic_volatility.stan', line 15, column 4 to column 56)\n",
      "Exception: lognormal_lpdf: Scale parameter is inf, but must be positive finite! (in 'stochastic_volatility.stan', line 15, column 4 to column 56)\n",
      "Exception: lognormal_lpdf: Scale parameter is inf, but must be positive finite! (in 'stochastic_volatility.stan', line 15, column 4 to column 56)\n",
      "\tException: lognormal_lpdf: Scale parameter is inf, but must be positive finite! (in 'stochastic_volatility.stan', line 15, column 4 to column 56)\n",
      "\tException: lognormal_lpdf: Scale parameter is inf, but must be positive finite! (in 'stochastic_volatility.stan', line 15, column 4 to column 56)\n",
      "\tException: lognormal_lpdf: Scale parameter is inf, but must be positive finite! (in 'stochastic_volatility.stan', line 15, column 4 to column 56)\n",
      "\tException: lognormal_lpdf: Scale parameter is inf, but must be positive finite! (in 'stochastic_volatility.stan', line 15, column 4 to column 56)\n",
      "\tException: lognormal_lpdf: Scale parameter is inf, but must be positive finite! (in 'stochastic_volatility.stan', line 15, column 4 to column 56)\n",
      "\tException: lognormal_lpdf: Scale parameter is inf, but must be positive finite! (in 'stochastic_volatility.stan', line 15, column 4 to column 56)\n",
      "\tException: lognormal_lpdf: Scale parameter is inf, but must be positive finite! (in 'stochastic_volatility.stan', line 15, column 4 to column 56)\n",
      "\tException: lognormal_lpdf: Scale parameter is inf, but must be positive finite! (in 'stochastic_volatility.stan', line 15, column 4 to column 56)\n",
      "Exception: lognormal_lpdf: Scale parameter is inf, but must be positive finite! (in 'stochastic_volatility.stan', line 15, column 4 to column 56)\n",
      "\tException: lognormal_lpdf: Scale parameter is inf, but must be positive finite! (in 'stochastic_volatility.stan', line 15, column 4 to column 56)\n",
      "\tException: lognormal_lpdf: Scale parameter is inf, but must be positive finite! (in 'stochastic_volatility.stan', line 15, column 4 to column 56)\n",
      "\tException: lognormal_lpdf: Scale parameter is inf, but must be positive finite! (in 'stochastic_volatility.stan', line 15, column 4 to column 56)\n",
      "\tException: lognormal_lpdf: Scale parameter is inf, but must be positive finite! (in 'stochastic_volatility.stan', line 15, column 4 to column 56)\n",
      "\tException: lognormal_lpdf: Scale parameter is inf, but must be positive finite! (in 'stochastic_volatility.stan', line 15, column 4 to column 56)\n",
      "\tException: lognormal_lpdf: Scale parameter is inf, but must be positive finite! (in 'stochastic_volatility.stan', line 15, column 4 to column 56)\n",
      "Exception: lognormal_lpdf: Scale parameter is inf, but must be positive finite! (in 'stochastic_volatility.stan', line 15, column 4 to column 56)\n",
      "\tException: lognormal_lpdf: Scale parameter is inf, but must be positive finite! (in 'stochastic_volatility.stan', line 15, column 4 to column 56)\n",
      "\tException: lognormal_lpdf: Scale parameter is inf, but must be positive finite! (in 'stochastic_volatility.stan', line 15, column 4 to column 56)\n",
      "\tException: lognormal_lpdf: Scale parameter is inf, but must be positive finite! (in 'stochastic_volatility.stan', line 15, column 4 to column 56)\n",
      "\tException: lognormal_lpdf: Scale parameter is inf, but must be positive finite! (in 'stochastic_volatility.stan', line 15, column 4 to column 56)\n",
      "\tException: lognormal_lpdf: Scale parameter is inf, but must be positive finite! (in 'stochastic_volatility.stan', line 15, column 4 to column 56)\n",
      "Exception: lognormal_lpdf: Scale parameter is inf, but must be positive finite! (in 'stochastic_volatility.stan', line 15, column 4 to column 56)\n",
      "\tException: lognormal_lpdf: Scale parameter is inf, but must be positive finite! (in 'stochastic_volatility.stan', line 15, column 4 to column 56)\n",
      "\tException: lognormal_lpdf: Scale parameter is -nan, but must be positive finite! (in 'stochastic_volatility.stan', line 15, column 4 to column 56)\n",
      "Exception: lognormal_lpdf: Scale parameter is inf, but must be positive finite! (in 'stochastic_volatility.stan', line 15, column 4 to column 56)\n",
      "\tException: lognormal_lpdf: Scale parameter is inf, but must be positive finite! (in 'stochastic_volatility.stan', line 15, column 4 to column 56)\n",
      "\tException: lognormal_lpdf: Scale parameter is inf, but must be positive finite! (in 'stochastic_volatility.stan', line 15, column 4 to column 56)\n",
      "Exception: lognormal_lpdf: Scale parameter is inf, but must be positive finite! (in 'stochastic_volatility.stan', line 15, column 4 to column 56)\n",
      "Exception: lognormal_lpdf: Scale parameter is -nan, but must be positive finite! (in 'stochastic_volatility.stan', line 15, column 4 to column 56)\n",
      "Exception: lognormal_lpdf: Scale parameter is inf, but must be positive finite! (in 'stochastic_volatility.stan', line 15, column 4 to column 56)\n",
      "\tException: lognormal_lpdf: Scale parameter is inf, but must be positive finite! (in 'stochastic_volatility.stan', line 15, column 4 to column 56)\n",
      "\tException: lognormal_lpdf: Scale parameter is inf, but must be positive finite! (in 'stochastic_volatility.stan', line 15, column 4 to column 56)\n",
      "Exception: lognormal_lpdf: Scale parameter is inf, but must be positive finite! (in 'stochastic_volatility.stan', line 15, column 4 to column 56)\n",
      "\tException: lognormal_lpdf: Scale parameter is inf, but must be positive finite! (in 'stochastic_volatility.stan', line 15, column 4 to column 56)\n",
      "\tException: lognormal_lpdf: Scale parameter is inf, but must be positive finite! (in 'stochastic_volatility.stan', line 15, column 4 to column 56)\n",
      "\tException: lognormal_lpdf: Scale parameter is inf, but must be positive finite! (in 'stochastic_volatility.stan', line 15, column 4 to column 56)\n",
      "\tException: lognormal_lpdf: Scale parameter is inf, but must be positive finite! (in 'stochastic_volatility.stan', line 15, column 4 to column 56)\n",
      "\tException: lognormal_lpdf: Scale parameter is inf, but must be positive finite! (in 'stochastic_volatility.stan', line 15, column 4 to column 56)\n",
      "\tException: lognormal_lpdf: Scale parameter is inf, but must be positive finite! (in 'stochastic_volatility.stan', line 15, column 4 to column 56)\n",
      "Exception: lognormal_lpdf: Scale parameter is inf, but must be positive finite! (in 'stochastic_volatility.stan', line 15, column 4 to column 56)\n",
      "\tException: lognormal_lpdf: Scale parameter is inf, but must be positive finite! (in 'stochastic_volatility.stan', line 15, column 4 to column 56)\n",
      "\tException: lognormal_lpdf: Scale parameter is inf, but must be positive finite! (in 'stochastic_volatility.stan', line 15, column 4 to column 56)\n",
      "\tException: lognormal_lpdf: Scale parameter is inf, but must be positive finite! (in 'stochastic_volatility.stan', line 15, column 4 to column 56)\n",
      "\tException: lognormal_lpdf: Scale parameter is inf, but must be positive finite! (in 'stochastic_volatility.stan', line 15, column 4 to column 56)\n",
      "\tException: lognormal_lpdf: Scale parameter is inf, but must be positive finite! (in 'stochastic_volatility.stan', line 15, column 4 to column 56)\n",
      "\tException: lognormal_lpdf: Scale parameter is inf, but must be positive finite! (in 'stochastic_volatility.stan', line 15, column 4 to column 56)\n",
      "Exception: lognormal_lpdf: Scale parameter is inf, but must be positive finite! (in 'stochastic_volatility.stan', line 15, column 4 to column 56)\n",
      "\tException: lognormal_lpdf: Scale parameter is inf, but must be positive finite! (in 'stochastic_volatility.stan', line 15, column 4 to column 56)\n",
      "\tException: lognormal_lpdf: Scale parameter is inf, but must be positive finite! (in 'stochastic_volatility.stan', line 15, column 4 to column 56)\n",
      "\tException: lognormal_lpdf: Scale parameter is inf, but must be positive finite! (in 'stochastic_volatility.stan', line 15, column 4 to column 56)\n",
      "\tException: lognormal_lpdf: Scale parameter is inf, but must be positive finite! (in 'stochastic_volatility.stan', line 15, column 4 to column 56)\n",
      "\tException: lognormal_lpdf: Scale parameter is inf, but must be positive finite! (in 'stochastic_volatility.stan', line 15, column 4 to column 56)\n",
      "Exception: lognormal_lpdf: Scale parameter is -nan, but must be positive finite! (in 'stochastic_volatility.stan', line 15, column 4 to column 56)\n",
      "Exception: lognormal_lpdf: Scale parameter is inf, but must be positive finite! (in 'stochastic_volatility.stan', line 15, column 4 to column 56)\n",
      "\tException: lognormal_lpdf: Scale parameter is inf, but must be positive finite! (in 'stochastic_volatility.stan', line 15, column 4 to column 56)\n",
      "\tException: lognormal_lpdf: Scale parameter is inf, but must be positive finite! (in 'stochastic_volatility.stan', line 15, column 4 to column 56)\n",
      "\tException: lognormal_lpdf: Scale parameter is -nan, but must be positive finite! (in 'stochastic_volatility.stan', line 15, column 4 to column 56)\n",
      "Exception: lognormal_lpdf: Scale parameter is inf, but must be positive finite! (in 'stochastic_volatility.stan', line 15, column 4 to column 56)\n",
      "\tException: lognormal_lpdf: Scale parameter is inf, but must be positive finite! (in 'stochastic_volatility.stan', line 15, column 4 to column 56)\n",
      "\tException: lognormal_lpdf: Scale parameter is inf, but must be positive finite! (in 'stochastic_volatility.stan', line 15, column 4 to column 56)\n",
      "Exception: lognormal_lpdf: Scale parameter is inf, but must be positive finite! (in 'stochastic_volatility.stan', line 15, column 4 to column 56)\n",
      "\tException: lognormal_lpdf: Scale parameter is inf, but must be positive finite! (in 'stochastic_volatility.stan', line 15, column 4 to column 56)\n",
      "\tException: lognormal_lpdf: Scale parameter is inf, but must be positive finite! (in 'stochastic_volatility.stan', line 15, column 4 to column 56)\n",
      "\tException: lognormal_lpdf: Scale parameter is inf, but must be positive finite! (in 'stochastic_volatility.stan', line 15, column 4 to column 56)\n",
      "Exception: lognormal_lpdf: Scale parameter is inf, but must be positive finite! (in 'stochastic_volatility.stan', line 15, column 4 to column 56)\n",
      "\tException: lognormal_lpdf: Scale parameter is inf, but must be positive finite! (in 'stochastic_volatility.stan', line 15, column 4 to column 56)\n",
      "\tException: lognormal_lpdf: Scale parameter is inf, but must be positive finite! (in 'stochastic_volatility.stan', line 15, column 4 to column 56)\n",
      "\tException: lognormal_lpdf: Scale parameter is inf, but must be positive finite! (in 'stochastic_volatility.stan', line 15, column 4 to column 56)\n",
      "Exception: lognormal_lpdf: Scale parameter is -nan, but must be positive finite! (in 'stochastic_volatility.stan', line 15, column 4 to column 56)\n",
      "Exception: lognormal_lpdf: Scale parameter is inf, but must be positive finite! (in 'stochastic_volatility.stan', line 15, column 4 to column 56)\n",
      "\tException: lognormal_lpdf: Scale parameter is inf, but must be positive finite! (in 'stochastic_volatility.stan', line 15, column 4 to column 56)\n",
      "\tException: lognormal_lpdf: Scale parameter is inf, but must be positive finite! (in 'stochastic_volatility.stan', line 15, column 4 to column 56)\n",
      "\tException: lognormal_lpdf: Scale parameter is inf, but must be positive finite! (in 'stochastic_volatility.stan', line 15, column 4 to column 56)\n",
      "\tException: lognormal_lpdf: Scale parameter is inf, but must be positive finite! (in 'stochastic_volatility.stan', line 15, column 4 to column 56)\n",
      "\tException: lognormal_lpdf: Scale parameter is inf, but must be positive finite! (in 'stochastic_volatility.stan', line 15, column 4 to column 56)\n",
      "\tException: lognormal_lpdf: Scale parameter is inf, but must be positive finite! (in 'stochastic_volatility.stan', line 15, column 4 to column 56)\n",
      "Exception: lognormal_lpdf: Scale parameter is inf, but must be positive finite! (in 'stochastic_volatility.stan', line 15, column 4 to column 56)\n",
      "Exception: lognormal_lpdf: Scale parameter is -nan, but must be positive finite! (in 'stochastic_volatility.stan', line 15, column 4 to column 56)\n",
      "Exception: lognormal_lpdf: Scale parameter is inf, but must be positive finite! (in 'stochastic_volatility.stan', line 15, column 4 to column 56)\n",
      "\tException: lognormal_lpdf: Scale parameter is inf, but must be positive finite! (in 'stochastic_volatility.stan', line 15, column 4 to column 56)\n",
      "\tException: lognormal_lpdf: Scale parameter is inf, but must be positive finite! (in 'stochastic_volatility.stan', line 15, column 4 to column 56)\n",
      "\tException: lognormal_lpdf: Scale parameter is inf, but must be positive finite! (in 'stochastic_volatility.stan', line 15, column 4 to column 56)\n",
      "\tException: lognormal_lpdf: Scale parameter is inf, but must be positive finite! (in 'stochastic_volatility.stan', line 15, column 4 to column 56)\n",
      "\tException: lognormal_lpdf: Scale parameter is inf, but must be positive finite! (in 'stochastic_volatility.stan', line 15, column 4 to column 56)\n",
      "\tException: lognormal_lpdf: Scale parameter is inf, but must be positive finite! (in 'stochastic_volatility.stan', line 15, column 4 to column 56)\n",
      "Exception: lognormal_lpdf: Scale parameter is inf, but must be positive finite! (in 'stochastic_volatility.stan', line 15, column 4 to column 56)\n",
      "\tException: lognormal_lpdf: Scale parameter is inf, but must be positive finite! (in 'stochastic_volatility.stan', line 15, column 4 to column 56)\n",
      "\tException: lognormal_lpdf: Scale parameter is inf, but must be positive finite! (in 'stochastic_volatility.stan', line 15, column 4 to column 56)\n",
      "Exception: lognormal_lpdf: Scale parameter is inf, but must be positive finite! (in 'stochastic_volatility.stan', line 15, column 4 to column 56)\n",
      "\tException: lognormal_lpdf: Scale parameter is inf, but must be positive finite! (in 'stochastic_volatility.stan', line 15, column 4 to column 56)\n",
      "\tException: lognormal_lpdf: Scale parameter is inf, but must be positive finite! (in 'stochastic_volatility.stan', line 15, column 4 to column 56)\n",
      "\tException: lognormal_lpdf: Scale parameter is inf, but must be positive finite! (in 'stochastic_volatility.stan', line 15, column 4 to column 56)\n",
      "\tException: lognormal_lpdf: Scale parameter is inf, but must be positive finite! (in 'stochastic_volatility.stan', line 15, column 4 to column 56)\n",
      "\tException: lognormal_lpdf: Scale parameter is inf, but must be positive finite! (in 'stochastic_volatility.stan', line 15, column 4 to column 56)\n",
      "Exception: lognormal_lpdf: Scale parameter is inf, but must be positive finite! (in 'stochastic_volatility.stan', line 15, column 4 to column 56)\n",
      "\tException: lognormal_lpdf: Scale parameter is inf, but must be positive finite! (in 'stochastic_volatility.stan', line 15, column 4 to column 56)\n",
      "\tException: lognormal_lpdf: Scale parameter is inf, but must be positive finite! (in 'stochastic_volatility.stan', line 15, column 4 to column 56)\n",
      "\tException: lognormal_lpdf: Scale parameter is inf, but must be positive finite! (in 'stochastic_volatility.stan', line 15, column 4 to column 56)\n",
      "\tException: lognormal_lpdf: Scale parameter is inf, but must be positive finite! (in 'stochastic_volatility.stan', line 15, column 4 to column 56)\n",
      "\tException: lognormal_lpdf: Scale parameter is inf, but must be positive finite! (in 'stochastic_volatility.stan', line 15, column 4 to column 56)\n",
      "Exception: lognormal_lpdf: Scale parameter is inf, but must be positive finite! (in 'stochastic_volatility.stan', line 15, column 4 to column 56)\n",
      "Exception: lognormal_lpdf: Scale parameter is -nan, but must be positive finite! (in 'stochastic_volatility.stan', line 15, column 4 to column 56)\n",
      "Exception: lognormal_lpdf: Scale parameter is inf, but must be positive finite! (in 'stochastic_volatility.stan', line 15, column 4 to column 56)\n",
      "\tException: lognormal_lpdf: Scale parameter is inf, but must be positive finite! (in 'stochastic_volatility.stan', line 15, column 4 to column 56)\n",
      "\tException: lognormal_lpdf: Scale parameter is -nan, but must be positive finite! (in 'stochastic_volatility.stan', line 15, column 4 to column 56)\n",
      "Exception: lognormal_lpdf: Scale parameter is inf, but must be positive finite! (in 'stochastic_volatility.stan', line 15, column 4 to column 56)\n",
      "\tException: lognormal_lpdf: Scale parameter is inf, but must be positive finite! (in 'stochastic_volatility.stan', line 15, column 4 to column 56)\n",
      "\tException: lognormal_lpdf: Scale parameter is inf, but must be positive finite! (in 'stochastic_volatility.stan', line 15, column 4 to column 56)\n",
      "\tException: lognormal_lpdf: Scale parameter is inf, but must be positive finite! (in 'stochastic_volatility.stan', line 15, column 4 to column 56)\n",
      "\tException: lognormal_lpdf: Scale parameter is inf, but must be positive finite! (in 'stochastic_volatility.stan', line 15, column 4 to column 56)\n",
      "Exception: lognormal_lpdf: Scale parameter is -nan, but must be positive finite! (in 'stochastic_volatility.stan', line 15, column 4 to column 56)\n",
      "Exception: lognormal_lpdf: Scale parameter is inf, but must be positive finite! (in 'stochastic_volatility.stan', line 15, column 4 to column 56)\n",
      "\tException: lognormal_lpdf: Scale parameter is inf, but must be positive finite! (in 'stochastic_volatility.stan', line 15, column 4 to column 56)\n",
      "\tException: lognormal_lpdf: Scale parameter is inf, but must be positive finite! (in 'stochastic_volatility.stan', line 15, column 4 to column 56)\n",
      "\tException: lognormal_lpdf: Scale parameter is inf, but must be positive finite! (in 'stochastic_volatility.stan', line 15, column 4 to column 56)\n",
      "\tException: lognormal_lpdf: Scale parameter is inf, but must be positive finite! (in 'stochastic_volatility.stan', line 15, column 4 to column 56)\n",
      "Exception: lognormal_lpdf: Scale parameter is inf, but must be positive finite! (in 'stochastic_volatility.stan', line 15, column 4 to column 56)\n",
      "\tException: lognormal_lpdf: Scale parameter is inf, but must be positive finite! (in 'stochastic_volatility.stan', line 15, column 4 to column 56)\n",
      "\tException: lognormal_lpdf: Scale parameter is inf, but must be positive finite! (in 'stochastic_volatility.stan', line 15, column 4 to column 56)\n",
      "\tException: lognormal_lpdf: Scale parameter is inf, but must be positive finite! (in 'stochastic_volatility.stan', line 15, column 4 to column 56)\n",
      "\tException: lognormal_lpdf: Scale parameter is inf, but must be positive finite! (in 'stochastic_volatility.stan', line 15, column 4 to column 56)\n",
      "\tException: lognormal_lpdf: Scale parameter is inf, but must be positive finite! (in 'stochastic_volatility.stan', line 15, column 4 to column 56)\n",
      "\tException: lognormal_lpdf: Scale parameter is inf, but must be positive finite! (in 'stochastic_volatility.stan', line 15, column 4 to column 56)\n",
      "\tException: lognormal_lpdf: Scale parameter is inf, but must be positive finite! (in 'stochastic_volatility.stan', line 15, column 4 to column 56)\n",
      "\tException: lognormal_lpdf: Scale parameter is inf, but must be positive finite! (in 'stochastic_volatility.stan', line 15, column 4 to column 56)\n",
      "\tException: lognormal_lpdf: Scale parameter is inf, but must be positive finite! (in 'stochastic_volatility.stan', line 15, column 4 to column 56)\n",
      "Exception: lognormal_lpdf: Scale parameter is inf, but must be positive finite! (in 'stochastic_volatility.stan', line 15, column 4 to column 56)\n",
      "\tException: lognormal_lpdf: Scale parameter is inf, but must be positive finite! (in 'stochastic_volatility.stan', line 15, column 4 to column 56)\n",
      "\tException: lognormal_lpdf: Scale parameter is inf, but must be positive finite! (in 'stochastic_volatility.stan', line 15, column 4 to column 56)\n",
      "\tException: lognormal_lpdf: Scale parameter is inf, but must be positive finite! (in 'stochastic_volatility.stan', line 15, column 4 to column 56)\n",
      "\tException: lognormal_lpdf: Scale parameter is inf, but must be positive finite! (in 'stochastic_volatility.stan', line 15, column 4 to column 56)\n",
      "\tException: lognormal_lpdf: Scale parameter is inf, but must be positive finite! (in 'stochastic_volatility.stan', line 15, column 4 to column 56)\n",
      "\tException: lognormal_lpdf: Scale parameter is inf, but must be positive finite! (in 'stochastic_volatility.stan', line 15, column 4 to column 56)\n",
      "\tException: lognormal_lpdf: Scale parameter is inf, but must be positive finite! (in 'stochastic_volatility.stan', line 15, column 4 to column 56)\n",
      "Exception: lognormal_lpdf: Scale parameter is inf, but must be positive finite! (in 'stochastic_volatility.stan', line 15, column 4 to column 56)\n",
      "\tException: lognormal_lpdf: Scale parameter is inf, but must be positive finite! (in 'stochastic_volatility.stan', line 15, column 4 to column 56)\n",
      "\tException: lognormal_lpdf: Scale parameter is inf, but must be positive finite! (in 'stochastic_volatility.stan', line 15, column 4 to column 56)\n",
      "\tException: lognormal_lpdf: Scale parameter is inf, but must be positive finite! (in 'stochastic_volatility.stan', line 15, column 4 to column 56)\n",
      "\tException: lognormal_lpdf: Scale parameter is inf, but must be positive finite! (in 'stochastic_volatility.stan', line 15, column 4 to column 56)\n",
      "\tException: lognormal_lpdf: Scale parameter is inf, but must be positive finite! (in 'stochastic_volatility.stan', line 15, column 4 to column 56)\n",
      "Exception: lognormal_lpdf: Scale parameter is inf, but must be positive finite! (in 'stochastic_volatility.stan', line 15, column 4 to column 56)\n",
      "Exception: lognormal_lpdf: Scale parameter is inf, but must be positive finite! (in 'stochastic_volatility.stan', line 15, column 4 to column 56)\n",
      "Exception: lognormal_lpdf: Scale parameter is inf, but must be positive finite! (in 'stochastic_volatility.stan', line 15, column 4 to column 56)\n",
      "Exception: lognormal_lpdf: Scale parameter is inf, but must be positive finite! (in 'stochastic_volatility.stan', line 15, column 4 to column 56)\n",
      "\tException: lognormal_lpdf: Scale parameter is inf, but must be positive finite! (in 'stochastic_volatility.stan', line 15, column 4 to column 56)\n",
      "\tException: lognormal_lpdf: Scale parameter is inf, but must be positive finite! (in 'stochastic_volatility.stan', line 15, column 4 to column 56)\n",
      "\tException: lognormal_lpdf: Scale parameter is inf, but must be positive finite! (in 'stochastic_volatility.stan', line 15, column 4 to column 56)\n",
      "\tException: lognormal_lpdf: Scale parameter is inf, but must be positive finite! (in 'stochastic_volatility.stan', line 15, column 4 to column 56)\n",
      "\tException: lognormal_lpdf: Scale parameter is inf, but must be positive finite! (in 'stochastic_volatility.stan', line 15, column 4 to column 56)\n",
      "Exception: lognormal_lpdf: Scale parameter is inf, but must be positive finite! (in 'stochastic_volatility.stan', line 15, column 4 to column 56)\n",
      "\tException: lognormal_lpdf: Scale parameter is inf, but must be positive finite! (in 'stochastic_volatility.stan', line 15, column 4 to column 56)\n",
      "\tException: lognormal_lpdf: Scale parameter is inf, but must be positive finite! (in 'stochastic_volatility.stan', line 15, column 4 to column 56)\n",
      "\tException: lognormal_lpdf: Scale parameter is inf, but must be positive finite! (in 'stochastic_volatility.stan', line 15, column 4 to column 56)\n",
      "\tException: lognormal_lpdf: Scale parameter is inf, but must be positive finite! (in 'stochastic_volatility.stan', line 15, column 4 to column 56)\n",
      "\tException: lognormal_lpdf: Scale parameter is inf, but must be positive finite! (in 'stochastic_volatility.stan', line 15, column 4 to column 56)\n",
      "\tException: lognormal_lpdf: Scale parameter is inf, but must be positive finite! (in 'stochastic_volatility.stan', line 15, column 4 to column 56)\n",
      "Exception: lognormal_lpdf: Scale parameter is inf, but must be positive finite! (in 'stochastic_volatility.stan', line 15, column 4 to column 56)\n",
      "\tException: lognormal_lpdf: Scale parameter is inf, but must be positive finite! (in 'stochastic_volatility.stan', line 15, column 4 to column 56)\n",
      "\tException: lognormal_lpdf: Scale parameter is inf, but must be positive finite! (in 'stochastic_volatility.stan', line 15, column 4 to column 56)\n",
      "Exception: lognormal_lpdf: Scale parameter is inf, but must be positive finite! (in 'stochastic_volatility.stan', line 15, column 4 to column 56)\n",
      "Exception: lognormal_lpdf: Scale parameter is inf, but must be positive finite! (in 'stochastic_volatility.stan', line 15, column 4 to column 56)\n",
      "\tException: lognormal_lpdf: Scale parameter is inf, but must be positive finite! (in 'stochastic_volatility.stan', line 15, column 4 to column 56)\n",
      "\tException: lognormal_lpdf: Scale parameter is inf, but must be positive finite! (in 'stochastic_volatility.stan', line 15, column 4 to column 56)\n",
      "\tException: lognormal_lpdf: Scale parameter is inf, but must be positive finite! (in 'stochastic_volatility.stan', line 15, column 4 to column 56)\n",
      "\tException: lognormal_lpdf: Scale parameter is inf, but must be positive finite! (in 'stochastic_volatility.stan', line 15, column 4 to column 56)\n",
      "\tException: lognormal_lpdf: Scale parameter is inf, but must be positive finite! (in 'stochastic_volatility.stan', line 15, column 4 to column 56)\n",
      "Exception: lognormal_lpdf: Scale parameter is -nan, but must be positive finite! (in 'stochastic_volatility.stan', line 15, column 4 to column 56)\n",
      "Exception: lognormal_lpdf: Scale parameter is inf, but must be positive finite! (in 'stochastic_volatility.stan', line 15, column 4 to column 56)\n",
      "\tException: lognormal_lpdf: Scale parameter is inf, but must be positive finite! (in 'stochastic_volatility.stan', line 15, column 4 to column 56)\n",
      "\tException: lognormal_lpdf: Scale parameter is inf, but must be positive finite! (in 'stochastic_volatility.stan', line 15, column 4 to column 56)\n",
      "\tException: lognormal_lpdf: Scale parameter is inf, but must be positive finite! (in 'stochastic_volatility.stan', line 15, column 4 to column 56)\n",
      "\tException: lognormal_lpdf: Scale parameter is inf, but must be positive finite! (in 'stochastic_volatility.stan', line 15, column 4 to column 56)\n",
      "Exception: lognormal_lpdf: Scale parameter is inf, but must be positive finite! (in 'stochastic_volatility.stan', line 15, column 4 to column 56)\n",
      "\tException: lognormal_lpdf: Scale parameter is inf, but must be positive finite! (in 'stochastic_volatility.stan', line 15, column 4 to column 56)\n",
      "\tException: lognormal_lpdf: Scale parameter is inf, but must be positive finite! (in 'stochastic_volatility.stan', line 15, column 4 to column 56)\n",
      "\tException: lognormal_lpdf: Scale parameter is inf, but must be positive finite! (in 'stochastic_volatility.stan', line 15, column 4 to column 56)\n",
      "\tException: lognormal_lpdf: Scale parameter is inf, but must be positive finite! (in 'stochastic_volatility.stan', line 15, column 4 to column 56)\n",
      "Exception: lognormal_lpdf: Scale parameter is inf, but must be positive finite! (in 'stochastic_volatility.stan', line 15, column 4 to column 56)\n",
      "\tException: lognormal_lpdf: Scale parameter is inf, but must be positive finite! (in 'stochastic_volatility.stan', line 15, column 4 to column 56)\n",
      "\tException: lognormal_lpdf: Scale parameter is inf, but must be positive finite! (in 'stochastic_volatility.stan', line 15, column 4 to column 56)\n",
      "\tException: lognormal_lpdf: Scale parameter is inf, but must be positive finite! (in 'stochastic_volatility.stan', line 15, column 4 to column 56)\n",
      "Consider re-running with show_console=True if the above output is unclear!\n"
     ]
    },
    {
     "name": "stdout",
     "output_type": "stream",
     "text": [
      "\n"
     ]
    },
    {
     "name": "stderr",
     "output_type": "stream",
     "text": [
      "15:52:09 - cmdstanpy - WARNING - Some chains may have failed to converge.\n",
      "\tChain 26 had 1 divergent transitions (0.0%)\n",
      "\tChain 28 had 1 divergent transitions (0.0%)\n",
      "\tChain 29 had 1 divergent transitions (0.0%)\n",
      "\tChain 48 had 1 divergent transitions (0.0%)\n",
      "\tUse the \"diagnose()\" method on the CmdStanMCMC object to see further information.\n"
     ]
    }
   ],
   "source": [
    "model = CmdStanModel(stan_file=model_path)\n",
    "nuts_output = model.sample(\n",
    "    data=data_path,\n",
    "    iter_sampling=num_samples,\n",
    "    chains=num_chains,\n",
    "    seed=seed,\n",
    "    thin=10,\n",
    "    adapt_delta=0.95,\n",
    ")\n",
    "\n",
    "ref_draws_np = nuts_output.draws()[:, :, 7:] # [draws, chains, params]\n",
    "# convert dimension order to [chains, draws, params]\n",
    "ref_draws_np = np.transpose(ref_draws_np, (1, 0, 2))"
   ]
  },
  {
   "cell_type": "code",
   "execution_count": 72,
   "metadata": {},
   "outputs": [],
   "source": [
    "summary = nuts_output.summary()"
   ]
  },
  {
   "cell_type": "code",
   "execution_count": 76,
   "metadata": {},
   "outputs": [
    {
     "data": {
      "text/plain": [
       "count       504.000000\n",
       "mean      98188.057341\n",
       "std        4564.416874\n",
       "min       32036.600000\n",
       "25%       97568.500000\n",
       "50%       98973.200000\n",
       "75%       99832.775000\n",
       "max      101505.000000\n",
       "Name: N_Eff, dtype: float64"
      ]
     },
     "execution_count": 76,
     "metadata": {},
     "output_type": "execute_result"
    }
   ],
   "source": [
    "summary[\"N_Eff\"].describe()"
   ]
  },
  {
   "cell_type": "markdown",
   "metadata": {},
   "source": [
    "# Save and Format Reference Draws"
   ]
  },
  {
   "cell_type": "code",
   "execution_count": 68,
   "metadata": {},
   "outputs": [],
   "source": [
    "# convert from numpy 3d array to json format\n",
    "num_params = ref_draws_np.shape[-1]\n",
    "param_names = (\n",
    "    [\"mu\", \"phi\", \"sigma\"] + [f\"tau[{i}]\" for i in range(num_params)]\n",
    ")\n",
    "\n",
    "ref_draws = []\n",
    "for chain in ref_draws_np:  # each chain is [n_samples, params_dim]\n",
    "    chain_dict = {}\n",
    "    for name, params in zip(param_names, chain.T):\n",
    "        chain_dict[name] = params.tolist()\n",
    "    ref_draws.append(chain_dict)\n",
    "\n",
    "# save to file\n",
    "with zipfile.ZipFile(f\"{model_name}.ref_draws.json.zip\", mode=\"w\", compression=zipfile.ZIP_DEFLATED, compresslevel=9) as zip_file: \n",
    "    dumped_JSON: str = json.dumps(ref_draws, ensure_ascii=False, indent=4)\n",
    "    zip_file.writestr(f\"{model_name}.ref_draws.json\", data=dumped_JSON)"
   ]
  }
 ],
 "metadata": {
  "kernelspec": {
   "display_name": "drghmc",
   "language": "python",
   "name": "python3"
  },
  "language_info": {
   "codemirror_mode": {
    "name": "ipython",
    "version": 3
   },
   "file_extension": ".py",
   "mimetype": "text/x-python",
   "name": "python",
   "nbconvert_exporter": "python",
   "pygments_lexer": "ipython3",
   "version": "3.11.4"
  }
 },
 "nbformat": 4,
 "nbformat_minor": 2
}
