{
 "cells": [
  {
   "cell_type": "code",
   "execution_count": 1,
   "metadata": {},
   "outputs": [],
   "source": [
    "import numpy as np"
   ]
  },
  {
   "cell_type": "code",
   "execution_count": 2,
   "metadata": {},
   "outputs": [],
   "source": [
    "seed = 1234\n",
    "rng = np.random.default_rng(seed)"
   ]
  },
  {
   "cell_type": "code",
   "execution_count": 3,
   "metadata": {},
   "outputs": [],
   "source": [
    "n = 1000000000 # 1 billion should run in 50 seconds\n",
    "x = rng.normal(0, 3, n)\n",
    "y = rng.normal(0, np.exp(x / 2))"
   ]
  },
  {
   "cell_type": "code",
   "execution_count": 4,
   "metadata": {},
   "outputs": [],
   "source": [
    "x_mean, x_std = np.mean(x), np.std(x)\n",
    "y_mean, y_std = np.mean(y), np.std(y)\n",
    "\n",
    "x2, y2 = np.square(x), np.square(y)\n",
    "x2_mean, x2_std = np.mean(x2), np.std(x2)\n",
    "y2_mean, y2_std = np.mean(y2), np.std(y2)"
   ]
  },
  {
   "cell_type": "code",
   "execution_count": 7,
   "metadata": {},
   "outputs": [
    {
     "name": "stdout",
     "output_type": "stream",
     "text": [
      "arr       \tmean      \t\t    std       \n",
      "x\t0.00010769611273630413\t\t3.00001162508927\n",
      "y\t0.0001154028370920801\t\t9.459016759123612\n",
      "x^2\t9.000069762269254\t\t12.727975939645052\n",
      "y^2\t89.47299806270026\t\t7859.657267858121\n"
     ]
    }
   ],
   "source": [
    "print(f\"{'arr':<10}\\t{'mean':<10}\\t\\t    {'std':<10}\")\n",
    "print(f\"x\\t{x_mean}\\t\\t{x_std}\")\n",
    "print(f\"y\\t{y_mean}\\t\\t{y_std}\")\n",
    "print(f\"x^2\\t{x2_mean}\\t\\t{x2_std}\")\n",
    "print(f\"y^2\\t{y2_mean}\\t\\t{y2_std}\")\n"
   ]
  }
 ],
 "metadata": {
  "kernelspec": {
   "display_name": "drghmc",
   "language": "python",
   "name": "python3"
  },
  "language_info": {
   "codemirror_mode": {
    "name": "ipython",
    "version": 3
   },
   "file_extension": ".py",
   "mimetype": "text/x-python",
   "name": "python",
   "nbconvert_exporter": "python",
   "pygments_lexer": "ipython3",
   "version": "3.11.4"
  }
 },
 "nbformat": 4,
 "nbformat_minor": 2
}
