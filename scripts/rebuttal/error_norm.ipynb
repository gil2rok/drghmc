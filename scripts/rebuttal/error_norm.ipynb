{
 "cells": [
  {
   "cell_type": "markdown",
   "metadata": {},
   "source": [
    "# Imports and Defaults"
   ]
  },
  {
   "cell_type": "code",
   "execution_count": 1,
   "metadata": {},
   "outputs": [],
   "source": [
    "import json\n",
    "import os\n",
    "from collections import namedtuple\n",
    "from functools import lru_cache\n",
    "from zipfile import ZipFile\n",
    "\n",
    "import numpy as np\n",
    "import pandas as pd\n",
    "import matplotlib.pyplot as plt\n",
    "import seaborn as sns"
   ]
  },
  {
   "cell_type": "code",
   "execution_count": 2,
   "metadata": {},
   "outputs": [],
   "source": [
    "sns.set_theme(font_scale=16, style=\"whitegrid\")\n",
    "sns.set_theme(style=\"whitegrid\")\n",
    "plt.rcParams.update({\n",
    "    \"text.usetex\": True,\n",
    "    \"font.family\": \"serif\",\n",
    "    \"figure.dpi\": 300,\n",
    "})\n",
    "\n",
    "seed = 1234\n",
    "rng = np.random.default_rng(seed)"
   ]
  },
  {
   "cell_type": "code",
   "execution_count": 3,
   "metadata": {},
   "outputs": [],
   "source": [
    "posterior = \"irt_2pl\""
   ]
  },
  {
   "cell_type": "markdown",
   "metadata": {},
   "source": [
    "# Load Data"
   ]
  },
  {
   "cell_type": "code",
   "execution_count": 4,
   "metadata": {},
   "outputs": [],
   "source": [
    "fname = f\"../../data/{posterior}/baseline\"\n",
    "\n",
    "drghmc_sampler = \"adapt_metric=True__damping=0.08__max_proposals=3__metric=1__probabilistic=False__reduction_factor=4__sampler_type=drghmc__step_count_method=const_step_count__step_size_factor=2\"\n",
    "drhmc_sampler = \"adapt_metric=True__damping=1.0__max_proposals=3__metric=1__probabilistic=False__reduction_factor=4__sampler_type=drhmc__step_count_factor=0.9__step_size_factor=2\"\n",
    "nuts_sampler = \"adapt_metric=True__metric=identity__sampler_type=nuts\"\n",
    "ghmc_sampler = \"adapt_metric=True__damping=0.08__max_proposals=1__metric=1__probabilistic=False__reduction_factor=4__sampler_type=ghmc__step_count_method=const_step_count__step_size_factor=2\""
   ]
  },
  {
   "cell_type": "code",
   "execution_count": 5,
   "metadata": {},
   "outputs": [],
   "source": [
    "def get_fname(sampler, chain):\n",
    "    return os.path.join(fname, sampler, f\"history__chain={chain}.npz\")\n",
    "\n",
    "def get_chain_data(sampler, chain, downsample=1000):\n",
    "    data = np.load(get_fname(sampler, chain))\n",
    "    return data[\"draws\"][::downsample], data[\"grad_evals\"][::downsample]"
   ]
  },
  {
   "cell_type": "code",
   "execution_count": 6,
   "metadata": {},
   "outputs": [],
   "source": [
    "@lru_cache(maxsize=3)\n",
    "def get_data(sampler):\n",
    "    data_list, grad_list = [], []\n",
    "    for chain in range(30):\n",
    "        print(chain)\n",
    "        try:\n",
    "            draws, grad_evals = get_chain_data(sampler, chain) # draws = (n_samples, n_params)\n",
    "            data_list.append(draws)\n",
    "            grad_list.append(np.array(grad_evals))\n",
    "            del draws, grad_evals\n",
    "        except:\n",
    "            pass\n",
    "    \n",
    "    # do not stack b/c variable len chains\n",
    "    return data_list, grad_list"
   ]
  },
  {
   "cell_type": "code",
   "execution_count": 7,
   "metadata": {},
   "outputs": [
    {
     "name": "stdout",
     "output_type": "stream",
     "text": [
      "0\n",
      "1\n",
      "2\n",
      "3\n",
      "4\n",
      "5\n",
      "6\n",
      "7\n",
      "8\n",
      "9\n",
      "10\n",
      "11\n",
      "12\n",
      "13\n",
      "14\n",
      "15\n",
      "16\n",
      "17\n",
      "18\n",
      "19\n",
      "20\n",
      "21\n",
      "22\n",
      "23\n",
      "24\n",
      "25\n",
      "26\n",
      "27\n",
      "28\n",
      "29\n"
     ]
    }
   ],
   "source": [
    "ghmc_data, ghmc_grads = get_data(ghmc_sampler)"
   ]
  },
  {
   "cell_type": "code",
   "execution_count": null,
   "metadata": {},
   "outputs": [],
   "source": [
    "ghmc_data, ghmc_grads = get_data(ghmc_sampler)\n",
    "drghmc_data, drghmc_grads = get_data(drghmc_sampler)\n",
    "drhmc_data, drhmc_grads = get_data(drhmc_sampler)\n",
    "nuts_data, nuts_grads = get_data(nuts_sampler)"
   ]
  },
  {
   "cell_type": "markdown",
   "metadata": {},
   "source": [
    "# Compute True Params from Reference Draws"
   ]
  },
  {
   "cell_type": "code",
   "execution_count": null,
   "metadata": {},
   "outputs": [],
   "source": [
    "TrueParams = namedtuple('TrueParams', ['p1_mean', 'p1_std', 'p2_mean', 'p2_std'])\n",
    "\n",
    "def load_true_params(posterior):\n",
    "    ref_draws_fname = os.path.join(f\"../../posteriors/{posterior}/{posterior}.ref_draws.json.zip\")\n",
    "    with ZipFile(ref_draws_fname) as z:\n",
    "        with z.open(f\"{posterior}.ref_draws.json\") as f:\n",
    "            ref_draws = json.load(f)\n",
    "    return ref_draws\n",
    "\n",
    "def compute_true_params(posterior):\n",
    "    ref_draws_raw = load_true_params(posterior) # list of dicts\n",
    "    ref_draws = np.array([list(d.values()) for d in ref_draws_raw]) # [num_chains, num_params, num_samples]\n",
    "    # ref_draws = np.array(list(ref_draws_chains[0].values()))\n",
    "    tp = TrueParams(\n",
    "        p1_mean=np.mean(ref_draws, axis=(0, 2)),\n",
    "        p1_std=np.std(ref_draws, axis=(0, 2)),\n",
    "        p2_mean=np.mean(ref_draws**2, axis=(0, 2)),\n",
    "        p2_std=np.std(ref_draws**2, axis=(0, 2))\n",
    "    )\n",
    "    del ref_draws, ref_draws_raw\n",
    "    return tp"
   ]
  },
  {
   "cell_type": "code",
   "execution_count": null,
   "metadata": {},
   "outputs": [],
   "source": [
    "tp = compute_true_params(posterior)"
   ]
  },
  {
   "cell_type": "markdown",
   "metadata": {},
   "source": [
    "# Compute Per-Chain Error"
   ]
  },
  {
   "cell_type": "code",
   "execution_count": null,
   "metadata": {},
   "outputs": [],
   "source": [
    "def get_mean(data):\n",
    "    n = data.shape[0]\n",
    "    denom = np.arange(1, n+1)[:, None]\n",
    "    return np.cumsum(data, axis=0) / denom\n",
    "\n",
    "def get_error(data, true_mean, true_std):\n",
    "    error = np.abs(get_mean(data) - true_mean) / true_std\n",
    "    return np.linalg.norm(error, axis=1, ord=2)  # inf norm equivalent to max"
   ]
  },
  {
   "cell_type": "code",
   "execution_count": null,
   "metadata": {},
   "outputs": [],
   "source": [
    "# [chains, samples]\n",
    "drghmc_error = [get_error(data, tp.p1_mean, tp.p1_std) for data in drghmc_data]\n",
    "drhmc_error = [get_error(data, tp.p1_mean, tp.p1_std) for data in drhmc_data]\n",
    "nuts_error = [get_error(data, tp.p1_mean, tp.p1_std) for data in nuts_data]\n",
    "\n",
    "drghmc_error_squared = [get_error(data**2, tp.p2_mean, tp.p2_std) for data in drghmc_data]\n",
    "drhmc_error_squared = [get_error(data**2, tp.p2_mean, tp.p2_std) for data in drhmc_data]\n",
    "nuts_error_squared = [get_error(data**2, tp.p2_mean, tp.p2_std) for data in nuts_data]"
   ]
  },
  {
   "cell_type": "markdown",
   "metadata": {},
   "source": [
    "# Error vs Grad Evals"
   ]
  },
  {
   "cell_type": "code",
   "execution_count": null,
   "metadata": {},
   "outputs": [],
   "source": [
    "# flatten drghmc_error and keep track of chain index\n",
    "drghmc_error_flat = np.concatenate(drghmc_error)\n",
    "drhmc_error_flat = np.concatenate(drhmc_error)\n",
    "nuts_error_flat = np.concatenate(nuts_error)\n",
    "\n",
    "drghmc_error\n",
    "\n",
    "drghmc_chain_idx = np.concatenate([np.full_like(e, i) for i, e in enumerate(drghmc_error)])\n",
    "drhmc_chain_idx = np.concatenate([np.full_like(e, i) for i, e in enumerate(drhmc_error)])\n",
    "nuts_chain_idx = np.concatenate([np.full_like(e, i) for i, e in enumerate(nuts_error)])"
   ]
  },
  {
   "cell_type": "markdown",
   "metadata": {},
   "source": [
    "# Final Error Box Plot"
   ]
  },
  {
   "cell_type": "code",
   "execution_count": null,
   "metadata": {},
   "outputs": [],
   "source": [
    "# get last error only. [chains]\n",
    "drghmc_e1 = np.array([chain[-1] for chain in drghmc_error])\n",
    "drhmc_e1 = np.array([chain[-1] for chain in drhmc_error])\n",
    "nuts_e1 = np.array([chain[-1] for chain in nuts_error])\n",
    "\n",
    "drghmc_e2 = np.array([chain[-1] for chain in drghmc_error_squared])\n",
    "drhmc_e2 = np.array([chain[-1] for chain in drhmc_error_squared])\n",
    "nuts_e2 = np.array([chain[-1] for chain in nuts_error_squared])"
   ]
  },
  {
   "cell_type": "code",
   "execution_count": null,
   "metadata": {},
   "outputs": [],
   "source": [
    "data = {\n",
    "    \"Sampler\": [\"DR-G-HMC\"]*len(drghmc_e1) + [\"DR-HMC\"]*len(drhmc_e1) + [\"NUTS\"]*len(nuts_e1),\n",
    "    \"Errors\": np.concatenate([drghmc_e1, drhmc_e1, nuts_e1]),\n",
    "    \"Error Squared\": np.concatenate([drghmc_e2, drhmc_e2, nuts_e2]),\n",
    "}\n",
    "\n",
    "data = pd.DataFrame(data)\n",
    "data = data.melt(id_vars=\"Sampler\", var_name=\"Error Type\", value_name=\"Error\")\n",
    "data"
   ]
  },
  {
   "cell_type": "code",
   "execution_count": null,
   "metadata": {},
   "outputs": [],
   "source": [
    "fig = sns.catplot(\n",
    "    data=data,\n",
    "    kind=\"box\",\n",
    "    x=\"Sampler\",\n",
    "    y=\"Error\",\n",
    "    col=\"Error Type\",\n",
    "    hue=\"Sampler\",\n",
    "    hue_order=[\"DR-G-HMC\", \"DR-HMC\", \"NUTS\"],\n",
    "    aspect=1.5,\n",
    "    showmeans=True,\n",
    "    meanline=True,\n",
    "    meanprops=dict(linestyle=\"--\", linewidth=2, color=\"black\"),\n",
    "    legend=False,\n",
    ")\n",
    "\n",
    "fig.axes.flat[0].set_title(r'Error in Mean ($\\mathcal{L}_{\\theta, T}$)')\n",
    "fig.axes.flat[1].set_title(r'Error in Variance ($\\mathcal{L}_{\\theta^2, T}$)')\n",
    "fig.set(yscale=\"log\")\n",
    "fig.set(ylim=(1e-2, 1e1))\n",
    "plt.show()"
   ]
  },
  {
   "cell_type": "code",
   "execution_count": null,
   "metadata": {},
   "outputs": [],
   "source": [
    "# print mean of draws for each dimension\n",
    "# recall drghmc_data, drhmc_data, nuts_data are lists of numpy arrays\n",
    "print(\"\\t\\tDR-G-HMC\\tDR-HMC\\t\\tNUTS\\t\\tRef\")\n",
    "\n",
    "drghmc_mean = np.mean([np.mean(data, axis=0) for data in drghmc_data], axis=0)\n",
    "drhmc_mean = np.mean([np.mean(data, axis=0) for data in drhmc_data], axis=0)\n",
    "nuts_mean = np.mean([np.mean(data, axis=0) for data in nuts_data], axis=0)\n",
    "ref_mean = tp.p1_mean\n",
    "ref_std = tp.p1_std\n",
    "\n",
    "mean_iter = zip(drghmc_mean, drhmc_mean, nuts_mean, ref_mean)\n",
    "for idx, (m1, m2, m3, m4) in enumerate(mean_iter):\n",
    "    # print(f\"Param {idx+1}:\\t{m1:.4f}\\t\\t{m2:.4f}\\t\\t{m3:.4f}\\t\\t{m4:.4f}\")\n",
    "    m1_diff, m2_diff, m3_diff = np.abs(m1 - m4) / tp.p1_std[idx], np.abs(m2 - m4) / tp.p1_std[idx], np.abs(m3 - m4) / tp.p1_std[idx]\n",
    "    print(f\"Diff {idx + 1}: \\t{m1_diff:.4f}\\t\\t{m2_diff:.4f}\\t\\t{m3_diff:.4f}\")\n"
   ]
  },
  {
   "cell_type": "code",
   "execution_count": null,
   "metadata": {},
   "outputs": [],
   "source": [
    "# l-inf norm of mean of draws\n",
    "norm_ord = np.inf\n",
    "print(\"DRGHMC Error:\\t\", np.linalg.norm(np.abs(drghmc_mean - ref_mean) / ref_std, ord=norm_ord))\n",
    "print(\"DRHMC Error:\\t\", np.linalg.norm(np.abs(drhmc_mean - ref_mean) / ref_std, ord=norm_ord))\n",
    "print(\"NUTS Error:\\t\", np.linalg.norm(np.abs(nuts_mean - ref_mean) / ref_std, ord=norm_ord))"
   ]
  }
 ],
 "metadata": {
  "kernelspec": {
   "display_name": "drghmc",
   "language": "python",
   "name": "python3"
  },
  "language_info": {
   "codemirror_mode": {
    "name": "ipython",
    "version": 3
   },
   "file_extension": ".py",
   "mimetype": "text/x-python",
   "name": "python",
   "nbconvert_exporter": "python",
   "pygments_lexer": "ipython3",
   "version": "3.11.8"
  }
 },
 "nbformat": 4,
 "nbformat_minor": 2
}
