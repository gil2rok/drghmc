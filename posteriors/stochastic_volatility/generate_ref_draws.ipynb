{
 "cells": [
  {
   "cell_type": "markdown",
   "metadata": {},
   "source": [
    "# Imports and Defaults"
   ]
  },
  {
   "cell_type": "code",
   "execution_count": 1,
   "metadata": {},
   "outputs": [],
   "source": [
    "import json\n",
    "import os\n",
    "import zipfile\n",
    "\n",
    "import bridgestan as bs\n",
    "from cmdstanpy import CmdStanModel\n",
    "import numpy as np"
   ]
  },
  {
   "cell_type": "code",
   "execution_count": 2,
   "metadata": {},
   "outputs": [],
   "source": [
    "seed = 1234\n",
    "rng = np.random.default_rng(seed)\n",
    "\n",
    "num_chains = 100\n",
    "num_samples = 1000000\n",
    "\n",
    "model_name = \"stochastic_volatility\"\n",
    "model_path = model_name + \".stan\"\n",
    "data_path = model_name + \".data.json\""
   ]
  },
  {
   "cell_type": "markdown",
   "metadata": {},
   "source": [
    "# Generate Ref Draws"
   ]
  },
  {
   "cell_type": "code",
   "execution_count": 3,
   "metadata": {},
   "outputs": [
    {
     "name": "stderr",
     "output_type": "stream",
     "text": [
      "11:02:27 - cmdstanpy - INFO - CmdStan start processing\n"
     ]
    },
    {
     "data": {
      "application/vnd.jupyter.widget-view+json": {
       "model_id": "8796e04ede0842afbd0129d06d2e324a",
       "version_major": 2,
       "version_minor": 0
      },
      "text/plain": [
       "chain 1 |          | 00:00 Status"
      ]
     },
     "metadata": {},
     "output_type": "display_data"
    },
    {
     "data": {
      "application/vnd.jupyter.widget-view+json": {
       "model_id": "6c44975fbf56498d9fa03245536dcd4c",
       "version_major": 2,
       "version_minor": 0
      },
      "text/plain": [
       "chain 2 |          | 00:00 Status"
      ]
     },
     "metadata": {},
     "output_type": "display_data"
    },
    {
     "data": {
      "application/vnd.jupyter.widget-view+json": {
       "model_id": "bd12b9fe33c7472e897e97f3429becb6",
       "version_major": 2,
       "version_minor": 0
      },
      "text/plain": [
       "chain 3 |          | 00:00 Status"
      ]
     },
     "metadata": {},
     "output_type": "display_data"
    },
    {
     "data": {
      "application/vnd.jupyter.widget-view+json": {
       "model_id": "78c9d7d7d0fb4f09bc6d1254e51f6f9d",
       "version_major": 2,
       "version_minor": 0
      },
      "text/plain": [
       "chain 4 |          | 00:00 Status"
      ]
     },
     "metadata": {},
     "output_type": "display_data"
    },
    {
     "data": {
      "application/vnd.jupyter.widget-view+json": {
       "model_id": "b182abcba4844b819df8d3cd08a96979",
       "version_major": 2,
       "version_minor": 0
      },
      "text/plain": [
       "chain 5 |          | 00:00 Status"
      ]
     },
     "metadata": {},
     "output_type": "display_data"
    },
    {
     "data": {
      "application/vnd.jupyter.widget-view+json": {
       "model_id": "f4e0d3b3390447e99eb5aeb3f1fc690c",
       "version_major": 2,
       "version_minor": 0
      },
      "text/plain": [
       "chain 6 |          | 00:00 Status"
      ]
     },
     "metadata": {},
     "output_type": "display_data"
    },
    {
     "data": {
      "application/vnd.jupyter.widget-view+json": {
       "model_id": "f385684e1b844509b56bf4b730394250",
       "version_major": 2,
       "version_minor": 0
      },
      "text/plain": [
       "chain 7 |          | 00:00 Status"
      ]
     },
     "metadata": {},
     "output_type": "display_data"
    },
    {
     "data": {
      "application/vnd.jupyter.widget-view+json": {
       "model_id": "da0b190c2aaf44c4a95294111a4eca3c",
       "version_major": 2,
       "version_minor": 0
      },
      "text/plain": [
       "chain 8 |          | 00:00 Status"
      ]
     },
     "metadata": {},
     "output_type": "display_data"
    },
    {
     "data": {
      "application/vnd.jupyter.widget-view+json": {
       "model_id": "33e1433eb2254b648b3be2a043d977fe",
       "version_major": 2,
       "version_minor": 0
      },
      "text/plain": [
       "chain 9 |          | 00:00 Status"
      ]
     },
     "metadata": {},
     "output_type": "display_data"
    },
    {
     "data": {
      "application/vnd.jupyter.widget-view+json": {
       "model_id": "4a98abfd1fa74e5a8c753e0efbbb17e3",
       "version_major": 2,
       "version_minor": 0
      },
      "text/plain": [
       "chain 10 |          | 00:00 Status"
      ]
     },
     "metadata": {},
     "output_type": "display_data"
    },
    {
     "data": {
      "application/vnd.jupyter.widget-view+json": {
       "model_id": "232eea73f16145d1bb5e8fc1e93c2327",
       "version_major": 2,
       "version_minor": 0
      },
      "text/plain": [
       "chain 11 |          | 00:00 Status"
      ]
     },
     "metadata": {},
     "output_type": "display_data"
    },
    {
     "data": {
      "application/vnd.jupyter.widget-view+json": {
       "model_id": "5b5eacedc8e247e5a1059018ec628617",
       "version_major": 2,
       "version_minor": 0
      },
      "text/plain": [
       "chain 12 |          | 00:00 Status"
      ]
     },
     "metadata": {},
     "output_type": "display_data"
    },
    {
     "data": {
      "application/vnd.jupyter.widget-view+json": {
       "model_id": "f997bb670c664c788ce4e634b3849a3e",
       "version_major": 2,
       "version_minor": 0
      },
      "text/plain": [
       "chain 13 |          | 00:00 Status"
      ]
     },
     "metadata": {},
     "output_type": "display_data"
    },
    {
     "data": {
      "application/vnd.jupyter.widget-view+json": {
       "model_id": "c7e6af410d3241efb74e980145c0a8f8",
       "version_major": 2,
       "version_minor": 0
      },
      "text/plain": [
       "chain 14 |          | 00:00 Status"
      ]
     },
     "metadata": {},
     "output_type": "display_data"
    },
    {
     "data": {
      "application/vnd.jupyter.widget-view+json": {
       "model_id": "79a7f33a6a1d46f7850a4f88b538bacf",
       "version_major": 2,
       "version_minor": 0
      },
      "text/plain": [
       "chain 15 |          | 00:00 Status"
      ]
     },
     "metadata": {},
     "output_type": "display_data"
    },
    {
     "data": {
      "application/vnd.jupyter.widget-view+json": {
       "model_id": "c04e8c73e6c44909a5f0fb406aaab5ba",
       "version_major": 2,
       "version_minor": 0
      },
      "text/plain": [
       "chain 16 |          | 00:00 Status"
      ]
     },
     "metadata": {},
     "output_type": "display_data"
    },
    {
     "data": {
      "application/vnd.jupyter.widget-view+json": {
       "model_id": "68412570b3734b59bab15e719b3720cb",
       "version_major": 2,
       "version_minor": 0
      },
      "text/plain": [
       "chain 17 |          | 00:00 Status"
      ]
     },
     "metadata": {},
     "output_type": "display_data"
    },
    {
     "data": {
      "application/vnd.jupyter.widget-view+json": {
       "model_id": "324a965fa1ed4f479d2cc19e02779a82",
       "version_major": 2,
       "version_minor": 0
      },
      "text/plain": [
       "chain 18 |          | 00:00 Status"
      ]
     },
     "metadata": {},
     "output_type": "display_data"
    },
    {
     "data": {
      "application/vnd.jupyter.widget-view+json": {
       "model_id": "edb5585760a74f95aa97ef38005e58d2",
       "version_major": 2,
       "version_minor": 0
      },
      "text/plain": [
       "chain 19 |          | 00:00 Status"
      ]
     },
     "metadata": {},
     "output_type": "display_data"
    },
    {
     "data": {
      "application/vnd.jupyter.widget-view+json": {
       "model_id": "39dc9746bb404badb4da066551b3b976",
       "version_major": 2,
       "version_minor": 0
      },
      "text/plain": [
       "chain 20 |          | 00:00 Status"
      ]
     },
     "metadata": {},
     "output_type": "display_data"
    },
    {
     "data": {
      "application/vnd.jupyter.widget-view+json": {
       "model_id": "f3edb9e39ddc4ff1b846591ad0a2f71d",
       "version_major": 2,
       "version_minor": 0
      },
      "text/plain": [
       "chain 21 |          | 00:00 Status"
      ]
     },
     "metadata": {},
     "output_type": "display_data"
    },
    {
     "data": {
      "application/vnd.jupyter.widget-view+json": {
       "model_id": "e559cf27a7134f6bbbe858266c85c2f5",
       "version_major": 2,
       "version_minor": 0
      },
      "text/plain": [
       "chain 22 |          | 00:00 Status"
      ]
     },
     "metadata": {},
     "output_type": "display_data"
    },
    {
     "data": {
      "application/vnd.jupyter.widget-view+json": {
       "model_id": "8039142f96c14b81bcc6574c6637cfd1",
       "version_major": 2,
       "version_minor": 0
      },
      "text/plain": [
       "chain 23 |          | 00:00 Status"
      ]
     },
     "metadata": {},
     "output_type": "display_data"
    },
    {
     "data": {
      "application/vnd.jupyter.widget-view+json": {
       "model_id": "a48420a27e87492da012d7241f1d3a39",
       "version_major": 2,
       "version_minor": 0
      },
      "text/plain": [
       "chain 24 |          | 00:00 Status"
      ]
     },
     "metadata": {},
     "output_type": "display_data"
    },
    {
     "data": {
      "application/vnd.jupyter.widget-view+json": {
       "model_id": "dc2091bdcf5e4f7ea368f12542321cde",
       "version_major": 2,
       "version_minor": 0
      },
      "text/plain": [
       "chain 25 |          | 00:00 Status"
      ]
     },
     "metadata": {},
     "output_type": "display_data"
    },
    {
     "data": {
      "application/vnd.jupyter.widget-view+json": {
       "model_id": "6a205411b05243c4ba6caa83619d6a88",
       "version_major": 2,
       "version_minor": 0
      },
      "text/plain": [
       "chain 26 |          | 00:00 Status"
      ]
     },
     "metadata": {},
     "output_type": "display_data"
    },
    {
     "data": {
      "application/vnd.jupyter.widget-view+json": {
       "model_id": "cf71dff6e25d4b04a685a288e2937660",
       "version_major": 2,
       "version_minor": 0
      },
      "text/plain": [
       "chain 27 |          | 00:00 Status"
      ]
     },
     "metadata": {},
     "output_type": "display_data"
    },
    {
     "data": {
      "application/vnd.jupyter.widget-view+json": {
       "model_id": "95c8180c1d034f4cb01710520b654f2d",
       "version_major": 2,
       "version_minor": 0
      },
      "text/plain": [
       "chain 28 |          | 00:00 Status"
      ]
     },
     "metadata": {},
     "output_type": "display_data"
    },
    {
     "data": {
      "application/vnd.jupyter.widget-view+json": {
       "model_id": "f396520840454bf0b1435e19221ead6b",
       "version_major": 2,
       "version_minor": 0
      },
      "text/plain": [
       "chain 29 |          | 00:00 Status"
      ]
     },
     "metadata": {},
     "output_type": "display_data"
    },
    {
     "data": {
      "application/vnd.jupyter.widget-view+json": {
       "model_id": "8d362b76b06d4e6ab2a12f6a0b076be4",
       "version_major": 2,
       "version_minor": 0
      },
      "text/plain": [
       "chain 30 |          | 00:00 Status"
      ]
     },
     "metadata": {},
     "output_type": "display_data"
    },
    {
     "data": {
      "application/vnd.jupyter.widget-view+json": {
       "model_id": "713438b97858440ab683372840a61645",
       "version_major": 2,
       "version_minor": 0
      },
      "text/plain": [
       "chain 31 |          | 00:00 Status"
      ]
     },
     "metadata": {},
     "output_type": "display_data"
    },
    {
     "data": {
      "application/vnd.jupyter.widget-view+json": {
       "model_id": "41df38758dc34fc9926a79591bf8ad15",
       "version_major": 2,
       "version_minor": 0
      },
      "text/plain": [
       "chain 32 |          | 00:00 Status"
      ]
     },
     "metadata": {},
     "output_type": "display_data"
    },
    {
     "data": {
      "application/vnd.jupyter.widget-view+json": {
       "model_id": "06db20727d1d4ca3a3da5390a92bbe27",
       "version_major": 2,
       "version_minor": 0
      },
      "text/plain": [
       "chain 33 |          | 00:00 Status"
      ]
     },
     "metadata": {},
     "output_type": "display_data"
    },
    {
     "data": {
      "application/vnd.jupyter.widget-view+json": {
       "model_id": "20d1c69dd66c4db2ac9bceb069389c86",
       "version_major": 2,
       "version_minor": 0
      },
      "text/plain": [
       "chain 34 |          | 00:00 Status"
      ]
     },
     "metadata": {},
     "output_type": "display_data"
    },
    {
     "data": {
      "application/vnd.jupyter.widget-view+json": {
       "model_id": "14647e1d796640749f8ffda0a5bd42e2",
       "version_major": 2,
       "version_minor": 0
      },
      "text/plain": [
       "chain 35 |          | 00:00 Status"
      ]
     },
     "metadata": {},
     "output_type": "display_data"
    },
    {
     "data": {
      "application/vnd.jupyter.widget-view+json": {
       "model_id": "ffe7ebf259724821879409755dad5a30",
       "version_major": 2,
       "version_minor": 0
      },
      "text/plain": [
       "chain 36 |          | 00:00 Status"
      ]
     },
     "metadata": {},
     "output_type": "display_data"
    },
    {
     "data": {
      "application/vnd.jupyter.widget-view+json": {
       "model_id": "1c3fb005db40440f883dc9ed660d866b",
       "version_major": 2,
       "version_minor": 0
      },
      "text/plain": [
       "chain 37 |          | 00:00 Status"
      ]
     },
     "metadata": {},
     "output_type": "display_data"
    },
    {
     "data": {
      "application/vnd.jupyter.widget-view+json": {
       "model_id": "9a01ce40664c4c4e88c58f9436a1ca7a",
       "version_major": 2,
       "version_minor": 0
      },
      "text/plain": [
       "chain 38 |          | 00:00 Status"
      ]
     },
     "metadata": {},
     "output_type": "display_data"
    },
    {
     "data": {
      "application/vnd.jupyter.widget-view+json": {
       "model_id": "f9b9b0377f9d4c469d9b96efb3ba3c94",
       "version_major": 2,
       "version_minor": 0
      },
      "text/plain": [
       "chain 39 |          | 00:00 Status"
      ]
     },
     "metadata": {},
     "output_type": "display_data"
    },
    {
     "data": {
      "application/vnd.jupyter.widget-view+json": {
       "model_id": "e5e718018ef7417dbb2eb9539ced138e",
       "version_major": 2,
       "version_minor": 0
      },
      "text/plain": [
       "chain 40 |          | 00:00 Status"
      ]
     },
     "metadata": {},
     "output_type": "display_data"
    },
    {
     "data": {
      "application/vnd.jupyter.widget-view+json": {
       "model_id": "e90c6141da574c9b88d6d637c3124c5d",
       "version_major": 2,
       "version_minor": 0
      },
      "text/plain": [
       "chain 41 |          | 00:00 Status"
      ]
     },
     "metadata": {},
     "output_type": "display_data"
    },
    {
     "data": {
      "application/vnd.jupyter.widget-view+json": {
       "model_id": "e21bdadf388c4557aaebb1fde8da57cc",
       "version_major": 2,
       "version_minor": 0
      },
      "text/plain": [
       "chain 42 |          | 00:00 Status"
      ]
     },
     "metadata": {},
     "output_type": "display_data"
    },
    {
     "data": {
      "application/vnd.jupyter.widget-view+json": {
       "model_id": "14435dafa0814c168b7cb74e6b96bb0b",
       "version_major": 2,
       "version_minor": 0
      },
      "text/plain": [
       "chain 43 |          | 00:00 Status"
      ]
     },
     "metadata": {},
     "output_type": "display_data"
    },
    {
     "data": {
      "application/vnd.jupyter.widget-view+json": {
       "model_id": "2905dae557b5467d9b28efd7298ec0ce",
       "version_major": 2,
       "version_minor": 0
      },
      "text/plain": [
       "chain 44 |          | 00:00 Status"
      ]
     },
     "metadata": {},
     "output_type": "display_data"
    },
    {
     "data": {
      "application/vnd.jupyter.widget-view+json": {
       "model_id": "699f2903e7ba401894adfd699ffc9486",
       "version_major": 2,
       "version_minor": 0
      },
      "text/plain": [
       "chain 45 |          | 00:00 Status"
      ]
     },
     "metadata": {},
     "output_type": "display_data"
    },
    {
     "data": {
      "application/vnd.jupyter.widget-view+json": {
       "model_id": "322a8debc6e040928196b1711b27936b",
       "version_major": 2,
       "version_minor": 0
      },
      "text/plain": [
       "chain 46 |          | 00:00 Status"
      ]
     },
     "metadata": {},
     "output_type": "display_data"
    },
    {
     "data": {
      "application/vnd.jupyter.widget-view+json": {
       "model_id": "dbbb8b764b874180b6d62c635e2750df",
       "version_major": 2,
       "version_minor": 0
      },
      "text/plain": [
       "chain 47 |          | 00:00 Status"
      ]
     },
     "metadata": {},
     "output_type": "display_data"
    },
    {
     "data": {
      "application/vnd.jupyter.widget-view+json": {
       "model_id": "c763399690eb40e8914895b252b7a678",
       "version_major": 2,
       "version_minor": 0
      },
      "text/plain": [
       "chain 48 |          | 00:00 Status"
      ]
     },
     "metadata": {},
     "output_type": "display_data"
    },
    {
     "data": {
      "application/vnd.jupyter.widget-view+json": {
       "model_id": "3bb0685dfeb848f6ae30ee9b81f9e90b",
       "version_major": 2,
       "version_minor": 0
      },
      "text/plain": [
       "chain 49 |          | 00:00 Status"
      ]
     },
     "metadata": {},
     "output_type": "display_data"
    },
    {
     "data": {
      "application/vnd.jupyter.widget-view+json": {
       "model_id": "0a37c148bc1544cf828ec7a91022de66",
       "version_major": 2,
       "version_minor": 0
      },
      "text/plain": [
       "chain 50 |          | 00:00 Status"
      ]
     },
     "metadata": {},
     "output_type": "display_data"
    },
    {
     "data": {
      "application/vnd.jupyter.widget-view+json": {
       "model_id": "55f8bb40580043fcb5a4aba2b2f59b12",
       "version_major": 2,
       "version_minor": 0
      },
      "text/plain": [
       "chain 51 |          | 00:00 Status"
      ]
     },
     "metadata": {},
     "output_type": "display_data"
    },
    {
     "data": {
      "application/vnd.jupyter.widget-view+json": {
       "model_id": "ba0cea3f4f134456be6ebd320d6abc70",
       "version_major": 2,
       "version_minor": 0
      },
      "text/plain": [
       "chain 52 |          | 00:00 Status"
      ]
     },
     "metadata": {},
     "output_type": "display_data"
    },
    {
     "data": {
      "application/vnd.jupyter.widget-view+json": {
       "model_id": "ffe2f27bfdf2458cb9eee5d548d12ad6",
       "version_major": 2,
       "version_minor": 0
      },
      "text/plain": [
       "chain 53 |          | 00:00 Status"
      ]
     },
     "metadata": {},
     "output_type": "display_data"
    },
    {
     "data": {
      "application/vnd.jupyter.widget-view+json": {
       "model_id": "b21845d8a068453e82bb9ef2fb5fe8b6",
       "version_major": 2,
       "version_minor": 0
      },
      "text/plain": [
       "chain 54 |          | 00:00 Status"
      ]
     },
     "metadata": {},
     "output_type": "display_data"
    },
    {
     "data": {
      "application/vnd.jupyter.widget-view+json": {
       "model_id": "8c0b167ac4b242b69d0a33ba1e3f4fe3",
       "version_major": 2,
       "version_minor": 0
      },
      "text/plain": [
       "chain 55 |          | 00:00 Status"
      ]
     },
     "metadata": {},
     "output_type": "display_data"
    },
    {
     "data": {
      "application/vnd.jupyter.widget-view+json": {
       "model_id": "eaa0610038a04c18989cd12be5863fa7",
       "version_major": 2,
       "version_minor": 0
      },
      "text/plain": [
       "chain 56 |          | 00:00 Status"
      ]
     },
     "metadata": {},
     "output_type": "display_data"
    },
    {
     "data": {
      "application/vnd.jupyter.widget-view+json": {
       "model_id": "bcb4e8f22cfd4ed9a850d4d5bf0f6e02",
       "version_major": 2,
       "version_minor": 0
      },
      "text/plain": [
       "chain 57 |          | 00:00 Status"
      ]
     },
     "metadata": {},
     "output_type": "display_data"
    },
    {
     "data": {
      "application/vnd.jupyter.widget-view+json": {
       "model_id": "a04767f812a84805952627ecbce553e6",
       "version_major": 2,
       "version_minor": 0
      },
      "text/plain": [
       "chain 58 |          | 00:00 Status"
      ]
     },
     "metadata": {},
     "output_type": "display_data"
    },
    {
     "data": {
      "application/vnd.jupyter.widget-view+json": {
       "model_id": "b2e44cd0a6ab40d88d410ba93f76bb52",
       "version_major": 2,
       "version_minor": 0
      },
      "text/plain": [
       "chain 59 |          | 00:00 Status"
      ]
     },
     "metadata": {},
     "output_type": "display_data"
    },
    {
     "data": {
      "application/vnd.jupyter.widget-view+json": {
       "model_id": "b3ad92c5a2594f188e003427761c3f90",
       "version_major": 2,
       "version_minor": 0
      },
      "text/plain": [
       "chain 60 |          | 00:00 Status"
      ]
     },
     "metadata": {},
     "output_type": "display_data"
    },
    {
     "data": {
      "application/vnd.jupyter.widget-view+json": {
       "model_id": "bcfdde9ab1564f81ba85c7bf037de855",
       "version_major": 2,
       "version_minor": 0
      },
      "text/plain": [
       "chain 61 |          | 00:00 Status"
      ]
     },
     "metadata": {},
     "output_type": "display_data"
    },
    {
     "data": {
      "application/vnd.jupyter.widget-view+json": {
       "model_id": "1a6433537cef4171900477e125f76de6",
       "version_major": 2,
       "version_minor": 0
      },
      "text/plain": [
       "chain 62 |          | 00:00 Status"
      ]
     },
     "metadata": {},
     "output_type": "display_data"
    },
    {
     "data": {
      "application/vnd.jupyter.widget-view+json": {
       "model_id": "38c83264af4449a2a4ed8c07a0916a8e",
       "version_major": 2,
       "version_minor": 0
      },
      "text/plain": [
       "chain 63 |          | 00:00 Status"
      ]
     },
     "metadata": {},
     "output_type": "display_data"
    },
    {
     "data": {
      "application/vnd.jupyter.widget-view+json": {
       "model_id": "096eedcd33504c8da6ad5f8908580ddd",
       "version_major": 2,
       "version_minor": 0
      },
      "text/plain": [
       "chain 64 |          | 00:00 Status"
      ]
     },
     "metadata": {},
     "output_type": "display_data"
    },
    {
     "data": {
      "application/vnd.jupyter.widget-view+json": {
       "model_id": "15ca054b7c074593a449201646b3787a",
       "version_major": 2,
       "version_minor": 0
      },
      "text/plain": [
       "chain 65 |          | 00:00 Status"
      ]
     },
     "metadata": {},
     "output_type": "display_data"
    },
    {
     "data": {
      "application/vnd.jupyter.widget-view+json": {
       "model_id": "74c4d85bf7b749bfb30e26c2f96c7c07",
       "version_major": 2,
       "version_minor": 0
      },
      "text/plain": [
       "chain 66 |          | 00:00 Status"
      ]
     },
     "metadata": {},
     "output_type": "display_data"
    },
    {
     "data": {
      "application/vnd.jupyter.widget-view+json": {
       "model_id": "ad8fd9a6881043af9d29bf44b02009ef",
       "version_major": 2,
       "version_minor": 0
      },
      "text/plain": [
       "chain 67 |          | 00:00 Status"
      ]
     },
     "metadata": {},
     "output_type": "display_data"
    },
    {
     "data": {
      "application/vnd.jupyter.widget-view+json": {
       "model_id": "e9430d6d58a44c6d868ad80473cde890",
       "version_major": 2,
       "version_minor": 0
      },
      "text/plain": [
       "chain 68 |          | 00:00 Status"
      ]
     },
     "metadata": {},
     "output_type": "display_data"
    },
    {
     "data": {
      "application/vnd.jupyter.widget-view+json": {
       "model_id": "e94af47491a8496da2217ac61f32fe52",
       "version_major": 2,
       "version_minor": 0
      },
      "text/plain": [
       "chain 69 |          | 00:00 Status"
      ]
     },
     "metadata": {},
     "output_type": "display_data"
    },
    {
     "data": {
      "application/vnd.jupyter.widget-view+json": {
       "model_id": "6455e32f646f4a569cac0b41c810ff16",
       "version_major": 2,
       "version_minor": 0
      },
      "text/plain": [
       "chain 70 |          | 00:00 Status"
      ]
     },
     "metadata": {},
     "output_type": "display_data"
    },
    {
     "data": {
      "application/vnd.jupyter.widget-view+json": {
       "model_id": "b08b172c96604b8ba8986e5068a86428",
       "version_major": 2,
       "version_minor": 0
      },
      "text/plain": [
       "chain 71 |          | 00:00 Status"
      ]
     },
     "metadata": {},
     "output_type": "display_data"
    },
    {
     "data": {
      "application/vnd.jupyter.widget-view+json": {
       "model_id": "dadda7495a5642a68ce70b3f227885ba",
       "version_major": 2,
       "version_minor": 0
      },
      "text/plain": [
       "chain 72 |          | 00:00 Status"
      ]
     },
     "metadata": {},
     "output_type": "display_data"
    },
    {
     "data": {
      "application/vnd.jupyter.widget-view+json": {
       "model_id": "58df8cb31ab54234b82f7130fce8c2a5",
       "version_major": 2,
       "version_minor": 0
      },
      "text/plain": [
       "chain 73 |          | 00:00 Status"
      ]
     },
     "metadata": {},
     "output_type": "display_data"
    },
    {
     "data": {
      "application/vnd.jupyter.widget-view+json": {
       "model_id": "6198e097705e4c459c3f0aaeedea9364",
       "version_major": 2,
       "version_minor": 0
      },
      "text/plain": [
       "chain 74 |          | 00:00 Status"
      ]
     },
     "metadata": {},
     "output_type": "display_data"
    },
    {
     "data": {
      "application/vnd.jupyter.widget-view+json": {
       "model_id": "44900cc61ea8455c8d02e1e86d94b6c3",
       "version_major": 2,
       "version_minor": 0
      },
      "text/plain": [
       "chain 75 |          | 00:00 Status"
      ]
     },
     "metadata": {},
     "output_type": "display_data"
    },
    {
     "data": {
      "application/vnd.jupyter.widget-view+json": {
       "model_id": "e30dc981d8db4f31b76990f4bd5b810f",
       "version_major": 2,
       "version_minor": 0
      },
      "text/plain": [
       "chain 76 |          | 00:00 Status"
      ]
     },
     "metadata": {},
     "output_type": "display_data"
    },
    {
     "data": {
      "application/vnd.jupyter.widget-view+json": {
       "model_id": "d38802b1fea94f4e82f1a67644cf786b",
       "version_major": 2,
       "version_minor": 0
      },
      "text/plain": [
       "chain 77 |          | 00:00 Status"
      ]
     },
     "metadata": {},
     "output_type": "display_data"
    },
    {
     "data": {
      "application/vnd.jupyter.widget-view+json": {
       "model_id": "1b03013f85584f838d529a722e3d840c",
       "version_major": 2,
       "version_minor": 0
      },
      "text/plain": [
       "chain 78 |          | 00:00 Status"
      ]
     },
     "metadata": {},
     "output_type": "display_data"
    },
    {
     "data": {
      "application/vnd.jupyter.widget-view+json": {
       "model_id": "cbc77fe70f8b4f92b986901cafbc74c5",
       "version_major": 2,
       "version_minor": 0
      },
      "text/plain": [
       "chain 79 |          | 00:00 Status"
      ]
     },
     "metadata": {},
     "output_type": "display_data"
    },
    {
     "data": {
      "application/vnd.jupyter.widget-view+json": {
       "model_id": "29514cc715f94a38942e671bc5420b36",
       "version_major": 2,
       "version_minor": 0
      },
      "text/plain": [
       "chain 80 |          | 00:00 Status"
      ]
     },
     "metadata": {},
     "output_type": "display_data"
    },
    {
     "data": {
      "application/vnd.jupyter.widget-view+json": {
       "model_id": "82d3cc5cad59400a8a59fe7d6937380d",
       "version_major": 2,
       "version_minor": 0
      },
      "text/plain": [
       "chain 81 |          | 00:00 Status"
      ]
     },
     "metadata": {},
     "output_type": "display_data"
    },
    {
     "data": {
      "application/vnd.jupyter.widget-view+json": {
       "model_id": "8da3e7ceb6824bad813dd0b8d07a377f",
       "version_major": 2,
       "version_minor": 0
      },
      "text/plain": [
       "chain 82 |          | 00:00 Status"
      ]
     },
     "metadata": {},
     "output_type": "display_data"
    },
    {
     "data": {
      "application/vnd.jupyter.widget-view+json": {
       "model_id": "78904073508f4c99a029b260bee162cb",
       "version_major": 2,
       "version_minor": 0
      },
      "text/plain": [
       "chain 83 |          | 00:00 Status"
      ]
     },
     "metadata": {},
     "output_type": "display_data"
    },
    {
     "data": {
      "application/vnd.jupyter.widget-view+json": {
       "model_id": "70d903618f91448bab695ca50a86838c",
       "version_major": 2,
       "version_minor": 0
      },
      "text/plain": [
       "chain 84 |          | 00:00 Status"
      ]
     },
     "metadata": {},
     "output_type": "display_data"
    },
    {
     "data": {
      "application/vnd.jupyter.widget-view+json": {
       "model_id": "e84283b549864334916ce4869ad30f32",
       "version_major": 2,
       "version_minor": 0
      },
      "text/plain": [
       "chain 85 |          | 00:00 Status"
      ]
     },
     "metadata": {},
     "output_type": "display_data"
    },
    {
     "data": {
      "application/vnd.jupyter.widget-view+json": {
       "model_id": "8e42e4dbbc1f42418feda31e9471b314",
       "version_major": 2,
       "version_minor": 0
      },
      "text/plain": [
       "chain 86 |          | 00:00 Status"
      ]
     },
     "metadata": {},
     "output_type": "display_data"
    },
    {
     "data": {
      "application/vnd.jupyter.widget-view+json": {
       "model_id": "e324b625147640f280713a94db7d0cb8",
       "version_major": 2,
       "version_minor": 0
      },
      "text/plain": [
       "chain 87 |          | 00:00 Status"
      ]
     },
     "metadata": {},
     "output_type": "display_data"
    },
    {
     "data": {
      "application/vnd.jupyter.widget-view+json": {
       "model_id": "a9f71115c822492c817e16d64db0a5f6",
       "version_major": 2,
       "version_minor": 0
      },
      "text/plain": [
       "chain 88 |          | 00:00 Status"
      ]
     },
     "metadata": {},
     "output_type": "display_data"
    },
    {
     "data": {
      "application/vnd.jupyter.widget-view+json": {
       "model_id": "e122ce281c64406e998eae58c3650964",
       "version_major": 2,
       "version_minor": 0
      },
      "text/plain": [
       "chain 89 |          | 00:00 Status"
      ]
     },
     "metadata": {},
     "output_type": "display_data"
    },
    {
     "data": {
      "application/vnd.jupyter.widget-view+json": {
       "model_id": "759b2364bb2d453cb845022bef97a8bf",
       "version_major": 2,
       "version_minor": 0
      },
      "text/plain": [
       "chain 90 |          | 00:00 Status"
      ]
     },
     "metadata": {},
     "output_type": "display_data"
    },
    {
     "data": {
      "application/vnd.jupyter.widget-view+json": {
       "model_id": "2d5940bd0e4c4142b352494b48c10f12",
       "version_major": 2,
       "version_minor": 0
      },
      "text/plain": [
       "chain 91 |          | 00:00 Status"
      ]
     },
     "metadata": {},
     "output_type": "display_data"
    },
    {
     "data": {
      "application/vnd.jupyter.widget-view+json": {
       "model_id": "acaa0ffbdf88454ca71e967e8c3e648c",
       "version_major": 2,
       "version_minor": 0
      },
      "text/plain": [
       "chain 92 |          | 00:00 Status"
      ]
     },
     "metadata": {},
     "output_type": "display_data"
    },
    {
     "data": {
      "application/vnd.jupyter.widget-view+json": {
       "model_id": "dab90b758b2a4c17b4997e0236a0fccc",
       "version_major": 2,
       "version_minor": 0
      },
      "text/plain": [
       "chain 93 |          | 00:00 Status"
      ]
     },
     "metadata": {},
     "output_type": "display_data"
    },
    {
     "data": {
      "application/vnd.jupyter.widget-view+json": {
       "model_id": "465b1d3ba81f43419f1a81f22c49241a",
       "version_major": 2,
       "version_minor": 0
      },
      "text/plain": [
       "chain 94 |          | 00:00 Status"
      ]
     },
     "metadata": {},
     "output_type": "display_data"
    },
    {
     "data": {
      "application/vnd.jupyter.widget-view+json": {
       "model_id": "9425dc2c690e449d892fbef5ac2e1ac2",
       "version_major": 2,
       "version_minor": 0
      },
      "text/plain": [
       "chain 95 |          | 00:00 Status"
      ]
     },
     "metadata": {},
     "output_type": "display_data"
    },
    {
     "data": {
      "application/vnd.jupyter.widget-view+json": {
       "model_id": "caa31cdc37c84e6092852c55de20ca43",
       "version_major": 2,
       "version_minor": 0
      },
      "text/plain": [
       "chain 96 |          | 00:00 Status"
      ]
     },
     "metadata": {},
     "output_type": "display_data"
    },
    {
     "data": {
      "application/vnd.jupyter.widget-view+json": {
       "model_id": "11b1dcbafafc43f1abe4fd0fa400d5e0",
       "version_major": 2,
       "version_minor": 0
      },
      "text/plain": [
       "chain 97 |          | 00:00 Status"
      ]
     },
     "metadata": {},
     "output_type": "display_data"
    },
    {
     "data": {
      "application/vnd.jupyter.widget-view+json": {
       "model_id": "fe041aa631e94978aae91cecc003d826",
       "version_major": 2,
       "version_minor": 0
      },
      "text/plain": [
       "chain 98 |          | 00:00 Status"
      ]
     },
     "metadata": {},
     "output_type": "display_data"
    },
    {
     "data": {
      "application/vnd.jupyter.widget-view+json": {
       "model_id": "455de2f84ded4cdaa5daddebc933cda4",
       "version_major": 2,
       "version_minor": 0
      },
      "text/plain": [
       "chain 99 |          | 00:00 Status"
      ]
     },
     "metadata": {},
     "output_type": "display_data"
    },
    {
     "data": {
      "application/vnd.jupyter.widget-view+json": {
       "model_id": "ca5fa1f0217541ff8bae5828499feefb",
       "version_major": 2,
       "version_minor": 0
      },
      "text/plain": [
       "chain 100 |          | 00:00 Status"
      ]
     },
     "metadata": {},
     "output_type": "display_data"
    },
    {
     "name": "stdout",
     "output_type": "stream",
     "text": [
      "                                                                                                                                                                                                                                                                                                                                                                                                                                                                                                                                                                                                                                                                                                                                                                                                                                                                                                                                                                                                                                                                                                                                                                                                                                                                                                                                                                                                                                                                                                                                                                                                                                                                                                                                                                                                                                                                                                                                                                                                                                                                                                                                                                                                                                                                                                                                                                                                                                                                                                                                                                                                                                                                                                                                                                                                                                                                                                                                                                                                                                                                                                                                                                                                                                                                                                                                                                                                                                                                                                                                                                                                                                                                                                                                                                                                                                                                                                                                                                                                                                                                                                                                                                                                                                                                                                                                                                                                                                                                                                                                                                                                                                                                                                                                                                                                                                                                                                                                                                                                                                                                                                                                                                                                                                                                                                                                                                                                                                                                                                                                                                                                                                                                                                                                                                                                                                                                                                                                                                                                                                                                                                                                                                                                                                                                                                                                                                                                                                                                                                                                                                                                                                                                                                                                                                                                                                                                                                                                                                                                                                                                                                                                                                                                                                                                                                                                                                                                                                                                                                                                                                                                                                                                                                                                                                                                                                                                                                                                                                                                                                                                                                                                                                                                                                                                                                                                "
     ]
    },
    {
     "name": "stderr",
     "output_type": "stream",
     "text": [
      "13:14:21 - cmdstanpy - INFO - CmdStan done processing.\n"
     ]
    },
    {
     "name": "stdout",
     "output_type": "stream",
     "text": [
      "\n"
     ]
    },
    {
     "name": "stderr",
     "output_type": "stream",
     "text": [
      "13:14:21 - cmdstanpy - WARNING - Non-fatal error during sampling:\n",
      "Exception: lognormal_lpdf: Scale parameter is inf, but must be positive finite! (in 'stochastic_volatility.stan', line 15, column 4 to column 56)\n",
      "\tException: lognormal_lpdf: Scale parameter is inf, but must be positive finite! (in 'stochastic_volatility.stan', line 15, column 4 to column 56)\n",
      "\tException: lognormal_lpdf: Scale parameter is -nan, but must be positive finite! (in 'stochastic_volatility.stan', line 15, column 4 to column 56)\n",
      "Exception: lognormal_lpdf: Scale parameter is inf, but must be positive finite! (in 'stochastic_volatility.stan', line 15, column 4 to column 56)\n",
      "\tException: lognormal_lpdf: Scale parameter is inf, but must be positive finite! (in 'stochastic_volatility.stan', line 15, column 4 to column 56)\n",
      "\tException: lognormal_lpdf: Scale parameter is inf, but must be positive finite! (in 'stochastic_volatility.stan', line 15, column 4 to column 56)\n",
      "\tException: lognormal_lpdf: Scale parameter is inf, but must be positive finite! (in 'stochastic_volatility.stan', line 15, column 4 to column 56)\n",
      "\tException: lognormal_lpdf: Scale parameter is inf, but must be positive finite! (in 'stochastic_volatility.stan', line 15, column 4 to column 56)\n",
      "\tException: lognormal_lpdf: Scale parameter is inf, but must be positive finite! (in 'stochastic_volatility.stan', line 15, column 4 to column 56)\n",
      "Exception: lognormal_lpdf: Scale parameter is inf, but must be positive finite! (in 'stochastic_volatility.stan', line 15, column 4 to column 56)\n",
      "\tException: lognormal_lpdf: Scale parameter is inf, but must be positive finite! (in 'stochastic_volatility.stan', line 15, column 4 to column 56)\n",
      "\tException: lognormal_lpdf: Scale parameter is inf, but must be positive finite! (in 'stochastic_volatility.stan', line 15, column 4 to column 56)\n",
      "\tException: lognormal_lpdf: Scale parameter is inf, but must be positive finite! (in 'stochastic_volatility.stan', line 15, column 4 to column 56)\n",
      "\tException: lognormal_lpdf: Scale parameter is inf, but must be positive finite! (in 'stochastic_volatility.stan', line 15, column 4 to column 56)\n",
      "\tException: lognormal_lpdf: Scale parameter is inf, but must be positive finite! (in 'stochastic_volatility.stan', line 15, column 4 to column 56)\n",
      "\tException: lognormal_lpdf: Scale parameter is inf, but must be positive finite! (in 'stochastic_volatility.stan', line 15, column 4 to column 56)\n",
      "\tException: lognormal_lpdf: Scale parameter is inf, but must be positive finite! (in 'stochastic_volatility.stan', line 15, column 4 to column 56)\n",
      "Exception: lognormal_lpdf: Scale parameter is inf, but must be positive finite! (in 'stochastic_volatility.stan', line 15, column 4 to column 56)\n",
      "\tException: lognormal_lpdf: Scale parameter is inf, but must be positive finite! (in 'stochastic_volatility.stan', line 15, column 4 to column 56)\n",
      "\tException: lognormal_lpdf: Scale parameter is inf, but must be positive finite! (in 'stochastic_volatility.stan', line 15, column 4 to column 56)\n",
      "\tException: lognormal_lpdf: Scale parameter is inf, but must be positive finite! (in 'stochastic_volatility.stan', line 15, column 4 to column 56)\n",
      "\tException: lognormal_lpdf: Scale parameter is inf, but must be positive finite! (in 'stochastic_volatility.stan', line 15, column 4 to column 56)\n",
      "\tException: lognormal_lpdf: Scale parameter is inf, but must be positive finite! (in 'stochastic_volatility.stan', line 15, column 4 to column 56)\n",
      "Exception: lognormal_lpdf: Scale parameter is -nan, but must be positive finite! (in 'stochastic_volatility.stan', line 15, column 4 to column 56)\n",
      "Exception: lognormal_lpdf: Scale parameter is inf, but must be positive finite! (in 'stochastic_volatility.stan', line 15, column 4 to column 56)\n",
      "\tException: lognormal_lpdf: Scale parameter is inf, but must be positive finite! (in 'stochastic_volatility.stan', line 15, column 4 to column 56)\n",
      "\tException: lognormal_lpdf: Scale parameter is inf, but must be positive finite! (in 'stochastic_volatility.stan', line 15, column 4 to column 56)\n",
      "\tException: lognormal_lpdf: Scale parameter is inf, but must be positive finite! (in 'stochastic_volatility.stan', line 15, column 4 to column 56)\n",
      "Exception: lognormal_lpdf: Scale parameter is inf, but must be positive finite! (in 'stochastic_volatility.stan', line 15, column 4 to column 56)\n",
      "\tException: lognormal_lpdf: Scale parameter is inf, but must be positive finite! (in 'stochastic_volatility.stan', line 15, column 4 to column 56)\n",
      "\tException: lognormal_lpdf: Scale parameter is inf, but must be positive finite! (in 'stochastic_volatility.stan', line 15, column 4 to column 56)\n",
      "\tException: lognormal_lpdf: Scale parameter is inf, but must be positive finite! (in 'stochastic_volatility.stan', line 15, column 4 to column 56)\n",
      "\tException: lognormal_lpdf: Scale parameter is inf, but must be positive finite! (in 'stochastic_volatility.stan', line 15, column 4 to column 56)\n",
      "Exception: lognormal_lpdf: Scale parameter is inf, but must be positive finite! (in 'stochastic_volatility.stan', line 15, column 4 to column 56)\n",
      "\tException: lognormal_lpdf: Scale parameter is inf, but must be positive finite! (in 'stochastic_volatility.stan', line 15, column 4 to column 56)\n",
      "\tException: lognormal_lpdf: Scale parameter is inf, but must be positive finite! (in 'stochastic_volatility.stan', line 15, column 4 to column 56)\n",
      "Exception: lognormal_lpdf: Scale parameter is inf, but must be positive finite! (in 'stochastic_volatility.stan', line 15, column 4 to column 56)\n",
      "\tException: lognormal_lpdf: Scale parameter is inf, but must be positive finite! (in 'stochastic_volatility.stan', line 15, column 4 to column 56)\n",
      "\tException: lognormal_lpdf: Scale parameter is -nan, but must be positive finite! (in 'stochastic_volatility.stan', line 15, column 4 to column 56)\n",
      "Exception: lognormal_lpdf: Scale parameter is inf, but must be positive finite! (in 'stochastic_volatility.stan', line 15, column 4 to column 56)\n",
      "\tException: lognormal_lpdf: Scale parameter is inf, but must be positive finite! (in 'stochastic_volatility.stan', line 15, column 4 to column 56)\n",
      "\tException: lognormal_lpdf: Scale parameter is inf, but must be positive finite! (in 'stochastic_volatility.stan', line 15, column 4 to column 56)\n",
      "\tException: lognormal_lpdf: Scale parameter is inf, but must be positive finite! (in 'stochastic_volatility.stan', line 15, column 4 to column 56)\n",
      "\tException: lognormal_lpdf: Scale parameter is inf, but must be positive finite! (in 'stochastic_volatility.stan', line 15, column 4 to column 56)\n",
      "\tException: lognormal_lpdf: Scale parameter is inf, but must be positive finite! (in 'stochastic_volatility.stan', line 15, column 4 to column 56)\n",
      "\tException: lognormal_lpdf: Scale parameter is inf, but must be positive finite! (in 'stochastic_volatility.stan', line 15, column 4 to column 56)\n",
      "Exception: lognormal_lpdf: Scale parameter is inf, but must be positive finite! (in 'stochastic_volatility.stan', line 15, column 4 to column 56)\n",
      "\tException: lognormal_lpdf: Scale parameter is inf, but must be positive finite! (in 'stochastic_volatility.stan', line 15, column 4 to column 56)\n",
      "\tException: lognormal_lpdf: Scale parameter is inf, but must be positive finite! (in 'stochastic_volatility.stan', line 15, column 4 to column 56)\n",
      "\tException: lognormal_lpdf: Scale parameter is inf, but must be positive finite! (in 'stochastic_volatility.stan', line 15, column 4 to column 56)\n",
      "Exception: lognormal_lpdf: Scale parameter is -nan, but must be positive finite! (in 'stochastic_volatility.stan', line 15, column 4 to column 56)\n",
      "Exception: lognormal_lpdf: Scale parameter is inf, but must be positive finite! (in 'stochastic_volatility.stan', line 15, column 4 to column 56)\n",
      "\tException: lognormal_lpdf: Scale parameter is inf, but must be positive finite! (in 'stochastic_volatility.stan', line 15, column 4 to column 56)\n",
      "\tException: lognormal_lpdf: Scale parameter is -nan, but must be positive finite! (in 'stochastic_volatility.stan', line 15, column 4 to column 56)\n",
      "Exception: lognormal_lpdf: Scale parameter is -nan, but must be positive finite! (in 'stochastic_volatility.stan', line 15, column 4 to column 56)\n",
      "Exception: lognormal_lpdf: Scale parameter is inf, but must be positive finite! (in 'stochastic_volatility.stan', line 15, column 4 to column 56)\n",
      "\tException: lognormal_lpdf: Scale parameter is inf, but must be positive finite! (in 'stochastic_volatility.stan', line 15, column 4 to column 56)\n",
      "\tException: lognormal_lpdf: Scale parameter is inf, but must be positive finite! (in 'stochastic_volatility.stan', line 15, column 4 to column 56)\n",
      "\tException: lognormal_lpdf: Scale parameter is inf, but must be positive finite! (in 'stochastic_volatility.stan', line 15, column 4 to column 56)\n",
      "\tException: lognormal_lpdf: Scale parameter is inf, but must be positive finite! (in 'stochastic_volatility.stan', line 15, column 4 to column 56)\n",
      "\tException: lognormal_lpdf: Scale parameter is inf, but must be positive finite! (in 'stochastic_volatility.stan', line 15, column 4 to column 56)\n",
      "Exception: lognormal_lpdf: Scale parameter is inf, but must be positive finite! (in 'stochastic_volatility.stan', line 15, column 4 to column 56)\n",
      "\tException: lognormal_lpdf: Scale parameter is inf, but must be positive finite! (in 'stochastic_volatility.stan', line 15, column 4 to column 56)\n",
      "\tException: lognormal_lpdf: Scale parameter is inf, but must be positive finite! (in 'stochastic_volatility.stan', line 15, column 4 to column 56)\n",
      "\tException: lognormal_lpdf: Scale parameter is inf, but must be positive finite! (in 'stochastic_volatility.stan', line 15, column 4 to column 56)\n",
      "\tException: lognormal_lpdf: Scale parameter is inf, but must be positive finite! (in 'stochastic_volatility.stan', line 15, column 4 to column 56)\n",
      "Exception: lognormal_lpdf: Scale parameter is -nan, but must be positive finite! (in 'stochastic_volatility.stan', line 15, column 4 to column 56)\n",
      "Exception: lognormal_lpdf: Scale parameter is inf, but must be positive finite! (in 'stochastic_volatility.stan', line 15, column 4 to column 56)\n",
      "\tException: lognormal_lpdf: Scale parameter is inf, but must be positive finite! (in 'stochastic_volatility.stan', line 15, column 4 to column 56)\n",
      "\tException: lognormal_lpdf: Scale parameter is -nan, but must be positive finite! (in 'stochastic_volatility.stan', line 15, column 4 to column 56)\n",
      "Exception: lognormal_lpdf: Scale parameter is inf, but must be positive finite! (in 'stochastic_volatility.stan', line 15, column 4 to column 56)\n",
      "\tException: lognormal_lpdf: Scale parameter is inf, but must be positive finite! (in 'stochastic_volatility.stan', line 15, column 4 to column 56)\n",
      "\tException: lognormal_lpdf: Scale parameter is inf, but must be positive finite! (in 'stochastic_volatility.stan', line 15, column 4 to column 56)\n",
      "\tException: lognormal_lpdf: Scale parameter is inf, but must be positive finite! (in 'stochastic_volatility.stan', line 15, column 4 to column 56)\n",
      "\tException: lognormal_lpdf: Scale parameter is inf, but must be positive finite! (in 'stochastic_volatility.stan', line 15, column 4 to column 56)\n",
      "\tException: lognormal_lpdf: Scale parameter is inf, but must be positive finite! (in 'stochastic_volatility.stan', line 15, column 4 to column 56)\n",
      "Exception: lognormal_lpdf: Scale parameter is inf, but must be positive finite! (in 'stochastic_volatility.stan', line 15, column 4 to column 56)\n",
      "Exception: lognormal_lpdf: Scale parameter is inf, but must be positive finite! (in 'stochastic_volatility.stan', line 15, column 4 to column 56)\n",
      "\tException: lognormal_lpdf: Scale parameter is inf, but must be positive finite! (in 'stochastic_volatility.stan', line 15, column 4 to column 56)\n",
      "\tException: lognormal_lpdf: Scale parameter is inf, but must be positive finite! (in 'stochastic_volatility.stan', line 15, column 4 to column 56)\n",
      "\tException: lognormal_lpdf: Scale parameter is inf, but must be positive finite! (in 'stochastic_volatility.stan', line 15, column 4 to column 56)\n",
      "\tException: lognormal_lpdf: Scale parameter is inf, but must be positive finite! (in 'stochastic_volatility.stan', line 15, column 4 to column 56)\n",
      "\tException: lognormal_lpdf: Scale parameter is inf, but must be positive finite! (in 'stochastic_volatility.stan', line 15, column 4 to column 56)\n",
      "\tException: lognormal_lpdf: Scale parameter is inf, but must be positive finite! (in 'stochastic_volatility.stan', line 15, column 4 to column 56)\n",
      "Exception: lognormal_lpdf: Scale parameter is inf, but must be positive finite! (in 'stochastic_volatility.stan', line 15, column 4 to column 56)\n",
      "\tException: lognormal_lpdf: Scale parameter is inf, but must be positive finite! (in 'stochastic_volatility.stan', line 15, column 4 to column 56)\n",
      "\tException: lognormal_lpdf: Scale parameter is inf, but must be positive finite! (in 'stochastic_volatility.stan', line 15, column 4 to column 56)\n",
      "\tException: lognormal_lpdf: Scale parameter is inf, but must be positive finite! (in 'stochastic_volatility.stan', line 15, column 4 to column 56)\n",
      "\tException: lognormal_lpdf: Scale parameter is inf, but must be positive finite! (in 'stochastic_volatility.stan', line 15, column 4 to column 56)\n",
      "\tException: lognormal_lpdf: Scale parameter is inf, but must be positive finite! (in 'stochastic_volatility.stan', line 15, column 4 to column 56)\n",
      "\tException: lognormal_lpdf: Scale parameter is inf, but must be positive finite! (in 'stochastic_volatility.stan', line 15, column 4 to column 56)\n",
      "Exception: lognormal_lpdf: Scale parameter is inf, but must be positive finite! (in 'stochastic_volatility.stan', line 15, column 4 to column 56)\n",
      "\tException: lognormal_lpdf: Scale parameter is inf, but must be positive finite! (in 'stochastic_volatility.stan', line 15, column 4 to column 56)\n",
      "\tException: lognormal_lpdf: Scale parameter is inf, but must be positive finite! (in 'stochastic_volatility.stan', line 15, column 4 to column 56)\n",
      "\tException: lognormal_lpdf: Scale parameter is inf, but must be positive finite! (in 'stochastic_volatility.stan', line 15, column 4 to column 56)\n",
      "\tException: lognormal_lpdf: Scale parameter is inf, but must be positive finite! (in 'stochastic_volatility.stan', line 15, column 4 to column 56)\n",
      "\tException: lognormal_lpdf: Scale parameter is inf, but must be positive finite! (in 'stochastic_volatility.stan', line 15, column 4 to column 56)\n",
      "\tException: lognormal_lpdf: Scale parameter is inf, but must be positive finite! (in 'stochastic_volatility.stan', line 15, column 4 to column 56)\n",
      "Exception: lognormal_lpdf: Scale parameter is inf, but must be positive finite! (in 'stochastic_volatility.stan', line 15, column 4 to column 56)\n",
      "\tException: lognormal_lpdf: Scale parameter is inf, but must be positive finite! (in 'stochastic_volatility.stan', line 15, column 4 to column 56)\n",
      "\tException: lognormal_lpdf: Scale parameter is inf, but must be positive finite! (in 'stochastic_volatility.stan', line 15, column 4 to column 56)\n",
      "\tException: lognormal_lpdf: Scale parameter is inf, but must be positive finite! (in 'stochastic_volatility.stan', line 15, column 4 to column 56)\n",
      "\tException: lognormal_lpdf: Scale parameter is inf, but must be positive finite! (in 'stochastic_volatility.stan', line 15, column 4 to column 56)\n",
      "\tException: lognormal_lpdf: Scale parameter is inf, but must be positive finite! (in 'stochastic_volatility.stan', line 15, column 4 to column 56)\n",
      "Exception: lognormal_lpdf: Scale parameter is inf, but must be positive finite! (in 'stochastic_volatility.stan', line 15, column 4 to column 56)\n",
      "Exception: lognormal_lpdf: Scale parameter is inf, but must be positive finite! (in 'stochastic_volatility.stan', line 15, column 4 to column 56)\n",
      "\tException: lognormal_lpdf: Scale parameter is inf, but must be positive finite! (in 'stochastic_volatility.stan', line 15, column 4 to column 56)\n",
      "\tException: lognormal_lpdf: Scale parameter is inf, but must be positive finite! (in 'stochastic_volatility.stan', line 15, column 4 to column 56)\n",
      "\tException: lognormal_lpdf: Scale parameter is inf, but must be positive finite! (in 'stochastic_volatility.stan', line 15, column 4 to column 56)\n",
      "Exception: lognormal_lpdf: Scale parameter is -nan, but must be positive finite! (in 'stochastic_volatility.stan', line 15, column 4 to column 56)\n",
      "Exception: lognormal_lpdf: Scale parameter is -nan, but must be positive finite! (in 'stochastic_volatility.stan', line 15, column 4 to column 56)\n",
      "Exception: lognormal_lpdf: Scale parameter is inf, but must be positive finite! (in 'stochastic_volatility.stan', line 15, column 4 to column 56)\n",
      "\tException: lognormal_lpdf: Scale parameter is inf, but must be positive finite! (in 'stochastic_volatility.stan', line 15, column 4 to column 56)\n",
      "\tException: lognormal_lpdf: Scale parameter is inf, but must be positive finite! (in 'stochastic_volatility.stan', line 15, column 4 to column 56)\n",
      "Exception: lognormal_lpdf: Scale parameter is inf, but must be positive finite! (in 'stochastic_volatility.stan', line 15, column 4 to column 56)\n",
      "\tException: lognormal_lpdf: Scale parameter is inf, but must be positive finite! (in 'stochastic_volatility.stan', line 15, column 4 to column 56)\n",
      "\tException: lognormal_lpdf: Scale parameter is inf, but must be positive finite! (in 'stochastic_volatility.stan', line 15, column 4 to column 56)\n",
      "\tException: lognormal_lpdf: Scale parameter is inf, but must be positive finite! (in 'stochastic_volatility.stan', line 15, column 4 to column 56)\n",
      "\tException: lognormal_lpdf: Scale parameter is inf, but must be positive finite! (in 'stochastic_volatility.stan', line 15, column 4 to column 56)\n",
      "\tException: lognormal_lpdf: Scale parameter is inf, but must be positive finite! (in 'stochastic_volatility.stan', line 15, column 4 to column 56)\n",
      "Exception: lognormal_lpdf: Scale parameter is inf, but must be positive finite! (in 'stochastic_volatility.stan', line 15, column 4 to column 56)\n",
      "Exception: lognormal_lpdf: Scale parameter is inf, but must be positive finite! (in 'stochastic_volatility.stan', line 15, column 4 to column 56)\n",
      "\tException: lognormal_lpdf: Scale parameter is inf, but must be positive finite! (in 'stochastic_volatility.stan', line 15, column 4 to column 56)\n",
      "\tException: lognormal_lpdf: Scale parameter is inf, but must be positive finite! (in 'stochastic_volatility.stan', line 15, column 4 to column 56)\n",
      "\tException: lognormal_lpdf: Scale parameter is inf, but must be positive finite! (in 'stochastic_volatility.stan', line 15, column 4 to column 56)\n",
      "\tException: lognormal_lpdf: Scale parameter is inf, but must be positive finite! (in 'stochastic_volatility.stan', line 15, column 4 to column 56)\n",
      "\tException: lognormal_lpdf: Scale parameter is inf, but must be positive finite! (in 'stochastic_volatility.stan', line 15, column 4 to column 56)\n",
      "Exception: lognormal_lpdf: Scale parameter is inf, but must be positive finite! (in 'stochastic_volatility.stan', line 15, column 4 to column 56)\n",
      "\tException: lognormal_lpdf: Scale parameter is inf, but must be positive finite! (in 'stochastic_volatility.stan', line 15, column 4 to column 56)\n",
      "\tException: lognormal_lpdf: Scale parameter is inf, but must be positive finite! (in 'stochastic_volatility.stan', line 15, column 4 to column 56)\n",
      "\tException: lognormal_lpdf: Scale parameter is inf, but must be positive finite! (in 'stochastic_volatility.stan', line 15, column 4 to column 56)\n",
      "Exception: lognormal_lpdf: Scale parameter is inf, but must be positive finite! (in 'stochastic_volatility.stan', line 15, column 4 to column 56)\n",
      "\tException: lognormal_lpdf: Scale parameter is inf, but must be positive finite! (in 'stochastic_volatility.stan', line 15, column 4 to column 56)\n",
      "\tException: lognormal_lpdf: Scale parameter is inf, but must be positive finite! (in 'stochastic_volatility.stan', line 15, column 4 to column 56)\n",
      "\tException: lognormal_lpdf: Scale parameter is inf, but must be positive finite! (in 'stochastic_volatility.stan', line 15, column 4 to column 56)\n",
      "\tException: lognormal_lpdf: Scale parameter is inf, but must be positive finite! (in 'stochastic_volatility.stan', line 15, column 4 to column 56)\n",
      "Exception: lognormal_lpdf: Scale parameter is inf, but must be positive finite! (in 'stochastic_volatility.stan', line 15, column 4 to column 56)\n",
      "Exception: lognormal_lpdf: Scale parameter is inf, but must be positive finite! (in 'stochastic_volatility.stan', line 15, column 4 to column 56)\n",
      "\tException: lognormal_lpdf: Scale parameter is inf, but must be positive finite! (in 'stochastic_volatility.stan', line 15, column 4 to column 56)\n",
      "\tException: lognormal_lpdf: Scale parameter is inf, but must be positive finite! (in 'stochastic_volatility.stan', line 15, column 4 to column 56)\n",
      "\tException: lognormal_lpdf: Scale parameter is inf, but must be positive finite! (in 'stochastic_volatility.stan', line 15, column 4 to column 56)\n",
      "\tException: lognormal_lpdf: Scale parameter is inf, but must be positive finite! (in 'stochastic_volatility.stan', line 15, column 4 to column 56)\n",
      "\tException: lognormal_lpdf: Scale parameter is inf, but must be positive finite! (in 'stochastic_volatility.stan', line 15, column 4 to column 56)\n",
      "Exception: lognormal_lpdf: Scale parameter is inf, but must be positive finite! (in 'stochastic_volatility.stan', line 15, column 4 to column 56)\n",
      "\tException: lognormal_lpdf: Scale parameter is inf, but must be positive finite! (in 'stochastic_volatility.stan', line 15, column 4 to column 56)\n",
      "\tException: lognormal_lpdf: Scale parameter is -nan, but must be positive finite! (in 'stochastic_volatility.stan', line 15, column 4 to column 56)\n",
      "Exception: lognormal_lpdf: Scale parameter is inf, but must be positive finite! (in 'stochastic_volatility.stan', line 15, column 4 to column 56)\n",
      "Exception: lognormal_lpdf: Scale parameter is inf, but must be positive finite! (in 'stochastic_volatility.stan', line 15, column 4 to column 56)\n",
      "\tException: lognormal_lpdf: Scale parameter is inf, but must be positive finite! (in 'stochastic_volatility.stan', line 15, column 4 to column 56)\n",
      "\tException: lognormal_lpdf: Scale parameter is inf, but must be positive finite! (in 'stochastic_volatility.stan', line 15, column 4 to column 56)\n",
      "Exception: lognormal_lpdf: Scale parameter is inf, but must be positive finite! (in 'stochastic_volatility.stan', line 15, column 4 to column 56)\n",
      "\tException: lognormal_lpdf: Scale parameter is inf, but must be positive finite! (in 'stochastic_volatility.stan', line 15, column 4 to column 56)\n",
      "\tException: lognormal_lpdf: Scale parameter is inf, but must be positive finite! (in 'stochastic_volatility.stan', line 15, column 4 to column 56)\n",
      "\tException: lognormal_lpdf: Scale parameter is inf, but must be positive finite! (in 'stochastic_volatility.stan', line 15, column 4 to column 56)\n",
      "\tException: lognormal_lpdf: Scale parameter is inf, but must be positive finite! (in 'stochastic_volatility.stan', line 15, column 4 to column 56)\n",
      "Exception: lognormal_lpdf: Scale parameter is -nan, but must be positive finite! (in 'stochastic_volatility.stan', line 15, column 4 to column 56)\n",
      "Exception: lognormal_lpdf: Scale parameter is inf, but must be positive finite! (in 'stochastic_volatility.stan', line 15, column 4 to column 56)\n",
      "\tException: lognormal_lpdf: Scale parameter is inf, but must be positive finite! (in 'stochastic_volatility.stan', line 15, column 4 to column 56)\n",
      "\tException: lognormal_lpdf: Scale parameter is inf, but must be positive finite! (in 'stochastic_volatility.stan', line 15, column 4 to column 56)\n",
      "\tException: lognormal_lpdf: Scale parameter is -nan, but must be positive finite! (in 'stochastic_volatility.stan', line 15, column 4 to column 56)\n",
      "Exception: lognormal_lpdf: Scale parameter is inf, but must be positive finite! (in 'stochastic_volatility.stan', line 15, column 4 to column 56)\n",
      "\tException: lognormal_lpdf: Scale parameter is inf, but must be positive finite! (in 'stochastic_volatility.stan', line 15, column 4 to column 56)\n",
      "\tException: lognormal_lpdf: Scale parameter is inf, but must be positive finite! (in 'stochastic_volatility.stan', line 15, column 4 to column 56)\n",
      "Exception: lognormal_lpdf: Scale parameter is inf, but must be positive finite! (in 'stochastic_volatility.stan', line 15, column 4 to column 56)\n",
      "\tException: lognormal_lpdf: Scale parameter is inf, but must be positive finite! (in 'stochastic_volatility.stan', line 15, column 4 to column 56)\n",
      "\tException: lognormal_lpdf: Scale parameter is inf, but must be positive finite! (in 'stochastic_volatility.stan', line 15, column 4 to column 56)\n",
      "\tException: lognormal_lpdf: Scale parameter is inf, but must be positive finite! (in 'stochastic_volatility.stan', line 15, column 4 to column 56)\n",
      "\tException: lognormal_lpdf: Scale parameter is inf, but must be positive finite! (in 'stochastic_volatility.stan', line 15, column 4 to column 56)\n",
      "\tException: lognormal_lpdf: Scale parameter is inf, but must be positive finite! (in 'stochastic_volatility.stan', line 15, column 4 to column 56)\n",
      "Exception: lognormal_lpdf: Scale parameter is inf, but must be positive finite! (in 'stochastic_volatility.stan', line 15, column 4 to column 56)\n",
      "\tException: lognormal_lpdf: Scale parameter is inf, but must be positive finite! (in 'stochastic_volatility.stan', line 15, column 4 to column 56)\n",
      "\tException: lognormal_lpdf: Scale parameter is inf, but must be positive finite! (in 'stochastic_volatility.stan', line 15, column 4 to column 56)\n",
      "\tException: lognormal_lpdf: Scale parameter is inf, but must be positive finite! (in 'stochastic_volatility.stan', line 15, column 4 to column 56)\n",
      "\tException: lognormal_lpdf: Scale parameter is inf, but must be positive finite! (in 'stochastic_volatility.stan', line 15, column 4 to column 56)\n",
      "\tException: lognormal_lpdf: Scale parameter is inf, but must be positive finite! (in 'stochastic_volatility.stan', line 15, column 4 to column 56)\n",
      "\tException: lognormal_lpdf: Scale parameter is inf, but must be positive finite! (in 'stochastic_volatility.stan', line 15, column 4 to column 56)\n",
      "Exception: lognormal_lpdf: Scale parameter is -nan, but must be positive finite! (in 'stochastic_volatility.stan', line 15, column 4 to column 56)\n",
      "Exception: lognormal_lpdf: Scale parameter is inf, but must be positive finite! (in 'stochastic_volatility.stan', line 15, column 4 to column 56)\n",
      "Exception: lognormal_lpdf: Scale parameter is inf, but must be positive finite! (in 'stochastic_volatility.stan', line 15, column 4 to column 56)\n",
      "\tException: lognormal_lpdf: Scale parameter is inf, but must be positive finite! (in 'stochastic_volatility.stan', line 15, column 4 to column 56)\n",
      "\tException: lognormal_lpdf: Scale parameter is inf, but must be positive finite! (in 'stochastic_volatility.stan', line 15, column 4 to column 56)\n",
      "\tException: lognormal_lpdf: Scale parameter is inf, but must be positive finite! (in 'stochastic_volatility.stan', line 15, column 4 to column 56)\n",
      "\tException: lognormal_lpdf: Scale parameter is inf, but must be positive finite! (in 'stochastic_volatility.stan', line 15, column 4 to column 56)\n",
      "\tException: lognormal_lpdf: Scale parameter is inf, but must be positive finite! (in 'stochastic_volatility.stan', line 15, column 4 to column 56)\n",
      "\tException: lognormal_lpdf: Scale parameter is inf, but must be positive finite! (in 'stochastic_volatility.stan', line 15, column 4 to column 56)\n",
      "Exception: lognormal_lpdf: Scale parameter is -nan, but must be positive finite! (in 'stochastic_volatility.stan', line 15, column 4 to column 56)\n",
      "Exception: lognormal_lpdf: Scale parameter is inf, but must be positive finite! (in 'stochastic_volatility.stan', line 15, column 4 to column 56)\n",
      "\tException: lognormal_lpdf: Scale parameter is inf, but must be positive finite! (in 'stochastic_volatility.stan', line 15, column 4 to column 56)\n",
      "\tException: lognormal_lpdf: Scale parameter is inf, but must be positive finite! (in 'stochastic_volatility.stan', line 15, column 4 to column 56)\n",
      "\tException: lognormal_lpdf: Scale parameter is inf, but must be positive finite! (in 'stochastic_volatility.stan', line 15, column 4 to column 56)\n",
      "\tException: lognormal_lpdf: Scale parameter is inf, but must be positive finite! (in 'stochastic_volatility.stan', line 15, column 4 to column 56)\n",
      "\tException: lognormal_lpdf: Scale parameter is inf, but must be positive finite! (in 'stochastic_volatility.stan', line 15, column 4 to column 56)\n",
      "\tException: lognormal_lpdf: Scale parameter is inf, but must be positive finite! (in 'stochastic_volatility.stan', line 15, column 4 to column 56)\n",
      "\tException: lognormal_lpdf: Scale parameter is inf, but must be positive finite! (in 'stochastic_volatility.stan', line 15, column 4 to column 56)\n",
      "Exception: lognormal_lpdf: Scale parameter is inf, but must be positive finite! (in 'stochastic_volatility.stan', line 15, column 4 to column 56)\n",
      "\tException: lognormal_lpdf: Scale parameter is inf, but must be positive finite! (in 'stochastic_volatility.stan', line 15, column 4 to column 56)\n",
      "\tException: lognormal_lpdf: Scale parameter is inf, but must be positive finite! (in 'stochastic_volatility.stan', line 15, column 4 to column 56)\n",
      "\tException: lognormal_lpdf: Scale parameter is inf, but must be positive finite! (in 'stochastic_volatility.stan', line 15, column 4 to column 56)\n",
      "\tException: lognormal_lpdf: Scale parameter is inf, but must be positive finite! (in 'stochastic_volatility.stan', line 15, column 4 to column 56)\n",
      "\tException: lognormal_lpdf: Scale parameter is inf, but must be positive finite! (in 'stochastic_volatility.stan', line 15, column 4 to column 56)\n",
      "Exception: lognormal_lpdf: Scale parameter is inf, but must be positive finite! (in 'stochastic_volatility.stan', line 15, column 4 to column 56)\n",
      "\tException: lognormal_lpdf: Scale parameter is inf, but must be positive finite! (in 'stochastic_volatility.stan', line 15, column 4 to column 56)\n",
      "\tException: lognormal_lpdf: Scale parameter is inf, but must be positive finite! (in 'stochastic_volatility.stan', line 15, column 4 to column 56)\n",
      "\tException: lognormal_lpdf: Scale parameter is inf, but must be positive finite! (in 'stochastic_volatility.stan', line 15, column 4 to column 56)\n",
      "\tException: lognormal_lpdf: Scale parameter is inf, but must be positive finite! (in 'stochastic_volatility.stan', line 15, column 4 to column 56)\n",
      "\tException: lognormal_lpdf: Scale parameter is inf, but must be positive finite! (in 'stochastic_volatility.stan', line 15, column 4 to column 56)\n",
      "\tException: lognormal_lpdf: Scale parameter is inf, but must be positive finite! (in 'stochastic_volatility.stan', line 15, column 4 to column 56)\n",
      "\tException: lognormal_lpdf: Scale parameter is inf, but must be positive finite! (in 'stochastic_volatility.stan', line 15, column 4 to column 56)\n",
      "Exception: lognormal_lpdf: Scale parameter is inf, but must be positive finite! (in 'stochastic_volatility.stan', line 15, column 4 to column 56)\n",
      "\tException: lognormal_lpdf: Scale parameter is inf, but must be positive finite! (in 'stochastic_volatility.stan', line 15, column 4 to column 56)\n",
      "\tException: lognormal_lpdf: Scale parameter is inf, but must be positive finite! (in 'stochastic_volatility.stan', line 15, column 4 to column 56)\n",
      "\tException: lognormal_lpdf: Scale parameter is inf, but must be positive finite! (in 'stochastic_volatility.stan', line 15, column 4 to column 56)\n",
      "\tException: lognormal_lpdf: Scale parameter is inf, but must be positive finite! (in 'stochastic_volatility.stan', line 15, column 4 to column 56)\n",
      "\tException: lognormal_lpdf: Scale parameter is inf, but must be positive finite! (in 'stochastic_volatility.stan', line 15, column 4 to column 56)\n",
      "Exception: lognormal_lpdf: Scale parameter is inf, but must be positive finite! (in 'stochastic_volatility.stan', line 15, column 4 to column 56)\n",
      "\tException: lognormal_lpdf: Scale parameter is inf, but must be positive finite! (in 'stochastic_volatility.stan', line 15, column 4 to column 56)\n",
      "\tException: lognormal_lpdf: Scale parameter is inf, but must be positive finite! (in 'stochastic_volatility.stan', line 15, column 4 to column 56)\n",
      "\tException: lognormal_lpdf: Scale parameter is inf, but must be positive finite! (in 'stochastic_volatility.stan', line 15, column 4 to column 56)\n",
      "\tException: lognormal_lpdf: Scale parameter is inf, but must be positive finite! (in 'stochastic_volatility.stan', line 15, column 4 to column 56)\n",
      "Exception: lognormal_lpdf: Scale parameter is inf, but must be positive finite! (in 'stochastic_volatility.stan', line 15, column 4 to column 56)\n",
      "Exception: lognormal_lpdf: Scale parameter is inf, but must be positive finite! (in 'stochastic_volatility.stan', line 15, column 4 to column 56)\n",
      "\tException: lognormal_lpdf: Scale parameter is inf, but must be positive finite! (in 'stochastic_volatility.stan', line 15, column 4 to column 56)\n",
      "\tException: lognormal_lpdf: Scale parameter is inf, but must be positive finite! (in 'stochastic_volatility.stan', line 15, column 4 to column 56)\n",
      "\tException: lognormal_lpdf: Scale parameter is inf, but must be positive finite! (in 'stochastic_volatility.stan', line 15, column 4 to column 56)\n",
      "\tException: lognormal_lpdf: Scale parameter is inf, but must be positive finite! (in 'stochastic_volatility.stan', line 15, column 4 to column 56)\n",
      "\tException: lognormal_lpdf: Scale parameter is inf, but must be positive finite! (in 'stochastic_volatility.stan', line 15, column 4 to column 56)\n",
      "\tException: lognormal_lpdf: Scale parameter is inf, but must be positive finite! (in 'stochastic_volatility.stan', line 15, column 4 to column 56)\n",
      "\tException: lognormal_lpdf: Scale parameter is inf, but must be positive finite! (in 'stochastic_volatility.stan', line 15, column 4 to column 56)\n",
      "\tException: lognormal_lpdf: Scale parameter is inf, but must be positive finite! (in 'stochastic_volatility.stan', line 15, column 4 to column 56)\n",
      "Exception: lognormal_lpdf: Scale parameter is inf, but must be positive finite! (in 'stochastic_volatility.stan', line 15, column 4 to column 56)\n",
      "\tException: lognormal_lpdf: Scale parameter is inf, but must be positive finite! (in 'stochastic_volatility.stan', line 15, column 4 to column 56)\n",
      "\tException: lognormal_lpdf: Scale parameter is inf, but must be positive finite! (in 'stochastic_volatility.stan', line 15, column 4 to column 56)\n",
      "\tException: lognormal_lpdf: Scale parameter is inf, but must be positive finite! (in 'stochastic_volatility.stan', line 15, column 4 to column 56)\n",
      "\tException: lognormal_lpdf: Scale parameter is inf, but must be positive finite! (in 'stochastic_volatility.stan', line 15, column 4 to column 56)\n",
      "\tException: lognormal_lpdf: Scale parameter is inf, but must be positive finite! (in 'stochastic_volatility.stan', line 15, column 4 to column 56)\n",
      "\tException: lognormal_lpdf: Scale parameter is inf, but must be positive finite! (in 'stochastic_volatility.stan', line 15, column 4 to column 56)\n",
      "Exception: lognormal_lpdf: Scale parameter is inf, but must be positive finite! (in 'stochastic_volatility.stan', line 15, column 4 to column 56)\n",
      "\tException: lognormal_lpdf: Scale parameter is inf, but must be positive finite! (in 'stochastic_volatility.stan', line 15, column 4 to column 56)\n",
      "\tException: lognormal_lpdf: Scale parameter is inf, but must be positive finite! (in 'stochastic_volatility.stan', line 15, column 4 to column 56)\n",
      "\tException: lognormal_lpdf: Scale parameter is inf, but must be positive finite! (in 'stochastic_volatility.stan', line 15, column 4 to column 56)\n",
      "\tException: lognormal_lpdf: Scale parameter is inf, but must be positive finite! (in 'stochastic_volatility.stan', line 15, column 4 to column 56)\n",
      "\tException: lognormal_lpdf: Scale parameter is inf, but must be positive finite! (in 'stochastic_volatility.stan', line 15, column 4 to column 56)\n",
      "Exception: lognormal_lpdf: Scale parameter is inf, but must be positive finite! (in 'stochastic_volatility.stan', line 15, column 4 to column 56)\n",
      "\tException: lognormal_lpdf: Scale parameter is inf, but must be positive finite! (in 'stochastic_volatility.stan', line 15, column 4 to column 56)\n",
      "\tException: lognormal_lpdf: Scale parameter is -nan, but must be positive finite! (in 'stochastic_volatility.stan', line 15, column 4 to column 56)\n",
      "Exception: lognormal_lpdf: Scale parameter is inf, but must be positive finite! (in 'stochastic_volatility.stan', line 15, column 4 to column 56)\n",
      "\tException: lognormal_lpdf: Scale parameter is inf, but must be positive finite! (in 'stochastic_volatility.stan', line 15, column 4 to column 56)\n",
      "\tException: lognormal_lpdf: Scale parameter is inf, but must be positive finite! (in 'stochastic_volatility.stan', line 15, column 4 to column 56)\n",
      "Exception: lognormal_lpdf: Scale parameter is inf, but must be positive finite! (in 'stochastic_volatility.stan', line 15, column 4 to column 56)\n",
      "Exception: lognormal_lpdf: Scale parameter is -nan, but must be positive finite! (in 'stochastic_volatility.stan', line 15, column 4 to column 56)\n",
      "Exception: lognormal_lpdf: Scale parameter is inf, but must be positive finite! (in 'stochastic_volatility.stan', line 15, column 4 to column 56)\n",
      "\tException: lognormal_lpdf: Scale parameter is inf, but must be positive finite! (in 'stochastic_volatility.stan', line 15, column 4 to column 56)\n",
      "\tException: lognormal_lpdf: Scale parameter is inf, but must be positive finite! (in 'stochastic_volatility.stan', line 15, column 4 to column 56)\n",
      "Exception: lognormal_lpdf: Scale parameter is inf, but must be positive finite! (in 'stochastic_volatility.stan', line 15, column 4 to column 56)\n",
      "\tException: lognormal_lpdf: Scale parameter is inf, but must be positive finite! (in 'stochastic_volatility.stan', line 15, column 4 to column 56)\n",
      "\tException: lognormal_lpdf: Scale parameter is inf, but must be positive finite! (in 'stochastic_volatility.stan', line 15, column 4 to column 56)\n",
      "\tException: lognormal_lpdf: Scale parameter is inf, but must be positive finite! (in 'stochastic_volatility.stan', line 15, column 4 to column 56)\n",
      "\tException: lognormal_lpdf: Scale parameter is inf, but must be positive finite! (in 'stochastic_volatility.stan', line 15, column 4 to column 56)\n",
      "\tException: lognormal_lpdf: Scale parameter is inf, but must be positive finite! (in 'stochastic_volatility.stan', line 15, column 4 to column 56)\n",
      "\tException: lognormal_lpdf: Scale parameter is inf, but must be positive finite! (in 'stochastic_volatility.stan', line 15, column 4 to column 56)\n",
      "Exception: lognormal_lpdf: Scale parameter is inf, but must be positive finite! (in 'stochastic_volatility.stan', line 15, column 4 to column 56)\n",
      "\tException: lognormal_lpdf: Scale parameter is inf, but must be positive finite! (in 'stochastic_volatility.stan', line 15, column 4 to column 56)\n",
      "\tException: lognormal_lpdf: Scale parameter is inf, but must be positive finite! (in 'stochastic_volatility.stan', line 15, column 4 to column 56)\n",
      "\tException: lognormal_lpdf: Scale parameter is inf, but must be positive finite! (in 'stochastic_volatility.stan', line 15, column 4 to column 56)\n",
      "\tException: lognormal_lpdf: Scale parameter is inf, but must be positive finite! (in 'stochastic_volatility.stan', line 15, column 4 to column 56)\n",
      "\tException: lognormal_lpdf: Scale parameter is inf, but must be positive finite! (in 'stochastic_volatility.stan', line 15, column 4 to column 56)\n",
      "\tException: lognormal_lpdf: Scale parameter is inf, but must be positive finite! (in 'stochastic_volatility.stan', line 15, column 4 to column 56)\n",
      "Exception: lognormal_lpdf: Scale parameter is inf, but must be positive finite! (in 'stochastic_volatility.stan', line 15, column 4 to column 56)\n",
      "\tException: lognormal_lpdf: Scale parameter is inf, but must be positive finite! (in 'stochastic_volatility.stan', line 15, column 4 to column 56)\n",
      "\tException: lognormal_lpdf: Scale parameter is inf, but must be positive finite! (in 'stochastic_volatility.stan', line 15, column 4 to column 56)\n",
      "\tException: lognormal_lpdf: Scale parameter is inf, but must be positive finite! (in 'stochastic_volatility.stan', line 15, column 4 to column 56)\n",
      "\tException: lognormal_lpdf: Scale parameter is inf, but must be positive finite! (in 'stochastic_volatility.stan', line 15, column 4 to column 56)\n",
      "\tException: lognormal_lpdf: Scale parameter is inf, but must be positive finite! (in 'stochastic_volatility.stan', line 15, column 4 to column 56)\n",
      "Exception: lognormal_lpdf: Scale parameter is -nan, but must be positive finite! (in 'stochastic_volatility.stan', line 15, column 4 to column 56)\n",
      "Exception: lognormal_lpdf: Scale parameter is inf, but must be positive finite! (in 'stochastic_volatility.stan', line 15, column 4 to column 56)\n",
      "\tException: lognormal_lpdf: Scale parameter is inf, but must be positive finite! (in 'stochastic_volatility.stan', line 15, column 4 to column 56)\n",
      "\tException: lognormal_lpdf: Scale parameter is inf, but must be positive finite! (in 'stochastic_volatility.stan', line 15, column 4 to column 56)\n",
      "\tException: lognormal_lpdf: Scale parameter is -nan, but must be positive finite! (in 'stochastic_volatility.stan', line 15, column 4 to column 56)\n",
      "Exception: lognormal_lpdf: Scale parameter is inf, but must be positive finite! (in 'stochastic_volatility.stan', line 15, column 4 to column 56)\n",
      "\tException: lognormal_lpdf: Scale parameter is inf, but must be positive finite! (in 'stochastic_volatility.stan', line 15, column 4 to column 56)\n",
      "\tException: lognormal_lpdf: Scale parameter is inf, but must be positive finite! (in 'stochastic_volatility.stan', line 15, column 4 to column 56)\n",
      "Exception: lognormal_lpdf: Scale parameter is inf, but must be positive finite! (in 'stochastic_volatility.stan', line 15, column 4 to column 56)\n",
      "\tException: lognormal_lpdf: Scale parameter is inf, but must be positive finite! (in 'stochastic_volatility.stan', line 15, column 4 to column 56)\n",
      "\tException: lognormal_lpdf: Scale parameter is inf, but must be positive finite! (in 'stochastic_volatility.stan', line 15, column 4 to column 56)\n",
      "\tException: lognormal_lpdf: Scale parameter is inf, but must be positive finite! (in 'stochastic_volatility.stan', line 15, column 4 to column 56)\n",
      "Exception: lognormal_lpdf: Scale parameter is inf, but must be positive finite! (in 'stochastic_volatility.stan', line 15, column 4 to column 56)\n",
      "\tException: lognormal_lpdf: Scale parameter is inf, but must be positive finite! (in 'stochastic_volatility.stan', line 15, column 4 to column 56)\n",
      "\tException: lognormal_lpdf: Scale parameter is inf, but must be positive finite! (in 'stochastic_volatility.stan', line 15, column 4 to column 56)\n",
      "\tException: lognormal_lpdf: Scale parameter is inf, but must be positive finite! (in 'stochastic_volatility.stan', line 15, column 4 to column 56)\n",
      "Exception: lognormal_lpdf: Scale parameter is -nan, but must be positive finite! (in 'stochastic_volatility.stan', line 15, column 4 to column 56)\n",
      "Exception: lognormal_lpdf: Scale parameter is inf, but must be positive finite! (in 'stochastic_volatility.stan', line 15, column 4 to column 56)\n",
      "\tException: lognormal_lpdf: Scale parameter is inf, but must be positive finite! (in 'stochastic_volatility.stan', line 15, column 4 to column 56)\n",
      "\tException: lognormal_lpdf: Scale parameter is inf, but must be positive finite! (in 'stochastic_volatility.stan', line 15, column 4 to column 56)\n",
      "\tException: lognormal_lpdf: Scale parameter is inf, but must be positive finite! (in 'stochastic_volatility.stan', line 15, column 4 to column 56)\n",
      "\tException: lognormal_lpdf: Scale parameter is inf, but must be positive finite! (in 'stochastic_volatility.stan', line 15, column 4 to column 56)\n",
      "\tException: lognormal_lpdf: Scale parameter is inf, but must be positive finite! (in 'stochastic_volatility.stan', line 15, column 4 to column 56)\n",
      "\tException: lognormal_lpdf: Scale parameter is inf, but must be positive finite! (in 'stochastic_volatility.stan', line 15, column 4 to column 56)\n",
      "Exception: lognormal_lpdf: Scale parameter is inf, but must be positive finite! (in 'stochastic_volatility.stan', line 15, column 4 to column 56)\n",
      "Exception: lognormal_lpdf: Scale parameter is -nan, but must be positive finite! (in 'stochastic_volatility.stan', line 15, column 4 to column 56)\n",
      "Exception: lognormal_lpdf: Scale parameter is inf, but must be positive finite! (in 'stochastic_volatility.stan', line 15, column 4 to column 56)\n",
      "\tException: lognormal_lpdf: Scale parameter is inf, but must be positive finite! (in 'stochastic_volatility.stan', line 15, column 4 to column 56)\n",
      "\tException: lognormal_lpdf: Scale parameter is inf, but must be positive finite! (in 'stochastic_volatility.stan', line 15, column 4 to column 56)\n",
      "\tException: lognormal_lpdf: Scale parameter is inf, but must be positive finite! (in 'stochastic_volatility.stan', line 15, column 4 to column 56)\n",
      "\tException: lognormal_lpdf: Scale parameter is inf, but must be positive finite! (in 'stochastic_volatility.stan', line 15, column 4 to column 56)\n",
      "\tException: lognormal_lpdf: Scale parameter is inf, but must be positive finite! (in 'stochastic_volatility.stan', line 15, column 4 to column 56)\n",
      "\tException: lognormal_lpdf: Scale parameter is inf, but must be positive finite! (in 'stochastic_volatility.stan', line 15, column 4 to column 56)\n",
      "Exception: lognormal_lpdf: Scale parameter is inf, but must be positive finite! (in 'stochastic_volatility.stan', line 15, column 4 to column 56)\n",
      "\tException: lognormal_lpdf: Scale parameter is inf, but must be positive finite! (in 'stochastic_volatility.stan', line 15, column 4 to column 56)\n",
      "\tException: lognormal_lpdf: Scale parameter is inf, but must be positive finite! (in 'stochastic_volatility.stan', line 15, column 4 to column 56)\n",
      "Exception: lognormal_lpdf: Scale parameter is inf, but must be positive finite! (in 'stochastic_volatility.stan', line 15, column 4 to column 56)\n",
      "\tException: lognormal_lpdf: Scale parameter is inf, but must be positive finite! (in 'stochastic_volatility.stan', line 15, column 4 to column 56)\n",
      "\tException: lognormal_lpdf: Scale parameter is inf, but must be positive finite! (in 'stochastic_volatility.stan', line 15, column 4 to column 56)\n",
      "\tException: lognormal_lpdf: Scale parameter is inf, but must be positive finite! (in 'stochastic_volatility.stan', line 15, column 4 to column 56)\n",
      "\tException: lognormal_lpdf: Scale parameter is inf, but must be positive finite! (in 'stochastic_volatility.stan', line 15, column 4 to column 56)\n",
      "\tException: lognormal_lpdf: Scale parameter is inf, but must be positive finite! (in 'stochastic_volatility.stan', line 15, column 4 to column 56)\n",
      "Exception: lognormal_lpdf: Scale parameter is inf, but must be positive finite! (in 'stochastic_volatility.stan', line 15, column 4 to column 56)\n",
      "\tException: lognormal_lpdf: Scale parameter is inf, but must be positive finite! (in 'stochastic_volatility.stan', line 15, column 4 to column 56)\n",
      "\tException: lognormal_lpdf: Scale parameter is inf, but must be positive finite! (in 'stochastic_volatility.stan', line 15, column 4 to column 56)\n",
      "\tException: lognormal_lpdf: Scale parameter is inf, but must be positive finite! (in 'stochastic_volatility.stan', line 15, column 4 to column 56)\n",
      "\tException: lognormal_lpdf: Scale parameter is inf, but must be positive finite! (in 'stochastic_volatility.stan', line 15, column 4 to column 56)\n",
      "\tException: lognormal_lpdf: Scale parameter is inf, but must be positive finite! (in 'stochastic_volatility.stan', line 15, column 4 to column 56)\n",
      "Exception: lognormal_lpdf: Scale parameter is inf, but must be positive finite! (in 'stochastic_volatility.stan', line 15, column 4 to column 56)\n",
      "Exception: lognormal_lpdf: Scale parameter is -nan, but must be positive finite! (in 'stochastic_volatility.stan', line 15, column 4 to column 56)\n",
      "Exception: lognormal_lpdf: Scale parameter is inf, but must be positive finite! (in 'stochastic_volatility.stan', line 15, column 4 to column 56)\n",
      "\tException: lognormal_lpdf: Scale parameter is inf, but must be positive finite! (in 'stochastic_volatility.stan', line 15, column 4 to column 56)\n",
      "\tException: lognormal_lpdf: Scale parameter is -nan, but must be positive finite! (in 'stochastic_volatility.stan', line 15, column 4 to column 56)\n",
      "Exception: lognormal_lpdf: Scale parameter is inf, but must be positive finite! (in 'stochastic_volatility.stan', line 15, column 4 to column 56)\n",
      "\tException: lognormal_lpdf: Scale parameter is inf, but must be positive finite! (in 'stochastic_volatility.stan', line 15, column 4 to column 56)\n",
      "\tException: lognormal_lpdf: Scale parameter is inf, but must be positive finite! (in 'stochastic_volatility.stan', line 15, column 4 to column 56)\n",
      "\tException: lognormal_lpdf: Scale parameter is inf, but must be positive finite! (in 'stochastic_volatility.stan', line 15, column 4 to column 56)\n",
      "\tException: lognormal_lpdf: Scale parameter is inf, but must be positive finite! (in 'stochastic_volatility.stan', line 15, column 4 to column 56)\n",
      "Exception: lognormal_lpdf: Scale parameter is -nan, but must be positive finite! (in 'stochastic_volatility.stan', line 15, column 4 to column 56)\n",
      "Exception: lognormal_lpdf: Scale parameter is inf, but must be positive finite! (in 'stochastic_volatility.stan', line 15, column 4 to column 56)\n",
      "\tException: lognormal_lpdf: Scale parameter is inf, but must be positive finite! (in 'stochastic_volatility.stan', line 15, column 4 to column 56)\n",
      "\tException: lognormal_lpdf: Scale parameter is inf, but must be positive finite! (in 'stochastic_volatility.stan', line 15, column 4 to column 56)\n",
      "\tException: lognormal_lpdf: Scale parameter is inf, but must be positive finite! (in 'stochastic_volatility.stan', line 15, column 4 to column 56)\n",
      "\tException: lognormal_lpdf: Scale parameter is inf, but must be positive finite! (in 'stochastic_volatility.stan', line 15, column 4 to column 56)\n",
      "Exception: lognormal_lpdf: Scale parameter is inf, but must be positive finite! (in 'stochastic_volatility.stan', line 15, column 4 to column 56)\n",
      "\tException: lognormal_lpdf: Scale parameter is inf, but must be positive finite! (in 'stochastic_volatility.stan', line 15, column 4 to column 56)\n",
      "\tException: lognormal_lpdf: Scale parameter is inf, but must be positive finite! (in 'stochastic_volatility.stan', line 15, column 4 to column 56)\n",
      "\tException: lognormal_lpdf: Scale parameter is inf, but must be positive finite! (in 'stochastic_volatility.stan', line 15, column 4 to column 56)\n",
      "\tException: lognormal_lpdf: Scale parameter is inf, but must be positive finite! (in 'stochastic_volatility.stan', line 15, column 4 to column 56)\n",
      "\tException: lognormal_lpdf: Scale parameter is inf, but must be positive finite! (in 'stochastic_volatility.stan', line 15, column 4 to column 56)\n",
      "\tException: lognormal_lpdf: Scale parameter is inf, but must be positive finite! (in 'stochastic_volatility.stan', line 15, column 4 to column 56)\n",
      "\tException: lognormal_lpdf: Scale parameter is inf, but must be positive finite! (in 'stochastic_volatility.stan', line 15, column 4 to column 56)\n",
      "\tException: lognormal_lpdf: Scale parameter is inf, but must be positive finite! (in 'stochastic_volatility.stan', line 15, column 4 to column 56)\n",
      "\tException: lognormal_lpdf: Scale parameter is inf, but must be positive finite! (in 'stochastic_volatility.stan', line 15, column 4 to column 56)\n",
      "Exception: lognormal_lpdf: Scale parameter is inf, but must be positive finite! (in 'stochastic_volatility.stan', line 15, column 4 to column 56)\n",
      "\tException: lognormal_lpdf: Scale parameter is inf, but must be positive finite! (in 'stochastic_volatility.stan', line 15, column 4 to column 56)\n",
      "\tException: lognormal_lpdf: Scale parameter is inf, but must be positive finite! (in 'stochastic_volatility.stan', line 15, column 4 to column 56)\n",
      "\tException: lognormal_lpdf: Scale parameter is inf, but must be positive finite! (in 'stochastic_volatility.stan', line 15, column 4 to column 56)\n",
      "\tException: lognormal_lpdf: Scale parameter is inf, but must be positive finite! (in 'stochastic_volatility.stan', line 15, column 4 to column 56)\n",
      "\tException: lognormal_lpdf: Scale parameter is inf, but must be positive finite! (in 'stochastic_volatility.stan', line 15, column 4 to column 56)\n",
      "\tException: lognormal_lpdf: Scale parameter is inf, but must be positive finite! (in 'stochastic_volatility.stan', line 15, column 4 to column 56)\n",
      "\tException: lognormal_lpdf: Scale parameter is inf, but must be positive finite! (in 'stochastic_volatility.stan', line 15, column 4 to column 56)\n",
      "Exception: lognormal_lpdf: Scale parameter is inf, but must be positive finite! (in 'stochastic_volatility.stan', line 15, column 4 to column 56)\n",
      "\tException: lognormal_lpdf: Scale parameter is inf, but must be positive finite! (in 'stochastic_volatility.stan', line 15, column 4 to column 56)\n",
      "\tException: lognormal_lpdf: Scale parameter is inf, but must be positive finite! (in 'stochastic_volatility.stan', line 15, column 4 to column 56)\n",
      "\tException: lognormal_lpdf: Scale parameter is inf, but must be positive finite! (in 'stochastic_volatility.stan', line 15, column 4 to column 56)\n",
      "\tException: lognormal_lpdf: Scale parameter is inf, but must be positive finite! (in 'stochastic_volatility.stan', line 15, column 4 to column 56)\n",
      "\tException: lognormal_lpdf: Scale parameter is inf, but must be positive finite! (in 'stochastic_volatility.stan', line 15, column 4 to column 56)\n",
      "Exception: lognormal_lpdf: Scale parameter is inf, but must be positive finite! (in 'stochastic_volatility.stan', line 15, column 4 to column 56)\n",
      "Exception: lognormal_lpdf: Scale parameter is inf, but must be positive finite! (in 'stochastic_volatility.stan', line 15, column 4 to column 56)\n",
      "Exception: lognormal_lpdf: Scale parameter is inf, but must be positive finite! (in 'stochastic_volatility.stan', line 15, column 4 to column 56)\n",
      "Exception: lognormal_lpdf: Scale parameter is inf, but must be positive finite! (in 'stochastic_volatility.stan', line 15, column 4 to column 56)\n",
      "\tException: lognormal_lpdf: Scale parameter is inf, but must be positive finite! (in 'stochastic_volatility.stan', line 15, column 4 to column 56)\n",
      "\tException: lognormal_lpdf: Scale parameter is inf, but must be positive finite! (in 'stochastic_volatility.stan', line 15, column 4 to column 56)\n",
      "\tException: lognormal_lpdf: Scale parameter is inf, but must be positive finite! (in 'stochastic_volatility.stan', line 15, column 4 to column 56)\n",
      "\tException: lognormal_lpdf: Scale parameter is inf, but must be positive finite! (in 'stochastic_volatility.stan', line 15, column 4 to column 56)\n",
      "\tException: lognormal_lpdf: Scale parameter is inf, but must be positive finite! (in 'stochastic_volatility.stan', line 15, column 4 to column 56)\n",
      "Exception: lognormal_lpdf: Scale parameter is inf, but must be positive finite! (in 'stochastic_volatility.stan', line 15, column 4 to column 56)\n",
      "\tException: lognormal_lpdf: Scale parameter is inf, but must be positive finite! (in 'stochastic_volatility.stan', line 15, column 4 to column 56)\n",
      "\tException: lognormal_lpdf: Scale parameter is inf, but must be positive finite! (in 'stochastic_volatility.stan', line 15, column 4 to column 56)\n",
      "\tException: lognormal_lpdf: Scale parameter is inf, but must be positive finite! (in 'stochastic_volatility.stan', line 15, column 4 to column 56)\n",
      "\tException: lognormal_lpdf: Scale parameter is inf, but must be positive finite! (in 'stochastic_volatility.stan', line 15, column 4 to column 56)\n",
      "\tException: lognormal_lpdf: Scale parameter is inf, but must be positive finite! (in 'stochastic_volatility.stan', line 15, column 4 to column 56)\n",
      "\tException: lognormal_lpdf: Scale parameter is inf, but must be positive finite! (in 'stochastic_volatility.stan', line 15, column 4 to column 56)\n",
      "Exception: lognormal_lpdf: Scale parameter is inf, but must be positive finite! (in 'stochastic_volatility.stan', line 15, column 4 to column 56)\n",
      "\tException: lognormal_lpdf: Scale parameter is inf, but must be positive finite! (in 'stochastic_volatility.stan', line 15, column 4 to column 56)\n",
      "\tException: lognormal_lpdf: Scale parameter is inf, but must be positive finite! (in 'stochastic_volatility.stan', line 15, column 4 to column 56)\n",
      "Exception: lognormal_lpdf: Scale parameter is inf, but must be positive finite! (in 'stochastic_volatility.stan', line 15, column 4 to column 56)\n",
      "Exception: lognormal_lpdf: Scale parameter is inf, but must be positive finite! (in 'stochastic_volatility.stan', line 15, column 4 to column 56)\n",
      "\tException: lognormal_lpdf: Scale parameter is inf, but must be positive finite! (in 'stochastic_volatility.stan', line 15, column 4 to column 56)\n",
      "\tException: lognormal_lpdf: Scale parameter is inf, but must be positive finite! (in 'stochastic_volatility.stan', line 15, column 4 to column 56)\n",
      "\tException: lognormal_lpdf: Scale parameter is inf, but must be positive finite! (in 'stochastic_volatility.stan', line 15, column 4 to column 56)\n",
      "\tException: lognormal_lpdf: Scale parameter is inf, but must be positive finite! (in 'stochastic_volatility.stan', line 15, column 4 to column 56)\n",
      "\tException: lognormal_lpdf: Scale parameter is inf, but must be positive finite! (in 'stochastic_volatility.stan', line 15, column 4 to column 56)\n",
      "Exception: lognormal_lpdf: Scale parameter is -nan, but must be positive finite! (in 'stochastic_volatility.stan', line 15, column 4 to column 56)\n",
      "Exception: lognormal_lpdf: Scale parameter is inf, but must be positive finite! (in 'stochastic_volatility.stan', line 15, column 4 to column 56)\n",
      "\tException: lognormal_lpdf: Scale parameter is inf, but must be positive finite! (in 'stochastic_volatility.stan', line 15, column 4 to column 56)\n",
      "\tException: lognormal_lpdf: Scale parameter is inf, but must be positive finite! (in 'stochastic_volatility.stan', line 15, column 4 to column 56)\n",
      "\tException: lognormal_lpdf: Scale parameter is inf, but must be positive finite! (in 'stochastic_volatility.stan', line 15, column 4 to column 56)\n",
      "\tException: lognormal_lpdf: Scale parameter is inf, but must be positive finite! (in 'stochastic_volatility.stan', line 15, column 4 to column 56)\n",
      "Exception: lognormal_lpdf: Scale parameter is inf, but must be positive finite! (in 'stochastic_volatility.stan', line 15, column 4 to column 56)\n",
      "\tException: lognormal_lpdf: Scale parameter is inf, but must be positive finite! (in 'stochastic_volatility.stan', line 15, column 4 to column 56)\n",
      "\tException: lognormal_lpdf: Scale parameter is inf, but must be positive finite! (in 'stochastic_volatility.stan', line 15, column 4 to column 56)\n",
      "\tException: lognormal_lpdf: Scale parameter is inf, but must be positive finite! (in 'stochastic_volatility.stan', line 15, column 4 to column 56)\n",
      "\tException: lognormal_lpdf: Scale parameter is inf, but must be positive finite! (in 'stochastic_volatility.stan', line 15, column 4 to column 56)\n",
      "Exception: lognormal_lpdf: Scale parameter is inf, but must be positive finite! (in 'stochastic_volatility.stan', line 15, column 4 to column 56)\n",
      "\tException: lognormal_lpdf: Scale parameter is inf, but must be positive finite! (in 'stochastic_volatility.stan', line 15, column 4 to column 56)\n",
      "\tException: lognormal_lpdf: Scale parameter is inf, but must be positive finite! (in 'stochastic_volatility.stan', line 15, column 4 to column 56)\n",
      "\tException: lognormal_lpdf: Scale parameter is inf, but must be positive finite! (in 'stochastic_volatility.stan', line 15, column 4 to column 56)\n",
      "Consider re-running with show_console=True if the above output is unclear!\n",
      "13:15:25 - cmdstanpy - WARNING - Some chains may have failed to converge.\n",
      "\tChain 4 had 2 divergent transitions (0.0%)\n",
      "\tChain 5 had 13 divergent transitions (0.0%)\n",
      "\tChain 6 had 22 divergent transitions (0.0%)\n",
      "\tChain 7 had 14 divergent transitions (0.0%)\n",
      "\tChain 9 had 8 divergent transitions (0.0%)\n",
      "\tChain 10 had 16 divergent transitions (0.0%)\n",
      "\tChain 16 had 2 divergent transitions (0.0%)\n",
      "\tChain 17 had 2 divergent transitions (0.0%)\n",
      "\tChain 18 had 1 divergent transitions (0.0%)\n",
      "\tChain 19 had 3 divergent transitions (0.0%)\n",
      "\tChain 21 had 2 divergent transitions (0.0%)\n",
      "\tChain 22 had 1 divergent transitions (0.0%)\n",
      "\tChain 24 had 3 divergent transitions (0.0%)\n",
      "\tChain 26 had 2 divergent transitions (0.0%)\n",
      "\tChain 27 had 5 divergent transitions (0.0%)\n",
      "\tChain 28 had 21 divergent transitions (0.0%)\n",
      "\tChain 29 had 12 divergent transitions (0.0%)\n",
      "\tChain 30 had 1 divergent transitions (0.0%)\n",
      "\tChain 31 had 2 divergent transitions (0.0%)\n",
      "\tChain 34 had 1 divergent transitions (0.0%)\n",
      "\tChain 35 had 1 divergent transitions (0.0%)\n",
      "\tChain 36 had 1 divergent transitions (0.0%)\n",
      "\tChain 37 had 1 divergent transitions (0.0%)\n",
      "\tChain 39 had 1 divergent transitions (0.0%)\n",
      "\tChain 44 had 10 divergent transitions (0.0%)\n",
      "\tChain 45 had 2 divergent transitions (0.0%)\n",
      "\tChain 46 had 12 divergent transitions (0.0%)\n",
      "\tChain 50 had 1 divergent transitions (0.0%)\n",
      "\tChain 51 had 1 divergent transitions (0.0%)\n",
      "\tChain 53 had 1 divergent transitions (0.0%)\n",
      "\tChain 55 had 6 divergent transitions (0.0%)\n",
      "\tChain 56 had 3 divergent transitions (0.0%)\n",
      "\tChain 57 had 2 divergent transitions (0.0%)\n",
      "\tChain 58 had 2 divergent transitions (0.0%)\n",
      "\tChain 59 had 8 divergent transitions (0.0%)\n",
      "\tChain 60 had 1 divergent transitions (0.0%)\n",
      "\tChain 61 had 1 divergent transitions (0.0%)\n",
      "\tChain 67 had 2 divergent transitions (0.0%)\n",
      "\tChain 68 had 1 divergent transitions (0.0%)\n",
      "\tChain 71 had 1 divergent transitions (0.0%)\n",
      "\tChain 76 had 7 divergent transitions (0.0%)\n",
      "\tChain 77 had 4 divergent transitions (0.0%)\n",
      "\tChain 78 had 6 divergent transitions (0.0%)\n",
      "\tChain 79 had 4 divergent transitions (0.0%)\n",
      "\tChain 81 had 1 divergent transitions (0.0%)\n",
      "\tChain 82 had 25 divergent transitions (0.0%)\n",
      "\tChain 84 had 2 divergent transitions (0.0%)\n",
      "\tChain 85 had 1 divergent transitions (0.0%)\n",
      "\tChain 87 had 2 divergent transitions (0.0%)\n",
      "\tChain 88 had 2 divergent transitions (0.0%)\n",
      "\tChain 90 had 10 divergent transitions (0.0%)\n",
      "\tChain 92 had 3 divergent transitions (0.0%)\n",
      "\tChain 94 had 7 divergent transitions (0.0%)\n",
      "\tChain 98 had 2 divergent transitions (0.0%)\n",
      "\tChain 100 had 1 divergent transitions (0.0%)\n",
      "\tUse the \"diagnose()\" method on the CmdStanMCMC object to see further information.\n"
     ]
    }
   ],
   "source": [
    "model = CmdStanModel(stan_file=model_path)\n",
    "nuts_output = model.sample(\n",
    "    data=data_path,\n",
    "    iter_sampling=num_samples,\n",
    "    chains=num_chains,\n",
    "    seed=seed,\n",
    "    thin=50,\n",
    "    adapt_delta=0.95,\n",
    ")\n",
    "\n",
    "ref_draws_np = nuts_output.draws()[:, :, 7:] # [draws, chains, params]\n",
    "# convert dimension order to [chains, draws, params]\n",
    "ref_draws_np = np.transpose(ref_draws_np, (1, 0, 2))"
   ]
  },
  {
   "cell_type": "code",
   "execution_count": 5,
   "metadata": {},
   "outputs": [],
   "source": [
    "summary = nuts_output.summary()"
   ]
  },
  {
   "cell_type": "code",
   "execution_count": null,
   "metadata": {},
   "outputs": [],
   "source": [
    "count    5.040000e+02\n",
    "mean     1.995443e+06\n",
    "std      1.092657e+04\n",
    "min      1.834750e+06\n",
    "25%      1.993654e+06\n",
    "50%      1.996816e+06\n",
    "75%      1.999424e+06\n",
    "max      2.008285e+06\n",
    "Name: N_Eff, dtype: float64\n",
    "\n"
   ]
  },
  {
   "cell_type": "code",
   "execution_count": 10,
   "metadata": {},
   "outputs": [
    {
     "name": "stdout",
     "output_type": "stream",
     "text": [
      "count    5.040000e+02\n",
      "mean     1.995443e+06\n",
      "std      1.092657e+04\n",
      "min      1.834750e+06\n",
      "25%      1.993654e+06\n",
      "50%      1.996816e+06\n",
      "75%      1.999424e+06\n",
      "max      2.008285e+06\n",
      "Name: N_Eff, dtype: float64\n"
     ]
    }
   ],
   "source": [
    "summary[\"N_Eff\"].describe()"
   ]
  },
  {
   "cell_type": "markdown",
   "metadata": {},
   "source": [
    "# Save and Format Reference Draws"
   ]
  },
  {
   "cell_type": "code",
   "execution_count": 4,
   "metadata": {},
   "outputs": [],
   "source": [
    "# convert from numpy 3d array to json format\n",
    "num_params = ref_draws_np.shape[-1]\n",
    "param_names = (\n",
    "    [\"mu\", \"phi\", \"sigma\"] + [f\"tau[{i}]\" for i in range(num_params)]\n",
    ")\n",
    "\n",
    "ref_draws = []\n",
    "for chain in ref_draws_np:  # each chain is [n_samples, params_dim]\n",
    "    chain_dict = {}\n",
    "    for name, params in zip(param_names, chain.T):\n",
    "        chain_dict[name] = params.tolist()\n",
    "    ref_draws.append(chain_dict)\n",
    "\n",
    "# save to file\n",
    "with zipfile.ZipFile(f\"{model_name}.ref_draws.json.zip\", mode=\"w\", compression=zipfile.ZIP_DEFLATED, compresslevel=9) as zip_file: \n",
    "    dumped_JSON: str = json.dumps(ref_draws, ensure_ascii=False, indent=4)\n",
    "    zip_file.writestr(f\"{model_name}.ref_draws.json\", data=dumped_JSON)"
   ]
  }
 ],
 "metadata": {
  "kernelspec": {
   "display_name": "drghmc",
   "language": "python",
   "name": "python3"
  },
  "language_info": {
   "codemirror_mode": {
    "name": "ipython",
    "version": 3
   },
   "file_extension": ".py",
   "mimetype": "text/x-python",
   "name": "python",
   "nbconvert_exporter": "python",
   "pygments_lexer": "ipython3",
   "version": "3.11.4"
  }
 },
 "nbformat": 4,
 "nbformat_minor": 2
}
