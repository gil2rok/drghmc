{
 "cells": [
  {
   "cell_type": "code",
   "execution_count": 1,
   "metadata": {},
   "outputs": [],
   "source": [
    "import numpy as np\n",
    "import json\n",
    "import zipfile"
   ]
  },
  {
   "cell_type": "code",
   "execution_count": 2,
   "metadata": {},
   "outputs": [],
   "source": [
    "seed = 1234\n",
    "rng = np.random.default_rng(seed)\n",
    "\n",
    "model_name = \"rosenbrock\"\n",
    "fname = f\"{model_name}.data.json\"\n",
    "dim = json.load(open(fname))[\"D\"]\n",
    "num_chains = 100"
   ]
  },
  {
   "cell_type": "code",
   "execution_count": 3,
   "metadata": {},
   "outputs": [],
   "source": [
    "n = 1_000_000_000\n",
    "x = rng.normal(1, 1, n)\n",
    "y = rng.normal(x ** 2, 0.1)"
   ]
  },
  {
   "cell_type": "code",
   "execution_count": 4,
   "metadata": {},
   "outputs": [],
   "source": [
    "x_mean, x_std = np.mean(x), np.std(x)\n",
    "y_mean, y_std = np.mean(y), np.std(y)\n",
    "\n",
    "x2, y2 = np.square(x), np.square(y)\n",
    "x2_mean, x2_std = np.mean(x2), np.std(x2)\n",
    "y2_mean, y2_std = np.mean(y2), np.std(y2)"
   ]
  },
  {
   "cell_type": "code",
   "execution_count": 5,
   "metadata": {},
   "outputs": [
    {
     "name": "stdout",
     "output_type": "stream",
     "text": [
      "arr       \tmean      \t\t    std       \n",
      "x\t1.0000358987042484\t\t1.0000038750297524\n",
      "y\t2.0000769318777656\t\t2.451618334525328\n",
      "x^2\t2.000079548771744\t\t2.4495738604564026\n",
      "y^2\t10.01074019161031\t\t25.776394778841293\n"
     ]
    }
   ],
   "source": [
    "print(f\"{'arr':<10}\\t{'mean':<10}\\t\\t    {'std':<10}\")\n",
    "print(f\"x\\t{x_mean}\\t\\t{x_std}\")\n",
    "print(f\"y\\t{y_mean}\\t\\t{y_std}\")\n",
    "print(f\"x^2\\t{x2_mean}\\t\\t{x2_std}\")\n",
    "print(f\"y^2\\t{y2_mean}\\t\\t{y2_std}\")"
   ]
  },
  {
   "cell_type": "markdown",
   "metadata": {},
   "source": [
    "# Analytic Params"
   ]
  },
  {
   "cell_type": "code",
   "execution_count": 6,
   "metadata": {},
   "outputs": [],
   "source": [
    "# override emperical mean and std for analytically known values\n",
    "x_mean = 1\n",
    "x_std = 1"
   ]
  },
  {
   "cell_type": "code",
   "execution_count": 7,
   "metadata": {},
   "outputs": [],
   "source": [
    "params_mean = {f\"x[{i}]\": x_mean for i in range(1, dim + 1)} | {f\"y[{i}]\": y_mean for i in range(1, dim + 1)}\n",
    "params_std = {f\"x[{i}]\": x_std for i in range(1, dim + 1)} | {f\"y[{i}]\": y_std for i in range(1, dim + 1)}\n",
    "params_squared_mean = {f\"x[{i}]\": x2_mean for i in range(1, dim + 1)} | {f\"y[{i}]\": y2_mean for i in range(1, dim + 1)}\n",
    "params_squared_std = {f\"x[{i}]\": x2_std for i in range(1, dim + 1)} | {f\"y[{i}]\": y2_std for i in range(1, dim + 1)}\n"
   ]
  },
  {
   "cell_type": "code",
   "execution_count": 8,
   "metadata": {},
   "outputs": [],
   "source": [
    "params = {\n",
    "    \"params_mean\": params_mean,\n",
    "    \"params_std\": params_std,\n",
    "    \"params_squared_mean\": params_squared_mean,\n",
    "    \"params_squared_std\": params_squared_std\n",
    "}\n",
    "\n",
    "with open(\"rosenbrock.analytic_params.json\", \"w\") as f:\n",
    "    json.dump(params, f, indent=4)"
   ]
  },
  {
   "cell_type": "markdown",
   "metadata": {},
   "source": [
    "# Reference Draws (for init)"
   ]
  },
  {
   "cell_type": "code",
   "execution_count": 9,
   "metadata": {},
   "outputs": [],
   "source": [
    "num_samples = 1000\n",
    "param_names = [f\"x[{i}]\" for i in range(1, dim + 1)] + [f\"y[{i}]\" for i in range(1, dim + 1)]\n",
    "\n",
    "x = rng.normal(1, 1, size=(num_chains, num_samples, dim))\n",
    "y = rng.normal(x ** 2, 0.1)\n",
    "ref_draws_np = np.concatenate([x, y], axis=2) # [num_chains, num_samples, num_params]"
   ]
  },
  {
   "cell_type": "code",
   "execution_count": 10,
   "metadata": {},
   "outputs": [],
   "source": [
    "ref_draws = []\n",
    "for chain in ref_draws_np:  # each chain is [n_samples, params_dim]\n",
    "    chain_dict = {}\n",
    "    for name, params in zip(param_names, chain.T):\n",
    "        chain_dict[name] = params.tolist()\n",
    "    ref_draws.append(chain_dict)\n",
    "\n",
    "# save to file\n",
    "with zipfile.ZipFile(f\"{model_name}.ref_draws.json.zip\", mode=\"w\", compression=zipfile.ZIP_DEFLATED, compresslevel=9) as zip_file: \n",
    "    dumped_JSON: str = json.dumps(ref_draws, ensure_ascii=False, indent=4)\n",
    "    zip_file.writestr(f\"{model_name}.ref_draws.json\", data=dumped_JSON)"
   ]
  }
 ],
 "metadata": {
  "kernelspec": {
   "display_name": "drghmc",
   "language": "python",
   "name": "python3"
  },
  "language_info": {
   "codemirror_mode": {
    "name": "ipython",
    "version": 3
   },
   "file_extension": ".py",
   "mimetype": "text/x-python",
   "name": "python",
   "nbconvert_exporter": "python",
   "pygments_lexer": "ipython3",
   "version": "3.11.8"
  }
 },
 "nbformat": 4,
 "nbformat_minor": 2
}
