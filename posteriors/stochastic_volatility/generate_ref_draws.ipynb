{
 "cells": [
  {
   "cell_type": "markdown",
   "metadata": {},
   "source": [
    "# Imports and Defaults"
   ]
  },
  {
   "cell_type": "code",
   "execution_count": 2,
   "metadata": {},
   "outputs": [],
   "source": [
    "import json\n",
    "import os\n",
    "import zipfile\n",
    "\n",
    "import bridgestan as bs\n",
    "from cmdstanpy import CmdStanModel\n",
    "import numpy as np"
   ]
  },
  {
   "cell_type": "code",
   "execution_count": 3,
   "metadata": {},
   "outputs": [],
   "source": [
    "seed = 1234\n",
    "rng = np.random.default_rng(seed)\n",
    "\n",
    "num_chains = 100\n",
    "num_samples = 10000\n",
    "\n",
    "model_name = \"stochastic_volatility\"\n",
    "model_path = model_name + \".stan\"\n",
    "data_path = model_name + \".data.json\""
   ]
  },
  {
   "cell_type": "markdown",
   "metadata": {},
   "source": [
    "# Generate Ref Draws"
   ]
  },
  {
   "cell_type": "code",
   "execution_count": 4,
   "metadata": {},
   "outputs": [
    {
     "name": "stderr",
     "output_type": "stream",
     "text": [
      "08:41:03 - cmdstanpy - INFO - CmdStan start processing\n"
     ]
    },
    {
     "data": {
      "application/vnd.jupyter.widget-view+json": {
       "model_id": "fa7b94a8043d4baf9787e67f1c54ef3e",
       "version_major": 2,
       "version_minor": 0
      },
      "text/plain": [
       "chain 1 |          | 00:00 Status"
      ]
     },
     "metadata": {},
     "output_type": "display_data"
    },
    {
     "data": {
      "application/vnd.jupyter.widget-view+json": {
       "model_id": "48b56a7146d94b11b3b708d43ec07265",
       "version_major": 2,
       "version_minor": 0
      },
      "text/plain": [
       "chain 2 |          | 00:00 Status"
      ]
     },
     "metadata": {},
     "output_type": "display_data"
    },
    {
     "data": {
      "application/vnd.jupyter.widget-view+json": {
       "model_id": "bbfd038b01254f6d9b0dff6af85be32b",
       "version_major": 2,
       "version_minor": 0
      },
      "text/plain": [
       "chain 3 |          | 00:00 Status"
      ]
     },
     "metadata": {},
     "output_type": "display_data"
    },
    {
     "data": {
      "application/vnd.jupyter.widget-view+json": {
       "model_id": "4e72100730704e30bb8812eaa01c713d",
       "version_major": 2,
       "version_minor": 0
      },
      "text/plain": [
       "chain 4 |          | 00:00 Status"
      ]
     },
     "metadata": {},
     "output_type": "display_data"
    },
    {
     "data": {
      "application/vnd.jupyter.widget-view+json": {
       "model_id": "1013c1d93bee4f32b733254074355bf9",
       "version_major": 2,
       "version_minor": 0
      },
      "text/plain": [
       "chain 5 |          | 00:00 Status"
      ]
     },
     "metadata": {},
     "output_type": "display_data"
    },
    {
     "data": {
      "application/vnd.jupyter.widget-view+json": {
       "model_id": "bd6cee0504eb461b81087ee365f6e10a",
       "version_major": 2,
       "version_minor": 0
      },
      "text/plain": [
       "chain 6 |          | 00:00 Status"
      ]
     },
     "metadata": {},
     "output_type": "display_data"
    },
    {
     "data": {
      "application/vnd.jupyter.widget-view+json": {
       "model_id": "480b6c0dcf8c4fcba077040aac1e1567",
       "version_major": 2,
       "version_minor": 0
      },
      "text/plain": [
       "chain 7 |          | 00:00 Status"
      ]
     },
     "metadata": {},
     "output_type": "display_data"
    },
    {
     "data": {
      "application/vnd.jupyter.widget-view+json": {
       "model_id": "b0ae54883fb44908b24b888c86f4d118",
       "version_major": 2,
       "version_minor": 0
      },
      "text/plain": [
       "chain 8 |          | 00:00 Status"
      ]
     },
     "metadata": {},
     "output_type": "display_data"
    },
    {
     "data": {
      "application/vnd.jupyter.widget-view+json": {
       "model_id": "5f307672a71c47d1b2e38f8b2d0b6fab",
       "version_major": 2,
       "version_minor": 0
      },
      "text/plain": [
       "chain 9 |          | 00:00 Status"
      ]
     },
     "metadata": {},
     "output_type": "display_data"
    },
    {
     "data": {
      "application/vnd.jupyter.widget-view+json": {
       "model_id": "3cd26d63a8d148e4bb8b235f724ebea1",
       "version_major": 2,
       "version_minor": 0
      },
      "text/plain": [
       "chain 10 |          | 00:00 Status"
      ]
     },
     "metadata": {},
     "output_type": "display_data"
    },
    {
     "data": {
      "application/vnd.jupyter.widget-view+json": {
       "model_id": "654ecc25d80a4ead8b1b1d18cf697c21",
       "version_major": 2,
       "version_minor": 0
      },
      "text/plain": [
       "chain 11 |          | 00:00 Status"
      ]
     },
     "metadata": {},
     "output_type": "display_data"
    },
    {
     "data": {
      "application/vnd.jupyter.widget-view+json": {
       "model_id": "ba7c147c06a040e0aa6eef1f893e86fc",
       "version_major": 2,
       "version_minor": 0
      },
      "text/plain": [
       "chain 12 |          | 00:00 Status"
      ]
     },
     "metadata": {},
     "output_type": "display_data"
    },
    {
     "data": {
      "application/vnd.jupyter.widget-view+json": {
       "model_id": "c3d195c3a4b44acca6a3c0b64da3e3fd",
       "version_major": 2,
       "version_minor": 0
      },
      "text/plain": [
       "chain 13 |          | 00:00 Status"
      ]
     },
     "metadata": {},
     "output_type": "display_data"
    },
    {
     "data": {
      "application/vnd.jupyter.widget-view+json": {
       "model_id": "55007df6123f4ca79c3bc1c8293c47fb",
       "version_major": 2,
       "version_minor": 0
      },
      "text/plain": [
       "chain 14 |          | 00:00 Status"
      ]
     },
     "metadata": {},
     "output_type": "display_data"
    },
    {
     "data": {
      "application/vnd.jupyter.widget-view+json": {
       "model_id": "d056502d89994f78a687c6e267b6ad5a",
       "version_major": 2,
       "version_minor": 0
      },
      "text/plain": [
       "chain 15 |          | 00:00 Status"
      ]
     },
     "metadata": {},
     "output_type": "display_data"
    },
    {
     "data": {
      "application/vnd.jupyter.widget-view+json": {
       "model_id": "34865dd32a104a42a2a7c2ea7760e8ca",
       "version_major": 2,
       "version_minor": 0
      },
      "text/plain": [
       "chain 16 |          | 00:00 Status"
      ]
     },
     "metadata": {},
     "output_type": "display_data"
    },
    {
     "data": {
      "application/vnd.jupyter.widget-view+json": {
       "model_id": "802cdfdbec974779a8213ae8703c732a",
       "version_major": 2,
       "version_minor": 0
      },
      "text/plain": [
       "chain 17 |          | 00:00 Status"
      ]
     },
     "metadata": {},
     "output_type": "display_data"
    },
    {
     "data": {
      "application/vnd.jupyter.widget-view+json": {
       "model_id": "29d17efbab3d48ef80a19353a1a81b07",
       "version_major": 2,
       "version_minor": 0
      },
      "text/plain": [
       "chain 18 |          | 00:00 Status"
      ]
     },
     "metadata": {},
     "output_type": "display_data"
    },
    {
     "data": {
      "application/vnd.jupyter.widget-view+json": {
       "model_id": "51e03c8d35644f3e9d31dc99d2515b4c",
       "version_major": 2,
       "version_minor": 0
      },
      "text/plain": [
       "chain 19 |          | 00:00 Status"
      ]
     },
     "metadata": {},
     "output_type": "display_data"
    },
    {
     "data": {
      "application/vnd.jupyter.widget-view+json": {
       "model_id": "30937c6f032146e9b6bbf78cf3132fa6",
       "version_major": 2,
       "version_minor": 0
      },
      "text/plain": [
       "chain 20 |          | 00:00 Status"
      ]
     },
     "metadata": {},
     "output_type": "display_data"
    },
    {
     "data": {
      "application/vnd.jupyter.widget-view+json": {
       "model_id": "8931d641f8164455a0d01e4bf1bd823e",
       "version_major": 2,
       "version_minor": 0
      },
      "text/plain": [
       "chain 21 |          | 00:00 Status"
      ]
     },
     "metadata": {},
     "output_type": "display_data"
    },
    {
     "data": {
      "application/vnd.jupyter.widget-view+json": {
       "model_id": "b8bfbb73cbda410db19f3af709ff6aae",
       "version_major": 2,
       "version_minor": 0
      },
      "text/plain": [
       "chain 22 |          | 00:00 Status"
      ]
     },
     "metadata": {},
     "output_type": "display_data"
    },
    {
     "data": {
      "application/vnd.jupyter.widget-view+json": {
       "model_id": "46dda69aca824921804409f901209793",
       "version_major": 2,
       "version_minor": 0
      },
      "text/plain": [
       "chain 23 |          | 00:00 Status"
      ]
     },
     "metadata": {},
     "output_type": "display_data"
    },
    {
     "data": {
      "application/vnd.jupyter.widget-view+json": {
       "model_id": "e9f676a009694fbfbd80e73332ea1f4a",
       "version_major": 2,
       "version_minor": 0
      },
      "text/plain": [
       "chain 24 |          | 00:00 Status"
      ]
     },
     "metadata": {},
     "output_type": "display_data"
    },
    {
     "data": {
      "application/vnd.jupyter.widget-view+json": {
       "model_id": "390a35519d87448e93132ef233ec089f",
       "version_major": 2,
       "version_minor": 0
      },
      "text/plain": [
       "chain 25 |          | 00:00 Status"
      ]
     },
     "metadata": {},
     "output_type": "display_data"
    },
    {
     "data": {
      "application/vnd.jupyter.widget-view+json": {
       "model_id": "722d9950d434454b9f3e194c1aa6fab5",
       "version_major": 2,
       "version_minor": 0
      },
      "text/plain": [
       "chain 26 |          | 00:00 Status"
      ]
     },
     "metadata": {},
     "output_type": "display_data"
    },
    {
     "data": {
      "application/vnd.jupyter.widget-view+json": {
       "model_id": "0bac2264016b40abb7265247b2466c05",
       "version_major": 2,
       "version_minor": 0
      },
      "text/plain": [
       "chain 27 |          | 00:00 Status"
      ]
     },
     "metadata": {},
     "output_type": "display_data"
    },
    {
     "data": {
      "application/vnd.jupyter.widget-view+json": {
       "model_id": "54bd92f0fb03498f940d22e42056200e",
       "version_major": 2,
       "version_minor": 0
      },
      "text/plain": [
       "chain 28 |          | 00:00 Status"
      ]
     },
     "metadata": {},
     "output_type": "display_data"
    },
    {
     "data": {
      "application/vnd.jupyter.widget-view+json": {
       "model_id": "080df102e33e4a7c8686c406440b10c1",
       "version_major": 2,
       "version_minor": 0
      },
      "text/plain": [
       "chain 29 |          | 00:00 Status"
      ]
     },
     "metadata": {},
     "output_type": "display_data"
    },
    {
     "data": {
      "application/vnd.jupyter.widget-view+json": {
       "model_id": "c52a62c087c44865b24733e097dc26ae",
       "version_major": 2,
       "version_minor": 0
      },
      "text/plain": [
       "chain 30 |          | 00:00 Status"
      ]
     },
     "metadata": {},
     "output_type": "display_data"
    },
    {
     "data": {
      "application/vnd.jupyter.widget-view+json": {
       "model_id": "8d4489e77de542ebac85f2d8dc166dd9",
       "version_major": 2,
       "version_minor": 0
      },
      "text/plain": [
       "chain 31 |          | 00:00 Status"
      ]
     },
     "metadata": {},
     "output_type": "display_data"
    },
    {
     "data": {
      "application/vnd.jupyter.widget-view+json": {
       "model_id": "cb9ef0dd109547a09213faad7e666874",
       "version_major": 2,
       "version_minor": 0
      },
      "text/plain": [
       "chain 32 |          | 00:00 Status"
      ]
     },
     "metadata": {},
     "output_type": "display_data"
    },
    {
     "data": {
      "application/vnd.jupyter.widget-view+json": {
       "model_id": "28082276a19846409c6b4d1b85c25967",
       "version_major": 2,
       "version_minor": 0
      },
      "text/plain": [
       "chain 33 |          | 00:00 Status"
      ]
     },
     "metadata": {},
     "output_type": "display_data"
    },
    {
     "data": {
      "application/vnd.jupyter.widget-view+json": {
       "model_id": "8df0f0d51f754f16be7cf38b9e8fd4a5",
       "version_major": 2,
       "version_minor": 0
      },
      "text/plain": [
       "chain 34 |          | 00:00 Status"
      ]
     },
     "metadata": {},
     "output_type": "display_data"
    },
    {
     "data": {
      "application/vnd.jupyter.widget-view+json": {
       "model_id": "d4c3707f981c43dd85c2070e00d3f9e5",
       "version_major": 2,
       "version_minor": 0
      },
      "text/plain": [
       "chain 35 |          | 00:00 Status"
      ]
     },
     "metadata": {},
     "output_type": "display_data"
    },
    {
     "data": {
      "application/vnd.jupyter.widget-view+json": {
       "model_id": "39fd4c5753114a6cae1c3b11b217e317",
       "version_major": 2,
       "version_minor": 0
      },
      "text/plain": [
       "chain 36 |          | 00:00 Status"
      ]
     },
     "metadata": {},
     "output_type": "display_data"
    },
    {
     "data": {
      "application/vnd.jupyter.widget-view+json": {
       "model_id": "1e4fe3746dc2489eabf363f6fb3944e1",
       "version_major": 2,
       "version_minor": 0
      },
      "text/plain": [
       "chain 37 |          | 00:00 Status"
      ]
     },
     "metadata": {},
     "output_type": "display_data"
    },
    {
     "data": {
      "application/vnd.jupyter.widget-view+json": {
       "model_id": "50e3149bbf614206a76989be6578bf6f",
       "version_major": 2,
       "version_minor": 0
      },
      "text/plain": [
       "chain 38 |          | 00:00 Status"
      ]
     },
     "metadata": {},
     "output_type": "display_data"
    },
    {
     "data": {
      "application/vnd.jupyter.widget-view+json": {
       "model_id": "5dfa6d8ed0dd47b39abda23c2f271848",
       "version_major": 2,
       "version_minor": 0
      },
      "text/plain": [
       "chain 39 |          | 00:00 Status"
      ]
     },
     "metadata": {},
     "output_type": "display_data"
    },
    {
     "data": {
      "application/vnd.jupyter.widget-view+json": {
       "model_id": "d3b28f53411740bdb56b9fdfe0d8306b",
       "version_major": 2,
       "version_minor": 0
      },
      "text/plain": [
       "chain 40 |          | 00:00 Status"
      ]
     },
     "metadata": {},
     "output_type": "display_data"
    },
    {
     "data": {
      "application/vnd.jupyter.widget-view+json": {
       "model_id": "a95d55bccb0147ffb081338b1c05088e",
       "version_major": 2,
       "version_minor": 0
      },
      "text/plain": [
       "chain 41 |          | 00:00 Status"
      ]
     },
     "metadata": {},
     "output_type": "display_data"
    },
    {
     "data": {
      "application/vnd.jupyter.widget-view+json": {
       "model_id": "26e3e97f9b194e3db563eff76c01ad6e",
       "version_major": 2,
       "version_minor": 0
      },
      "text/plain": [
       "chain 42 |          | 00:00 Status"
      ]
     },
     "metadata": {},
     "output_type": "display_data"
    },
    {
     "data": {
      "application/vnd.jupyter.widget-view+json": {
       "model_id": "854ef2aecee643e4921b83eda1f29898",
       "version_major": 2,
       "version_minor": 0
      },
      "text/plain": [
       "chain 43 |          | 00:00 Status"
      ]
     },
     "metadata": {},
     "output_type": "display_data"
    },
    {
     "data": {
      "application/vnd.jupyter.widget-view+json": {
       "model_id": "d4dd5603fbcc49408ef450f57b3205ef",
       "version_major": 2,
       "version_minor": 0
      },
      "text/plain": [
       "chain 44 |          | 00:00 Status"
      ]
     },
     "metadata": {},
     "output_type": "display_data"
    },
    {
     "data": {
      "application/vnd.jupyter.widget-view+json": {
       "model_id": "21d90b7c44a14f7e907c6f0298f7962e",
       "version_major": 2,
       "version_minor": 0
      },
      "text/plain": [
       "chain 45 |          | 00:00 Status"
      ]
     },
     "metadata": {},
     "output_type": "display_data"
    },
    {
     "data": {
      "application/vnd.jupyter.widget-view+json": {
       "model_id": "07b008787db54b1482d0960eb6e6f298",
       "version_major": 2,
       "version_minor": 0
      },
      "text/plain": [
       "chain 46 |          | 00:00 Status"
      ]
     },
     "metadata": {},
     "output_type": "display_data"
    },
    {
     "data": {
      "application/vnd.jupyter.widget-view+json": {
       "model_id": "8a67719a5ce845cda9adbbaf2add410e",
       "version_major": 2,
       "version_minor": 0
      },
      "text/plain": [
       "chain 47 |          | 00:00 Status"
      ]
     },
     "metadata": {},
     "output_type": "display_data"
    },
    {
     "data": {
      "application/vnd.jupyter.widget-view+json": {
       "model_id": "ac3aa97ab1084ba18bb85fcdcaef665f",
       "version_major": 2,
       "version_minor": 0
      },
      "text/plain": [
       "chain 48 |          | 00:00 Status"
      ]
     },
     "metadata": {},
     "output_type": "display_data"
    },
    {
     "data": {
      "application/vnd.jupyter.widget-view+json": {
       "model_id": "2bd908cd650b4aca9289c55efe51023d",
       "version_major": 2,
       "version_minor": 0
      },
      "text/plain": [
       "chain 49 |          | 00:00 Status"
      ]
     },
     "metadata": {},
     "output_type": "display_data"
    },
    {
     "data": {
      "application/vnd.jupyter.widget-view+json": {
       "model_id": "e65f619efb07470485e37c4129580447",
       "version_major": 2,
       "version_minor": 0
      },
      "text/plain": [
       "chain 50 |          | 00:00 Status"
      ]
     },
     "metadata": {},
     "output_type": "display_data"
    },
    {
     "data": {
      "application/vnd.jupyter.widget-view+json": {
       "model_id": "c7b0cf5260a04d178e1cd65e230a25d9",
       "version_major": 2,
       "version_minor": 0
      },
      "text/plain": [
       "chain 51 |          | 00:00 Status"
      ]
     },
     "metadata": {},
     "output_type": "display_data"
    },
    {
     "data": {
      "application/vnd.jupyter.widget-view+json": {
       "model_id": "74539b2102c84794b909e55bfa053285",
       "version_major": 2,
       "version_minor": 0
      },
      "text/plain": [
       "chain 52 |          | 00:00 Status"
      ]
     },
     "metadata": {},
     "output_type": "display_data"
    },
    {
     "data": {
      "application/vnd.jupyter.widget-view+json": {
       "model_id": "339e3f90de444bd2ae97ba7c7c48d29c",
       "version_major": 2,
       "version_minor": 0
      },
      "text/plain": [
       "chain 53 |          | 00:00 Status"
      ]
     },
     "metadata": {},
     "output_type": "display_data"
    },
    {
     "data": {
      "application/vnd.jupyter.widget-view+json": {
       "model_id": "7f75a0e9216d4a34a5aeacaf809c6d1e",
       "version_major": 2,
       "version_minor": 0
      },
      "text/plain": [
       "chain 54 |          | 00:00 Status"
      ]
     },
     "metadata": {},
     "output_type": "display_data"
    },
    {
     "data": {
      "application/vnd.jupyter.widget-view+json": {
       "model_id": "be679b05b7f044aba5b194ea32eb102e",
       "version_major": 2,
       "version_minor": 0
      },
      "text/plain": [
       "chain 55 |          | 00:00 Status"
      ]
     },
     "metadata": {},
     "output_type": "display_data"
    },
    {
     "data": {
      "application/vnd.jupyter.widget-view+json": {
       "model_id": "9d84a6c68472427b80880e7c8a3e7af6",
       "version_major": 2,
       "version_minor": 0
      },
      "text/plain": [
       "chain 56 |          | 00:00 Status"
      ]
     },
     "metadata": {},
     "output_type": "display_data"
    },
    {
     "data": {
      "application/vnd.jupyter.widget-view+json": {
       "model_id": "0bb73b6a60d74eb59aa48e4fdb05b349",
       "version_major": 2,
       "version_minor": 0
      },
      "text/plain": [
       "chain 57 |          | 00:00 Status"
      ]
     },
     "metadata": {},
     "output_type": "display_data"
    },
    {
     "data": {
      "application/vnd.jupyter.widget-view+json": {
       "model_id": "6428bcb7c0e147c39efadf0829a94a4f",
       "version_major": 2,
       "version_minor": 0
      },
      "text/plain": [
       "chain 58 |          | 00:00 Status"
      ]
     },
     "metadata": {},
     "output_type": "display_data"
    },
    {
     "data": {
      "application/vnd.jupyter.widget-view+json": {
       "model_id": "0b18aa2f4a7e4519ae061ff2fe732c02",
       "version_major": 2,
       "version_minor": 0
      },
      "text/plain": [
       "chain 59 |          | 00:00 Status"
      ]
     },
     "metadata": {},
     "output_type": "display_data"
    },
    {
     "data": {
      "application/vnd.jupyter.widget-view+json": {
       "model_id": "db235aebfc36430d8d0266c19c612744",
       "version_major": 2,
       "version_minor": 0
      },
      "text/plain": [
       "chain 60 |          | 00:00 Status"
      ]
     },
     "metadata": {},
     "output_type": "display_data"
    },
    {
     "data": {
      "application/vnd.jupyter.widget-view+json": {
       "model_id": "47417fa992d24b879deaec26016e4a88",
       "version_major": 2,
       "version_minor": 0
      },
      "text/plain": [
       "chain 61 |          | 00:00 Status"
      ]
     },
     "metadata": {},
     "output_type": "display_data"
    },
    {
     "data": {
      "application/vnd.jupyter.widget-view+json": {
       "model_id": "176c2c9dbed2410ba3d2e686c61a21ea",
       "version_major": 2,
       "version_minor": 0
      },
      "text/plain": [
       "chain 62 |          | 00:00 Status"
      ]
     },
     "metadata": {},
     "output_type": "display_data"
    },
    {
     "data": {
      "application/vnd.jupyter.widget-view+json": {
       "model_id": "10e18924dca74c0fbf55f3264a18d28a",
       "version_major": 2,
       "version_minor": 0
      },
      "text/plain": [
       "chain 63 |          | 00:00 Status"
      ]
     },
     "metadata": {},
     "output_type": "display_data"
    },
    {
     "data": {
      "application/vnd.jupyter.widget-view+json": {
       "model_id": "f7f600c898694aa8a3287d71c5f7204f",
       "version_major": 2,
       "version_minor": 0
      },
      "text/plain": [
       "chain 64 |          | 00:00 Status"
      ]
     },
     "metadata": {},
     "output_type": "display_data"
    },
    {
     "data": {
      "application/vnd.jupyter.widget-view+json": {
       "model_id": "0a381de235d145fdb3222de6050b7499",
       "version_major": 2,
       "version_minor": 0
      },
      "text/plain": [
       "chain 65 |          | 00:00 Status"
      ]
     },
     "metadata": {},
     "output_type": "display_data"
    },
    {
     "data": {
      "application/vnd.jupyter.widget-view+json": {
       "model_id": "cff6c52f12114f2d930cd6033d3e4c68",
       "version_major": 2,
       "version_minor": 0
      },
      "text/plain": [
       "chain 66 |          | 00:00 Status"
      ]
     },
     "metadata": {},
     "output_type": "display_data"
    },
    {
     "data": {
      "application/vnd.jupyter.widget-view+json": {
       "model_id": "1b2f0fbc9cb8470c9804d5e0a97f4ea6",
       "version_major": 2,
       "version_minor": 0
      },
      "text/plain": [
       "chain 67 |          | 00:00 Status"
      ]
     },
     "metadata": {},
     "output_type": "display_data"
    },
    {
     "data": {
      "application/vnd.jupyter.widget-view+json": {
       "model_id": "9346a4b3b69f40ec9a923881b6762e41",
       "version_major": 2,
       "version_minor": 0
      },
      "text/plain": [
       "chain 68 |          | 00:00 Status"
      ]
     },
     "metadata": {},
     "output_type": "display_data"
    },
    {
     "data": {
      "application/vnd.jupyter.widget-view+json": {
       "model_id": "a136d1d722e14669a2a7e03fcadea29c",
       "version_major": 2,
       "version_minor": 0
      },
      "text/plain": [
       "chain 69 |          | 00:00 Status"
      ]
     },
     "metadata": {},
     "output_type": "display_data"
    },
    {
     "data": {
      "application/vnd.jupyter.widget-view+json": {
       "model_id": "e9f61bb897034749865205e3104bba4e",
       "version_major": 2,
       "version_minor": 0
      },
      "text/plain": [
       "chain 70 |          | 00:00 Status"
      ]
     },
     "metadata": {},
     "output_type": "display_data"
    },
    {
     "data": {
      "application/vnd.jupyter.widget-view+json": {
       "model_id": "1bc01bc477c84c9bb9e5749eb94b0ac4",
       "version_major": 2,
       "version_minor": 0
      },
      "text/plain": [
       "chain 71 |          | 00:00 Status"
      ]
     },
     "metadata": {},
     "output_type": "display_data"
    },
    {
     "data": {
      "application/vnd.jupyter.widget-view+json": {
       "model_id": "ca051a2deb7f4659a6536fce986071f4",
       "version_major": 2,
       "version_minor": 0
      },
      "text/plain": [
       "chain 72 |          | 00:00 Status"
      ]
     },
     "metadata": {},
     "output_type": "display_data"
    },
    {
     "data": {
      "application/vnd.jupyter.widget-view+json": {
       "model_id": "282556b492f84b6380c0ee1c7af1b426",
       "version_major": 2,
       "version_minor": 0
      },
      "text/plain": [
       "chain 73 |          | 00:00 Status"
      ]
     },
     "metadata": {},
     "output_type": "display_data"
    },
    {
     "data": {
      "application/vnd.jupyter.widget-view+json": {
       "model_id": "229a97fae40343ab9fad5557af319e81",
       "version_major": 2,
       "version_minor": 0
      },
      "text/plain": [
       "chain 74 |          | 00:00 Status"
      ]
     },
     "metadata": {},
     "output_type": "display_data"
    },
    {
     "data": {
      "application/vnd.jupyter.widget-view+json": {
       "model_id": "ce1cb773ad98493481a3594c9ef64c2c",
       "version_major": 2,
       "version_minor": 0
      },
      "text/plain": [
       "chain 75 |          | 00:00 Status"
      ]
     },
     "metadata": {},
     "output_type": "display_data"
    },
    {
     "data": {
      "application/vnd.jupyter.widget-view+json": {
       "model_id": "583efecf0ed448aa822b13937ab08f16",
       "version_major": 2,
       "version_minor": 0
      },
      "text/plain": [
       "chain 76 |          | 00:00 Status"
      ]
     },
     "metadata": {},
     "output_type": "display_data"
    },
    {
     "data": {
      "application/vnd.jupyter.widget-view+json": {
       "model_id": "bf9f5f4abc8e462e982a8d6518cfdc6e",
       "version_major": 2,
       "version_minor": 0
      },
      "text/plain": [
       "chain 77 |          | 00:00 Status"
      ]
     },
     "metadata": {},
     "output_type": "display_data"
    },
    {
     "data": {
      "application/vnd.jupyter.widget-view+json": {
       "model_id": "442ee9838c564f4d8df2390fb70995b6",
       "version_major": 2,
       "version_minor": 0
      },
      "text/plain": [
       "chain 78 |          | 00:00 Status"
      ]
     },
     "metadata": {},
     "output_type": "display_data"
    },
    {
     "data": {
      "application/vnd.jupyter.widget-view+json": {
       "model_id": "c7b6033211d04336a2a72c2795c901b6",
       "version_major": 2,
       "version_minor": 0
      },
      "text/plain": [
       "chain 79 |          | 00:00 Status"
      ]
     },
     "metadata": {},
     "output_type": "display_data"
    },
    {
     "data": {
      "application/vnd.jupyter.widget-view+json": {
       "model_id": "12e63ad1404349f5a61fe4cd766645e4",
       "version_major": 2,
       "version_minor": 0
      },
      "text/plain": [
       "chain 80 |          | 00:00 Status"
      ]
     },
     "metadata": {},
     "output_type": "display_data"
    },
    {
     "data": {
      "application/vnd.jupyter.widget-view+json": {
       "model_id": "d4c798edc48143f991d9497dc73b5d68",
       "version_major": 2,
       "version_minor": 0
      },
      "text/plain": [
       "chain 81 |          | 00:00 Status"
      ]
     },
     "metadata": {},
     "output_type": "display_data"
    },
    {
     "data": {
      "application/vnd.jupyter.widget-view+json": {
       "model_id": "2ba05d6ab6d84324ab809d4881afcdb1",
       "version_major": 2,
       "version_minor": 0
      },
      "text/plain": [
       "chain 82 |          | 00:00 Status"
      ]
     },
     "metadata": {},
     "output_type": "display_data"
    },
    {
     "data": {
      "application/vnd.jupyter.widget-view+json": {
       "model_id": "22a2052e6f194970ba340d1fbd7b38a2",
       "version_major": 2,
       "version_minor": 0
      },
      "text/plain": [
       "chain 83 |          | 00:00 Status"
      ]
     },
     "metadata": {},
     "output_type": "display_data"
    },
    {
     "data": {
      "application/vnd.jupyter.widget-view+json": {
       "model_id": "e7c4feb28d6e4da78c0ab50803ac8ab8",
       "version_major": 2,
       "version_minor": 0
      },
      "text/plain": [
       "chain 84 |          | 00:00 Status"
      ]
     },
     "metadata": {},
     "output_type": "display_data"
    },
    {
     "data": {
      "application/vnd.jupyter.widget-view+json": {
       "model_id": "be41a510725f4172ba00a4ae9d6db3f5",
       "version_major": 2,
       "version_minor": 0
      },
      "text/plain": [
       "chain 85 |          | 00:00 Status"
      ]
     },
     "metadata": {},
     "output_type": "display_data"
    },
    {
     "data": {
      "application/vnd.jupyter.widget-view+json": {
       "model_id": "424661dcff324f2ca9cea2ff48d9a6eb",
       "version_major": 2,
       "version_minor": 0
      },
      "text/plain": [
       "chain 86 |          | 00:00 Status"
      ]
     },
     "metadata": {},
     "output_type": "display_data"
    },
    {
     "data": {
      "application/vnd.jupyter.widget-view+json": {
       "model_id": "c4ad71f8bbac4901a41c48551506dfc2",
       "version_major": 2,
       "version_minor": 0
      },
      "text/plain": [
       "chain 87 |          | 00:00 Status"
      ]
     },
     "metadata": {},
     "output_type": "display_data"
    },
    {
     "data": {
      "application/vnd.jupyter.widget-view+json": {
       "model_id": "103db71a8ecd443f891f3289045efefc",
       "version_major": 2,
       "version_minor": 0
      },
      "text/plain": [
       "chain 88 |          | 00:00 Status"
      ]
     },
     "metadata": {},
     "output_type": "display_data"
    },
    {
     "data": {
      "application/vnd.jupyter.widget-view+json": {
       "model_id": "8223c0f65be04831a5e347b906a42aae",
       "version_major": 2,
       "version_minor": 0
      },
      "text/plain": [
       "chain 89 |          | 00:00 Status"
      ]
     },
     "metadata": {},
     "output_type": "display_data"
    },
    {
     "data": {
      "application/vnd.jupyter.widget-view+json": {
       "model_id": "dec1f3c6548b481899af44237ce381f3",
       "version_major": 2,
       "version_minor": 0
      },
      "text/plain": [
       "chain 90 |          | 00:00 Status"
      ]
     },
     "metadata": {},
     "output_type": "display_data"
    },
    {
     "data": {
      "application/vnd.jupyter.widget-view+json": {
       "model_id": "7cae90aa499a4f45ae5610cfe9c5be47",
       "version_major": 2,
       "version_minor": 0
      },
      "text/plain": [
       "chain 91 |          | 00:00 Status"
      ]
     },
     "metadata": {},
     "output_type": "display_data"
    },
    {
     "data": {
      "application/vnd.jupyter.widget-view+json": {
       "model_id": "44aac4c54012442ebc78f531e72dba16",
       "version_major": 2,
       "version_minor": 0
      },
      "text/plain": [
       "chain 92 |          | 00:00 Status"
      ]
     },
     "metadata": {},
     "output_type": "display_data"
    },
    {
     "data": {
      "application/vnd.jupyter.widget-view+json": {
       "model_id": "1a458189be2548618f69b337b3d564a3",
       "version_major": 2,
       "version_minor": 0
      },
      "text/plain": [
       "chain 93 |          | 00:00 Status"
      ]
     },
     "metadata": {},
     "output_type": "display_data"
    },
    {
     "data": {
      "application/vnd.jupyter.widget-view+json": {
       "model_id": "64426073392848e083417c4cbec2c31f",
       "version_major": 2,
       "version_minor": 0
      },
      "text/plain": [
       "chain 94 |          | 00:00 Status"
      ]
     },
     "metadata": {},
     "output_type": "display_data"
    },
    {
     "data": {
      "application/vnd.jupyter.widget-view+json": {
       "model_id": "f0f7e3acca754d91abf4cc08afc3cf1d",
       "version_major": 2,
       "version_minor": 0
      },
      "text/plain": [
       "chain 95 |          | 00:00 Status"
      ]
     },
     "metadata": {},
     "output_type": "display_data"
    },
    {
     "data": {
      "application/vnd.jupyter.widget-view+json": {
       "model_id": "d9e411290ebe44df85836e2e7ef65074",
       "version_major": 2,
       "version_minor": 0
      },
      "text/plain": [
       "chain 96 |          | 00:00 Status"
      ]
     },
     "metadata": {},
     "output_type": "display_data"
    },
    {
     "data": {
      "application/vnd.jupyter.widget-view+json": {
       "model_id": "b8bba02143744f0eabd2da3577658fa1",
       "version_major": 2,
       "version_minor": 0
      },
      "text/plain": [
       "chain 97 |          | 00:00 Status"
      ]
     },
     "metadata": {},
     "output_type": "display_data"
    },
    {
     "data": {
      "application/vnd.jupyter.widget-view+json": {
       "model_id": "0e103301349946139db6f7f08fc607f8",
       "version_major": 2,
       "version_minor": 0
      },
      "text/plain": [
       "chain 98 |          | 00:00 Status"
      ]
     },
     "metadata": {},
     "output_type": "display_data"
    },
    {
     "data": {
      "application/vnd.jupyter.widget-view+json": {
       "model_id": "08dba7f48bb5497881b8458fa7f9d577",
       "version_major": 2,
       "version_minor": 0
      },
      "text/plain": [
       "chain 99 |          | 00:00 Status"
      ]
     },
     "metadata": {},
     "output_type": "display_data"
    },
    {
     "data": {
      "application/vnd.jupyter.widget-view+json": {
       "model_id": "007aa30bb3084d448f6c05f335d776ff",
       "version_major": 2,
       "version_minor": 0
      },
      "text/plain": [
       "chain 100 |          | 00:00 Status"
      ]
     },
     "metadata": {},
     "output_type": "display_data"
    },
    {
     "name": "stdout",
     "output_type": "stream",
     "text": [
      "                                                                                                                                                                                                                                                                                                                                                                                                                                                                                                                                                                                                                                                                                                                                                                                                                                                                                                                                                                                                                                                                                                                                                                                                                                                                                                                                                                                                                                                                                                                                                                                                                                                                                                                                                                                                                                                                                                                                                                                                                                                                                                                                                                                                                                                                                                                                                                                                                                                                                                                                                                                                                                                                                                                                                                                                                                                                                                                                                                                                                                                                                                                                                                                                                                                                                                                                                                                                                                                                                                                                                                                                                                                                                                                                                                                                                                                                                                                                                                                                                                                                                                                                                                                                                                                                                                                                                                                                                                                                                                                                                                                                                                                                                                                                                                                                                                                                                                                                                                                                                                                                                                                                                                                                                                                                                                                                                                                                                                                                                                                                                                                                                                                                                                                                                                                                                                                                                                                                                                                                                                                                                                                                                                                                                                                                                                                                                                                                                                                                                                                                                                                                                                                                                                                                                                                                                                                                                                                                                                                                                                                                                                                                                                                                                                                                                                                                                                                                                                                                                                                                                                                                                                                                                                                                                                                                                                                                                                                                                                                                                                                                                                                                                                                                                                                                                                                                "
     ]
    },
    {
     "name": "stderr",
     "output_type": "stream",
     "text": [
      "08:42:35 - cmdstanpy - INFO - CmdStan done processing.\n",
      "08:42:35 - cmdstanpy - WARNING - Non-fatal error during sampling:\n",
      "Exception: lognormal_lpdf: Scale parameter is inf, but must be positive finite! (in 'stochastic_volatility.stan', line 15, column 4 to column 56)\n",
      "\tException: lognormal_lpdf: Scale parameter is inf, but must be positive finite! (in 'stochastic_volatility.stan', line 15, column 4 to column 56)\n",
      "\tException: lognormal_lpdf: Scale parameter is -nan, but must be positive finite! (in 'stochastic_volatility.stan', line 15, column 4 to column 56)\n",
      "Exception: lognormal_lpdf: Scale parameter is inf, but must be positive finite! (in 'stochastic_volatility.stan', line 15, column 4 to column 56)\n",
      "\tException: lognormal_lpdf: Scale parameter is inf, but must be positive finite! (in 'stochastic_volatility.stan', line 15, column 4 to column 56)\n",
      "\tException: lognormal_lpdf: Scale parameter is inf, but must be positive finite! (in 'stochastic_volatility.stan', line 15, column 4 to column 56)\n",
      "\tException: lognormal_lpdf: Scale parameter is inf, but must be positive finite! (in 'stochastic_volatility.stan', line 15, column 4 to column 56)\n",
      "\tException: lognormal_lpdf: Scale parameter is inf, but must be positive finite! (in 'stochastic_volatility.stan', line 15, column 4 to column 56)\n",
      "\tException: lognormal_lpdf: Scale parameter is inf, but must be positive finite! (in 'stochastic_volatility.stan', line 15, column 4 to column 56)\n",
      "Exception: lognormal_lpdf: Scale parameter is inf, but must be positive finite! (in 'stochastic_volatility.stan', line 15, column 4 to column 56)\n",
      "\tException: lognormal_lpdf: Scale parameter is inf, but must be positive finite! (in 'stochastic_volatility.stan', line 15, column 4 to column 56)\n",
      "\tException: lognormal_lpdf: Scale parameter is inf, but must be positive finite! (in 'stochastic_volatility.stan', line 15, column 4 to column 56)\n",
      "\tException: lognormal_lpdf: Scale parameter is inf, but must be positive finite! (in 'stochastic_volatility.stan', line 15, column 4 to column 56)\n",
      "\tException: lognormal_lpdf: Scale parameter is inf, but must be positive finite! (in 'stochastic_volatility.stan', line 15, column 4 to column 56)\n",
      "\tException: lognormal_lpdf: Scale parameter is inf, but must be positive finite! (in 'stochastic_volatility.stan', line 15, column 4 to column 56)\n",
      "\tException: lognormal_lpdf: Scale parameter is inf, but must be positive finite! (in 'stochastic_volatility.stan', line 15, column 4 to column 56)\n",
      "\tException: lognormal_lpdf: Scale parameter is inf, but must be positive finite! (in 'stochastic_volatility.stan', line 15, column 4 to column 56)\n",
      "Exception: lognormal_lpdf: Scale parameter is inf, but must be positive finite! (in 'stochastic_volatility.stan', line 15, column 4 to column 56)\n",
      "\tException: lognormal_lpdf: Scale parameter is inf, but must be positive finite! (in 'stochastic_volatility.stan', line 15, column 4 to column 56)\n",
      "\tException: lognormal_lpdf: Scale parameter is inf, but must be positive finite! (in 'stochastic_volatility.stan', line 15, column 4 to column 56)\n",
      "\tException: lognormal_lpdf: Scale parameter is inf, but must be positive finite! (in 'stochastic_volatility.stan', line 15, column 4 to column 56)\n",
      "\tException: lognormal_lpdf: Scale parameter is inf, but must be positive finite! (in 'stochastic_volatility.stan', line 15, column 4 to column 56)\n",
      "\tException: lognormal_lpdf: Scale parameter is inf, but must be positive finite! (in 'stochastic_volatility.stan', line 15, column 4 to column 56)\n",
      "Exception: lognormal_lpdf: Scale parameter is -nan, but must be positive finite! (in 'stochastic_volatility.stan', line 15, column 4 to column 56)\n",
      "Exception: lognormal_lpdf: Scale parameter is inf, but must be positive finite! (in 'stochastic_volatility.stan', line 15, column 4 to column 56)\n",
      "\tException: lognormal_lpdf: Scale parameter is inf, but must be positive finite! (in 'stochastic_volatility.stan', line 15, column 4 to column 56)\n",
      "\tException: lognormal_lpdf: Scale parameter is inf, but must be positive finite! (in 'stochastic_volatility.stan', line 15, column 4 to column 56)\n",
      "\tException: lognormal_lpdf: Scale parameter is inf, but must be positive finite! (in 'stochastic_volatility.stan', line 15, column 4 to column 56)\n",
      "Exception: lognormal_lpdf: Scale parameter is inf, but must be positive finite! (in 'stochastic_volatility.stan', line 15, column 4 to column 56)\n",
      "\tException: lognormal_lpdf: Scale parameter is inf, but must be positive finite! (in 'stochastic_volatility.stan', line 15, column 4 to column 56)\n",
      "\tException: lognormal_lpdf: Scale parameter is inf, but must be positive finite! (in 'stochastic_volatility.stan', line 15, column 4 to column 56)\n",
      "\tException: lognormal_lpdf: Scale parameter is inf, but must be positive finite! (in 'stochastic_volatility.stan', line 15, column 4 to column 56)\n",
      "\tException: lognormal_lpdf: Scale parameter is inf, but must be positive finite! (in 'stochastic_volatility.stan', line 15, column 4 to column 56)\n",
      "Exception: lognormal_lpdf: Scale parameter is inf, but must be positive finite! (in 'stochastic_volatility.stan', line 15, column 4 to column 56)\n",
      "\tException: lognormal_lpdf: Scale parameter is inf, but must be positive finite! (in 'stochastic_volatility.stan', line 15, column 4 to column 56)\n",
      "\tException: lognormal_lpdf: Scale parameter is inf, but must be positive finite! (in 'stochastic_volatility.stan', line 15, column 4 to column 56)\n",
      "Exception: lognormal_lpdf: Scale parameter is inf, but must be positive finite! (in 'stochastic_volatility.stan', line 15, column 4 to column 56)\n",
      "\tException: lognormal_lpdf: Scale parameter is inf, but must be positive finite! (in 'stochastic_volatility.stan', line 15, column 4 to column 56)\n",
      "\tException: lognormal_lpdf: Scale parameter is -nan, but must be positive finite! (in 'stochastic_volatility.stan', line 15, column 4 to column 56)\n",
      "Exception: lognormal_lpdf: Scale parameter is inf, but must be positive finite! (in 'stochastic_volatility.stan', line 15, column 4 to column 56)\n",
      "\tException: lognormal_lpdf: Scale parameter is inf, but must be positive finite! (in 'stochastic_volatility.stan', line 15, column 4 to column 56)\n",
      "\tException: lognormal_lpdf: Scale parameter is inf, but must be positive finite! (in 'stochastic_volatility.stan', line 15, column 4 to column 56)\n",
      "\tException: lognormal_lpdf: Scale parameter is inf, but must be positive finite! (in 'stochastic_volatility.stan', line 15, column 4 to column 56)\n",
      "\tException: lognormal_lpdf: Scale parameter is inf, but must be positive finite! (in 'stochastic_volatility.stan', line 15, column 4 to column 56)\n",
      "\tException: lognormal_lpdf: Scale parameter is inf, but must be positive finite! (in 'stochastic_volatility.stan', line 15, column 4 to column 56)\n",
      "\tException: lognormal_lpdf: Scale parameter is inf, but must be positive finite! (in 'stochastic_volatility.stan', line 15, column 4 to column 56)\n",
      "Exception: lognormal_lpdf: Scale parameter is inf, but must be positive finite! (in 'stochastic_volatility.stan', line 15, column 4 to column 56)\n",
      "\tException: lognormal_lpdf: Scale parameter is inf, but must be positive finite! (in 'stochastic_volatility.stan', line 15, column 4 to column 56)\n",
      "\tException: lognormal_lpdf: Scale parameter is inf, but must be positive finite! (in 'stochastic_volatility.stan', line 15, column 4 to column 56)\n",
      "\tException: lognormal_lpdf: Scale parameter is inf, but must be positive finite! (in 'stochastic_volatility.stan', line 15, column 4 to column 56)\n",
      "Exception: lognormal_lpdf: Scale parameter is -nan, but must be positive finite! (in 'stochastic_volatility.stan', line 15, column 4 to column 56)\n",
      "Exception: lognormal_lpdf: Scale parameter is inf, but must be positive finite! (in 'stochastic_volatility.stan', line 15, column 4 to column 56)\n",
      "\tException: lognormal_lpdf: Scale parameter is inf, but must be positive finite! (in 'stochastic_volatility.stan', line 15, column 4 to column 56)\n",
      "\tException: lognormal_lpdf: Scale parameter is -nan, but must be positive finite! (in 'stochastic_volatility.stan', line 15, column 4 to column 56)\n",
      "Exception: lognormal_lpdf: Scale parameter is -nan, but must be positive finite! (in 'stochastic_volatility.stan', line 15, column 4 to column 56)\n",
      "Exception: lognormal_lpdf: Scale parameter is inf, but must be positive finite! (in 'stochastic_volatility.stan', line 15, column 4 to column 56)\n",
      "\tException: lognormal_lpdf: Scale parameter is inf, but must be positive finite! (in 'stochastic_volatility.stan', line 15, column 4 to column 56)\n",
      "\tException: lognormal_lpdf: Scale parameter is inf, but must be positive finite! (in 'stochastic_volatility.stan', line 15, column 4 to column 56)\n",
      "\tException: lognormal_lpdf: Scale parameter is inf, but must be positive finite! (in 'stochastic_volatility.stan', line 15, column 4 to column 56)\n",
      "\tException: lognormal_lpdf: Scale parameter is inf, but must be positive finite! (in 'stochastic_volatility.stan', line 15, column 4 to column 56)\n",
      "\tException: lognormal_lpdf: Scale parameter is inf, but must be positive finite! (in 'stochastic_volatility.stan', line 15, column 4 to column 56)\n",
      "Exception: lognormal_lpdf: Scale parameter is inf, but must be positive finite! (in 'stochastic_volatility.stan', line 15, column 4 to column 56)\n",
      "\tException: lognormal_lpdf: Scale parameter is inf, but must be positive finite! (in 'stochastic_volatility.stan', line 15, column 4 to column 56)\n",
      "\tException: lognormal_lpdf: Scale parameter is inf, but must be positive finite! (in 'stochastic_volatility.stan', line 15, column 4 to column 56)\n",
      "\tException: lognormal_lpdf: Scale parameter is inf, but must be positive finite! (in 'stochastic_volatility.stan', line 15, column 4 to column 56)\n",
      "\tException: lognormal_lpdf: Scale parameter is inf, but must be positive finite! (in 'stochastic_volatility.stan', line 15, column 4 to column 56)\n",
      "Exception: lognormal_lpdf: Scale parameter is -nan, but must be positive finite! (in 'stochastic_volatility.stan', line 15, column 4 to column 56)\n",
      "Exception: lognormal_lpdf: Scale parameter is inf, but must be positive finite! (in 'stochastic_volatility.stan', line 15, column 4 to column 56)\n",
      "\tException: lognormal_lpdf: Scale parameter is inf, but must be positive finite! (in 'stochastic_volatility.stan', line 15, column 4 to column 56)\n",
      "\tException: lognormal_lpdf: Scale parameter is -nan, but must be positive finite! (in 'stochastic_volatility.stan', line 15, column 4 to column 56)\n",
      "Exception: lognormal_lpdf: Scale parameter is inf, but must be positive finite! (in 'stochastic_volatility.stan', line 15, column 4 to column 56)\n",
      "\tException: lognormal_lpdf: Scale parameter is inf, but must be positive finite! (in 'stochastic_volatility.stan', line 15, column 4 to column 56)\n",
      "\tException: lognormal_lpdf: Scale parameter is inf, but must be positive finite! (in 'stochastic_volatility.stan', line 15, column 4 to column 56)\n",
      "\tException: lognormal_lpdf: Scale parameter is inf, but must be positive finite! (in 'stochastic_volatility.stan', line 15, column 4 to column 56)\n",
      "\tException: lognormal_lpdf: Scale parameter is inf, but must be positive finite! (in 'stochastic_volatility.stan', line 15, column 4 to column 56)\n",
      "\tException: lognormal_lpdf: Scale parameter is inf, but must be positive finite! (in 'stochastic_volatility.stan', line 15, column 4 to column 56)\n",
      "Exception: lognormal_lpdf: Scale parameter is inf, but must be positive finite! (in 'stochastic_volatility.stan', line 15, column 4 to column 56)\n",
      "Exception: lognormal_lpdf: Scale parameter is inf, but must be positive finite! (in 'stochastic_volatility.stan', line 15, column 4 to column 56)\n",
      "\tException: lognormal_lpdf: Scale parameter is inf, but must be positive finite! (in 'stochastic_volatility.stan', line 15, column 4 to column 56)\n",
      "\tException: lognormal_lpdf: Scale parameter is inf, but must be positive finite! (in 'stochastic_volatility.stan', line 15, column 4 to column 56)\n",
      "\tException: lognormal_lpdf: Scale parameter is inf, but must be positive finite! (in 'stochastic_volatility.stan', line 15, column 4 to column 56)\n",
      "\tException: lognormal_lpdf: Scale parameter is inf, but must be positive finite! (in 'stochastic_volatility.stan', line 15, column 4 to column 56)\n",
      "\tException: lognormal_lpdf: Scale parameter is inf, but must be positive finite! (in 'stochastic_volatility.stan', line 15, column 4 to column 56)\n",
      "\tException: lognormal_lpdf: Scale parameter is inf, but must be positive finite! (in 'stochastic_volatility.stan', line 15, column 4 to column 56)\n",
      "Exception: lognormal_lpdf: Scale parameter is inf, but must be positive finite! (in 'stochastic_volatility.stan', line 15, column 4 to column 56)\n",
      "\tException: lognormal_lpdf: Scale parameter is inf, but must be positive finite! (in 'stochastic_volatility.stan', line 15, column 4 to column 56)\n",
      "\tException: lognormal_lpdf: Scale parameter is inf, but must be positive finite! (in 'stochastic_volatility.stan', line 15, column 4 to column 56)\n",
      "\tException: lognormal_lpdf: Scale parameter is inf, but must be positive finite! (in 'stochastic_volatility.stan', line 15, column 4 to column 56)\n",
      "\tException: lognormal_lpdf: Scale parameter is inf, but must be positive finite! (in 'stochastic_volatility.stan', line 15, column 4 to column 56)\n",
      "\tException: lognormal_lpdf: Scale parameter is inf, but must be positive finite! (in 'stochastic_volatility.stan', line 15, column 4 to column 56)\n",
      "\tException: lognormal_lpdf: Scale parameter is inf, but must be positive finite! (in 'stochastic_volatility.stan', line 15, column 4 to column 56)\n",
      "Exception: lognormal_lpdf: Scale parameter is inf, but must be positive finite! (in 'stochastic_volatility.stan', line 15, column 4 to column 56)\n",
      "\tException: lognormal_lpdf: Scale parameter is inf, but must be positive finite! (in 'stochastic_volatility.stan', line 15, column 4 to column 56)\n",
      "\tException: lognormal_lpdf: Scale parameter is inf, but must be positive finite! (in 'stochastic_volatility.stan', line 15, column 4 to column 56)\n",
      "\tException: lognormal_lpdf: Scale parameter is inf, but must be positive finite! (in 'stochastic_volatility.stan', line 15, column 4 to column 56)\n",
      "\tException: lognormal_lpdf: Scale parameter is inf, but must be positive finite! (in 'stochastic_volatility.stan', line 15, column 4 to column 56)\n",
      "\tException: lognormal_lpdf: Scale parameter is inf, but must be positive finite! (in 'stochastic_volatility.stan', line 15, column 4 to column 56)\n",
      "\tException: lognormal_lpdf: Scale parameter is inf, but must be positive finite! (in 'stochastic_volatility.stan', line 15, column 4 to column 56)\n",
      "Exception: lognormal_lpdf: Scale parameter is inf, but must be positive finite! (in 'stochastic_volatility.stan', line 15, column 4 to column 56)\n",
      "\tException: lognormal_lpdf: Scale parameter is inf, but must be positive finite! (in 'stochastic_volatility.stan', line 15, column 4 to column 56)\n",
      "\tException: lognormal_lpdf: Scale parameter is inf, but must be positive finite! (in 'stochastic_volatility.stan', line 15, column 4 to column 56)\n",
      "\tException: lognormal_lpdf: Scale parameter is inf, but must be positive finite! (in 'stochastic_volatility.stan', line 15, column 4 to column 56)\n",
      "\tException: lognormal_lpdf: Scale parameter is inf, but must be positive finite! (in 'stochastic_volatility.stan', line 15, column 4 to column 56)\n",
      "\tException: lognormal_lpdf: Scale parameter is inf, but must be positive finite! (in 'stochastic_volatility.stan', line 15, column 4 to column 56)\n",
      "Exception: lognormal_lpdf: Scale parameter is inf, but must be positive finite! (in 'stochastic_volatility.stan', line 15, column 4 to column 56)\n",
      "Exception: lognormal_lpdf: Scale parameter is inf, but must be positive finite! (in 'stochastic_volatility.stan', line 15, column 4 to column 56)\n",
      "\tException: lognormal_lpdf: Scale parameter is inf, but must be positive finite! (in 'stochastic_volatility.stan', line 15, column 4 to column 56)\n",
      "\tException: lognormal_lpdf: Scale parameter is inf, but must be positive finite! (in 'stochastic_volatility.stan', line 15, column 4 to column 56)\n",
      "\tException: lognormal_lpdf: Scale parameter is inf, but must be positive finite! (in 'stochastic_volatility.stan', line 15, column 4 to column 56)\n",
      "Exception: lognormal_lpdf: Scale parameter is -nan, but must be positive finite! (in 'stochastic_volatility.stan', line 15, column 4 to column 56)\n",
      "Exception: lognormal_lpdf: Scale parameter is -nan, but must be positive finite! (in 'stochastic_volatility.stan', line 15, column 4 to column 56)\n",
      "Exception: lognormal_lpdf: Scale parameter is inf, but must be positive finite! (in 'stochastic_volatility.stan', line 15, column 4 to column 56)\n",
      "\tException: lognormal_lpdf: Scale parameter is inf, but must be positive finite! (in 'stochastic_volatility.stan', line 15, column 4 to column 56)\n",
      "\tException: lognormal_lpdf: Scale parameter is inf, but must be positive finite! (in 'stochastic_volatility.stan', line 15, column 4 to column 56)\n",
      "Exception: lognormal_lpdf: Scale parameter is inf, but must be positive finite! (in 'stochastic_volatility.stan', line 15, column 4 to column 56)\n",
      "\tException: lognormal_lpdf: Scale parameter is inf, but must be positive finite! (in 'stochastic_volatility.stan', line 15, column 4 to column 56)\n",
      "\tException: lognormal_lpdf: Scale parameter is inf, but must be positive finite! (in 'stochastic_volatility.stan', line 15, column 4 to column 56)\n",
      "\tException: lognormal_lpdf: Scale parameter is inf, but must be positive finite! (in 'stochastic_volatility.stan', line 15, column 4 to column 56)\n",
      "\tException: lognormal_lpdf: Scale parameter is inf, but must be positive finite! (in 'stochastic_volatility.stan', line 15, column 4 to column 56)\n",
      "\tException: lognormal_lpdf: Scale parameter is inf, but must be positive finite! (in 'stochastic_volatility.stan', line 15, column 4 to column 56)\n",
      "Exception: lognormal_lpdf: Scale parameter is inf, but must be positive finite! (in 'stochastic_volatility.stan', line 15, column 4 to column 56)\n",
      "Exception: lognormal_lpdf: Scale parameter is inf, but must be positive finite! (in 'stochastic_volatility.stan', line 15, column 4 to column 56)\n",
      "\tException: lognormal_lpdf: Scale parameter is inf, but must be positive finite! (in 'stochastic_volatility.stan', line 15, column 4 to column 56)\n",
      "\tException: lognormal_lpdf: Scale parameter is inf, but must be positive finite! (in 'stochastic_volatility.stan', line 15, column 4 to column 56)\n",
      "\tException: lognormal_lpdf: Scale parameter is inf, but must be positive finite! (in 'stochastic_volatility.stan', line 15, column 4 to column 56)\n",
      "\tException: lognormal_lpdf: Scale parameter is inf, but must be positive finite! (in 'stochastic_volatility.stan', line 15, column 4 to column 56)\n",
      "\tException: lognormal_lpdf: Scale parameter is inf, but must be positive finite! (in 'stochastic_volatility.stan', line 15, column 4 to column 56)\n",
      "Exception: lognormal_lpdf: Scale parameter is inf, but must be positive finite! (in 'stochastic_volatility.stan', line 15, column 4 to column 56)\n",
      "\tException: lognormal_lpdf: Scale parameter is inf, but must be positive finite! (in 'stochastic_volatility.stan', line 15, column 4 to column 56)\n",
      "\tException: lognormal_lpdf: Scale parameter is inf, but must be positive finite! (in 'stochastic_volatility.stan', line 15, column 4 to column 56)\n",
      "\tException: lognormal_lpdf: Scale parameter is inf, but must be positive finite! (in 'stochastic_volatility.stan', line 15, column 4 to column 56)\n",
      "Exception: lognormal_lpdf: Scale parameter is inf, but must be positive finite! (in 'stochastic_volatility.stan', line 15, column 4 to column 56)\n",
      "\tException: lognormal_lpdf: Scale parameter is inf, but must be positive finite! (in 'stochastic_volatility.stan', line 15, column 4 to column 56)\n",
      "\tException: lognormal_lpdf: Scale parameter is inf, but must be positive finite! (in 'stochastic_volatility.stan', line 15, column 4 to column 56)\n",
      "\tException: lognormal_lpdf: Scale parameter is inf, but must be positive finite! (in 'stochastic_volatility.stan', line 15, column 4 to column 56)\n",
      "\tException: lognormal_lpdf: Scale parameter is inf, but must be positive finite! (in 'stochastic_volatility.stan', line 15, column 4 to column 56)\n",
      "Exception: lognormal_lpdf: Scale parameter is inf, but must be positive finite! (in 'stochastic_volatility.stan', line 15, column 4 to column 56)\n",
      "Exception: lognormal_lpdf: Scale parameter is inf, but must be positive finite! (in 'stochastic_volatility.stan', line 15, column 4 to column 56)\n",
      "\tException: lognormal_lpdf: Scale parameter is inf, but must be positive finite! (in 'stochastic_volatility.stan', line 15, column 4 to column 56)\n",
      "\tException: lognormal_lpdf: Scale parameter is inf, but must be positive finite! (in 'stochastic_volatility.stan', line 15, column 4 to column 56)\n",
      "\tException: lognormal_lpdf: Scale parameter is inf, but must be positive finite! (in 'stochastic_volatility.stan', line 15, column 4 to column 56)\n",
      "\tException: lognormal_lpdf: Scale parameter is inf, but must be positive finite! (in 'stochastic_volatility.stan', line 15, column 4 to column 56)\n",
      "\tException: lognormal_lpdf: Scale parameter is inf, but must be positive finite! (in 'stochastic_volatility.stan', line 15, column 4 to column 56)\n",
      "Exception: lognormal_lpdf: Scale parameter is inf, but must be positive finite! (in 'stochastic_volatility.stan', line 15, column 4 to column 56)\n",
      "\tException: lognormal_lpdf: Scale parameter is inf, but must be positive finite! (in 'stochastic_volatility.stan', line 15, column 4 to column 56)\n",
      "\tException: lognormal_lpdf: Scale parameter is -nan, but must be positive finite! (in 'stochastic_volatility.stan', line 15, column 4 to column 56)\n",
      "Exception: lognormal_lpdf: Scale parameter is inf, but must be positive finite! (in 'stochastic_volatility.stan', line 15, column 4 to column 56)\n",
      "Exception: lognormal_lpdf: Scale parameter is inf, but must be positive finite! (in 'stochastic_volatility.stan', line 15, column 4 to column 56)\n",
      "\tException: lognormal_lpdf: Scale parameter is inf, but must be positive finite! (in 'stochastic_volatility.stan', line 15, column 4 to column 56)\n",
      "\tException: lognormal_lpdf: Scale parameter is inf, but must be positive finite! (in 'stochastic_volatility.stan', line 15, column 4 to column 56)\n",
      "Exception: lognormal_lpdf: Scale parameter is inf, but must be positive finite! (in 'stochastic_volatility.stan', line 15, column 4 to column 56)\n",
      "\tException: lognormal_lpdf: Scale parameter is inf, but must be positive finite! (in 'stochastic_volatility.stan', line 15, column 4 to column 56)\n",
      "\tException: lognormal_lpdf: Scale parameter is inf, but must be positive finite! (in 'stochastic_volatility.stan', line 15, column 4 to column 56)\n",
      "\tException: lognormal_lpdf: Scale parameter is inf, but must be positive finite! (in 'stochastic_volatility.stan', line 15, column 4 to column 56)\n",
      "\tException: lognormal_lpdf: Scale parameter is inf, but must be positive finite! (in 'stochastic_volatility.stan', line 15, column 4 to column 56)\n",
      "Exception: lognormal_lpdf: Scale parameter is -nan, but must be positive finite! (in 'stochastic_volatility.stan', line 15, column 4 to column 56)\n",
      "Exception: lognormal_lpdf: Scale parameter is inf, but must be positive finite! (in 'stochastic_volatility.stan', line 15, column 4 to column 56)\n",
      "\tException: lognormal_lpdf: Scale parameter is inf, but must be positive finite! (in 'stochastic_volatility.stan', line 15, column 4 to column 56)\n",
      "\tException: lognormal_lpdf: Scale parameter is inf, but must be positive finite! (in 'stochastic_volatility.stan', line 15, column 4 to column 56)\n",
      "\tException: lognormal_lpdf: Scale parameter is -nan, but must be positive finite! (in 'stochastic_volatility.stan', line 15, column 4 to column 56)\n",
      "Exception: lognormal_lpdf: Scale parameter is inf, but must be positive finite! (in 'stochastic_volatility.stan', line 15, column 4 to column 56)\n",
      "\tException: lognormal_lpdf: Scale parameter is inf, but must be positive finite! (in 'stochastic_volatility.stan', line 15, column 4 to column 56)\n",
      "\tException: lognormal_lpdf: Scale parameter is inf, but must be positive finite! (in 'stochastic_volatility.stan', line 15, column 4 to column 56)\n",
      "Exception: lognormal_lpdf: Scale parameter is inf, but must be positive finite! (in 'stochastic_volatility.stan', line 15, column 4 to column 56)\n",
      "\tException: lognormal_lpdf: Scale parameter is inf, but must be positive finite! (in 'stochastic_volatility.stan', line 15, column 4 to column 56)\n",
      "\tException: lognormal_lpdf: Scale parameter is inf, but must be positive finite! (in 'stochastic_volatility.stan', line 15, column 4 to column 56)\n",
      "\tException: lognormal_lpdf: Scale parameter is inf, but must be positive finite! (in 'stochastic_volatility.stan', line 15, column 4 to column 56)\n",
      "\tException: lognormal_lpdf: Scale parameter is inf, but must be positive finite! (in 'stochastic_volatility.stan', line 15, column 4 to column 56)\n",
      "\tException: lognormal_lpdf: Scale parameter is inf, but must be positive finite! (in 'stochastic_volatility.stan', line 15, column 4 to column 56)\n",
      "Exception: lognormal_lpdf: Scale parameter is inf, but must be positive finite! (in 'stochastic_volatility.stan', line 15, column 4 to column 56)\n",
      "\tException: lognormal_lpdf: Scale parameter is inf, but must be positive finite! (in 'stochastic_volatility.stan', line 15, column 4 to column 56)\n",
      "\tException: lognormal_lpdf: Scale parameter is inf, but must be positive finite! (in 'stochastic_volatility.stan', line 15, column 4 to column 56)\n",
      "\tException: lognormal_lpdf: Scale parameter is inf, but must be positive finite! (in 'stochastic_volatility.stan', line 15, column 4 to column 56)\n",
      "\tException: lognormal_lpdf: Scale parameter is inf, but must be positive finite! (in 'stochastic_volatility.stan', line 15, column 4 to column 56)\n",
      "\tException: lognormal_lpdf: Scale parameter is inf, but must be positive finite! (in 'stochastic_volatility.stan', line 15, column 4 to column 56)\n",
      "\tException: lognormal_lpdf: Scale parameter is inf, but must be positive finite! (in 'stochastic_volatility.stan', line 15, column 4 to column 56)\n",
      "Exception: lognormal_lpdf: Scale parameter is -nan, but must be positive finite! (in 'stochastic_volatility.stan', line 15, column 4 to column 56)\n",
      "Exception: lognormal_lpdf: Scale parameter is inf, but must be positive finite! (in 'stochastic_volatility.stan', line 15, column 4 to column 56)\n",
      "Exception: lognormal_lpdf: Scale parameter is inf, but must be positive finite! (in 'stochastic_volatility.stan', line 15, column 4 to column 56)\n",
      "\tException: lognormal_lpdf: Scale parameter is inf, but must be positive finite! (in 'stochastic_volatility.stan', line 15, column 4 to column 56)\n",
      "\tException: lognormal_lpdf: Scale parameter is inf, but must be positive finite! (in 'stochastic_volatility.stan', line 15, column 4 to column 56)\n",
      "\tException: lognormal_lpdf: Scale parameter is inf, but must be positive finite! (in 'stochastic_volatility.stan', line 15, column 4 to column 56)\n",
      "\tException: lognormal_lpdf: Scale parameter is inf, but must be positive finite! (in 'stochastic_volatility.stan', line 15, column 4 to column 56)\n",
      "\tException: lognormal_lpdf: Scale parameter is inf, but must be positive finite! (in 'stochastic_volatility.stan', line 15, column 4 to column 56)\n",
      "\tException: lognormal_lpdf: Scale parameter is inf, but must be positive finite! (in 'stochastic_volatility.stan', line 15, column 4 to column 56)\n",
      "Exception: lognormal_lpdf: Scale parameter is -nan, but must be positive finite! (in 'stochastic_volatility.stan', line 15, column 4 to column 56)\n",
      "Exception: lognormal_lpdf: Scale parameter is inf, but must be positive finite! (in 'stochastic_volatility.stan', line 15, column 4 to column 56)\n",
      "\tException: lognormal_lpdf: Scale parameter is inf, but must be positive finite! (in 'stochastic_volatility.stan', line 15, column 4 to column 56)\n",
      "\tException: lognormal_lpdf: Scale parameter is inf, but must be positive finite! (in 'stochastic_volatility.stan', line 15, column 4 to column 56)\n",
      "\tException: lognormal_lpdf: Scale parameter is inf, but must be positive finite! (in 'stochastic_volatility.stan', line 15, column 4 to column 56)\n",
      "\tException: lognormal_lpdf: Scale parameter is inf, but must be positive finite! (in 'stochastic_volatility.stan', line 15, column 4 to column 56)\n",
      "\tException: lognormal_lpdf: Scale parameter is inf, but must be positive finite! (in 'stochastic_volatility.stan', line 15, column 4 to column 56)\n",
      "\tException: lognormal_lpdf: Scale parameter is inf, but must be positive finite! (in 'stochastic_volatility.stan', line 15, column 4 to column 56)\n",
      "\tException: lognormal_lpdf: Scale parameter is inf, but must be positive finite! (in 'stochastic_volatility.stan', line 15, column 4 to column 56)\n",
      "Exception: lognormal_lpdf: Scale parameter is inf, but must be positive finite! (in 'stochastic_volatility.stan', line 15, column 4 to column 56)\n",
      "\tException: lognormal_lpdf: Scale parameter is inf, but must be positive finite! (in 'stochastic_volatility.stan', line 15, column 4 to column 56)\n",
      "\tException: lognormal_lpdf: Scale parameter is inf, but must be positive finite! (in 'stochastic_volatility.stan', line 15, column 4 to column 56)\n",
      "\tException: lognormal_lpdf: Scale parameter is inf, but must be positive finite! (in 'stochastic_volatility.stan', line 15, column 4 to column 56)\n",
      "\tException: lognormal_lpdf: Scale parameter is inf, but must be positive finite! (in 'stochastic_volatility.stan', line 15, column 4 to column 56)\n",
      "\tException: lognormal_lpdf: Scale parameter is inf, but must be positive finite! (in 'stochastic_volatility.stan', line 15, column 4 to column 56)\n",
      "Exception: lognormal_lpdf: Scale parameter is inf, but must be positive finite! (in 'stochastic_volatility.stan', line 15, column 4 to column 56)\n",
      "\tException: lognormal_lpdf: Scale parameter is inf, but must be positive finite! (in 'stochastic_volatility.stan', line 15, column 4 to column 56)\n",
      "\tException: lognormal_lpdf: Scale parameter is inf, but must be positive finite! (in 'stochastic_volatility.stan', line 15, column 4 to column 56)\n",
      "\tException: lognormal_lpdf: Scale parameter is inf, but must be positive finite! (in 'stochastic_volatility.stan', line 15, column 4 to column 56)\n",
      "\tException: lognormal_lpdf: Scale parameter is inf, but must be positive finite! (in 'stochastic_volatility.stan', line 15, column 4 to column 56)\n",
      "\tException: lognormal_lpdf: Scale parameter is inf, but must be positive finite! (in 'stochastic_volatility.stan', line 15, column 4 to column 56)\n",
      "\tException: lognormal_lpdf: Scale parameter is inf, but must be positive finite! (in 'stochastic_volatility.stan', line 15, column 4 to column 56)\n",
      "\tException: lognormal_lpdf: Scale parameter is inf, but must be positive finite! (in 'stochastic_volatility.stan', line 15, column 4 to column 56)\n",
      "Exception: lognormal_lpdf: Scale parameter is inf, but must be positive finite! (in 'stochastic_volatility.stan', line 15, column 4 to column 56)\n",
      "\tException: lognormal_lpdf: Scale parameter is inf, but must be positive finite! (in 'stochastic_volatility.stan', line 15, column 4 to column 56)\n",
      "\tException: lognormal_lpdf: Scale parameter is inf, but must be positive finite! (in 'stochastic_volatility.stan', line 15, column 4 to column 56)\n",
      "\tException: lognormal_lpdf: Scale parameter is inf, but must be positive finite! (in 'stochastic_volatility.stan', line 15, column 4 to column 56)\n",
      "\tException: lognormal_lpdf: Scale parameter is inf, but must be positive finite! (in 'stochastic_volatility.stan', line 15, column 4 to column 56)\n",
      "\tException: lognormal_lpdf: Scale parameter is inf, but must be positive finite! (in 'stochastic_volatility.stan', line 15, column 4 to column 56)\n",
      "Exception: lognormal_lpdf: Scale parameter is inf, but must be positive finite! (in 'stochastic_volatility.stan', line 15, column 4 to column 56)\n",
      "\tException: lognormal_lpdf: Scale parameter is inf, but must be positive finite! (in 'stochastic_volatility.stan', line 15, column 4 to column 56)\n",
      "\tException: lognormal_lpdf: Scale parameter is inf, but must be positive finite! (in 'stochastic_volatility.stan', line 15, column 4 to column 56)\n",
      "\tException: lognormal_lpdf: Scale parameter is inf, but must be positive finite! (in 'stochastic_volatility.stan', line 15, column 4 to column 56)\n",
      "\tException: lognormal_lpdf: Scale parameter is inf, but must be positive finite! (in 'stochastic_volatility.stan', line 15, column 4 to column 56)\n",
      "Exception: lognormal_lpdf: Scale parameter is inf, but must be positive finite! (in 'stochastic_volatility.stan', line 15, column 4 to column 56)\n",
      "Exception: lognormal_lpdf: Scale parameter is inf, but must be positive finite! (in 'stochastic_volatility.stan', line 15, column 4 to column 56)\n",
      "\tException: lognormal_lpdf: Scale parameter is inf, but must be positive finite! (in 'stochastic_volatility.stan', line 15, column 4 to column 56)\n",
      "\tException: lognormal_lpdf: Scale parameter is inf, but must be positive finite! (in 'stochastic_volatility.stan', line 15, column 4 to column 56)\n",
      "\tException: lognormal_lpdf: Scale parameter is inf, but must be positive finite! (in 'stochastic_volatility.stan', line 15, column 4 to column 56)\n",
      "\tException: lognormal_lpdf: Scale parameter is inf, but must be positive finite! (in 'stochastic_volatility.stan', line 15, column 4 to column 56)\n",
      "\tException: lognormal_lpdf: Scale parameter is inf, but must be positive finite! (in 'stochastic_volatility.stan', line 15, column 4 to column 56)\n",
      "\tException: lognormal_lpdf: Scale parameter is inf, but must be positive finite! (in 'stochastic_volatility.stan', line 15, column 4 to column 56)\n",
      "\tException: lognormal_lpdf: Scale parameter is inf, but must be positive finite! (in 'stochastic_volatility.stan', line 15, column 4 to column 56)\n",
      "\tException: lognormal_lpdf: Scale parameter is inf, but must be positive finite! (in 'stochastic_volatility.stan', line 15, column 4 to column 56)\n",
      "Exception: lognormal_lpdf: Scale parameter is inf, but must be positive finite! (in 'stochastic_volatility.stan', line 15, column 4 to column 56)\n",
      "\tException: lognormal_lpdf: Scale parameter is inf, but must be positive finite! (in 'stochastic_volatility.stan', line 15, column 4 to column 56)\n",
      "\tException: lognormal_lpdf: Scale parameter is inf, but must be positive finite! (in 'stochastic_volatility.stan', line 15, column 4 to column 56)\n",
      "\tException: lognormal_lpdf: Scale parameter is inf, but must be positive finite! (in 'stochastic_volatility.stan', line 15, column 4 to column 56)\n",
      "\tException: lognormal_lpdf: Scale parameter is inf, but must be positive finite! (in 'stochastic_volatility.stan', line 15, column 4 to column 56)\n",
      "\tException: lognormal_lpdf: Scale parameter is inf, but must be positive finite! (in 'stochastic_volatility.stan', line 15, column 4 to column 56)\n",
      "\tException: lognormal_lpdf: Scale parameter is inf, but must be positive finite! (in 'stochastic_volatility.stan', line 15, column 4 to column 56)\n",
      "Exception: lognormal_lpdf: Scale parameter is inf, but must be positive finite! (in 'stochastic_volatility.stan', line 15, column 4 to column 56)\n",
      "\tException: lognormal_lpdf: Scale parameter is inf, but must be positive finite! (in 'stochastic_volatility.stan', line 15, column 4 to column 56)\n",
      "\tException: lognormal_lpdf: Scale parameter is inf, but must be positive finite! (in 'stochastic_volatility.stan', line 15, column 4 to column 56)\n",
      "\tException: lognormal_lpdf: Scale parameter is inf, but must be positive finite! (in 'stochastic_volatility.stan', line 15, column 4 to column 56)\n",
      "\tException: lognormal_lpdf: Scale parameter is inf, but must be positive finite! (in 'stochastic_volatility.stan', line 15, column 4 to column 56)\n",
      "\tException: lognormal_lpdf: Scale parameter is inf, but must be positive finite! (in 'stochastic_volatility.stan', line 15, column 4 to column 56)\n",
      "Exception: lognormal_lpdf: Scale parameter is inf, but must be positive finite! (in 'stochastic_volatility.stan', line 15, column 4 to column 56)\n",
      "\tException: lognormal_lpdf: Scale parameter is inf, but must be positive finite! (in 'stochastic_volatility.stan', line 15, column 4 to column 56)\n",
      "\tException: lognormal_lpdf: Scale parameter is -nan, but must be positive finite! (in 'stochastic_volatility.stan', line 15, column 4 to column 56)\n",
      "Exception: lognormal_lpdf: Scale parameter is inf, but must be positive finite! (in 'stochastic_volatility.stan', line 15, column 4 to column 56)\n",
      "\tException: lognormal_lpdf: Scale parameter is inf, but must be positive finite! (in 'stochastic_volatility.stan', line 15, column 4 to column 56)\n",
      "\tException: lognormal_lpdf: Scale parameter is inf, but must be positive finite! (in 'stochastic_volatility.stan', line 15, column 4 to column 56)\n",
      "Exception: lognormal_lpdf: Scale parameter is inf, but must be positive finite! (in 'stochastic_volatility.stan', line 15, column 4 to column 56)\n",
      "Exception: lognormal_lpdf: Scale parameter is -nan, but must be positive finite! (in 'stochastic_volatility.stan', line 15, column 4 to column 56)\n",
      "Exception: lognormal_lpdf: Scale parameter is inf, but must be positive finite! (in 'stochastic_volatility.stan', line 15, column 4 to column 56)\n",
      "\tException: lognormal_lpdf: Scale parameter is inf, but must be positive finite! (in 'stochastic_volatility.stan', line 15, column 4 to column 56)\n",
      "\tException: lognormal_lpdf: Scale parameter is inf, but must be positive finite! (in 'stochastic_volatility.stan', line 15, column 4 to column 56)\n",
      "Exception: lognormal_lpdf: Scale parameter is inf, but must be positive finite! (in 'stochastic_volatility.stan', line 15, column 4 to column 56)\n",
      "\tException: lognormal_lpdf: Scale parameter is inf, but must be positive finite! (in 'stochastic_volatility.stan', line 15, column 4 to column 56)\n",
      "\tException: lognormal_lpdf: Scale parameter is inf, but must be positive finite! (in 'stochastic_volatility.stan', line 15, column 4 to column 56)\n",
      "\tException: lognormal_lpdf: Scale parameter is inf, but must be positive finite! (in 'stochastic_volatility.stan', line 15, column 4 to column 56)\n",
      "\tException: lognormal_lpdf: Scale parameter is inf, but must be positive finite! (in 'stochastic_volatility.stan', line 15, column 4 to column 56)\n",
      "\tException: lognormal_lpdf: Scale parameter is inf, but must be positive finite! (in 'stochastic_volatility.stan', line 15, column 4 to column 56)\n",
      "\tException: lognormal_lpdf: Scale parameter is inf, but must be positive finite! (in 'stochastic_volatility.stan', line 15, column 4 to column 56)\n",
      "Exception: lognormal_lpdf: Scale parameter is inf, but must be positive finite! (in 'stochastic_volatility.stan', line 15, column 4 to column 56)\n",
      "\tException: lognormal_lpdf: Scale parameter is inf, but must be positive finite! (in 'stochastic_volatility.stan', line 15, column 4 to column 56)\n",
      "\tException: lognormal_lpdf: Scale parameter is inf, but must be positive finite! (in 'stochastic_volatility.stan', line 15, column 4 to column 56)\n",
      "\tException: lognormal_lpdf: Scale parameter is inf, but must be positive finite! (in 'stochastic_volatility.stan', line 15, column 4 to column 56)\n",
      "\tException: lognormal_lpdf: Scale parameter is inf, but must be positive finite! (in 'stochastic_volatility.stan', line 15, column 4 to column 56)\n",
      "\tException: lognormal_lpdf: Scale parameter is inf, but must be positive finite! (in 'stochastic_volatility.stan', line 15, column 4 to column 56)\n",
      "\tException: lognormal_lpdf: Scale parameter is inf, but must be positive finite! (in 'stochastic_volatility.stan', line 15, column 4 to column 56)\n",
      "Exception: lognormal_lpdf: Scale parameter is inf, but must be positive finite! (in 'stochastic_volatility.stan', line 15, column 4 to column 56)\n",
      "\tException: lognormal_lpdf: Scale parameter is inf, but must be positive finite! (in 'stochastic_volatility.stan', line 15, column 4 to column 56)\n",
      "\tException: lognormal_lpdf: Scale parameter is inf, but must be positive finite! (in 'stochastic_volatility.stan', line 15, column 4 to column 56)\n",
      "\tException: lognormal_lpdf: Scale parameter is inf, but must be positive finite! (in 'stochastic_volatility.stan', line 15, column 4 to column 56)\n",
      "\tException: lognormal_lpdf: Scale parameter is inf, but must be positive finite! (in 'stochastic_volatility.stan', line 15, column 4 to column 56)\n",
      "\tException: lognormal_lpdf: Scale parameter is inf, but must be positive finite! (in 'stochastic_volatility.stan', line 15, column 4 to column 56)\n",
      "Exception: lognormal_lpdf: Scale parameter is -nan, but must be positive finite! (in 'stochastic_volatility.stan', line 15, column 4 to column 56)\n",
      "Exception: lognormal_lpdf: Scale parameter is inf, but must be positive finite! (in 'stochastic_volatility.stan', line 15, column 4 to column 56)\n",
      "\tException: lognormal_lpdf: Scale parameter is inf, but must be positive finite! (in 'stochastic_volatility.stan', line 15, column 4 to column 56)\n",
      "\tException: lognormal_lpdf: Scale parameter is inf, but must be positive finite! (in 'stochastic_volatility.stan', line 15, column 4 to column 56)\n",
      "\tException: lognormal_lpdf: Scale parameter is -nan, but must be positive finite! (in 'stochastic_volatility.stan', line 15, column 4 to column 56)\n",
      "Exception: lognormal_lpdf: Scale parameter is inf, but must be positive finite! (in 'stochastic_volatility.stan', line 15, column 4 to column 56)\n",
      "\tException: lognormal_lpdf: Scale parameter is inf, but must be positive finite! (in 'stochastic_volatility.stan', line 15, column 4 to column 56)\n",
      "\tException: lognormal_lpdf: Scale parameter is inf, but must be positive finite! (in 'stochastic_volatility.stan', line 15, column 4 to column 56)\n",
      "Exception: lognormal_lpdf: Scale parameter is inf, but must be positive finite! (in 'stochastic_volatility.stan', line 15, column 4 to column 56)\n",
      "\tException: lognormal_lpdf: Scale parameter is inf, but must be positive finite! (in 'stochastic_volatility.stan', line 15, column 4 to column 56)\n",
      "\tException: lognormal_lpdf: Scale parameter is inf, but must be positive finite! (in 'stochastic_volatility.stan', line 15, column 4 to column 56)\n",
      "\tException: lognormal_lpdf: Scale parameter is inf, but must be positive finite! (in 'stochastic_volatility.stan', line 15, column 4 to column 56)\n",
      "Exception: lognormal_lpdf: Scale parameter is inf, but must be positive finite! (in 'stochastic_volatility.stan', line 15, column 4 to column 56)\n",
      "\tException: lognormal_lpdf: Scale parameter is inf, but must be positive finite! (in 'stochastic_volatility.stan', line 15, column 4 to column 56)\n",
      "\tException: lognormal_lpdf: Scale parameter is inf, but must be positive finite! (in 'stochastic_volatility.stan', line 15, column 4 to column 56)\n",
      "\tException: lognormal_lpdf: Scale parameter is inf, but must be positive finite! (in 'stochastic_volatility.stan', line 15, column 4 to column 56)\n",
      "Exception: lognormal_lpdf: Scale parameter is -nan, but must be positive finite! (in 'stochastic_volatility.stan', line 15, column 4 to column 56)\n",
      "Exception: lognormal_lpdf: Scale parameter is inf, but must be positive finite! (in 'stochastic_volatility.stan', line 15, column 4 to column 56)\n",
      "\tException: lognormal_lpdf: Scale parameter is inf, but must be positive finite! (in 'stochastic_volatility.stan', line 15, column 4 to column 56)\n",
      "\tException: lognormal_lpdf: Scale parameter is inf, but must be positive finite! (in 'stochastic_volatility.stan', line 15, column 4 to column 56)\n",
      "\tException: lognormal_lpdf: Scale parameter is inf, but must be positive finite! (in 'stochastic_volatility.stan', line 15, column 4 to column 56)\n",
      "\tException: lognormal_lpdf: Scale parameter is inf, but must be positive finite! (in 'stochastic_volatility.stan', line 15, column 4 to column 56)\n",
      "\tException: lognormal_lpdf: Scale parameter is inf, but must be positive finite! (in 'stochastic_volatility.stan', line 15, column 4 to column 56)\n",
      "\tException: lognormal_lpdf: Scale parameter is inf, but must be positive finite! (in 'stochastic_volatility.stan', line 15, column 4 to column 56)\n",
      "Exception: lognormal_lpdf: Scale parameter is inf, but must be positive finite! (in 'stochastic_volatility.stan', line 15, column 4 to column 56)\n",
      "Exception: lognormal_lpdf: Scale parameter is -nan, but must be positive finite! (in 'stochastic_volatility.stan', line 15, column 4 to column 56)\n",
      "Exception: lognormal_lpdf: Scale parameter is inf, but must be positive finite! (in 'stochastic_volatility.stan', line 15, column 4 to column 56)\n",
      "\tException: lognormal_lpdf: Scale parameter is inf, but must be positive finite! (in 'stochastic_volatility.stan', line 15, column 4 to column 56)\n",
      "\tException: lognormal_lpdf: Scale parameter is inf, but must be positive finite! (in 'stochastic_volatility.stan', line 15, column 4 to column 56)\n",
      "\tException: lognormal_lpdf: Scale parameter is inf, but must be positive finite! (in 'stochastic_volatility.stan', line 15, column 4 to column 56)\n",
      "\tException: lognormal_lpdf: Scale parameter is inf, but must be positive finite! (in 'stochastic_volatility.stan', line 15, column 4 to column 56)\n",
      "\tException: lognormal_lpdf: Scale parameter is inf, but must be positive finite! (in 'stochastic_volatility.stan', line 15, column 4 to column 56)\n",
      "\tException: lognormal_lpdf: Scale parameter is inf, but must be positive finite! (in 'stochastic_volatility.stan', line 15, column 4 to column 56)\n",
      "Exception: lognormal_lpdf: Scale parameter is inf, but must be positive finite! (in 'stochastic_volatility.stan', line 15, column 4 to column 56)\n",
      "\tException: lognormal_lpdf: Scale parameter is inf, but must be positive finite! (in 'stochastic_volatility.stan', line 15, column 4 to column 56)\n",
      "\tException: lognormal_lpdf: Scale parameter is inf, but must be positive finite! (in 'stochastic_volatility.stan', line 15, column 4 to column 56)\n",
      "Exception: lognormal_lpdf: Scale parameter is inf, but must be positive finite! (in 'stochastic_volatility.stan', line 15, column 4 to column 56)\n",
      "\tException: lognormal_lpdf: Scale parameter is inf, but must be positive finite! (in 'stochastic_volatility.stan', line 15, column 4 to column 56)\n",
      "\tException: lognormal_lpdf: Scale parameter is inf, but must be positive finite! (in 'stochastic_volatility.stan', line 15, column 4 to column 56)\n",
      "\tException: lognormal_lpdf: Scale parameter is inf, but must be positive finite! (in 'stochastic_volatility.stan', line 15, column 4 to column 56)\n",
      "\tException: lognormal_lpdf: Scale parameter is inf, but must be positive finite! (in 'stochastic_volatility.stan', line 15, column 4 to column 56)\n",
      "\tException: lognormal_lpdf: Scale parameter is inf, but must be positive finite! (in 'stochastic_volatility.stan', line 15, column 4 to column 56)\n",
      "Exception: lognormal_lpdf: Scale parameter is inf, but must be positive finite! (in 'stochastic_volatility.stan', line 15, column 4 to column 56)\n",
      "\tException: lognormal_lpdf: Scale parameter is inf, but must be positive finite! (in 'stochastic_volatility.stan', line 15, column 4 to column 56)\n",
      "\tException: lognormal_lpdf: Scale parameter is inf, but must be positive finite! (in 'stochastic_volatility.stan', line 15, column 4 to column 56)\n",
      "\tException: lognormal_lpdf: Scale parameter is inf, but must be positive finite! (in 'stochastic_volatility.stan', line 15, column 4 to column 56)\n",
      "\tException: lognormal_lpdf: Scale parameter is inf, but must be positive finite! (in 'stochastic_volatility.stan', line 15, column 4 to column 56)\n",
      "\tException: lognormal_lpdf: Scale parameter is inf, but must be positive finite! (in 'stochastic_volatility.stan', line 15, column 4 to column 56)\n",
      "Exception: lognormal_lpdf: Scale parameter is inf, but must be positive finite! (in 'stochastic_volatility.stan', line 15, column 4 to column 56)\n",
      "Exception: lognormal_lpdf: Scale parameter is -nan, but must be positive finite! (in 'stochastic_volatility.stan', line 15, column 4 to column 56)\n",
      "Exception: lognormal_lpdf: Scale parameter is inf, but must be positive finite! (in 'stochastic_volatility.stan', line 15, column 4 to column 56)\n",
      "\tException: lognormal_lpdf: Scale parameter is inf, but must be positive finite! (in 'stochastic_volatility.stan', line 15, column 4 to column 56)\n",
      "\tException: lognormal_lpdf: Scale parameter is -nan, but must be positive finite! (in 'stochastic_volatility.stan', line 15, column 4 to column 56)\n",
      "Exception: lognormal_lpdf: Scale parameter is inf, but must be positive finite! (in 'stochastic_volatility.stan', line 15, column 4 to column 56)\n",
      "\tException: lognormal_lpdf: Scale parameter is inf, but must be positive finite! (in 'stochastic_volatility.stan', line 15, column 4 to column 56)\n",
      "\tException: lognormal_lpdf: Scale parameter is inf, but must be positive finite! (in 'stochastic_volatility.stan', line 15, column 4 to column 56)\n",
      "\tException: lognormal_lpdf: Scale parameter is inf, but must be positive finite! (in 'stochastic_volatility.stan', line 15, column 4 to column 56)\n",
      "\tException: lognormal_lpdf: Scale parameter is inf, but must be positive finite! (in 'stochastic_volatility.stan', line 15, column 4 to column 56)\n",
      "Exception: lognormal_lpdf: Scale parameter is -nan, but must be positive finite! (in 'stochastic_volatility.stan', line 15, column 4 to column 56)\n",
      "Exception: lognormal_lpdf: Scale parameter is inf, but must be positive finite! (in 'stochastic_volatility.stan', line 15, column 4 to column 56)\n",
      "\tException: lognormal_lpdf: Scale parameter is inf, but must be positive finite! (in 'stochastic_volatility.stan', line 15, column 4 to column 56)\n",
      "\tException: lognormal_lpdf: Scale parameter is inf, but must be positive finite! (in 'stochastic_volatility.stan', line 15, column 4 to column 56)\n",
      "\tException: lognormal_lpdf: Scale parameter is inf, but must be positive finite! (in 'stochastic_volatility.stan', line 15, column 4 to column 56)\n",
      "\tException: lognormal_lpdf: Scale parameter is inf, but must be positive finite! (in 'stochastic_volatility.stan', line 15, column 4 to column 56)\n",
      "Exception: lognormal_lpdf: Scale parameter is inf, but must be positive finite! (in 'stochastic_volatility.stan', line 15, column 4 to column 56)\n",
      "\tException: lognormal_lpdf: Scale parameter is inf, but must be positive finite! (in 'stochastic_volatility.stan', line 15, column 4 to column 56)\n",
      "\tException: lognormal_lpdf: Scale parameter is inf, but must be positive finite! (in 'stochastic_volatility.stan', line 15, column 4 to column 56)\n",
      "\tException: lognormal_lpdf: Scale parameter is inf, but must be positive finite! (in 'stochastic_volatility.stan', line 15, column 4 to column 56)\n",
      "\tException: lognormal_lpdf: Scale parameter is inf, but must be positive finite! (in 'stochastic_volatility.stan', line 15, column 4 to column 56)\n",
      "\tException: lognormal_lpdf: Scale parameter is inf, but must be positive finite! (in 'stochastic_volatility.stan', line 15, column 4 to column 56)\n",
      "\tException: lognormal_lpdf: Scale parameter is inf, but must be positive finite! (in 'stochastic_volatility.stan', line 15, column 4 to column 56)\n",
      "\tException: lognormal_lpdf: Scale parameter is inf, but must be positive finite! (in 'stochastic_volatility.stan', line 15, column 4 to column 56)\n",
      "\tException: lognormal_lpdf: Scale parameter is inf, but must be positive finite! (in 'stochastic_volatility.stan', line 15, column 4 to column 56)\n",
      "\tException: lognormal_lpdf: Scale parameter is inf, but must be positive finite! (in 'stochastic_volatility.stan', line 15, column 4 to column 56)\n",
      "Exception: lognormal_lpdf: Scale parameter is inf, but must be positive finite! (in 'stochastic_volatility.stan', line 15, column 4 to column 56)\n",
      "\tException: lognormal_lpdf: Scale parameter is inf, but must be positive finite! (in 'stochastic_volatility.stan', line 15, column 4 to column 56)\n",
      "\tException: lognormal_lpdf: Scale parameter is inf, but must be positive finite! (in 'stochastic_volatility.stan', line 15, column 4 to column 56)\n",
      "\tException: lognormal_lpdf: Scale parameter is inf, but must be positive finite! (in 'stochastic_volatility.stan', line 15, column 4 to column 56)\n",
      "\tException: lognormal_lpdf: Scale parameter is inf, but must be positive finite! (in 'stochastic_volatility.stan', line 15, column 4 to column 56)\n",
      "\tException: lognormal_lpdf: Scale parameter is inf, but must be positive finite! (in 'stochastic_volatility.stan', line 15, column 4 to column 56)\n",
      "\tException: lognormal_lpdf: Scale parameter is inf, but must be positive finite! (in 'stochastic_volatility.stan', line 15, column 4 to column 56)\n",
      "\tException: lognormal_lpdf: Scale parameter is inf, but must be positive finite! (in 'stochastic_volatility.stan', line 15, column 4 to column 56)\n",
      "Exception: lognormal_lpdf: Scale parameter is inf, but must be positive finite! (in 'stochastic_volatility.stan', line 15, column 4 to column 56)\n",
      "\tException: lognormal_lpdf: Scale parameter is inf, but must be positive finite! (in 'stochastic_volatility.stan', line 15, column 4 to column 56)\n",
      "\tException: lognormal_lpdf: Scale parameter is inf, but must be positive finite! (in 'stochastic_volatility.stan', line 15, column 4 to column 56)\n",
      "\tException: lognormal_lpdf: Scale parameter is inf, but must be positive finite! (in 'stochastic_volatility.stan', line 15, column 4 to column 56)\n",
      "\tException: lognormal_lpdf: Scale parameter is inf, but must be positive finite! (in 'stochastic_volatility.stan', line 15, column 4 to column 56)\n",
      "\tException: lognormal_lpdf: Scale parameter is inf, but must be positive finite! (in 'stochastic_volatility.stan', line 15, column 4 to column 56)\n",
      "Exception: lognormal_lpdf: Scale parameter is inf, but must be positive finite! (in 'stochastic_volatility.stan', line 15, column 4 to column 56)\n",
      "Exception: lognormal_lpdf: Scale parameter is inf, but must be positive finite! (in 'stochastic_volatility.stan', line 15, column 4 to column 56)\n",
      "Exception: lognormal_lpdf: Scale parameter is inf, but must be positive finite! (in 'stochastic_volatility.stan', line 15, column 4 to column 56)\n",
      "Exception: lognormal_lpdf: Scale parameter is inf, but must be positive finite! (in 'stochastic_volatility.stan', line 15, column 4 to column 56)\n",
      "\tException: lognormal_lpdf: Scale parameter is inf, but must be positive finite! (in 'stochastic_volatility.stan', line 15, column 4 to column 56)\n",
      "\tException: lognormal_lpdf: Scale parameter is inf, but must be positive finite! (in 'stochastic_volatility.stan', line 15, column 4 to column 56)\n",
      "\tException: lognormal_lpdf: Scale parameter is inf, but must be positive finite! (in 'stochastic_volatility.stan', line 15, column 4 to column 56)\n",
      "\tException: lognormal_lpdf: Scale parameter is inf, but must be positive finite! (in 'stochastic_volatility.stan', line 15, column 4 to column 56)\n",
      "\tException: lognormal_lpdf: Scale parameter is inf, but must be positive finite! (in 'stochastic_volatility.stan', line 15, column 4 to column 56)\n",
      "Exception: lognormal_lpdf: Scale parameter is inf, but must be positive finite! (in 'stochastic_volatility.stan', line 15, column 4 to column 56)\n",
      "\tException: lognormal_lpdf: Scale parameter is inf, but must be positive finite! (in 'stochastic_volatility.stan', line 15, column 4 to column 56)\n",
      "\tException: lognormal_lpdf: Scale parameter is inf, but must be positive finite! (in 'stochastic_volatility.stan', line 15, column 4 to column 56)\n",
      "\tException: lognormal_lpdf: Scale parameter is inf, but must be positive finite! (in 'stochastic_volatility.stan', line 15, column 4 to column 56)\n",
      "\tException: lognormal_lpdf: Scale parameter is inf, but must be positive finite! (in 'stochastic_volatility.stan', line 15, column 4 to column 56)\n",
      "\tException: lognormal_lpdf: Scale parameter is inf, but must be positive finite! (in 'stochastic_volatility.stan', line 15, column 4 to column 56)\n",
      "\tException: lognormal_lpdf: Scale parameter is inf, but must be positive finite! (in 'stochastic_volatility.stan', line 15, column 4 to column 56)\n",
      "Exception: lognormal_lpdf: Scale parameter is inf, but must be positive finite! (in 'stochastic_volatility.stan', line 15, column 4 to column 56)\n",
      "\tException: lognormal_lpdf: Scale parameter is inf, but must be positive finite! (in 'stochastic_volatility.stan', line 15, column 4 to column 56)\n",
      "\tException: lognormal_lpdf: Scale parameter is inf, but must be positive finite! (in 'stochastic_volatility.stan', line 15, column 4 to column 56)\n",
      "Exception: lognormal_lpdf: Scale parameter is inf, but must be positive finite! (in 'stochastic_volatility.stan', line 15, column 4 to column 56)\n",
      "Exception: lognormal_lpdf: Scale parameter is inf, but must be positive finite! (in 'stochastic_volatility.stan', line 15, column 4 to column 56)\n",
      "\tException: lognormal_lpdf: Scale parameter is inf, but must be positive finite! (in 'stochastic_volatility.stan', line 15, column 4 to column 56)\n",
      "\tException: lognormal_lpdf: Scale parameter is inf, but must be positive finite! (in 'stochastic_volatility.stan', line 15, column 4 to column 56)\n",
      "\tException: lognormal_lpdf: Scale parameter is inf, but must be positive finite! (in 'stochastic_volatility.stan', line 15, column 4 to column 56)\n",
      "\tException: lognormal_lpdf: Scale parameter is inf, but must be positive finite! (in 'stochastic_volatility.stan', line 15, column 4 to column 56)\n",
      "\tException: lognormal_lpdf: Scale parameter is inf, but must be positive finite! (in 'stochastic_volatility.stan', line 15, column 4 to column 56)\n",
      "Exception: lognormal_lpdf: Scale parameter is -nan, but must be positive finite! (in 'stochastic_volatility.stan', line 15, column 4 to column 56)\n",
      "Exception: lognormal_lpdf: Scale parameter is inf, but must be positive finite! (in 'stochastic_volatility.stan', line 15, column 4 to column 56)\n",
      "\tException: lognormal_lpdf: Scale parameter is inf, but must be positive finite! (in 'stochastic_volatility.stan', line 15, column 4 to column 56)\n",
      "\tException: lognormal_lpdf: Scale parameter is inf, but must be positive finite! (in 'stochastic_volatility.stan', line 15, column 4 to column 56)\n",
      "\tException: lognormal_lpdf: Scale parameter is inf, but must be positive finite! (in 'stochastic_volatility.stan', line 15, column 4 to column 56)\n",
      "\tException: lognormal_lpdf: Scale parameter is inf, but must be positive finite! (in 'stochastic_volatility.stan', line 15, column 4 to column 56)\n",
      "Exception: lognormal_lpdf: Scale parameter is inf, but must be positive finite! (in 'stochastic_volatility.stan', line 15, column 4 to column 56)\n",
      "\tException: lognormal_lpdf: Scale parameter is inf, but must be positive finite! (in 'stochastic_volatility.stan', line 15, column 4 to column 56)\n",
      "\tException: lognormal_lpdf: Scale parameter is inf, but must be positive finite! (in 'stochastic_volatility.stan', line 15, column 4 to column 56)\n",
      "\tException: lognormal_lpdf: Scale parameter is inf, but must be positive finite! (in 'stochastic_volatility.stan', line 15, column 4 to column 56)\n",
      "\tException: lognormal_lpdf: Scale parameter is inf, but must be positive finite! (in 'stochastic_volatility.stan', line 15, column 4 to column 56)\n",
      "Exception: lognormal_lpdf: Scale parameter is inf, but must be positive finite! (in 'stochastic_volatility.stan', line 15, column 4 to column 56)\n",
      "\tException: lognormal_lpdf: Scale parameter is inf, but must be positive finite! (in 'stochastic_volatility.stan', line 15, column 4 to column 56)\n",
      "\tException: lognormal_lpdf: Scale parameter is inf, but must be positive finite! (in 'stochastic_volatility.stan', line 15, column 4 to column 56)\n",
      "\tException: lognormal_lpdf: Scale parameter is inf, but must be positive finite! (in 'stochastic_volatility.stan', line 15, column 4 to column 56)\n",
      "Consider re-running with show_console=True if the above output is unclear!\n"
     ]
    },
    {
     "name": "stdout",
     "output_type": "stream",
     "text": [
      "\n"
     ]
    },
    {
     "name": "stderr",
     "output_type": "stream",
     "text": [
      "08:42:38 - cmdstanpy - WARNING - Some chains may have failed to converge.\n",
      "\tChain 26 had 1 divergent transitions (0.0%)\n",
      "\tChain 28 had 1 divergent transitions (0.0%)\n",
      "\tChain 29 had 1 divergent transitions (0.0%)\n",
      "\tChain 48 had 1 divergent transitions (0.0%)\n",
      "\tUse the \"diagnose()\" method on the CmdStanMCMC object to see further information.\n"
     ]
    }
   ],
   "source": [
    "model = CmdStanModel(stan_file=model_path)\n",
    "nuts_output = model.sample(\n",
    "    data=data_path,\n",
    "    iter_sampling=num_samples,\n",
    "    chains=num_chains,\n",
    "    seed=seed,\n",
    "    thin=10,\n",
    "    adapt_delta=0.95,\n",
    ")\n",
    "\n",
    "ref_draws_np = nuts_output.draws()[:, :, 7:] # [draws, chains, params]\n",
    "# convert dimension order to [chains, draws, params]\n",
    "ref_draws_np = np.transpose(ref_draws_np, (1, 0, 2))"
   ]
  },
  {
   "cell_type": "code",
   "execution_count": 5,
   "metadata": {},
   "outputs": [],
   "source": [
    "summary = nuts_output.summary()"
   ]
  },
  {
   "cell_type": "code",
   "execution_count": 6,
   "metadata": {},
   "outputs": [
    {
     "data": {
      "text/plain": [
       "count       504.000000\n",
       "mean      98188.057341\n",
       "std        4564.416874\n",
       "min       32036.600000\n",
       "25%       97568.500000\n",
       "50%       98973.200000\n",
       "75%       99832.775000\n",
       "max      101505.000000\n",
       "Name: N_Eff, dtype: float64"
      ]
     },
     "execution_count": 6,
     "metadata": {},
     "output_type": "execute_result"
    }
   ],
   "source": [
    "summary[\"N_Eff\"].describe()"
   ]
  },
  {
   "cell_type": "markdown",
   "metadata": {},
   "source": [
    "# Save and Format Reference Draws"
   ]
  },
  {
   "cell_type": "code",
   "execution_count": 7,
   "metadata": {},
   "outputs": [
    {
     "ename": "",
     "evalue": "",
     "output_type": "error",
     "traceback": [
      "\u001b[1;31mThe Kernel crashed while executing code in the current cell or a previous cell. \n",
      "\u001b[1;31mPlease review the code in the cell(s) to identify a possible cause of the failure. \n",
      "\u001b[1;31mClick <a href='https://aka.ms/vscodeJupyterKernelCrash'>here</a> for more info. \n",
      "\u001b[1;31mView Jupyter <a href='command:jupyter.viewOutput'>log</a> for further details."
     ]
    }
   ],
   "source": [
    "# convert from numpy 3d array to json format\n",
    "num_params = ref_draws_np.shape[-1]\n",
    "param_names = (\n",
    "    [\"mu\", \"phi\", \"sigma\"] + [f\"tau[{i}]\" for i in range(num_params)]\n",
    ")\n",
    "\n",
    "ref_draws = []\n",
    "for chain in ref_draws_np:  # each chain is [n_samples, params_dim]\n",
    "    chain_dict = {}\n",
    "    for name, params in zip(param_names, chain.T):\n",
    "        chain_dict[name] = params.tolist()\n",
    "    ref_draws.append(chain_dict)\n",
    "\n",
    "# save to file\n",
    "with zipfile.ZipFile(f\"{model_name}.ref_draws.json.zip\", mode=\"w\", compression=zipfile.ZIP_DEFLATED, compresslevel=9) as zip_file: \n",
    "    dumped_JSON: str = json.dumps(ref_draws, ensure_ascii=False, indent=4)\n",
    "    zip_file.writestr(f\"{model_name}.ref_draws.json\", data=dumped_JSON)"
   ]
  }
 ],
 "metadata": {
  "kernelspec": {
   "display_name": "drghmc",
   "language": "python",
   "name": "python3"
  },
  "language_info": {
   "codemirror_mode": {
    "name": "ipython",
    "version": 3
   },
   "file_extension": ".py",
   "mimetype": "text/x-python",
   "name": "python",
   "nbconvert_exporter": "python",
   "pygments_lexer": "ipython3",
   "version": "3.11.4"
  }
 },
 "nbformat": 4,
 "nbformat_minor": 2
}
